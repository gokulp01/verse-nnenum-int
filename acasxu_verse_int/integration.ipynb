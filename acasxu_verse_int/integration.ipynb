{
 "cells": [
  {
   "cell_type": "code",
   "execution_count": 1,
   "metadata": {},
   "outputs": [
    {
     "name": "stderr",
     "output_type": "stream",
     "text": [
      "/home/gokul/Desktop/verse-research/verse_research_env/lib/python3.10/site-packages/tqdm/auto.py:22: TqdmWarning: IProgress not found. Please update jupyter and ipywidgets. See https://ipywidgets.readthedocs.io/en/stable/user_install.html\n",
      "  from .autonotebook import tqdm as notebook_tqdm\n"
     ]
    }
   ],
   "source": [
    "import verse"
   ]
  },
  {
   "cell_type": "code",
   "execution_count": 2,
   "metadata": {},
   "outputs": [],
   "source": [
    "from typing import Tuple, List\n",
    "\n",
    "import numpy as np\n",
    "from scipy.integrate import ode\n",
    "import torch\n",
    "\n",
    "# from tutorial_utils import drone_params\n",
    "from verse import BaseAgent\n",
    "from verse import LaneMap\n",
    "from verse.map.lane_map_3d import LaneMap_3d\n",
    "from verse.analysis.utils import wrap_to_pi\n",
    "from verse.analysis.analysis_tree import TraceType\n",
    "\n",
    "from numba import njit"
   ]
  },
  {
   "cell_type": "code",
   "execution_count": 3,
   "metadata": {},
   "outputs": [],
   "source": [
    "\n",
    "def make_random_input(seed, intruder_can_turn=True, num_inputs=100):\n",
    "    \"\"\"make a random input for the system\"\"\"\n",
    "\n",
    "    np.random.seed(seed) # deterministic random numbers\n",
    "\n",
    "    # state vector is: x, y, theta, x2, y2, theta2, time\n",
    "    init_vec = np.zeros(7)\n",
    "    init_vec[2] = np.pi / 2 # ownship moving up initially\n",
    "\n",
    "    radius = 10000 + np.random.random() * 55000 # [10000, 65000]\n",
    "    angle = np.random.random() * 2 * np.pi\n",
    "    int_x = radius * np.cos(angle)\n",
    "    int_y = radius * np.sin(angle)\n",
    "    int_heading = np.random.random() * 2 * np.pi\n",
    "\n",
    "    init_vec[3] = int_x\n",
    "    init_vec[4] = int_y\n",
    "    init_vec[5] = int_heading\n",
    "\n",
    "    # intruder commands for every control period (0 to 4)\n",
    "    if intruder_can_turn:\n",
    "        cmd_list = []\n",
    "\n",
    "        for _ in range(num_inputs):\n",
    "            cmd_list.append(np.random.randint(5))\n",
    "    else:\n",
    "        cmd_list = [0] * num_inputs\n",
    "\n",
    "    # generate random valid velocities\n",
    "    #init_velo = [np.random.randint(100, 1146),\n",
    "    #             np.random.randint(60, 1146)]\n",
    "    init_velo = [np.random.randint(100, 1200),\n",
    "                 np.random.randint(0, 1200)]\n",
    "\n",
    "    return init_vec, cmd_list, init_velo\n"
   ]
  },
  {
   "cell_type": "code",
   "execution_count": 4,
   "metadata": {},
   "outputs": [],
   "source": [
    "from dl_acas import CraftMode\n",
    "\n",
    "init_vec, cmd_list, init_velo = make_random_input(seed=671, intruder_can_turn=False)\n",
    "x1 = init_vec[0]\n",
    "y1 = init_vec[1]\n",
    "theta1 = init_vec[2]\n",
    "x2 = init_vec[3]\n",
    "y2 = init_vec[4]\n",
    "theta2 = init_vec[5]\n",
    "random_attr = init_vec[6]\n",
    "ego_velo = init_velo[0]\n",
    "int_velo = init_velo[1]\n",
    "ego_mode = CraftMode.Coc\n",
    "int_mode = CraftMode.Coc\n"
   ]
  },
  {
   "cell_type": "code",
   "execution_count": 5,
   "metadata": {},
   "outputs": [],
   "source": [
    "decisions = np.load('commands_671.npy')\n",
    "decisions = decisions.tolist()"
   ]
  },
  {
   "cell_type": "code",
   "execution_count": 6,
   "metadata": {},
   "outputs": [],
   "source": [
    "from aircraft_agent import AircraftAgent\n",
    "\n"
   ]
  },
  {
   "cell_type": "code",
   "execution_count": 7,
   "metadata": {},
   "outputs": [],
   "source": [
    "from verse.scenario import Scenario\n",
    "from verse.scenario import ScenarioConfig\n",
    "\n",
    "from tutorial_map import M4\n",
    "\n",
    "scenario = Scenario()\n",
    "# scenario.set_map(M4())"
   ]
  },
  {
   "cell_type": "code",
   "execution_count": 8,
   "metadata": {},
   "outputs": [
    {
     "name": "stderr",
     "output_type": "stream",
     "text": [
      "/home/gokul/Desktop/verse-research/acasxu_verse_int/verse/parser/parser.py:933: UserWarning: Effects of this call will not be included in the result: \"logging.basicConfig(filename='myapp.log', level=logging.INFO)\"\n",
      "  warnings.warn(\n"
     ]
    }
   ],
   "source": [
    "ac1 = AircraftAgent(\"aircraft1\", file_name=\"dl_acas.py\", initial_mode=ego_mode, velo=ego_velo)\n",
    "\n",
    "ac1.set_initial(\n",
    "    [[-0.5, -0.5, -0.5, 0.0], [0.5, 0.5, 0.5, 0.0]], ([CraftMode.Coc]),\n",
    ")\n",
    "ac2 = AircraftAgent(\"aircraft2\", file_name=\"dl_acas.py\", initial_mode=int_mode, velo=int_velo)\n",
    "\n",
    "ac2.set_initial(\n",
    "    [[9, 9, 9, 0.0], [10, 10, 10, 0.0]], ([CraftMode.Coc]),\n",
    ")\n",
    "\n",
    "scenario.add_agent(ac1)\n",
    "scenario.add_agent(ac2)"
   ]
  },
  {
   "cell_type": "code",
   "execution_count": 9,
   "metadata": {},
   "outputs": [],
   "source": [
    "from tutorial_sensor import DefaultSensor\n",
    "\n",
    "scenario.set_sensor(DefaultSensor())"
   ]
  },
  {
   "cell_type": "code",
   "execution_count": 10,
   "metadata": {},
   "outputs": [
    {
     "name": "stderr",
     "output_type": "stream",
     "text": [
      "2023-11-07 16:09:14,228\tINFO worker.py:1625 -- Started a local Ray instance.\n"
     ]
    },
    {
     "name": "stdout",
     "output_type": "stream",
     "text": [
      "\u001b[2m\u001b[36m(simulate_one pid=447967)\u001b[0m node 0 start: 0\n",
      "\u001b[2m\u001b[36m(simulate_one pid=447967)\u001b[0m 1\n",
      "\u001b[2m\u001b[36m(simulate_one pid=447967)\u001b[0m node 1 start: 3.0\n",
      "\u001b[2m\u001b[36m(compute_full_reachtube_step pid=447967)\u001b[0m node 0 start: 0\n",
      "\u001b[2m\u001b[36m(compute_full_reachtube_step pid=447967)\u001b[0m {'aircraft1': ('Coc',), 'aircraft2': ('Coc',)}\n",
      "\u001b[2m\u001b[36m(compute_full_reachtube_step pid=447967)\u001b[0m 0\n",
      "\u001b[2m\u001b[36m(compute_full_reachtube_step pid=447967)\u001b[0m aircraft1 None Coc Strong_right -> None\n",
      "\u001b[2m\u001b[36m(compute_full_reachtube_step pid=447967)\u001b[0m node 1 start: 2.2\n",
      "\u001b[2m\u001b[36m(compute_full_reachtube_step pid=447967)\u001b[0m {'aircraft1': ('Strong_right',), 'aircraft2': ('Coc',)}\n"
     ]
    }
   ],
   "source": [
    "traces_simu = scenario.simulate(60, 0.2)\n",
    "traces_veri = scenario.verify(60, 0.2)"
   ]
  },
  {
   "cell_type": "code",
   "execution_count": null,
   "metadata": {},
   "outputs": [],
   "source": []
  },
  {
   "cell_type": "code",
   "execution_count": 11,
   "metadata": {},
   "outputs": [
    {
     "data": {
      "application/vnd.plotly.v1+json": {
       "config": {
        "plotlyServerURL": "https://plot.ly"
       },
       "data": [
        {
         "fill": "toself",
         "fillcolor": "#FF0000",
         "line": {
          "color": "#CC0000",
          "width": 1
         },
         "marker": {
          "size": 1
         },
         "mode": "markers+lines",
         "showlegend": false,
         "type": "scatter",
         "x": [
          -0.5,
          170.9896725941655,
          170.9896725941655,
          -0.5,
          -0.5
         ],
         "y": [
          -0.5,
          -0.5,
          0.5,
          0.5,
          -0.5
         ]
        },
        {
         "fill": "toself",
         "fillcolor": "#FF0000",
         "line": {
          "color": "#CC0000",
          "width": 1
         },
         "marker": {
          "size": 1
         },
         "mode": "markers+lines",
         "showlegend": false,
         "type": "scatter",
         "x": [
          125.01032740583449,
          341.732774405216,
          341.732774405216,
          125.01032740583449,
          125.01032740583449
         ],
         "y": [
          -0.4999999999747055,
          -0.4999999999747055,
          0.4999999999747055,
          0.4999999999747055,
          -0.4999999999747055
         ]
        },
        {
         "fill": "toself",
         "fillcolor": "#FF0000",
         "line": {
          "color": "#CC0000",
          "width": 1
         },
         "marker": {
          "size": 1
         },
         "mode": "markers+lines",
         "showlegend": false,
         "type": "scatter",
         "x": [
          250.26722559478404,
          512.5779095636155,
          512.5779095636155,
          250.26722559478404,
          250.26722559478404
         ],
         "y": [
          -0.4999999999747055,
          -0.4999999999747055,
          0.4999999999747055,
          0.4999999999747055,
          -0.4999999999747055
         ]
        },
        {
         "fill": "toself",
         "fillcolor": "#FF0000",
         "line": {
          "color": "#CC0000",
          "width": 1
         },
         "marker": {
          "size": 1
         },
         "mode": "markers+lines",
         "showlegend": false,
         "type": "scatter",
         "x": [
          375.42209043638445,
          683.4230447220152,
          683.4230447220152,
          375.42209043638445,
          375.42209043638445
         ],
         "y": [
          -0.4999999999747055,
          -0.4999999999747055,
          0.4999999999747055,
          0.4999999999747055,
          -0.4999999999747055
         ]
        },
        {
         "fill": "toself",
         "fillcolor": "#FF0000",
         "line": {
          "color": "#CC0000",
          "width": 1
         },
         "marker": {
          "size": 1
         },
         "mode": "markers+lines",
         "showlegend": false,
         "type": "scatter",
         "x": [
          500.5769552779848,
          854.2681798804149,
          854.2681798804149,
          500.5769552779848,
          500.5769552779848
         ],
         "y": [
          -0.4999999999747055,
          -0.4999999999747055,
          0.4999999999747055,
          0.4999999999747055,
          -0.4999999999747055
         ]
        },
        {
         "fill": "toself",
         "fillcolor": "#FF0000",
         "line": {
          "color": "#CC0000",
          "width": 1
         },
         "marker": {
          "size": 1
         },
         "mode": "markers+lines",
         "showlegend": false,
         "type": "scatter",
         "x": [
          625.7318201195851,
          1025.1133150388146,
          1025.1133150388146,
          625.7318201195851,
          625.7318201195851
         ],
         "y": [
          -0.4999999999747055,
          -0.4999999999747055,
          0.4999999999747055,
          0.4999999999747055,
          -0.4999999999747055
         ]
        },
        {
         "fill": "toself",
         "fillcolor": "#FF0000",
         "line": {
          "color": "#CC0000",
          "width": 1
         },
         "marker": {
          "size": 1
         },
         "mode": "markers+lines",
         "showlegend": false,
         "type": "scatter",
         "x": [
          750.8866849611854,
          1195.9584501972142,
          1195.9584501972142,
          750.8866849611854,
          750.8866849611854
         ],
         "y": [
          -0.4999999999747055,
          -0.4999999999747055,
          0.4999999999747055,
          0.4999999999747055,
          -0.4999999999747055
         ]
        },
        {
         "fill": "toself",
         "fillcolor": "#FF0000",
         "line": {
          "color": "#CC0000",
          "width": 1
         },
         "marker": {
          "size": 1
         },
         "mode": "markers+lines",
         "showlegend": false,
         "type": "scatter",
         "x": [
          876.0415498027857,
          1366.803585355614,
          1366.803585355614,
          876.0415498027857,
          876.0415498027857
         ],
         "y": [
          -0.4999999999747055,
          -0.4999999999747055,
          0.4999999999747055,
          0.4999999999747055,
          -0.4999999999747055
         ]
        },
        {
         "fill": "toself",
         "fillcolor": "#FF0000",
         "line": {
          "color": "#CC0000",
          "width": 1
         },
         "marker": {
          "size": 1
         },
         "mode": "markers+lines",
         "showlegend": false,
         "type": "scatter",
         "x": [
          1001.1964146443862,
          1537.6487205140133,
          1537.6487205140133,
          1001.1964146443862,
          1001.1964146443862
         ],
         "y": [
          -0.4999999999747055,
          -0.4999999999747055,
          0.4999999999747055,
          0.4999999999747055,
          -0.4999999999747055
         ]
        },
        {
         "fill": "toself",
         "fillcolor": "#FF0000",
         "line": {
          "color": "#CC0000",
          "width": 1
         },
         "marker": {
          "size": 1
         },
         "mode": "markers+lines",
         "showlegend": false,
         "type": "scatter",
         "x": [
          1126.3512794859867,
          1708.4938556724128,
          1708.4938556724128,
          1126.3512794859867,
          1126.3512794859867
         ],
         "y": [
          -0.4999999999747055,
          -0.4999999999747055,
          0.4999999999747055,
          0.4999999999747055,
          -0.4999999999747055
         ]
        },
        {
         "fill": "toself",
         "fillcolor": "#FF0000",
         "line": {
          "color": "#CC0000",
          "width": 1
         },
         "marker": {
          "size": 1
         },
         "mode": "markers+lines",
         "showlegend": false,
         "type": "scatter",
         "x": [
          1251.5061443275872,
          1879.3389908308125,
          1879.3389908308125,
          1251.5061443275872,
          1251.5061443275872
         ],
         "y": [
          -0.4999999999747055,
          -0.4999999999747055,
          0.4999999999747055,
          0.4999999999747055,
          -0.4999999999747055
         ]
        },
        {
         "fill": "toself",
         "fillcolor": "#FF0000",
         "line": {
          "color": "#CC0000",
          "width": 1
         },
         "marker": {
          "size": 1
         },
         "mode": "markers+lines",
         "showlegend": false,
         "type": "scatter",
         "x": [
          1376.6610091691875,
          2050.1841259892117,
          2050.1841259892117,
          1376.6610091691875,
          1376.6610091691875
         ],
         "y": [
          -0.4999999999747055,
          -0.4999999999747055,
          0.4999999999747055,
          0.4999999999747055,
          -0.4999999999747055
         ]
        },
        {
         "fill": "toself",
         "fillcolor": "#FF0000",
         "line": {
          "color": "#CC0000",
          "width": 1
         },
         "marker": {
          "size": 1
         },
         "mode": "markers+lines",
         "showlegend": false,
         "type": "scatter",
         "x": [
          1501.815874010788,
          2221.0292611476116,
          2221.0292611476116,
          1501.815874010788,
          1501.815874010788
         ],
         "y": [
          -0.4999999999747055,
          -0.4999999999747055,
          0.4999999999747055,
          0.4999999999747055,
          -0.4999999999747055
         ]
        },
        {
         "fill": "toself",
         "fillcolor": "#FF0000",
         "line": {
          "color": "#CC0000",
          "width": 1
         },
         "marker": {
          "size": 1
         },
         "mode": "markers+lines",
         "showlegend": false,
         "type": "scatter",
         "x": [
          1626.9707388523884,
          2391.8743963060106,
          2391.8743963060106,
          1626.9707388523884,
          1626.9707388523884
         ],
         "y": [
          -0.4999999999747055,
          -0.4999999999747055,
          0.4999999999747055,
          0.4999999999747055,
          -0.4999999999747055
         ]
        },
        {
         "fill": "toself",
         "fillcolor": "#FF0000",
         "line": {
          "color": "#CC0000",
          "width": 1
         },
         "marker": {
          "size": 1
         },
         "mode": "markers+lines",
         "showlegend": false,
         "type": "scatter",
         "x": [
          1752.1256036939894,
          2562.71953146441,
          2562.71953146441,
          1752.1256036939894,
          1752.1256036939894
         ],
         "y": [
          -0.4999999999747055,
          -0.4999999999747055,
          0.4999999999747055,
          0.4999999999747055,
          -0.4999999999747055
         ]
        },
        {
         "fill": "toself",
         "fillcolor": "#FF0000",
         "line": {
          "color": "#CC0000",
          "width": 1
         },
         "marker": {
          "size": 1
         },
         "mode": "markers+lines",
         "showlegend": false,
         "type": "scatter",
         "x": [
          1877.2804685355898,
          2733.56466662281,
          2733.56466662281,
          1877.2804685355898,
          1877.2804685355898
         ],
         "y": [
          -0.4999999999747055,
          -0.4999999999747055,
          0.4999999999747055,
          0.4999999999747055,
          -0.4999999999747055
         ]
        },
        {
         "fill": "toself",
         "fillcolor": "#FF0000",
         "line": {
          "color": "#CC0000",
          "width": 1
         },
         "marker": {
          "size": 1
         },
         "mode": "markers+lines",
         "showlegend": false,
         "type": "scatter",
         "x": [
          2002.4353333771903,
          2904.4098017812094,
          2904.4098017812094,
          2002.4353333771903,
          2002.4353333771903
         ],
         "y": [
          -0.4999999999747055,
          -0.4999999999747055,
          0.4999999999747055,
          0.4999999999747055,
          -0.4999999999747055
         ]
        },
        {
         "fill": "toself",
         "fillcolor": "#FF0000",
         "line": {
          "color": "#CC0000",
          "width": 1
         },
         "marker": {
          "size": 1
         },
         "mode": "markers+lines",
         "showlegend": false,
         "type": "scatter",
         "x": [
          1376.6610091691873,
          3061.3647919579544,
          3061.3647919579544,
          1376.6610091691873,
          1376.6610091691873
         ],
         "y": [
          -0.5523598774998453,
          -0.5523598774998453,
          0.4999999999747055,
          0.4999999999747055,
          -0.5523598774998453
         ]
        },
        {
         "fill": "toself",
         "fillcolor": "#FF0000",
         "line": {
          "color": "#CC0000",
          "width": 1
         },
         "marker": {
          "size": 1
         },
         "mode": "markers+lines",
         "showlegend": false,
         "type": "scatter",
         "x": [
          1515.5707873966433,
          3219.586858250753,
          3219.586858250753,
          1515.5707873966433,
          1515.5707873966433
         ],
         "y": [
          -0.6047197550596752,
          -0.6047197550596752,
          0.4476401223801855,
          0.4476401223801855,
          -0.6047197550596752
         ]
        },
        {
         "fill": "toself",
         "fillcolor": "#FF0000",
         "line": {
          "color": "#CC0000",
          "width": 1
         },
         "marker": {
          "size": 1
         },
         "mode": "markers+lines",
         "showlegend": false,
         "type": "scatter",
         "x": [
          1652.4025447431577,
          3378.6423248865917,
          3378.6423248865917,
          1652.4025447431577,
          1652.4025447431577
         ],
         "y": [
          -0.6570796326195051,
          -0.6570796326195051,
          0.3952802448203556,
          0.3952802448203556,
          -0.6570796326195051
         ]
        },
        {
         "fill": "toself",
         "fillcolor": "#FF0000",
         "line": {
          "color": "#CC0000",
          "width": 1
         },
         "marker": {
          "size": 1
         },
         "mode": "markers+lines",
         "showlegend": false,
         "type": "scatter",
         "x": [
          1786.7812349600877,
          3538.095231887233,
          3538.095231887233,
          1786.7812349600877,
          1786.7812349600877
         ],
         "y": [
          -0.7094395101793349,
          -0.7094395101793349,
          0.34292036726052577,
          0.34292036726052577,
          -0.7094395101793349
         ]
        },
        {
         "fill": "toself",
         "fillcolor": "#FF0000",
         "line": {
          "color": "#CC0000",
          "width": 1
         },
         "marker": {
          "size": 1
         },
         "mode": "markers+lines",
         "showlegend": false,
         "type": "scatter",
         "x": [
          1918.338535398097,
          3697.5085299180223,
          3697.5085299180223,
          1918.338535398097,
          1918.338535398097
         ],
         "y": [
          -0.7617993877391647,
          -0.7617993877391647,
          0.29056048970069576,
          0.29056048970069576,
          -0.7617993877391647
         ]
        },
        {
         "fill": "toself",
         "fillcolor": "#FF0000",
         "line": {
          "color": "#CC0000",
          "width": 1
         },
         "marker": {
          "size": 1
         },
         "mode": "markers+lines",
         "showlegend": false,
         "type": "scatter",
         "x": [
          2046.7138566411209,
          3856.445278209741,
          3856.445278209741,
          2046.7138566411209,
          2046.7138566411209
         ],
         "y": [
          -0.8141592652989946,
          -0.8141592652989946,
          0.23820061214086585,
          0.23820061214086585,
          -0.8141592652989946
         ]
        },
        {
         "fill": "toself",
         "fillcolor": "#FF0000",
         "line": {
          "color": "#CC0000",
          "width": 1
         },
         "marker": {
          "size": 1
         },
         "mode": "markers+lines",
         "showlegend": false,
         "type": "scatter",
         "x": [
          2171.555330856891,
          4014.469842182879,
          4014.469842182879,
          2171.555330856891,
          2171.555330856891
         ],
         "y": [
          -0.8665191428588245,
          -0.8665191428588245,
          0.18584073458103595,
          0.18584073458103595,
          -0.8665191428588245
         ]
        },
        {
         "fill": "toself",
         "fillcolor": "#FF0000",
         "line": {
          "color": "#CC0000",
          "width": 1
         },
         "marker": {
          "size": 1
         },
         "mode": "markers+lines",
         "showlegend": false,
         "type": "scatter",
         "x": [
          2292.520776242207,
          4171.149087491738,
          4171.149087491738,
          2292.520776242207,
          2292.520776242207
         ],
         "y": [
          -0.9188790204186543,
          -0.9188790204186543,
          0.13348085702120605,
          0.13348085702120605,
          -0.9188790204186543
         ]
        },
        {
         "fill": "toself",
         "fillcolor": "#FF0000",
         "line": {
          "color": "#CC0000",
          "width": 1
         },
         "marker": {
          "size": 1
         },
         "mode": "markers+lines",
         "showlegend": false,
         "type": "scatter",
         "x": [
          2409.278634919472,
          4326.053567215568,
          4326.053567215568,
          2409.278634919472,
          2409.278634919472
         ],
         "y": [
          -0.9712388979784842,
          -0.9712388979784842,
          0.08112097946137614,
          0.08112097946137614,
          -0.9712388979784842
         ]
        },
        {
         "fill": "toself",
         "fillcolor": "#FF0000",
         "line": {
          "color": "#CC0000",
          "width": 1
         },
         "marker": {
          "size": 1
         },
         "mode": "markers+lines",
         "showlegend": false,
         "type": "scatter",
         "x": [
          2521.508881713792,
          4478.758698942725,
          4478.758698942725,
          2521.508881713792,
          2521.508881713792
         ],
         "y": [
          -1.0235987755383142,
          -1.0235987755383142,
          0.028761101901546127,
          0.028761101901546127,
          -1.0235987755383142
         ]
        },
        {
         "fill": "toself",
         "fillcolor": "#FF0000",
         "line": {
          "color": "#CC0000",
          "width": 1
         },
         "marker": {
          "size": 1
         },
         "mode": "markers+lines",
         "showlegend": false,
         "type": "scatter",
         "x": [
          2628.9039013197316,
          4628.845928521547,
          4628.845928521547,
          2628.9039013197316,
          2628.9039013197316
         ],
         "y": [
          -1.075958653098144,
          -1.075958653098144,
          -0.023598775658283888,
          -0.023598775658283888,
          -1.075958653098144
         ]
        },
        {
         "fill": "toself",
         "fillcolor": "#FF0000",
         "line": {
          "color": "#CC0000",
          "width": 1
         },
         "marker": {
          "size": 1
         },
         "mode": "markers+lines",
         "showlegend": false,
         "type": "scatter",
         "x": [
          2731.1693314534878,
          4788.150823865802,
          4788.150823865802,
          2731.1693314534878,
          2731.1693314534878
         ],
         "y": [
          -1.1283185306579742,
          -1.1283185306579742,
          -0.07595865321811379,
          -0.07595865321811379,
          -1.1283185306579742
         ]
        },
        {
         "fill": "toself",
         "fillcolor": "#FF0000",
         "line": {
          "color": "#CC0000",
          "width": 1
         },
         "marker": {
          "size": 1
         },
         "mode": "markers+lines",
         "showlegend": false,
         "type": "scatter",
         "x": [
          2815.7779231018385,
          4955.346760841617,
          4955.346760841617,
          2815.7779231018385,
          2815.7779231018385
         ],
         "y": [
          -1.180678408217804,
          -1.180678408217804,
          -0.12831853077794358,
          -0.12831853077794358,
          -1.180678408217804
         ]
        },
        {
         "fill": "toself",
         "fillcolor": "#FF0000",
         "line": {
          "color": "#CC0000",
          "width": 1
         },
         "marker": {
          "size": 1
         },
         "mode": "markers+lines",
         "showlegend": false,
         "type": "scatter",
         "x": [
          2883.3877504850298,
          5120.407372043804,
          5120.407372043804,
          2883.3877504850298,
          2883.3877504850298
         ],
         "y": [
          -1.2330382857776339,
          -1.2330382857776339,
          -0.18067840833777354,
          -0.18067840833777354,
          -1.2330382857776339
         ]
        },
        {
         "fill": "toself",
         "fillcolor": "#FF0000",
         "line": {
          "color": "#CC0000",
          "width": 1
         },
         "marker": {
          "size": 1
         },
         "mode": "markers+lines",
         "showlegend": false,
         "type": "scatter",
         "x": [
          2943.3815947292896,
          5282.88023781028,
          5282.88023781028,
          2943.3815947292896,
          2943.3815947292896
         ],
         "y": [
          -1.2853981633374638,
          -1.2853981633374638,
          -0.2330382858976034,
          -0.2330382858976034,
          -1.2853981633374638
         ]
        },
        {
         "fill": "toself",
         "fillcolor": "#FF0000",
         "line": {
          "color": "#CC0000",
          "width": 1
         },
         "marker": {
          "size": 1
         },
         "mode": "markers+lines",
         "showlegend": false,
         "type": "scatter",
         "x": [
          2995.5950168776644,
          5442.320031309331,
          5442.320031309331,
          2995.5950168776644,
          2995.5950168776644
         ],
         "y": [
          -1.3377580408972938,
          -1.3377580408972938,
          -0.2853981634574332,
          -0.2853981634574332,
          -1.3377580408972938
         ]
        },
        {
         "fill": "toself",
         "fillcolor": "#FF0000",
         "line": {
          "color": "#CC0000",
          "width": 1
         },
         "marker": {
          "size": 1
         },
         "mode": "markers+lines",
         "showlegend": false,
         "type": "scatter",
         "x": [
          3039.884903569359,
          5598.289739149497,
          5598.289739149497,
          3039.884903569359,
          3039.884903569359
         ],
         "y": [
          -1.3901179184571237,
          -1.3901179184571237,
          -0.3377580410172629,
          -0.3377580410172629,
          -1.3901179184571237
         ]
        },
        {
         "fill": "toself",
         "fillcolor": "#FF0000",
         "line": {
          "color": "#CC0000",
          "width": 1
         },
         "marker": {
          "size": 1
         },
         "mode": "markers+lines",
         "showlegend": false,
         "type": "scatter",
         "x": [
          3076.1298593035012,
          5750.3618592029125,
          5750.3618592029125,
          3076.1298593035012,
          3076.1298593035012
         ],
         "y": [
          -1.4424777960169535,
          -1.4424777960169535,
          -0.39011791857709277,
          -0.39011791857709277,
          -1.4424777960169535
         ]
        },
        {
         "fill": "toself",
         "fillcolor": "#FF0000",
         "line": {
          "color": "#CC0000",
          "width": 1
         },
         "marker": {
          "size": 1
         },
         "mode": "markers+lines",
         "showlegend": false,
         "type": "scatter",
         "x": [
          3104.23053917578,
          5898.119572358913,
          5898.119572358913,
          3104.23053917578,
          3104.23053917578
         ],
         "y": [
          -1.4948376735767832,
          -1.4948376735767832,
          -0.4424777961369225,
          -0.4424777961369225,
          -1.4948376735767832
         ]
        },
        {
         "fill": "toself",
         "fillcolor": "#FF0000",
         "line": {
          "color": "#CC0000",
          "width": 1
         },
         "marker": {
          "size": 1
         },
         "mode": "markers+lines",
         "showlegend": false,
         "type": "scatter",
         "x": [
          3124.10992117592,
          6041.157884996252,
          6041.157884996252,
          3124.10992117592,
          3124.10992117592
         ],
         "y": [
          -1.5471975511366132,
          -1.5471975511366132,
          -0.49483767369675247,
          -0.49483767369675247,
          -1.5471975511366132
         ]
        },
        {
         "fill": "toself",
         "fillcolor": "#FF0000",
         "line": {
          "color": "#CC0000",
          "width": 1
         },
         "marker": {
          "size": 1
         },
         "mode": "markers+lines",
         "showlegend": false,
         "type": "scatter",
         "x": [
          3135.7135172996586,
          6179.08473904246,
          6179.08473904246,
          3135.7135172996586,
          3135.7135172996586
         ],
         "y": [
          -1.599557428696443,
          -1.599557428696443,
          -0.5471975512565821,
          -0.5471975512565821,
          -1.599557428696443
         ]
        },
        {
         "fill": "toself",
         "fillcolor": "#FF0000",
         "line": {
          "color": "#CC0000",
          "width": 1
         },
         "marker": {
          "size": 1
         },
         "mode": "markers+lines",
         "showlegend": false,
         "type": "scatter",
         "x": [
          3133.9889038444308,
          6311.522086577777,
          6311.522086577777,
          3133.9889038444308,
          3133.9889038444308
         ],
         "y": [
          -1.6519173062562726,
          -1.6519173062562726,
          -0.5995574288164118,
          -0.5995574288164118,
          -1.6519173062562726
         ]
        },
        {
         "fill": "toself",
         "fillcolor": "#FF0000",
         "line": {
          "color": "#CC0000",
          "width": 1
         },
         "marker": {
          "size": 1
         },
         "mode": "markers+lines",
         "showlegend": false,
         "type": "scatter",
         "x": [
          3120.6654213110696,
          6438.106926038213,
          6438.106926038213,
          3120.6654213110696,
          3120.6654213110696
         ],
         "y": [
          -1.7042771838161026,
          -1.7042771838161026,
          -0.6519173063762416,
          -0.6519173063762416,
          -1.7042771838161026
         ]
        },
        {
         "fill": "toself",
         "fillcolor": "#FF0000",
         "line": {
          "color": "#CC0000",
          "width": 1
         },
         "marker": {
          "size": 1
         },
         "mode": "markers+lines",
         "showlegend": false,
         "type": "scatter",
         "x": [
          3099.0755940360123,
          6558.492297177612,
          6558.492297177612,
          3099.0755940360123,
          3099.0755940360123
         ],
         "y": [
          -1.7566370613759328,
          -1.7566370613759328,
          -0.7042771839360715,
          -0.7042771839360715,
          -1.7566370613759328
         ]
        },
        {
         "fill": "toself",
         "fillcolor": "#FF0000",
         "line": {
          "color": "#CC0000",
          "width": 1
         },
         "marker": {
          "size": 1
         },
         "mode": "markers+lines",
         "showlegend": false,
         "type": "scatter",
         "x": [
          3069.278598235129,
          6672.348232061566,
          6672.348232061566,
          3069.278598235129,
          3069.278598235129
         ],
         "y": [
          -1.8089969389357625,
          -1.8089969389357625,
          -0.7566370614959014,
          -0.7566370614959014,
          -1.8089969389357625
         ]
        },
        {
         "fill": "toself",
         "fillcolor": "#FF0000",
         "line": {
          "color": "#CC0000",
          "width": 1
         },
         "marker": {
          "size": 1
         },
         "mode": "markers+lines",
         "showlegend": false,
         "type": "scatter",
         "x": [
          3031.356105402744,
          6779.362659486586,
          6779.362659486586,
          3031.356105402744,
          3031.356105402744
         ],
         "y": [
          -1.8613568164955927,
          -1.8613568164955927,
          -0.8089969390557313,
          -0.8089969390557313,
          -1.8613568164955927
         ]
        },
        {
         "fill": "toself",
         "fillcolor": "#FF0000",
         "line": {
          "color": "#CC0000",
          "width": 1
         },
         "marker": {
          "size": 1
         },
         "mode": "markers+lines",
         "showlegend": false,
         "type": "scatter",
         "x": [
          2985.4120584557545,
          6879.242260345583,
          6879.242260345583,
          2985.4120584557545,
          2985.4120584557545
         ],
         "y": [
          -1.9137166940554227,
          -1.9137166940554227,
          -0.8613568166155612,
          -0.8613568166155612,
          -1.9137166940554227
         ]
        },
        {
         "fill": "toself",
         "fillcolor": "#FF0000",
         "line": {
          "color": "#CC0000",
          "width": 1
         },
         "marker": {
          "size": 1
         },
         "mode": "markers+lines",
         "showlegend": false,
         "type": "scatter",
         "x": [
          2931.572386833306,
          6971.71327159515,
          6971.71327159515,
          2931.572386833306,
          2931.572386833306
         ],
         "y": [
          -1.9660765716152526,
          -1.9660765716152526,
          -0.9137166941753911,
          -0.9137166941753911,
          -1.9660765716152526
         ]
        },
        {
         "fill": "toself",
         "fillcolor": "#FF0000",
         "line": {
          "color": "#CC0000",
          "width": 1
         },
         "marker": {
          "size": 1
         },
         "mode": "markers+lines",
         "showlegend": false,
         "type": "scatter",
         "x": [
          2869.9846613329714,
          7056.522236621029,
          7056.522236621029,
          2869.9846613329714,
          2869.9846613329714
         ],
         "y": [
          -2.0184364491750824,
          -2.0184364491750824,
          -0.9660765717352211,
          -0.9660765717352211,
          -2.0184364491750824
         ]
        },
        {
         "fill": "toself",
         "fillcolor": "#FF0000",
         "line": {
          "color": "#CC0000",
          "width": 1
         },
         "marker": {
          "size": 1
         },
         "mode": "markers+lines",
         "showlegend": false,
         "type": "scatter",
         "x": [
          2800.817689629433,
          7133.436699945085,
          7133.436699945085,
          2800.817689629433,
          2800.817689629433
         ],
         "y": [
          -2.0707963267349125,
          -2.0707963267349125,
          -1.018436449295051,
          -1.018436449295051,
          -2.0707963267349125
         ]
        },
        {
         "fill": "toself",
         "fillcolor": "#FF0000",
         "line": {
          "color": "#CC0000",
          "width": 1
         },
         "marker": {
          "size": 1
         },
         "mode": "markers+lines",
         "showlegend": false,
         "type": "scatter",
         "x": [
          2724.2610535843937,
          7202.245844369607,
          7202.245844369607,
          2724.2610535843937,
          2724.2610535843937
         ],
         "y": [
          -2.1231562042947423,
          -2.1231562042947423,
          -1.070796326854881,
          -1.070796326854881,
          -2.1231562042947423
         ]
        },
        {
         "fill": "toself",
         "fillcolor": "#FF0000",
         "line": {
          "color": "#CC0000",
          "width": 1
         },
         "marker": {
          "size": 1
         },
         "mode": "markers+lines",
         "showlegend": false,
         "type": "scatter",
         "x": [
          2640.524589615865,
          7262.7610688125915,
          7262.7610688125915,
          2640.524589615865,
          2640.524589615865
         ],
         "y": [
          -2.1755160818545725,
          -2.1755160818545725,
          -1.123156204414711,
          -1.123156204414711,
          -2.1755160818545725
         ]
        },
        {
         "fill": "toself",
         "fillcolor": "#FF0000",
         "line": {
          "color": "#CC0000",
          "width": 1
         },
         "marker": {
          "size": 1
         },
         "mode": "markers+lines",
         "showlegend": false,
         "type": "scatter",
         "x": [
          2549.837813551137,
          7314.816505250201,
          7314.816505250201,
          2549.837813551137,
          2549.837813551137
         ],
         "y": [
          -2.227875959414402,
          -2.227875959414402,
          -1.175516081974541,
          -1.175516081974541,
          -2.227875959414402
         ]
        },
        {
         "fill": "toself",
         "fillcolor": "#FF0000",
         "line": {
          "color": "#CC0000",
          "width": 1
         },
         "marker": {
          "size": 1
         },
         "mode": "markers+lines",
         "showlegend": false,
         "type": "scatter",
         "x": [
          2452.449291539842,
          7358.269473349488,
          7358.269473349488,
          2452.449291539842,
          2452.449291539842
         ],
         "y": [
          -2.280235836974232,
          -2.280235836974232,
          -1.2278759595343711,
          -1.2278759595343711,
          -2.280235836974232
         ]
        },
        {
         "fill": "toself",
         "fillcolor": "#FF0000",
         "line": {
          "color": "#CC0000",
          "width": 1
         },
         "marker": {
          "size": 1
         },
         "mode": "markers+lines",
         "showlegend": false,
         "type": "scatter",
         "x": [
          2348.6259587514187,
          7393.000871545274,
          7393.000871545274,
          2348.6259587514187,
          2348.6259587514187
         ],
         "y": [
          -2.3325957145340617,
          -2.3325957145340617,
          -1.2802358370942013,
          -1.2802358370942013,
          -2.3325957145340617
         ]
        },
        {
         "fill": "toself",
         "fillcolor": "#FF0000",
         "line": {
          "color": "#CC0000",
          "width": 1
         },
         "marker": {
          "size": 1
         },
         "mode": "markers+lines",
         "showlegend": false,
         "type": "scatter",
         "x": [
          2238.6523877243694,
          7418.915503489254,
          7418.915503489254,
          2238.6523877243694,
          2238.6523877243694
         ],
         "y": [
          -2.384955592093892,
          -2.384955592093892,
          -1.3325957146540313,
          -1.3325957146540313,
          -2.384955592093892
         ]
        },
        {
         "fill": "toself",
         "fillcolor": "#FF0000",
         "line": {
          "color": "#CC0000",
          "width": 1
         },
         "marker": {
          "size": 1
         },
         "mode": "markers+lines",
         "showlegend": false,
         "type": "scatter",
         "x": [
          2122.8300083727104,
          7435.942338976571,
          7435.942338976571,
          2122.8300083727104,
          2122.8300083727104
         ],
         "y": [
          -2.4373154696537216,
          -2.4373154696537216,
          -1.3849555922138614,
          -1.3849555922138614,
          -2.4373154696537216
         ]
        },
        {
         "fill": "toself",
         "fillcolor": "#FF0000",
         "line": {
          "color": "#CC0000",
          "width": 1
         },
         "marker": {
          "size": 1
         },
         "mode": "markers+lines",
         "showlegend": false,
         "type": "scatter",
         "x": [
          2001.4762817875308,
          7444.034708634676,
          7444.034708634676,
          2001.4762817875308,
          2001.4762817875308
         ],
         "y": [
          -2.4896753472135513,
          -2.4896753472135513,
          -1.4373154697736916,
          -1.4373154697736916,
          -2.4896753472135513
         ]
        },
        {
         "fill": "toself",
         "fillcolor": "#FF0000",
         "line": {
          "color": "#CC0000",
          "width": 1
         },
         "marker": {
          "size": 1
         },
         "mode": "markers+lines",
         "showlegend": false,
         "type": "scatter",
         "x": [
          1874.9238300982038,
          7444.034708634676,
          7444.034708634676,
          1874.9238300982038,
          1874.9238300982038
         ],
         "y": [
          -2.5420352247733815,
          -2.5420352247733815,
          -1.4896753473335214,
          -1.4896753473335214,
          -2.5420352247733815
         ]
        },
        {
         "fill": "toself",
         "fillcolor": "#FF0000",
         "line": {
          "color": "#CC0000",
          "width": 1
         },
         "marker": {
          "size": 1
         },
         "mode": "markers+lines",
         "showlegend": false,
         "type": "scatter",
         "x": [
          1743.519524778258,
          7443.17043184083,
          7443.17043184083,
          1743.519524778258,
          1743.519524778258
         ],
         "y": [
          -2.594395102333211,
          -2.594395102333211,
          -1.5420352248933515,
          -1.5420352248933515,
          -2.594395102333211
         ]
        },
        {
         "fill": "toself",
         "fillcolor": "#FF0000",
         "line": {
          "color": "#CC0000",
          "width": 1
         },
         "marker": {
          "size": 1
         },
         "mode": "markers+lines",
         "showlegend": false,
         "type": "scatter",
         "x": [
          1607.6235358947742,
          7433.351877517651,
          7433.351877517651,
          1607.6235358947742,
          1607.6235358947742
         ],
         "y": [
          -2.6467549798930405,
          -2.6467549798930405,
          -1.5943951024531813,
          -1.5943951024531813,
          -2.6467549798930405
         ]
        },
        {
         "fill": "toself",
         "fillcolor": "#FF0000",
         "line": {
          "color": "#CC0000",
          "width": 1
         },
         "marker": {
          "size": 1
         },
         "mode": "markers+lines",
         "showlegend": false,
         "type": "scatter",
         "x": [
          1467.6083449072676,
          7414.6059576400585,
          7414.6059576400585,
          1467.6083449072676,
          1467.6083449072676
         ],
         "y": [
          -2.6991148574528703,
          -2.6991148574528703,
          -1.6467549800130112,
          -1.6467549800130112,
          -2.6991148574528703
         ]
        },
        {
         "fill": "toself",
         "fillcolor": "#FF0000",
         "line": {
          "color": "#CC0000",
          "width": 1
         },
         "marker": {
          "size": 1
         },
         "mode": "markers+lines",
         "showlegend": false,
         "type": "scatter",
         "x": [
          1323.8577237218979,
          7386.984053471425,
          7386.984053471425,
          1323.8577237218979,
          1323.8577237218979
         ],
         "y": [
          -2.7514747350126996,
          -2.7514747350126996,
          -1.6991148575728412,
          -1.6991148575728412,
          -2.7514747350126996
         ]
        },
        {
         "fill": "toself",
         "fillcolor": "#FF0000",
         "line": {
          "color": "#CC0000",
          "width": 1
         },
         "marker": {
          "size": 1
         },
         "mode": "markers+lines",
         "showlegend": false,
         "type": "scatter",
         "x": [
          1176.7656827993515,
          7350.5618747311,
          7350.5618747311,
          1176.7656827993515,
          1176.7656827993515
         ],
         "y": [
          -2.8038346125725293,
          -2.8038346125725293,
          -1.7514747351326712,
          -1.7514747351326712,
          -2.8038346125725293
         ]
        },
        {
         "fill": "toself",
         "fillcolor": "#FF0000",
         "line": {
          "color": "#CC0000",
          "width": 1
         },
         "marker": {
          "size": 1
         },
         "mode": "markers+lines",
         "showlegend": false,
         "type": "scatter",
         "x": [
          1026.735391199556,
          7305.439252079338,
          7305.439252079338,
          1026.735391199556,
          1026.735391199556
         ],
         "y": [
          -2.8561944901323595,
          -2.8561944901323595,
          -1.803834612692501,
          -1.803834612692501,
          -2.8561944901323595
         ]
        },
        {
         "fill": "toself",
         "fillcolor": "#FF0000",
         "line": {
          "color": "#CC0000",
          "width": 1
         },
         "marker": {
          "size": 1
         },
         "mode": "markers+lines",
         "showlegend": false,
         "type": "scatter",
         "x": [
          874.1780715233053,
          7251.73986348839,
          7251.73986348839,
          874.1780715233053,
          874.1780715233053
         ],
         "y": [
          -2.908554367692189,
          -2.908554367692189,
          -1.8561944902523304,
          -1.8561944902523304,
          -2.908554367692189
         ]
        },
        {
         "fill": "toself",
         "fillcolor": "#FF0000",
         "line": {
          "color": "#CC0000",
          "width": 1
         },
         "marker": {
          "size": 1
         },
         "mode": "markers+lines",
         "showlegend": false,
         "type": "scatter",
         "x": [
          719.5118727797058,
          7189.610895249789,
          7189.610895249789,
          719.5118727797058,
          719.5118727797058
         ],
         "y": [
          -2.9609142452520185,
          -2.9609142452520185,
          -1.9085543678121604,
          -1.9085543678121604,
          -2.9609142452520185
         ]
        },
        {
         "fill": "toself",
         "fillcolor": "#FF0000",
         "line": {
          "color": "#CC0000",
          "width": 1
         },
         "marker": {
          "size": 1
         },
         "mode": "markers+lines",
         "showlegend": false,
         "type": "scatter",
         "x": [
          563.1607242687992,
          7119.222638546942,
          7119.222638546942,
          563.1607242687992,
          563.1607242687992
         ],
         "y": [
          -3.0132741228118483,
          -3.0132741228118483,
          -1.96091424537199,
          -1.96091424537199,
          -3.0132741228118483
         ]
        },
        {
         "fill": "toself",
         "fillcolor": "#FF0000",
         "line": {
          "color": "#CC0000",
          "width": 1
         },
         "marker": {
          "size": 1
         },
         "mode": "markers+lines",
         "showlegend": false,
         "type": "scatter",
         "x": [
          405.5531736208145,
          7040.768022698843,
          7040.768022698843,
          405.5531736208145,
          405.5531736208145
         ],
         "y": [
          -3.0656340003716784,
          -3.0656340003716784,
          -2.01327412293182,
          -2.01327412293182,
          -3.0656340003716784
         ]
        },
        {
         "fill": "toself",
         "fillcolor": "#FF0000",
         "line": {
          "color": "#CC0000",
          "width": 1
         },
         "marker": {
          "size": 1
         },
         "mode": "markers+lines",
         "showlegend": false,
         "type": "scatter",
         "x": [
          247.121212176914,
          6954.46208635422,
          6954.46208635422,
          247.121212176914,
          247.121212176914
         ],
         "y": [
          -3.117993877931508,
          -3.117993877931508,
          -2.06563400049165,
          -2.06563400049165,
          -3.117993877931508
         ]
        },
        {
         "fill": "toself",
         "fillcolor": "#FF0000",
         "line": {
          "color": "#CC0000",
          "width": 1
         },
         "marker": {
          "size": 1
         },
         "mode": "markers+lines",
         "showlegend": false,
         "type": "scatter",
         "x": [
          88.29909093094466,
          6860.541388085543,
          6860.541388085543,
          88.29909093094466,
          88.29909093094466
         ],
         "y": [
          -3.170353755491338,
          -3.170353755491338,
          -2.1179938780514798,
          -2.1179938780514798,
          -3.170353755491338
         ]
        },
        {
         "fill": "toself",
         "fillcolor": "#FF0000",
         "line": {
          "color": "#CC0000",
          "width": 1
         },
         "marker": {
          "size": 1
         },
         "mode": "markers+lines",
         "showlegend": false,
         "type": "scatter",
         "x": [
          -70.47786972235053,
          6759.263357998417,
          6759.263357998417,
          -70.47786972235053,
          -70.47786972235053
         ],
         "y": [
          -3.2227136330511676,
          -3.2227136330511676,
          -2.1703537556113095,
          -2.1703537556113095,
          -3.2227136330511676
         ]
        },
        {
         "fill": "toself",
         "fillcolor": "#FF0000",
         "line": {
          "color": "#CC0000",
          "width": 1
         },
         "marker": {
          "size": 1
         },
         "mode": "markers+lines",
         "showlegend": false,
         "type": "scatter",
         "x": [
          -228.77447317026918,
          6650.905592133562,
          6650.905592133562,
          -228.77447317026918,
          -228.77447317026918
         ],
         "y": [
          -3.2750735106109974,
          -3.2750735106109974,
          -2.2227136331711392,
          -2.2227136331711392,
          -3.2750735106109974
         ]
        },
        {
         "fill": "toself",
         "fillcolor": "#FF0000",
         "line": {
          "color": "#CC0000",
          "width": 1
         },
         "marker": {
          "size": 1
         },
         "mode": "markers+lines",
         "showlegend": false,
         "type": "scatter",
         "x": [
          -386.1568394258238,
          6535.7650915953545,
          6535.7650915953545,
          -386.1568394258238,
          -386.1568394258238
         ],
         "y": [
          -10.569877101930896,
          -10.569877101930896,
          4.915010325469269,
          4.915010325469269,
          -10.569877101930896
         ]
        },
        {
         "fill": "toself",
         "fillcolor": "#FF0000",
         "line": {
          "color": "#CC0000",
          "width": 1
         },
         "marker": {
          "size": 1
         },
         "mode": "markers+lines",
         "showlegend": false,
         "type": "scatter",
         "x": [
          -542.1935943626218,
          6414.157448492456,
          6414.157448492456,
          -542.1935943626218,
          -542.1935943626218
         ],
         "y": [
          -10.622236979490724,
          -10.622236979490724,
          4.915010325469269,
          4.915010325469269,
          -10.622236979490724
         ]
        },
        {
         "fill": "toself",
         "fillcolor": "#FF0000",
         "line": {
          "color": "#CC0000",
          "width": 1
         },
         "marker": {
          "size": 1
         },
         "mode": "markers+lines",
         "showlegend": false,
         "type": "scatter",
         "x": [
          -696.457052081364,
          6286.415980921765,
          6286.415980921765,
          -696.457052081364,
          -696.457052081364
         ],
         "y": [
          -10.674596857050554,
          -10.674596857050554,
          4.86265044790944,
          4.86265044790944,
          -10.674596857050554
         ]
        },
        {
         "fill": "toself",
         "fillcolor": "#FF0000",
         "line": {
          "color": "#CC0000",
          "width": 1
         },
         "marker": {
          "size": 1
         },
         "mode": "markers+lines",
         "showlegend": false,
         "type": "scatter",
         "x": [
          -855.5006319637464,
          6152.890819366693,
          6152.890819366693,
          -855.5006319637464,
          -855.5006319637464
         ],
         "y": [
          -10.726956734610384,
          -10.726956734610384,
          4.8102905703496095,
          4.8102905703496095,
          -10.726956734610384
         ]
        },
        {
         "fill": "toself",
         "fillcolor": "#FF0000",
         "line": {
          "color": "#CC0000",
          "width": 1
         },
         "marker": {
          "size": 1
         },
         "mode": "markers+lines",
         "showlegend": false,
         "type": "scatter",
         "x": [
          -1026.320421552438,
          6020.924191810425,
          6020.924191810425,
          -1026.320421552438,
          -1026.320421552438
         ],
         "y": [
          -12.765623609614739,
          -12.765623609614739,
          6.691877812674474,
          6.691877812674474,
          -12.765623609614739
         ]
        },
        {
         "fill": "toself",
         "fillcolor": "#FF0000",
         "line": {
          "color": "#CC0000",
          "width": 1
         },
         "marker": {
          "size": 1
         },
         "mode": "markers+lines",
         "showlegend": false,
         "type": "scatter",
         "x": [
          -1194.2759484824232,
          5898.309824546348,
          5898.309824546348,
          -1194.2759484824232,
          -1194.2759484824232
         ],
         "y": [
          -18.66571026412141,
          -18.66571026412141,
          12.487244712061488,
          12.487244712061488,
          -18.66571026412141
         ]
        },
        {
         "fill": "toself",
         "fillcolor": "#FF0000",
         "line": {
          "color": "#CC0000",
          "width": 1
         },
         "marker": {
          "size": 1
         },
         "mode": "markers+lines",
         "showlegend": false,
         "type": "scatter",
         "x": [
          -1358.906858328833,
          5771.21152783702,
          5771.21152783702,
          -1358.906858328833,
          -1358.906858328833
         ],
         "y": [
          -18.71807014168124,
          -18.71807014168124,
          12.487244712061488,
          12.487244712061488,
          -18.71807014168124
         ]
        },
        {
         "fill": "toself",
         "fillcolor": "#FF0000",
         "line": {
          "color": "#CC0000",
          "width": 1
         },
         "marker": {
          "size": 1
         },
         "mode": "markers+lines",
         "showlegend": false,
         "type": "scatter",
         "x": [
          -1519.7619092111318,
          5639.977669279229,
          5639.977669279229,
          -1519.7619092111318,
          -1519.7619092111318
         ],
         "y": [
          -18.71807014168124,
          -18.71807014168124,
          14.707682504691427,
          14.707682504691427,
          -18.71807014168124
         ]
        },
        {
         "fill": "toself",
         "fillcolor": "#FF0000",
         "line": {
          "color": "#CC0000",
          "width": 1
         },
         "marker": {
          "size": 1
         },
         "mode": "markers+lines",
         "showlegend": false,
         "type": "scatter",
         "x": [
          -1676.4002086157489,
          5504.967951757327,
          5504.967951757327,
          -1676.4002086157489,
          -1676.4002086157489
         ],
         "y": [
          -8.581576830191327,
          -8.581576830191327,
          14.707682504691427,
          14.707682504691427,
          -8.581576830191327
         ]
        },
        {
         "fill": "toself",
         "fillcolor": "#FF0000",
         "line": {
          "color": "#CC0000",
          "width": 1
         },
         "marker": {
          "size": 1
         },
         "mode": "markers+lines",
         "showlegend": false,
         "type": "scatter",
         "x": [
          -1828.3924218518102,
          5366.552427522631,
          5366.552427522631,
          -1828.3924218518102,
          -1828.3924218518102
         ],
         "y": [
          -8.633936707751156,
          -8.633936707751156,
          14.655322627131596,
          14.655322627131596,
          -8.633936707751156
         ]
        },
        {
         "fill": "toself",
         "fillcolor": "#FF0000",
         "line": {
          "color": "#CC0000",
          "width": 1
         },
         "marker": {
          "size": 1
         },
         "mode": "markers+lines",
         "showlegend": false,
         "type": "scatter",
         "x": [
          -1975.321948827686,
          5225.110483905923,
          5225.110483905923,
          -1975.321948827686,
          -1975.321948827686
         ],
         "y": [
          -8.633936707751156,
          -8.633936707751156,
          14.602962749571768,
          14.602962749571768,
          -8.633936707751156
         ]
        },
        {
         "fill": "toself",
         "fillcolor": "#FF0000",
         "line": {
          "color": "#CC0000",
          "width": 1
         },
         "marker": {
          "size": 1
         },
         "mode": "markers+lines",
         "showlegend": false,
         "type": "scatter",
         "x": [
          -2116.78606592288,
          5081.029803443147,
          5081.029803443147,
          -2116.78606592288,
          -2116.78606592288
         ],
         "y": [
          -5.760396979112315,
          -5.760396979112315,
          11.572343388253437,
          11.572343388253437,
          -5.760396979112315
         ]
        },
        {
         "fill": "toself",
         "fillcolor": "#FF0000",
         "line": {
          "color": "#CC0000",
          "width": 1
         },
         "marker": {
          "size": 1
         },
         "mode": "markers+lines",
         "showlegend": false,
         "type": "scatter",
         "x": [
          -2252.3970298254867,
          4934.705301264528,
          4934.705301264528,
          -2252.3970298254867,
          -2252.3970298254867
         ],
         "y": [
          -5.812756856672144,
          -5.812756856672144,
          11.519983510693606,
          11.519983510693606,
          -5.812756856672144
         ]
        },
        {
         "fill": "toself",
         "fillcolor": "#FF0000",
         "line": {
          "color": "#CC0000",
          "width": 1
         },
         "marker": {
          "size": 1
         },
         "mode": "markers+lines",
         "showlegend": false,
         "type": "scatter",
         "x": [
          -2381.7831403096498,
          4786.538042659646,
          4786.538042659646,
          -2381.7831403096498,
          -2381.7831403096498
         ],
         "y": [
          -5.865116734231973,
          -5.865116734231973,
          11.467623633133776,
          11.467623633133776,
          -5.865116734231973
         ]
        },
        {
         "fill": "toself",
         "fillcolor": "#FF0000",
         "line": {
          "color": "#CC0000",
          "width": 1
         },
         "marker": {
          "size": 1
         },
         "mode": "markers+lines",
         "showlegend": false,
         "type": "scatter",
         "x": [
          -2504.589759040052,
          4636.9341437853545,
          4636.9341437853545,
          -2504.589759040052,
          -2504.589759040052
         ],
         "y": [
          -5.865116734231973,
          -5.865116734231973,
          11.415263755573948,
          11.415263755573948,
          -5.865116734231973
         ]
        },
        {
         "fill": "toself",
         "fillcolor": "#FF0000",
         "line": {
          "color": "#CC0000",
          "width": 1
         },
         "marker": {
          "size": 1
         },
         "mode": "markers+lines",
         "showlegend": false,
         "type": "scatter",
         "x": [
          -2620.4802816109345,
          4486.30365852963,
          4486.30365852963,
          -2620.4802816109345,
          -2620.4802816109345
         ],
         "y": [
          2.170353755611313,
          2.170353755611313,
          3.222713633051171,
          3.222713633051171,
          2.170353755611313
         ]
        },
        {
         "fill": "toself",
         "fillcolor": "#FF0000",
         "line": {
          "color": "#CC0000",
          "width": 1
         },
         "marker": {
          "size": 1
         },
         "mode": "markers+lines",
         "showlegend": false,
         "type": "scatter",
         "x": [
          -2729.137060155384,
          4335.059454582362,
          4335.059454582362,
          -2729.137060155384,
          -2729.137060155384
         ],
         "y": [
          2.1179938780514833,
          2.1179938780514833,
          3.1703537554913415,
          3.1703537554913415,
          2.1179938780514833
         ]
        },
        {
         "fill": "toself",
         "fillcolor": "#FF0000",
         "line": {
          "color": "#CC0000",
          "width": 1
         },
         "marker": {
          "size": 1
         },
         "mode": "markers+lines",
         "showlegend": false,
         "type": "scatter",
         "x": [
          -2830.26227399605,
          4183.616081793715,
          4183.616081793715,
          -2830.26227399605,
          -2830.26227399605
         ],
         "y": [
          2.0656340004916536,
          2.0656340004916536,
          3.1179938779315117,
          3.1179938779315117,
          2.0656340004916536
         ]
        },
        {
         "fill": "toself",
         "fillcolor": "#FF0000",
         "line": {
          "color": "#CC0000",
          "width": 1
         },
         "marker": {
          "size": 1
         },
         "mode": "markers+lines",
         "showlegend": false,
         "type": "scatter",
         "x": [
          -2923.578745950921,
          4032.3886359218027,
          4032.3886359218027,
          -2923.578745950921,
          -2923.578745950921
         ],
         "y": [
          2.013274122931824,
          2.013274122931824,
          3.065634000371682,
          3.065634000371682,
          2.013274122931824
         ]
        },
        {
         "fill": "toself",
         "fillcolor": "#FF0000",
         "line": {
          "color": "#CC0000",
          "width": 1
         },
         "marker": {
          "size": 1
         },
         "mode": "markers+lines",
         "showlegend": false,
         "type": "scatter",
         "x": [
          -3008.8307020567195,
          3881.791620884067,
          3881.791620884067,
          -3008.8307020567195,
          -3008.8307020567195
         ],
         "y": [
          1.9609142453719937,
          1.9609142453719937,
          3.0132741228118523,
          3.0132741228118523,
          1.9609142453719937
         ]
        },
        {
         "fill": "toself",
         "fillcolor": "#FF0000",
         "line": {
          "color": "#CC0000",
          "width": 1
         },
         "marker": {
          "size": 1
         },
         "mode": "markers+lines",
         "showlegend": false,
         "type": "scatter",
         "x": [
          -3085.7844726275484,
          3732.237812630858,
          3732.237812630858,
          -3085.7844726275484,
          -3085.7844726275484
         ],
         "y": [
          1.908554367812164,
          1.908554367812164,
          2.960914245252022,
          2.960914245252022,
          1.908554367812164
         ]
        },
        {
         "fill": "toself",
         "fillcolor": "#FF0000",
         "line": {
          "color": "#CC0000",
          "width": 1
         },
         "marker": {
          "size": 1
         },
         "mode": "markers+lines",
         "showlegend": false,
         "type": "scatter",
         "x": [
          -3154.2291327272646,
          3584.1371277552394,
          3584.1371277552394,
          -3154.2291327272646,
          -3154.2291327272646
         ],
         "y": [
          1.8561944902523342,
          1.8561944902523342,
          2.9085543676921923,
          2.9085543676921923,
          1.8561944902523342
         ]
        },
        {
         "fill": "toself",
         "fillcolor": "#FF0000",
         "line": {
          "color": "#CC0000",
          "width": 1
         },
         "marker": {
          "size": 1
         },
         "mode": "markers+lines",
         "showlegend": false,
         "type": "scatter",
         "x": [
          -3213.977080300066,
          3437.8954999401026,
          3437.8954999401026,
          -3213.977080300066,
          -3213.977080300066
         ],
         "y": [
          1.803834612692504,
          1.803834612692504,
          2.8561944901323626,
          2.8561944901323626,
          1.803834612692504
         ]
        },
        {
         "fill": "toself",
         "fillcolor": "#FF0000",
         "line": {
          "color": "#CC0000",
          "width": 1
         },
         "marker": {
          "size": 1
         },
         "mode": "markers+lines",
         "showlegend": false,
         "type": "scatter",
         "x": [
          -3264.864550374682,
          3293.91376732216,
          3293.91376732216,
          -3264.864550374682,
          -3264.864550374682
         ],
         "y": [
          1.751474735132674,
          1.751474735132674,
          2.8038346125725324,
          2.8038346125725324,
          1.751474735132674
         ]
        },
        {
         "fill": "toself",
         "fillcolor": "#FF0000",
         "line": {
          "color": "#CC0000",
          "width": 1
         },
         "marker": {
          "size": 1
         },
         "mode": "markers+lines",
         "showlegend": false,
         "type": "scatter",
         "x": [
          -3306.7520639327854,
          3152.5865738224666,
          3152.5865738224666,
          -3306.7520639327854,
          -3306.7520639327854
         ],
         "y": [
          1.699114857572844,
          1.699114857572844,
          2.751474735012703,
          2.751474735012703,
          1.699114857572844
         ]
        },
        {
         "fill": "toself",
         "fillcolor": "#FF0000",
         "line": {
          "color": "#CC0000",
          "width": 1
         },
         "marker": {
          "size": 1
         },
         "mode": "markers+lines",
         "showlegend": false,
         "type": "scatter",
         "x": [
          -3339.5248102112764,
          3014.3012874548754,
          3014.3012874548754,
          -3339.5248102112764,
          -3339.5248102112764
         ],
         "y": [
          1.6467549800130141,
          1.6467549800130141,
          2.6991148574528734,
          2.6991148574528734,
          1.6467549800130141
         ]
        },
        {
         "fill": "toself",
         "fillcolor": "#FF0000",
         "line": {
          "color": "#CC0000",
          "width": 1
         },
         "marker": {
          "size": 1
         },
         "mode": "markers+lines",
         "showlegend": false,
         "type": "scatter",
         "x": [
          -3363.0929613906137,
          2879.436938577225,
          2879.436938577225,
          -3363.0929613906137,
          -3363.0929613906137
         ],
         "y": [
          1.5943951024531844,
          1.5943951024531844,
          2.6467549798930436,
          2.6467549798930436,
          1.5943951024531844
         ]
        },
        {
         "fill": "toself",
         "fillcolor": "#FF0000",
         "line": {
          "color": "#CC0000",
          "width": 1
         },
         "marker": {
          "size": 1
         },
         "mode": "markers+lines",
         "showlegend": false,
         "type": "scatter",
         "x": [
          -3377.3919188066143,
          2748.363180995485,
          2748.363180995485,
          -3377.3919188066143,
          -3377.3919188066143
         ],
         "y": [
          1.5420352248933547,
          1.5420352248933547,
          2.5943951023332144,
          2.5943951023332144,
          1.5420352248933547
         ]
        },
        {
         "fill": "toself",
         "fillcolor": "#FF0000",
         "line": {
          "color": "#CC0000",
          "width": 1
         },
         "marker": {
          "size": 1
         },
         "mode": "markers+lines",
         "showlegend": false,
         "type": "scatter",
         "x": [
          -3382.382490010911,
          2621.4392787683605,
          2621.4392787683605,
          -3382.382490010911,
          -3382.382490010911
         ],
         "y": [
          1.4896753473335247,
          1.4896753473335247,
          2.542035224773384,
          2.542035224773384,
          1.4896753473335247
         ]
        },
        {
         "fill": "toself",
         "fillcolor": "#FF0000",
         "line": {
          "color": "#CC0000",
          "width": 1
         },
         "marker": {
          "size": 1
         },
         "mode": "markers+lines",
         "showlegend": false,
         "type": "scatter",
         "x": [
          -3382.382490010911,
          2499.0131214894845,
          2499.0131214894845,
          -3382.382490010911,
          -3382.382490010911
         ],
         "y": [
          1.4373154697736945,
          1.4373154697736945,
          2.4896753472135544,
          2.4896753472135544,
          1.4373154697736945
         ]
        },
        {
         "fill": "toself",
         "fillcolor": "#FF0000",
         "line": {
          "color": "#CC0000",
          "width": 1
         },
         "marker": {
          "size": 1
         },
         "mode": "markers+lines",
         "showlegend": false,
         "type": "scatter",
         "x": [
          -3378.0509961947237,
          2381.42027074622,
          2381.42027074622,
          -3378.0509961947237,
          -3378.0509961947237
         ],
         "y": [
          1.3849555922138643,
          1.3849555922138643,
          2.4373154696537247,
          2.4373154696537247,
          1.3849555922138643
         ]
        },
        {
         "fill": "toself",
         "fillcolor": "#FF0000",
         "line": {
          "color": "#CC0000",
          "width": 1
         },
         "marker": {
          "size": 1
         },
         "mode": "markers+lines",
         "showlegend": false,
         "type": "scatter",
         "x": [
          -3364.4093096815222,
          2268.9830403686765,
          2268.9830403686765,
          -3364.4093096815222,
          -3364.4093096815222
         ],
         "y": [
          1.3325957146540346,
          1.3325957146540346,
          2.384955592093895,
          2.384955592093895,
          1.3325957146540346
         ]
        },
        {
         "fill": "toself",
         "fillcolor": "#FF0000",
         "line": {
          "color": "#CC0000",
          "width": 1
         },
         "marker": {
          "size": 1
         },
         "mode": "markers+lines",
         "showlegend": false,
         "type": "scatter",
         "x": [
          -3341.494821385819,
          2162.009612989901,
          2162.009612989901,
          -3341.494821385819,
          -3341.494821385819
         ],
         "y": [
          1.2802358370942044,
          1.2802358370942044,
          2.332595714534065,
          2.332595714534065,
          1.2802358370942044
         ]
        },
        {
         "fill": "toself",
         "fillcolor": "#FF0000",
         "line": {
          "color": "#CC0000",
          "width": 1
         },
         "marker": {
          "size": 1
         },
         "mode": "markers+lines",
         "showlegend": false,
         "type": "scatter",
         "x": [
          -3309.370338327264,
          2060.7931953387088,
          2060.7931953387088,
          -3309.370338327264,
          -3309.370338327264
         ],
         "y": [
          1.2278759595343742,
          1.2278759595343742,
          2.280235836974235,
          2.280235836974235,
          1.2278759595343742
         ]
        },
        {
         "fill": "toself",
         "fillcolor": "#FF0000",
         "line": {
          "color": "#CC0000",
          "width": 1
         },
         "marker": {
          "size": 1
         },
         "mode": "markers+lines",
         "showlegend": false,
         "type": "scatter",
         "x": [
          -3268.1239114809778,
          1965.6112145804136,
          1965.6112145804136,
          -3268.1239114809778,
          -3268.1239114809778
         ],
         "y": [
          1.1755160819745443,
          1.1755160819745443,
          2.2278759594144053,
          2.2278759594144053,
          1.1755160819745443
         ]
        },
        {
         "fill": "toself",
         "fillcolor": "#FF0000",
         "line": {
          "color": "#CC0000",
          "width": 1
         },
         "marker": {
          "size": 1
         },
         "mode": "markers+lines",
         "showlegend": false,
         "type": "scatter",
         "x": [
          -3217.8685944359395,
          1876.7245579082555,
          1876.7245579082555,
          -3217.8685944359395,
          -3217.8685944359395
         ],
         "y": [
          1.1231562044147143,
          1.1231562044147143,
          2.1755160818545756,
          2.1755160818545756,
          1.1231562044147143
         ]
        },
        {
         "fill": "toself",
         "fillcolor": "#FF0000",
         "line": {
          "color": "#CC0000",
          "width": 1
         },
         "marker": {
          "size": 1
         },
         "mode": "markers+lines",
         "showlegend": false,
         "type": "scatter",
         "x": [
          -3158.742133522968,
          1794.3768574697392,
          1794.3768574697392,
          -3158.742133522968,
          -3158.742133522968
         ],
         "y": [
          1.0707963268548844,
          1.0707963268548844,
          2.1231562042947454,
          2.1231562042947454,
          1.0707963268548844
         ]
        },
        {
         "fill": "toself",
         "fillcolor": "#FF0000",
         "line": {
          "color": "#CC0000",
          "width": 1
         },
         "marker": {
          "size": 1
         },
         "mode": "markers+lines",
         "showlegend": false,
         "type": "scatter",
         "x": [
          -3090.906590261593,
          1718.7938225878452,
          1718.7938225878452,
          -3090.906590261593,
          -3090.906590261593
         ],
         "y": [
          1.0184364492950544,
          1.0184364492950544,
          2.070796326734915,
          2.070796326734915,
          1.0184364492950544
         ]
        },
        {
         "fill": "toself",
         "fillcolor": "#FF0000",
         "line": {
          "color": "#CC0000",
          "width": 1
         },
         "marker": {
          "size": 1
         },
         "mode": "markers+lines",
         "showlegend": false,
         "type": "scatter",
         "x": [
          -3014.547897160706,
          1650.1826211074754,
          1650.1826211074754,
          -3014.547897160706,
          -3014.547897160706
         ],
         "y": [
          0.9660765717352244,
          0.9660765717352244,
          2.0184364491750855,
          2.0184364491750855,
          0.9660765717352244
         ]
        },
        {
         "fill": "toself",
         "fillcolor": "#FF0000",
         "line": {
          "color": "#CC0000",
          "width": 1
         },
         "marker": {
          "size": 1
         },
         "mode": "markers+lines",
         "showlegend": false,
         "type": "scatter",
         "x": [
          -2929.875348090466,
          1588.7313115627785,
          1588.7313115627785,
          -2929.875348090466,
          -2929.875348090466
         ],
         "y": [
          0.9137166941753946,
          0.9137166941753946,
          1.9660765716152555,
          1.9660765716152555,
          0.9137166941753946
         ]
        },
        {
         "fill": "toself",
         "fillcolor": "#FF0000",
         "line": {
          "color": "#CC0000",
          "width": 1
         },
         "marker": {
          "size": 1
         },
         "mode": "markers+lines",
         "showlegend": false,
         "type": "scatter",
         "x": [
          -2837.12102462236,
          1534.6083277217904,
          1534.6083277217904,
          -2837.12102462236,
          -2837.12102462236
         ],
         "y": [
          0.8613568166155646,
          0.8613568166155646,
          1.9137166940554255,
          1.9137166940554255,
          0.8613568166155646
         ]
        },
        {
         "fill": "toself",
         "fillcolor": "#FF0000",
         "line": {
          "color": "#CC0000",
          "width": 1
         },
         "marker": {
          "size": 1
         },
         "mode": "markers+lines",
         "showlegend": false,
         "type": "scatter",
         "x": [
          -2736.539159909739,
          1487.9620169211753,
          1487.9620169211753,
          -2736.539159909739,
          -2736.539159909739
         ],
         "y": [
          0.8089969390557347,
          0.8089969390557347,
          1.8613568164955954,
          1.8613568164955954,
          0.8089969390557347
         ]
        },
        {
         "fill": "toself",
         "fillcolor": "#FF0000",
         "line": {
          "color": "#CC0000",
          "width": 1
         },
         "marker": {
          "size": 1
         },
         "mode": "markers+lines",
         "showlegend": false,
         "type": "scatter",
         "x": [
          -2628.4054418524206,
          1448.9202334564934,
          1448.9202334564934,
          -2628.4054418524206,
          -2628.4054418524206
         ],
         "y": [
          0.7566370614959048,
          0.7566370614959048,
          1.8089969389357656,
          1.8089969389357656,
          0.7566370614959048
         ]
        },
        {
         "fill": "toself",
         "fillcolor": "#FF0000",
         "line": {
          "color": "#CC0000",
          "width": 1
         },
         "marker": {
          "size": 1
         },
         "mode": "markers+lines",
         "showlegend": false,
         "type": "scatter",
         "x": [
          -2513.016257455318,
          1417.5899881424605,
          1417.5899881424605,
          -2513.016257455318,
          -2513.016257455318
         ],
         "y": [
          0.7042771839360749,
          0.7042771839360749,
          1.7566370613759354,
          1.7566370613759354,
          0.7042771839360749
         ]
        },
        {
         "fill": "toself",
         "fillcolor": "#FF0000",
         "line": {
          "color": "#CC0000",
          "width": 1
         },
         "marker": {
          "size": 1
         },
         "mode": "markers+lines",
         "showlegend": false,
         "type": "scatter",
         "x": [
          -2390.68788045226,
          1394.057155003743,
          1394.057155003743,
          -2390.68788045226,
          -2390.68788045226
         ],
         "y": [
          0.6519173063762449,
          0.6519173063762449,
          1.7042771838161055,
          1.7042771838161055,
          0.6519173063762449
         ]
        },
        {
         "fill": "toself",
         "fillcolor": "#FF0000",
         "line": {
          "color": "#CC0000",
          "width": 1
         },
         "marker": {
          "size": 1
         },
         "mode": "markers+lines",
         "showlegend": false,
         "type": "scatter",
         "x": [
          -2261.755604421669,
          1378.3862359002271,
          1378.3862359002271,
          -2261.755604421669,
          -2261.755604421669
         ],
         "y": [
          0.5995574288164152,
          0.5995574288164152,
          1.6519173062562755,
          1.6519173062562755,
          0.5995574288164152
         ]
        },
        {
         "fill": "toself",
         "fillcolor": "#FF0000",
         "line": {
          "color": "#CC0000",
          "width": 1
         },
         "marker": {
          "size": 1
         },
         "mode": "markers+lines",
         "showlegend": false,
         "type": "scatter",
         "x": [
          -2126.5728237701746,
          1370.7802847079538,
          1370.7802847079538,
          -2126.5728237701746,
          -2126.5728237701746
         ],
         "y": [
          0.5471975512565852,
          0.5471975512565852,
          1.5995574286964453,
          1.5995574286964453,
          0.5471975512565852
         ]
        },
        {
         "fill": "toself",
         "fillcolor": "#FF0000",
         "line": {
          "color": "#CC0000",
          "width": 1
         },
         "marker": {
          "size": 1
         },
         "mode": "markers+lines",
         "showlegend": false,
         "type": "scatter",
         "x": [
          -1985.5100651031003,
          1378.8661000027314,
          1378.8661000027314,
          -1985.5100651031003,
          -1985.5100651031003
         ],
         "y": [
          0.4948376736967552,
          0.4948376736967552,
          1.5471975511366154,
          1.5471975511366154,
          0.4948376736967552
         ]
        },
        {
         "fill": "toself",
         "fillcolor": "#FF0000",
         "line": {
          "color": "#CC0000",
          "width": 1
         },
         "marker": {
          "size": 1
         },
         "mode": "markers+lines",
         "showlegend": false,
         "type": "scatter",
         "x": [
          -1838.9539716368026,
          1394.8554669585512,
          1394.8554669585512,
          -1838.9539716368026,
          -1838.9539716368026
         ],
         "y": [
          0.4424777961369252,
          0.4424777961369252,
          1.4948376735767854,
          1.4948376735767854,
          0.4424777961369252
         ]
        },
        {
         "fill": "toself",
         "fillcolor": "#FF0000",
         "line": {
          "color": "#CC0000",
          "width": 1
         },
         "marker": {
          "size": 1
         },
         "mode": "markers+lines",
         "showlegend": false,
         "type": "scatter",
         "x": [
          -1687.3062434364826,
          1418.7045598319942,
          1418.7045598319942,
          -1687.3062434364826,
          -1687.3062434364826
         ],
         "y": [
          0.3901179185770953,
          0.3901179185770953,
          1.4424777960169555,
          1.4424777960169555,
          0.3901179185770953
         ]
        },
        {
         "fill": "toself",
         "fillcolor": "#FF0000",
         "line": {
          "color": "#CC0000",
          "width": 1
         },
         "marker": {
          "size": 1
         },
         "mode": "markers+lines",
         "showlegend": false,
         "type": "scatter",
         "x": [
          -1530.982536384232,
          1450.348009917225,
          1450.348009917225,
          -1530.982536384232,
          -1530.982536384232
         ],
         "y": [
          0.33775804101726553,
          0.33775804101726553,
          1.3901179184571255,
          1.3901179184571255,
          0.33775804101726553
         ]
        },
        {
         "fill": "toself",
         "fillcolor": "#FF0000",
         "line": {
          "color": "#CC0000",
          "width": 1
         },
         "marker": {
          "size": 1
         },
         "mode": "markers+lines",
         "showlegend": false,
         "type": "scatter",
         "x": [
          -1370.4113228951549,
          1489.6990847170691,
          1489.6990847170691,
          -1370.4113228951549,
          -1370.4113228951549
         ],
         "y": [
          0.28539816345743557,
          0.28539816345743557,
          1.3377580408972956,
          1.3377580408972956,
          0.28539816345743557
         ]
        },
        {
         "fill": "toself",
         "fillcolor": "#FF0000",
         "line": {
          "color": "#CC0000",
          "width": 1
         },
         "marker": {
          "size": 1
         },
         "mode": "markers+lines",
         "showlegend": false,
         "type": "scatter",
         "x": [
          -1206.0327175042562,
          1536.6499256707593,
          1536.6499256707593,
          -1206.0327175042562,
          -1206.0327175042562
         ],
         "y": [
          0.23303828589760578,
          0.23303828589760578,
          1.2853981633374658,
          1.2853981633374658,
          0.23303828589760578
         ]
        },
        {
         "fill": "toself",
         "fillcolor": "#FF0000",
         "line": {
          "color": "#CC0000",
          "width": 1
         },
         "marker": {
          "size": 1
         },
         "mode": "markers+lines",
         "showlegend": false,
         "type": "scatter",
         "x": [
          -1038.2972705430948,
          1591.0718437867554,
          1591.0718437867554,
          -1038.2972705430948,
          -1038.2972705430948
         ],
         "y": [
          0.18067840833777582,
          0.18067840833777582,
          1.2330382857776359,
          1.2330382857776359,
          0.18067840833777582
         ]
        },
        {
         "fill": "toself",
         "fillcolor": "#FF0000",
         "line": {
          "color": "#CC0000",
          "width": 1
         },
         "marker": {
          "size": 1
         },
         "mode": "markers+lines",
         "showlegend": false,
         "type": "scatter",
         "x": [
          -867.6647332126445,
          1652.8156723703219,
          1652.8156723703219,
          -867.6647332126445,
          -867.6647332126445
         ],
         "y": [
          0.12831853077794586,
          0.12831853077794586,
          1.1806784082178061,
          1.1806784082178061,
          0.12831853077794586
         ]
        },
        {
         "fill": "toself",
         "fillcolor": "#FF0000",
         "line": {
          "color": "#CC0000",
          "width": 1
         },
         "marker": {
          "size": 1
         },
         "mode": "markers+lines",
         "showlegend": false,
         "type": "scatter",
         "x": [
          -694.602797437205,
          1721.7121758790724,
          1721.7121758790724,
          -694.602797437205,
          -694.602797437205
         ],
         "y": [
          0.07595865321811596,
          0.07595865321811596,
          1.128318530657976,
          1.128318530657976,
          0.07595865321811596
         ]
        },
        {
         "fill": "toself",
         "fillcolor": "#FF0000",
         "line": {
          "color": "#CC0000",
          "width": 1
         },
         "marker": {
          "size": 1
         },
         "mode": "markers+lines",
         "showlegend": false,
         "type": "scatter",
         "x": [
          -519.5858139533495,
          1797.5725137858262,
          1797.5725137858262,
          -519.5858139533495,
          -519.5858139533495
         ],
         "y": [
          0.023598775658285998,
          0.023598775658285998,
          1.075958653098146,
          1.075958653098146,
          0.023598775658285998
         ]
        },
        {
         "fill": "toself",
         "fillcolor": "#FF0000",
         "line": {
          "color": "#CC0000",
          "width": 1
         },
         "marker": {
          "size": 1
         },
         "mode": "markers+lines",
         "showlegend": false,
         "type": "scatter",
         "x": [
          -343.09349214752547,
          1880.188758177369,
          1880.188758177369,
          -343.09349214752547,
          -343.09349214752547
         ],
         "y": [
          -0.028761101901543684,
          -0.028761101901543684,
          1.023598775538316,
          1.023598775538316,
          -0.028761101901543684
         ]
        },
        {
         "fill": "toself",
         "fillcolor": "#FF0000",
         "line": {
          "color": "#CC0000",
          "width": 1
         },
         "marker": {
          "size": 1
         },
         "mode": "markers+lines",
         "showlegend": false,
         "type": "scatter",
         "x": [
          -165.60958520597194,
          1969.3344636704082,
          1969.3344636704082,
          -165.60958520597194,
          -165.60958520597194
         ],
         "y": [
          -0.08112097946137348,
          -0.08112097946137348,
          0.9712388979784862,
          0.9712388979784862,
          -0.08112097946137348
         ]
        },
        {
         "fill": "toself",
         "fillcolor": "#FF0000",
         "line": {
          "color": "#CC0000",
          "width": 1
         },
         "marker": {
          "size": 1
         },
         "mode": "markers+lines",
         "showlegend": false,
         "type": "scatter",
         "x": [
          12.379435819138621,
          2064.765288082629,
          2064.765288082629,
          12.379435819138621,
          12.379435819138621
         ],
         "y": [
          -0.13348085702120338,
          -0.13348085702120338,
          0.9188790204186563,
          0.9188790204186563,
          -0.13348085702120338
         ]
        },
        {
         "fill": "toself",
         "fillcolor": "#FF0000",
         "line": {
          "color": "#CC0000",
          "width": 1
         },
         "marker": {
          "size": 1
         },
         "mode": "markers+lines",
         "showlegend": false,
         "type": "scatter",
         "x": [
          190.3857153930428,
          2166.219662157633,
          2166.219662157633,
          190.3857153930428,
          190.3857153930428
         ],
         "y": [
          -0.18584073458103328,
          -0.18584073458103328,
          0.8665191428588265,
          0.8665191428588265,
          -0.18584073458103328
         ]
        },
        {
         "fill": "toself",
         "fillcolor": "#FF0000",
         "line": {
          "color": "#CC0000",
          "width": 1
         },
         "marker": {
          "size": 1
         },
         "mode": "markers+lines",
         "showlegend": false,
         "type": "scatter",
         "x": [
          367.92135067649235,
          2273.4195065080876,
          2273.4195065080876,
          367.92135067649235,
          367.92135067649235
         ],
         "y": [
          -0.2382006121408632,
          -0.2382006121408632,
          0.8141592652989964,
          0.8141592652989964,
          -0.2382006121408632
         ]
        },
        {
         "fill": "toself",
         "fillcolor": "#FF0000",
         "line": {
          "color": "#CC0000",
          "width": 1
         },
         "marker": {
          "size": 1
         },
         "mode": "markers+lines",
         "showlegend": false,
         "type": "scatter",
         "x": [
          544.4997288335265,
          2386.070993811998,
          2386.070993811998,
          544.4997288335265,
          544.4997288335265
         ],
         "y": [
          -0.2905604897006929,
          -0.2905604897006929,
          0.7617993877391666,
          0.7617993877391666,
          -0.2905604897006929
         ]
        },
        {
         "fill": "toself",
         "fillcolor": "#FF0000",
         "line": {
          "color": "#CC0000",
          "width": 1
         },
         "marker": {
          "size": 1
         },
         "mode": "markers+lines",
         "showlegend": false,
         "type": "scatter",
         "x": [
          719.6368608034293,
          2503.8653541729736,
          2503.8653541729736,
          719.6368608034293,
          719.6368608034293
         ],
         "y": [
          -0.3429203672605229,
          -0.3429203672605229,
          0.7094395101793367,
          0.7094395101793367,
          -0.3429203672605229
         ]
        },
        {
         "fill": "toself",
         "fillcolor": "#FF0000",
         "line": {
          "color": "#CC0000",
          "width": 1
         },
         "marker": {
          "size": 1
         },
         "mode": "markers+lines",
         "showlegend": false,
         "type": "scatter",
         "x": [
          892.852707881104,
          2626.4797214370506,
          2626.4797214370506,
          892.852707881104,
          892.852707881104
         ],
         "y": [
          -0.3952802448203526,
          -0.3952802448203526,
          0.6570796326195067,
          0.6570796326195067,
          -0.3952802448203526
         ]
        },
        {
         "fill": "toself",
         "fillcolor": "#FF0000",
         "line": {
          "color": "#CC0000",
          "width": 1
         },
         "marker": {
          "size": 1
         },
         "mode": "markers+lines",
         "showlegend": false,
         "type": "scatter",
         "x": [
          1063.6724974697963,
          2761.9051608062005,
          2761.9051608062005,
          1063.6724974697963,
          1063.6724974697963
         ],
         "y": [
          -0.4476401223801824,
          -0.4476401223801824,
          0.6047197550596768,
          0.6047197550596768,
          -0.4476401223801824
         ]
        },
        {
         "fill": "toself",
         "fillcolor": "#FF0000",
         "line": {
          "color": "#CC0000",
          "width": 1
         },
         "marker": {
          "size": 1
         },
         "mode": "markers+lines",
         "showlegend": false,
         "type": "scatter",
         "x": [
          1223.300881739959,
          2904.4098017372426,
          2904.4098017372426,
          1223.300881739959,
          1223.300881739959
         ],
         "y": [
          -0.4999999999400123,
          -0.4999999999400123,
          0.5523598774998468,
          0.5523598774998468,
          -0.4999999999400123
         ]
        },
        {
         "fill": "toself",
         "fillcolor": "#FF0000",
         "line": {
          "color": "#CC0000",
          "width": 1
         },
         "marker": {
          "size": 1
         },
         "mode": "markers+lines",
         "showlegend": false,
         "type": "scatter",
         "x": [
          1376.6610092131177,
          3061.3647919579366,
          3061.3647919579366,
          1376.6610092131177,
          1376.6610092131177
         ],
         "y": [
          -0.5523598774998421,
          -0.5523598774998421,
          0.499999999940017,
          0.499999999940017,
          -0.5523598774998421
         ]
        },
        {
         "fill": "toself",
         "fillcolor": "#FF0000",
         "line": {
          "color": "#CC0000",
          "width": 1
         },
         "marker": {
          "size": 1
         },
         "mode": "markers+lines",
         "showlegend": false,
         "type": "scatter",
         "x": [
          1515.5707873966244,
          3219.586858250735,
          3219.586858250735,
          1515.5707873966244,
          1515.5707873966244
         ],
         "y": [
          -0.604719755059672,
          -0.604719755059672,
          0.447640122380187,
          0.447640122380187,
          -0.604719755059672
         ]
        },
        {
         "fill": "toself",
         "fillcolor": "#FF0000",
         "line": {
          "color": "#CC0000",
          "width": 1
         },
         "marker": {
          "size": 1
         },
         "mode": "markers+lines",
         "showlegend": false,
         "type": "scatter",
         "x": [
          1652.402544743139,
          3378.6423248865735,
          3378.6423248865735,
          1652.402544743139,
          1652.402544743139
         ],
         "y": [
          -0.6570796326195018,
          -0.6570796326195018,
          0.3952802448203571,
          0.3952802448203571,
          -0.6570796326195018
         ]
        },
        {
         "fill": "toself",
         "fillcolor": "#FF0000",
         "line": {
          "color": "#CC0000",
          "width": 1
         },
         "marker": {
          "size": 1
         },
         "mode": "markers+lines",
         "showlegend": false,
         "type": "scatter",
         "x": [
          1786.7812349600695,
          3538.095231887214,
          3538.095231887214,
          1786.7812349600695,
          1786.7812349600695
         ],
         "y": [
          -0.7094395101793317,
          -0.7094395101793317,
          0.3429203672605272,
          0.3429203672605272,
          -0.7094395101793317
         ]
        },
        {
         "fill": "toself",
         "fillcolor": "#FF0000",
         "line": {
          "color": "#CC0000",
          "width": 1
         },
         "marker": {
          "size": 1
         },
         "mode": "markers+lines",
         "showlegend": false,
         "type": "scatter",
         "x": [
          1918.3385353980793,
          3697.5085299180037,
          3697.5085299180037,
          1918.3385353980793,
          1918.3385353980793
         ],
         "y": [
          -0.7617993877391616,
          -0.7617993877391616,
          0.29056048970069726,
          0.29056048970069726,
          -0.7617993877391616
         ]
        },
        {
         "fill": "toself",
         "fillcolor": "#FF0000",
         "line": {
          "color": "#CC0000",
          "width": 1
         },
         "marker": {
          "size": 1
         },
         "mode": "markers+lines",
         "showlegend": false,
         "type": "scatter",
         "x": [
          2046.7138566411031,
          3856.4452782097214,
          3856.4452782097214,
          2046.7138566411031,
          2046.7138566411031
         ],
         "y": [
          -0.8141592652989914,
          -0.8141592652989914,
          0.2382006121408674,
          0.2382006121408674,
          -0.8141592652989914
         ]
        },
        {
         "fill": "toself",
         "fillcolor": "#FF0000",
         "line": {
          "color": "#CC0000",
          "width": 1
         },
         "marker": {
          "size": 1
         },
         "mode": "markers+lines",
         "showlegend": false,
         "type": "scatter",
         "x": [
          2171.555330856874,
          4014.4698421828593,
          4014.4698421828593,
          2171.555330856874,
          2171.555330856874
         ],
         "y": [
          -0.8665191428588213,
          -0.8665191428588213,
          0.18584073458103756,
          0.18584073458103756,
          -0.8665191428588213
         ]
        },
        {
         "fill": "toself",
         "fillcolor": "#FF0000",
         "line": {
          "color": "#CC0000",
          "width": 1
         },
         "marker": {
          "size": 1
         },
         "mode": "markers+lines",
         "showlegend": false,
         "type": "scatter",
         "x": [
          2292.52077624219,
          4171.149087491718,
          4171.149087491718,
          2292.52077624219,
          2292.52077624219
         ],
         "y": [
          -0.9188790204186511,
          -0.9188790204186511,
          0.1334808570212076,
          0.1334808570212076,
          -0.9188790204186511
         ]
        },
        {
         "fill": "toself",
         "fillcolor": "#FF0000",
         "line": {
          "color": "#CC0000",
          "width": 1
         },
         "marker": {
          "size": 1
         },
         "mode": "markers+lines",
         "showlegend": false,
         "type": "scatter",
         "x": [
          2409.2786349194566,
          4326.053567215548,
          4326.053567215548,
          2409.2786349194566,
          2409.2786349194566
         ],
         "y": [
          -0.9712388979784808,
          -0.9712388979784808,
          0.08112097946137775,
          0.08112097946137775,
          -0.9712388979784808
         ]
        },
        {
         "fill": "toself",
         "fillcolor": "#FF0000",
         "line": {
          "color": "#CC0000",
          "width": 1
         },
         "marker": {
          "size": 1
         },
         "mode": "markers+lines",
         "showlegend": false,
         "type": "scatter",
         "x": [
          2521.5088817137766,
          4478.758698942705,
          4478.758698942705,
          2521.5088817137766,
          2521.5088817137766
         ],
         "y": [
          -1.0235987755383107,
          -1.0235987755383107,
          0.028761101901547792,
          0.028761101901547792,
          -1.0235987755383107
         ]
        },
        {
         "fill": "toself",
         "fillcolor": "#FF0000",
         "line": {
          "color": "#CC0000",
          "width": 1
         },
         "marker": {
          "size": 1
         },
         "mode": "markers+lines",
         "showlegend": false,
         "type": "scatter",
         "x": [
          2628.9039013197166,
          4628.845928521528,
          4628.845928521528,
          2628.9039013197166,
          2628.9039013197166
         ],
         "y": [
          -1.0759586530981406,
          -1.0759586530981406,
          -0.023598775658282056,
          -0.023598775658282056,
          -1.0759586530981406
         ]
        },
        {
         "fill": "toself",
         "fillcolor": "#FF0000",
         "line": {
          "color": "#CC0000",
          "width": 1
         },
         "marker": {
          "size": 1
         },
         "mode": "markers+lines",
         "showlegend": false,
         "type": "scatter",
         "x": [
          2731.169331453473,
          4788.15082386578,
          4788.15082386578,
          2731.169331453473,
          2731.169331453473
         ],
         "y": [
          -1.1283185306579706,
          -1.1283185306579706,
          -0.0759586532181118,
          -0.0759586532181118,
          -1.1283185306579706
         ]
        },
        {
         "fill": "toself",
         "fillcolor": "#FF0000",
         "line": {
          "color": "#CC0000",
          "width": 1
         },
         "marker": {
          "size": 1
         },
         "mode": "markers+lines",
         "showlegend": false,
         "type": "scatter",
         "x": [
          2815.7779231018276,
          4955.346760841595,
          4955.346760841595,
          2815.7779231018276,
          2815.7779231018276
         ],
         "y": [
          -1.1806784082178006,
          -1.1806784082178006,
          -0.12831853077794164,
          -0.12831853077794164,
          -1.1806784082178006
         ]
        },
        {
         "fill": "toself",
         "fillcolor": "#FF0000",
         "line": {
          "color": "#CC0000",
          "width": 1
         },
         "marker": {
          "size": 1
         },
         "mode": "markers+lines",
         "showlegend": false,
         "type": "scatter",
         "x": [
          2883.387750485019,
          5120.407372043783,
          5120.407372043783,
          2883.387750485019,
          2883.387750485019
         ],
         "y": [
          -1.2330382857776305,
          -1.2330382857776305,
          -0.18067840833777166,
          -0.18067840833777166,
          -1.2330382857776305
         ]
        },
        {
         "fill": "toself",
         "fillcolor": "#FF0000",
         "line": {
          "color": "#CC0000",
          "width": 1
         },
         "marker": {
          "size": 1
         },
         "mode": "markers+lines",
         "showlegend": false,
         "type": "scatter",
         "x": [
          2943.3815947292787,
          5282.880237810259,
          5282.880237810259,
          2943.3815947292787,
          2943.3815947292787
         ],
         "y": [
          -1.2853981633374607,
          -1.2853981633374607,
          -0.23303828589760156,
          -0.23303828589760156,
          -1.2853981633374607
         ]
        },
        {
         "fill": "toself",
         "fillcolor": "#FF0000",
         "line": {
          "color": "#CC0000",
          "width": 1
         },
         "marker": {
          "size": 1
         },
         "mode": "markers+lines",
         "showlegend": false,
         "type": "scatter",
         "x": [
          2995.5950168776544,
          5442.320031309309,
          5442.320031309309,
          2995.5950168776544,
          2995.5950168776544
         ],
         "y": [
          -1.3377580408972904,
          -1.3377580408972904,
          -0.2853981634574313,
          -0.2853981634574313,
          -1.3377580408972904
         ]
        },
        {
         "fill": "toself",
         "fillcolor": "#FF0000",
         "line": {
          "color": "#CC0000",
          "width": 1
         },
         "marker": {
          "size": 1
         },
         "mode": "markers+lines",
         "showlegend": false,
         "type": "scatter",
         "x": [
          3039.8849035693493,
          5598.289739149476,
          5598.289739149476,
          3039.8849035693493,
          3039.8849035693493
         ],
         "y": [
          -1.3901179184571204,
          -1.3901179184571204,
          -0.33775804101726115,
          -0.33775804101726115,
          -1.3901179184571204
         ]
        },
        {
         "fill": "toself",
         "fillcolor": "#FF0000",
         "line": {
          "color": "#CC0000",
          "width": 1
         },
         "marker": {
          "size": 1
         },
         "mode": "markers+lines",
         "showlegend": false,
         "type": "scatter",
         "x": [
          3076.129859303491,
          5750.3618592028915,
          5750.3618592028915,
          3076.129859303491,
          3076.129859303491
         ],
         "y": [
          -1.4424777960169504,
          -1.4424777960169504,
          -0.39011791857709105,
          -0.39011791857709105,
          -1.4424777960169504
         ]
        },
        {
         "fill": "toself",
         "fillcolor": "#FF0000",
         "line": {
          "color": "#CC0000",
          "width": 1
         },
         "marker": {
          "size": 1
         },
         "mode": "markers+lines",
         "showlegend": false,
         "type": "scatter",
         "x": [
          3104.23053917577,
          5898.119572358892,
          5898.119572358892,
          3104.23053917577,
          3104.23053917577
         ],
         "y": [
          -1.4948376735767805,
          -1.4948376735767805,
          -0.442477796136921,
          -0.442477796136921,
          -1.4948376735767805
         ]
        },
        {
         "fill": "toself",
         "fillcolor": "#FF0000",
         "line": {
          "color": "#CC0000",
          "width": 1
         },
         "marker": {
          "size": 1
         },
         "mode": "markers+lines",
         "showlegend": false,
         "type": "scatter",
         "x": [
          3124.1099211759097,
          6041.157884996232,
          6041.157884996232,
          3124.1099211759097,
          3124.1099211759097
         ],
         "y": [
          -1.5471975511366105,
          -1.5471975511366105,
          -0.49483767369675086,
          -0.49483767369675086,
          -1.5471975511366105
         ]
        },
        {
         "fill": "toself",
         "fillcolor": "#FF0000",
         "line": {
          "color": "#CC0000",
          "width": 1
         },
         "marker": {
          "size": 1
         },
         "mode": "markers+lines",
         "showlegend": false,
         "type": "scatter",
         "x": [
          3135.713517299648,
          6179.084739042441,
          6179.084739042441,
          3135.713517299648,
          3135.713517299648
         ],
         "y": [
          -1.5995574286964407,
          -1.5995574286964407,
          -0.5471975512565808,
          -0.5471975512565808,
          -1.5995574286964407
         ]
        },
        {
         "fill": "toself",
         "fillcolor": "#FF0000",
         "line": {
          "color": "#CC0000",
          "width": 1
         },
         "marker": {
          "size": 1
         },
         "mode": "markers+lines",
         "showlegend": false,
         "type": "scatter",
         "x": [
          3133.9889038444203,
          6311.522086577757,
          6311.522086577757,
          3133.9889038444203,
          3133.9889038444203
         ],
         "y": [
          -1.6519173062562704,
          -1.6519173062562704,
          -0.5995574288164105,
          -0.5995574288164105,
          -1.6519173062562704
         ]
        },
        {
         "fill": "toself",
         "fillcolor": "#FF0000",
         "line": {
          "color": "#CC0000",
          "width": 1
         },
         "marker": {
          "size": 1
         },
         "mode": "markers+lines",
         "showlegend": false,
         "type": "scatter",
         "x": [
          3120.6654213110596,
          6438.106926038192,
          6438.106926038192,
          3120.6654213110596,
          3120.6654213110596
         ],
         "y": [
          -1.7042771838161004,
          -1.7042771838161004,
          -0.6519173063762402,
          -0.6519173063762402,
          -1.7042771838161004
         ]
        },
        {
         "fill": "toself",
         "fillcolor": "#FF0000",
         "line": {
          "color": "#CC0000",
          "width": 1
         },
         "marker": {
          "size": 1
         },
         "mode": "markers+lines",
         "showlegend": false,
         "type": "scatter",
         "x": [
          3099.075594036004,
          6558.492297177591,
          6558.492297177591,
          3099.075594036004,
          3099.075594036004
         ],
         "y": [
          -1.7566370613759303,
          -1.7566370613759303,
          -0.7042771839360702,
          -0.7042771839360702,
          -1.7566370613759303
         ]
        },
        {
         "fill": "toself",
         "fillcolor": "#FF0000",
         "line": {
          "color": "#CC0000",
          "width": 1
         },
         "marker": {
          "size": 1
         },
         "mode": "markers+lines",
         "showlegend": false,
         "type": "scatter",
         "x": [
          3069.2785982351197,
          6672.348232061546,
          6672.348232061546,
          3069.2785982351197,
          3069.2785982351197
         ],
         "y": [
          -1.8089969389357603,
          -1.8089969389357603,
          -0.7566370614959002,
          -0.7566370614959002,
          -1.8089969389357603
         ]
        },
        {
         "fill": "toself",
         "fillcolor": "#FF0000",
         "line": {
          "color": "#CC0000",
          "width": 1
         },
         "marker": {
          "size": 1
         },
         "mode": "markers+lines",
         "showlegend": false,
         "type": "scatter",
         "x": [
          3031.356105402736,
          6779.362659486567,
          6779.362659486567,
          3031.356105402736,
          3031.356105402736
         ],
         "y": [
          -1.8613568164955903,
          -1.8613568164955903,
          -0.8089969390557301,
          -0.8089969390557301,
          -1.8613568164955903
         ]
        },
        {
         "fill": "toself",
         "fillcolor": "#FF0000",
         "line": {
          "color": "#CC0000",
          "width": 1
         },
         "marker": {
          "size": 1
         },
         "mode": "markers+lines",
         "showlegend": false,
         "type": "scatter",
         "x": [
          2985.4120584557463,
          6879.242260345565,
          6879.242260345565,
          2985.4120584557463,
          2985.4120584557463
         ],
         "y": [
          -1.9137166940554204,
          -1.9137166940554204,
          -0.8613568166155601,
          -0.8613568166155601,
          -1.9137166940554204
         ]
        },
        {
         "fill": "toself",
         "fillcolor": "#FF0000",
         "line": {
          "color": "#CC0000",
          "width": 1
         },
         "marker": {
          "size": 1
         },
         "mode": "markers+lines",
         "showlegend": false,
         "type": "scatter",
         "x": [
          2931.572386833299,
          6971.71327159513,
          6971.71327159513,
          2931.572386833299,
          2931.572386833299
         ],
         "y": [
          -1.9660765716152504,
          -1.9660765716152504,
          -0.9137166941753898,
          -0.9137166941753898,
          -1.9660765716152504
         ]
        },
        {
         "fill": "toself",
         "fillcolor": "#FF0000",
         "line": {
          "color": "#CC0000",
          "width": 1
         },
         "marker": {
          "size": 1
         },
         "mode": "markers+lines",
         "showlegend": false,
         "type": "scatter",
         "x": [
          2869.9846613329632,
          7056.522236621011,
          7056.522236621011,
          2869.9846613329632,
          2869.9846613329632
         ],
         "y": [
          -2.0184364491750806,
          -2.0184364491750806,
          -0.9660765717352198,
          -0.9660765717352198,
          -2.0184364491750806
         ]
        },
        {
         "fill": "toself",
         "fillcolor": "#FF0000",
         "line": {
          "color": "#CC0000",
          "width": 1
         },
         "marker": {
          "size": 1
         },
         "mode": "markers+lines",
         "showlegend": false,
         "type": "scatter",
         "x": [
          2800.817689629425,
          7133.436699945067,
          7133.436699945067,
          2800.817689629425,
          2800.817689629425
         ],
         "y": [
          -2.0707963267349103,
          -2.0707963267349103,
          -1.0184364492950495,
          -1.0184364492950495,
          -2.0707963267349103
         ]
        },
        {
         "fill": "toself",
         "fillcolor": "#FF0000",
         "line": {
          "color": "#CC0000",
          "width": 1
         },
         "marker": {
          "size": 1
         },
         "mode": "markers+lines",
         "showlegend": false,
         "type": "scatter",
         "x": [
          2724.261053584385,
          7202.245844369589,
          7202.245844369589,
          2724.261053584385,
          2724.261053584385
         ],
         "y": [
          -2.12315620429474,
          -2.12315620429474,
          -1.0707963268548797,
          -1.0707963268548797,
          -2.12315620429474
         ]
        },
        {
         "fill": "toself",
         "fillcolor": "#FF0000",
         "line": {
          "color": "#CC0000",
          "width": 1
         },
         "marker": {
          "size": 1
         },
         "mode": "markers+lines",
         "showlegend": false,
         "type": "scatter",
         "x": [
          2640.5245896158567,
          7262.761068812572,
          7262.761068812572,
          2640.5245896158567,
          2640.5245896158567
         ],
         "y": [
          -2.1755160818545702,
          -2.1755160818545702,
          -1.1231562044147096,
          -1.1231562044147096,
          -2.1755160818545702
         ]
        },
        {
         "fill": "toself",
         "fillcolor": "#FF0000",
         "line": {
          "color": "#CC0000",
          "width": 1
         },
         "marker": {
          "size": 1
         },
         "mode": "markers+lines",
         "showlegend": false,
         "type": "scatter",
         "x": [
          2549.83781355113,
          7314.816505250181,
          7314.816505250181,
          2549.83781355113,
          2549.83781355113
         ],
         "y": [
          -2.2278759594144004,
          -2.2278759594144004,
          -1.1755160819745396,
          -1.1755160819745396,
          -2.2278759594144004
         ]
        },
        {
         "fill": "toself",
         "fillcolor": "#FF0000",
         "line": {
          "color": "#CC0000",
          "width": 1
         },
         "marker": {
          "size": 1
         },
         "mode": "markers+lines",
         "showlegend": false,
         "type": "scatter",
         "x": [
          2452.4492915398337,
          7358.26947334947,
          7358.26947334947,
          2452.4492915398337,
          2452.4492915398337
         ],
         "y": [
          -2.28023583697423,
          -2.28023583697423,
          -1.2278759595343693,
          -1.2278759595343693,
          -2.28023583697423
         ]
        },
        {
         "fill": "toself",
         "fillcolor": "#FF0000",
         "line": {
          "color": "#CC0000",
          "width": 1
         },
         "marker": {
          "size": 1
         },
         "mode": "markers+lines",
         "showlegend": false,
         "type": "scatter",
         "x": [
          2348.625958751411,
          7393.000871545257,
          7393.000871545257,
          2348.625958751411,
          2348.625958751411
         ],
         "y": [
          -2.33259571453406,
          -2.33259571453406,
          -1.2802358370941995,
          -1.2802358370941995,
          -2.33259571453406
         ]
        },
        {
         "fill": "toself",
         "fillcolor": "#FF0000",
         "line": {
          "color": "#CC0000",
          "width": 1
         },
         "marker": {
          "size": 1
         },
         "mode": "markers+lines",
         "showlegend": false,
         "type": "scatter",
         "x": [
          2238.6523877243617,
          7418.915503489236,
          7418.915503489236,
          2238.6523877243617,
          2238.6523877243617
         ],
         "y": [
          -2.3849555920938896,
          -2.3849555920938896,
          -1.3325957146540297,
          -1.3325957146540297,
          -2.3849555920938896
         ]
        },
        {
         "fill": "toself",
         "fillcolor": "#FF0000",
         "line": {
          "color": "#CC0000",
          "width": 1
         },
         "marker": {
          "size": 1
         },
         "mode": "markers+lines",
         "showlegend": false,
         "type": "scatter",
         "x": [
          2122.8300083727017,
          7435.942338976553,
          7435.942338976553,
          2122.8300083727017,
          2122.8300083727017
         ],
         "y": [
          -2.4373154696537194,
          -2.4373154696537194,
          -1.3849555922138599,
          -1.3849555922138599,
          -2.4373154696537194
         ]
        },
        {
         "fill": "toself",
         "fillcolor": "#FF0000",
         "line": {
          "color": "#CC0000",
          "width": 1
         },
         "marker": {
          "size": 1
         },
         "mode": "markers+lines",
         "showlegend": false,
         "type": "scatter",
         "x": [
          2001.4762817875212,
          7444.034708634659,
          7444.034708634659,
          2001.4762817875212,
          2001.4762817875212
         ],
         "y": [
          -2.489675347213549,
          -2.489675347213549,
          -1.4373154697736896,
          -1.4373154697736896,
          -2.489675347213549
         ]
        },
        {
         "fill": "toself",
         "fillcolor": "#FF0000",
         "line": {
          "color": "#CC0000",
          "width": 1
         },
         "marker": {
          "size": 1
         },
         "mode": "markers+lines",
         "showlegend": false,
         "type": "scatter",
         "x": [
          1874.9238300981938,
          7444.034708634659,
          7444.034708634659,
          1874.9238300981938,
          1874.9238300981938
         ],
         "y": [
          -2.542035224773379,
          -2.542035224773379,
          -1.4896753473335198,
          -1.4896753473335198,
          -2.542035224773379
         ]
        },
        {
         "fill": "toself",
         "fillcolor": "#FF0000",
         "line": {
          "color": "#CC0000",
          "width": 1
         },
         "marker": {
          "size": 1
         },
         "mode": "markers+lines",
         "showlegend": false,
         "type": "scatter",
         "x": [
          1743.519524778249,
          7443.170431840814,
          7443.170431840814,
          1743.519524778249,
          1743.519524778249
         ],
         "y": [
          -2.5943951023332086,
          -2.5943951023332086,
          -1.5420352248933498,
          -1.5420352248933498,
          -2.5943951023332086
         ]
        },
        {
         "fill": "toself",
         "fillcolor": "#FF0000",
         "line": {
          "color": "#CC0000",
          "width": 1
         },
         "marker": {
          "size": 1
         },
         "mode": "markers+lines",
         "showlegend": false,
         "type": "scatter",
         "x": [
          1607.6235358947652,
          7433.351877517636,
          7433.351877517636,
          1607.6235358947652,
          1607.6235358947652
         ],
         "y": [
          -2.6467549798930388,
          -2.6467549798930388,
          -1.5943951024531802,
          -1.5943951024531802,
          -2.6467549798930388
         ]
        },
        {
         "fill": "toself",
         "fillcolor": "#FF0000",
         "line": {
          "color": "#CC0000",
          "width": 1
         },
         "marker": {
          "size": 1
         },
         "mode": "markers+lines",
         "showlegend": false,
         "type": "scatter",
         "x": [
          1467.608344907258,
          7414.605957640044,
          7414.605957640044,
          1467.608344907258,
          1467.608344907258
         ],
         "y": [
          -2.699114857452869,
          -2.699114857452869,
          -1.6467549800130103,
          -1.6467549800130103,
          -2.699114857452869
         ]
        },
        {
         "fill": "toself",
         "fillcolor": "#FF0000",
         "line": {
          "color": "#CC0000",
          "width": 1
         },
         "marker": {
          "size": 1
         },
         "mode": "markers+lines",
         "showlegend": false,
         "type": "scatter",
         "x": [
          1323.8577237218892,
          7386.984053471411,
          7386.984053471411,
          1323.8577237218892,
          1323.8577237218892
         ],
         "y": [
          -2.7514747350126987,
          -2.7514747350126987,
          -1.6991148575728408,
          -1.6991148575728408,
          -2.7514747350126987
         ]
        },
        {
         "fill": "toself",
         "fillcolor": "#FF0000",
         "line": {
          "color": "#CC0000",
          "width": 1
         },
         "marker": {
          "size": 1
         },
         "mode": "markers+lines",
         "showlegend": false,
         "type": "scatter",
         "x": [
          1176.7656827993428,
          7350.5618747310855,
          7350.5618747310855,
          1176.7656827993428,
          1176.7656827993428
         ],
         "y": [
          -2.803834612572528,
          -2.803834612572528,
          -1.7514747351326705,
          -1.7514747351326705,
          -2.803834612572528
         ]
        },
        {
         "fill": "toself",
         "fillcolor": "#FF0000",
         "line": {
          "color": "#CC0000",
          "width": 1
         },
         "marker": {
          "size": 1
         },
         "mode": "markers+lines",
         "showlegend": false,
         "type": "scatter",
         "x": [
          1026.7353911995474,
          7305.439252079323,
          7305.439252079323,
          1026.7353911995474,
          1026.7353911995474
         ],
         "y": [
          -2.8561944901323577,
          -2.8561944901323577,
          -1.8038346126925004,
          -1.8038346126925004,
          -2.8561944901323577
         ]
        },
        {
         "fill": "toself",
         "fillcolor": "#FF0000",
         "line": {
          "color": "#CC0000",
          "width": 1
         },
         "marker": {
          "size": 1
         },
         "mode": "markers+lines",
         "showlegend": false,
         "type": "scatter",
         "x": [
          874.1780715232962,
          7251.739863488376,
          7251.739863488376,
          874.1780715232962,
          874.1780715232962
         ],
         "y": [
          -2.9085543676921874,
          -2.9085543676921874,
          -1.8561944902523302,
          -1.8561944902523302,
          -2.9085543676921874
         ]
        },
        {
         "fill": "toself",
         "fillcolor": "#FF0000",
         "line": {
          "color": "#CC0000",
          "width": 1
         },
         "marker": {
          "size": 1
         },
         "mode": "markers+lines",
         "showlegend": false,
         "type": "scatter",
         "x": [
          719.511872779698,
          7189.610895249774,
          7189.610895249774,
          719.511872779698,
          719.511872779698
         ],
         "y": [
          -2.960914245252017,
          -2.960914245252017,
          -1.90855436781216,
          -1.90855436781216,
          -2.960914245252017
         ]
        },
        {
         "fill": "toself",
         "fillcolor": "#FF0000",
         "line": {
          "color": "#CC0000",
          "width": 1
         },
         "marker": {
          "size": 1
         },
         "mode": "markers+lines",
         "showlegend": false,
         "type": "scatter",
         "x": [
          563.1607242687901,
          7119.222638546926,
          7119.222638546926,
          563.1607242687901,
          563.1607242687901
         ],
         "y": [
          -3.013274122811847,
          -3.013274122811847,
          -1.9609142453719897,
          -1.9609142453719897,
          -3.013274122811847
         ]
        },
        {
         "fill": "toself",
         "fillcolor": "#FF0000",
         "line": {
          "color": "#CC0000",
          "width": 1
         },
         "marker": {
          "size": 1
         },
         "mode": "markers+lines",
         "showlegend": false,
         "type": "scatter",
         "x": [
          405.5531736208045,
          7040.768022698829,
          7040.768022698829,
          405.5531736208045,
          405.5531736208045
         ],
         "y": [
          -3.065634000371677,
          -3.065634000371677,
          -2.0132741229318194,
          -2.0132741229318194,
          -3.065634000371677
         ]
        },
        {
         "fill": "toself",
         "fillcolor": "#FF0000",
         "line": {
          "color": "#CC0000",
          "width": 1
         },
         "marker": {
          "size": 1
         },
         "mode": "markers+lines",
         "showlegend": false,
         "type": "scatter",
         "x": [
          247.12121217690355,
          6954.462086354208,
          6954.462086354208,
          247.12121217690355,
          247.12121217690355
         ],
         "y": [
          -3.117993877931507,
          -3.117993877931507,
          -2.0656340004916496,
          -2.0656340004916496,
          -3.117993877931507
         ]
        },
        {
         "fill": "toself",
         "fillcolor": "#FF0000",
         "line": {
          "color": "#CC0000",
          "width": 1
         },
         "marker": {
          "size": 1
         },
         "mode": "markers+lines",
         "showlegend": false,
         "type": "scatter",
         "x": [
          88.29909093093374,
          6860.54138808553,
          6860.54138808553,
          88.29909093093374,
          88.29909093093374
         ],
         "y": [
          -3.170353755491336,
          -3.170353755491336,
          -2.1179938780514793,
          -2.1179938780514793,
          -3.170353755491336
         ]
        },
        {
         "fill": "toself",
         "fillcolor": "#FF0000",
         "line": {
          "color": "#CC0000",
          "width": 1
         },
         "marker": {
          "size": 1
         },
         "mode": "markers+lines",
         "showlegend": false,
         "type": "scatter",
         "x": [
          -70.47786972236099,
          6759.263357998404,
          6759.263357998404,
          -70.47786972236099,
          -70.47786972236099
         ],
         "y": [
          -3.222713633051166,
          -3.222713633051166,
          -2.1703537556113095,
          -2.1703537556113095,
          -3.222713633051166
         ]
        },
        {
         "fill": "toself",
         "fillcolor": "#FF0000",
         "line": {
          "color": "#CC0000",
          "width": 1
         },
         "marker": {
          "size": 1
         },
         "mode": "markers+lines",
         "showlegend": false,
         "type": "scatter",
         "x": [
          -228.774473170281,
          6650.905592133548,
          6650.905592133548,
          -228.774473170281,
          -228.774473170281
         ],
         "y": [
          -3.2750735106109956,
          -3.2750735106109956,
          -2.2227136331711392,
          -2.2227136331711392,
          -3.2750735106109956
         ]
        },
        {
         "fill": "toself",
         "fillcolor": "#FF0000",
         "line": {
          "color": "#CC0000",
          "width": 1
         },
         "marker": {
          "size": 1
         },
         "mode": "markers+lines",
         "showlegend": false,
         "type": "scatter",
         "x": [
          -386.15683942583655,
          6535.765091595344,
          6535.765091595344,
          -386.15683942583655,
          -386.15683942583655
         ],
         "y": [
          -10.569877101930897,
          -10.569877101930897,
          4.915010325469273,
          4.915010325469273,
          -10.569877101930897
         ]
        },
        {
         "fill": "toself",
         "fillcolor": "#FF0000",
         "line": {
          "color": "#CC0000",
          "width": 1
         },
         "marker": {
          "size": 1
         },
         "mode": "markers+lines",
         "showlegend": false,
         "type": "scatter",
         "x": [
          -542.1935943626354,
          6414.157448492445,
          6414.157448492445,
          -542.1935943626354,
          -542.1935943626354
         ],
         "y": [
          -10.622236979490728,
          -10.622236979490728,
          4.915010325469273,
          4.915010325469273,
          -10.622236979490728
         ]
        },
        {
         "fill": "toself",
         "fillcolor": "#FF0000",
         "line": {
          "color": "#CC0000",
          "width": 1
         },
         "marker": {
          "size": 1
         },
         "mode": "markers+lines",
         "showlegend": false,
         "type": "scatter",
         "x": [
          -696.4570520813786,
          6286.415980921754,
          6286.415980921754,
          -696.4570520813786,
          -696.4570520813786
         ],
         "y": [
          -10.674596857050556,
          -10.674596857050556,
          4.862650447909443,
          4.862650447909443,
          -10.674596857050556
         ]
        },
        {
         "fill": "toself",
         "fillcolor": "#FF0000",
         "line": {
          "color": "#CC0000",
          "width": 1
         },
         "marker": {
          "size": 1
         },
         "mode": "markers+lines",
         "showlegend": false,
         "type": "scatter",
         "x": [
          -855.5006319637514,
          6152.890819366684,
          6152.890819366684,
          -855.5006319637514,
          -855.5006319637514
         ],
         "y": [
          -10.726956734610386,
          -10.726956734610386,
          4.810290570349614,
          4.810290570349614,
          -10.726956734610386
         ]
        },
        {
         "fill": "toself",
         "fillcolor": "#FF0000",
         "line": {
          "color": "#CC0000",
          "width": 1
         },
         "marker": {
          "size": 1
         },
         "mode": "markers+lines",
         "showlegend": false,
         "type": "scatter",
         "x": [
          -1026.3204215524438,
          6020.924191810406,
          6020.924191810406,
          -1026.3204215524438,
          -1026.3204215524438
         ],
         "y": [
          -12.765623609614739,
          -12.765623609614739,
          6.691877812674477,
          6.691877812674477,
          -12.765623609614739
         ]
        },
        {
         "fill": "toself",
         "fillcolor": "#FF0000",
         "line": {
          "color": "#CC0000",
          "width": 1
         },
         "marker": {
          "size": 1
         },
         "mode": "markers+lines",
         "showlegend": false,
         "type": "scatter",
         "x": [
          -1194.2759484824292,
          5898.30982454633,
          5898.30982454633,
          -1194.2759484824292,
          -1194.2759484824292
         ],
         "y": [
          -18.665710264121405,
          -18.665710264121405,
          12.487244712061484,
          12.487244712061484,
          -18.665710264121405
         ]
        },
        {
         "fill": "toself",
         "fillcolor": "#FF0000",
         "line": {
          "color": "#CC0000",
          "width": 1
         },
         "marker": {
          "size": 1
         },
         "mode": "markers+lines",
         "showlegend": false,
         "type": "scatter",
         "x": [
          -1358.9068583288376,
          5771.211527837002,
          5771.211527837002,
          -1358.9068583288376,
          -1358.9068583288376
         ],
         "y": [
          -18.718070141681235,
          -18.718070141681235,
          12.487244712061484,
          12.487244712061484,
          -18.718070141681235
         ]
        },
        {
         "fill": "toself",
         "fillcolor": "#FF0000",
         "line": {
          "color": "#CC0000",
          "width": 1
         },
         "marker": {
          "size": 1
         },
         "mode": "markers+lines",
         "showlegend": false,
         "type": "scatter",
         "x": [
          -1519.7619092111368,
          5639.977669279209,
          5639.977669279209,
          -1519.7619092111368,
          -1519.7619092111368
         ],
         "y": [
          -18.718070141681235,
          -18.718070141681235,
          14.70768250469143,
          14.70768250469143,
          -18.718070141681235
         ]
        },
        {
         "fill": "toself",
         "fillcolor": "#FF0000",
         "line": {
          "color": "#CC0000",
          "width": 1
         },
         "marker": {
          "size": 1
         },
         "mode": "markers+lines",
         "showlegend": false,
         "type": "scatter",
         "x": [
          -1676.4002086157539,
          5504.967951757308,
          5504.967951757308,
          -1676.4002086157539,
          -1676.4002086157539
         ],
         "y": [
          -8.581576830191327,
          -8.581576830191327,
          14.70768250469143,
          14.70768250469143,
          -8.581576830191327
         ]
        },
        {
         "fill": "toself",
         "fillcolor": "#FF0000",
         "line": {
          "color": "#CC0000",
          "width": 1
         },
         "marker": {
          "size": 1
         },
         "mode": "markers+lines",
         "showlegend": false,
         "type": "scatter",
         "x": [
          -1828.3924218518162,
          5366.552427522613,
          5366.552427522613,
          -1828.3924218518162,
          -1828.3924218518162
         ],
         "y": [
          -8.633936707751158,
          -8.633936707751158,
          14.6553226271316,
          14.6553226271316,
          -8.633936707751158
         ]
        },
        {
         "fill": "toself",
         "fillcolor": "#FF0000",
         "line": {
          "color": "#CC0000",
          "width": 1
         },
         "marker": {
          "size": 1
         },
         "mode": "markers+lines",
         "showlegend": false,
         "type": "scatter",
         "x": [
          -1975.321948827691,
          5225.110483905905,
          5225.110483905905,
          -1975.321948827691,
          -1975.321948827691
         ],
         "y": [
          -8.633936707751158,
          -8.633936707751158,
          14.60296274957177,
          14.60296274957177,
          -8.633936707751158
         ]
        },
        {
         "fill": "toself",
         "fillcolor": "#FF0000",
         "line": {
          "color": "#CC0000",
          "width": 1
         },
         "marker": {
          "size": 1
         },
         "mode": "markers+lines",
         "showlegend": false,
         "type": "scatter",
         "x": [
          -2116.786065922887,
          5081.029803443129,
          5081.029803443129,
          -2116.786065922887,
          -2116.786065922887
         ],
         "y": [
          -5.760396979112313,
          -5.760396979112313,
          11.572343388253437,
          11.572343388253437,
          -5.760396979112313
         ]
        },
        {
         "fill": "toself",
         "fillcolor": "#FF0000",
         "line": {
          "color": "#CC0000",
          "width": 1
         },
         "marker": {
          "size": 1
         },
         "mode": "markers+lines",
         "showlegend": false,
         "type": "scatter",
         "x": [
          -2252.3970298254917,
          4934.70530126451,
          4934.70530126451,
          -2252.3970298254917,
          -2252.3970298254917
         ],
         "y": [
          -5.812756856672143,
          -5.812756856672143,
          11.519983510693608,
          11.519983510693608,
          -5.812756856672143
         ]
        },
        {
         "fill": "toself",
         "fillcolor": "#FF0000",
         "line": {
          "color": "#CC0000",
          "width": 1
         },
         "marker": {
          "size": 1
         },
         "mode": "markers+lines",
         "showlegend": false,
         "type": "scatter",
         "x": [
          -2381.783140309657,
          4786.538042659627,
          4786.538042659627,
          -2381.783140309657,
          -2381.783140309657
         ],
         "y": [
          -5.865116734231973,
          -5.865116734231973,
          11.467623633133778,
          11.467623633133778,
          -5.865116734231973
         ]
        },
        {
         "fill": "toself",
         "fillcolor": "#FF0000",
         "line": {
          "color": "#CC0000",
          "width": 1
         },
         "marker": {
          "size": 1
         },
         "mode": "markers+lines",
         "showlegend": false,
         "type": "scatter",
         "x": [
          -2504.589759040058,
          4636.934143785337,
          4636.934143785337,
          -2504.589759040058,
          -2504.589759040058
         ],
         "y": [
          -5.865116734231973,
          -5.865116734231973,
          11.415263755573948,
          11.415263755573948,
          -5.865116734231973
         ]
        },
        {
         "fill": "toself",
         "fillcolor": "#FF0000",
         "line": {
          "color": "#CC0000",
          "width": 1
         },
         "marker": {
          "size": 1
         },
         "mode": "markers+lines",
         "showlegend": false,
         "type": "scatter",
         "x": [
          -2620.4802816109413,
          4486.303658529613,
          4486.303658529613,
          -2620.4802816109413,
          -2620.4802816109413
         ],
         "y": [
          2.1703537556113144,
          2.1703537556113144,
          3.2227136330511716,
          3.2227136330511716,
          2.1703537556113144
         ]
        },
        {
         "fill": "toself",
         "fillcolor": "#FF0000",
         "line": {
          "color": "#CC0000",
          "width": 1
         },
         "marker": {
          "size": 1
         },
         "mode": "markers+lines",
         "showlegend": false,
         "type": "scatter",
         "x": [
          -2729.1370601553913,
          4335.059454582345,
          4335.059454582345,
          -2729.1370601553913,
          -2729.1370601553913
         ],
         "y": [
          2.1179938780514846,
          2.1179938780514846,
          3.170353755491342,
          3.170353755491342,
          2.1179938780514846
         ]
        },
        {
         "fill": "toself",
         "fillcolor": "#FF0000",
         "line": {
          "color": "#CC0000",
          "width": 1
         },
         "marker": {
          "size": 1
         },
         "mode": "markers+lines",
         "showlegend": false,
         "type": "scatter",
         "x": [
          -2830.2622739960575,
          4183.616081793698,
          4183.616081793698,
          -2830.2622739960575,
          -2830.2622739960575
         ],
         "y": [
          2.0656340004916545,
          2.0656340004916545,
          3.117993877931512,
          3.117993877931512,
          2.0656340004916545
         ]
        },
        {
         "fill": "toself",
         "fillcolor": "#FF0000",
         "line": {
          "color": "#CC0000",
          "width": 1
         },
         "marker": {
          "size": 1
         },
         "mode": "markers+lines",
         "showlegend": false,
         "type": "scatter",
         "x": [
          -2923.57874595093,
          4032.3886359217854,
          4032.3886359217854,
          -2923.57874595093,
          -2923.57874595093
         ],
         "y": [
          2.0132741229318243,
          2.0132741229318243,
          3.065634000371682,
          3.065634000371682,
          2.0132741229318243
         ]
        },
        {
         "fill": "toself",
         "fillcolor": "#FF0000",
         "line": {
          "color": "#CC0000",
          "width": 1
         },
         "marker": {
          "size": 1
         },
         "mode": "markers+lines",
         "showlegend": false,
         "type": "scatter",
         "x": [
          -3008.8307020567277,
          3881.7916208840506,
          3881.7916208840506,
          -3008.8307020567277,
          -3008.8307020567277
         ],
         "y": [
          1.9609142453719948,
          1.9609142453719948,
          3.0132741228118527,
          3.0132741228118527,
          1.9609142453719948
         ]
        },
        {
         "fill": "toself",
         "fillcolor": "#FF0000",
         "line": {
          "color": "#CC0000",
          "width": 1
         },
         "marker": {
          "size": 1
         },
         "mode": "markers+lines",
         "showlegend": false,
         "type": "scatter",
         "x": [
          -3085.784472627558,
          3732.2378126308417,
          3732.2378126308417,
          -3085.784472627558,
          -3085.784472627558
         ],
         "y": [
          1.908554367812165,
          1.908554367812165,
          2.960914245252023,
          2.960914245252023,
          1.908554367812165
         ]
        },
        {
         "fill": "toself",
         "fillcolor": "#FF0000",
         "line": {
          "color": "#CC0000",
          "width": 1
         },
         "marker": {
          "size": 1
         },
         "mode": "markers+lines",
         "showlegend": false,
         "type": "scatter",
         "x": [
          -3154.2291327272746,
          3584.1371277552244,
          3584.1371277552244,
          -3154.2291327272746,
          -3154.2291327272746
         ],
         "y": [
          1.8561944902523353,
          1.8561944902523353,
          2.908554367692193,
          2.908554367692193,
          1.8561944902523353
         ]
        },
        {
         "fill": "toself",
         "fillcolor": "#FF0000",
         "line": {
          "color": "#CC0000",
          "width": 1
         },
         "marker": {
          "size": 1
         },
         "mode": "markers+lines",
         "showlegend": false,
         "type": "scatter",
         "x": [
          -3213.9770803000756,
          3437.895499940088,
          3437.895499940088,
          -3213.9770803000756,
          -3213.9770803000756
         ],
         "y": [
          1.803834612692505,
          1.803834612692505,
          2.8561944901323635,
          2.8561944901323635,
          1.803834612692505
         ]
        },
        {
         "fill": "toself",
         "fillcolor": "#FF0000",
         "line": {
          "color": "#CC0000",
          "width": 1
         },
         "marker": {
          "size": 1
         },
         "mode": "markers+lines",
         "showlegend": false,
         "type": "scatter",
         "x": [
          -3264.864550374693,
          3293.913767322145,
          3293.913767322145,
          -3264.864550374693,
          -3264.864550374693
         ],
         "y": [
          1.7514747351326752,
          1.7514747351326752,
          2.8038346125725333,
          2.8038346125725333,
          1.7514747351326752
         ]
        },
        {
         "fill": "toself",
         "fillcolor": "#FF0000",
         "line": {
          "color": "#CC0000",
          "width": 1
         },
         "marker": {
          "size": 1
         },
         "mode": "markers+lines",
         "showlegend": false,
         "type": "scatter",
         "x": [
          -3306.752063932796,
          3152.586573822452,
          3152.586573822452,
          -3306.752063932796,
          -3306.752063932796
         ],
         "y": [
          1.6991148575728452,
          1.6991148575728452,
          2.7514747350127036,
          2.7514747350127036,
          1.6991148575728452
         ]
        },
        {
         "fill": "toself",
         "fillcolor": "#FF0000",
         "line": {
          "color": "#CC0000",
          "width": 1
         },
         "marker": {
          "size": 1
         },
         "mode": "markers+lines",
         "showlegend": false,
         "type": "scatter",
         "x": [
          -3339.5248102112873,
          3014.3012874548604,
          3014.3012874548604,
          -3339.5248102112873,
          -3339.5248102112873
         ],
         "y": [
          1.6467549800130157,
          1.6467549800130157,
          2.6991148574528743,
          2.6991148574528743,
          1.6467549800130157
         ]
        },
        {
         "fill": "toself",
         "fillcolor": "#FF0000",
         "line": {
          "color": "#CC0000",
          "width": 1
         },
         "marker": {
          "size": 1
         },
         "mode": "markers+lines",
         "showlegend": false,
         "type": "scatter",
         "x": [
          -3363.092961390625,
          2879.4369385772097,
          2879.4369385772097,
          -3363.092961390625,
          -3363.092961390625
         ],
         "y": [
          1.5943951024531857,
          1.5943951024531857,
          2.646754979893044,
          2.646754979893044,
          1.5943951024531857
         ]
        },
        {
         "fill": "toself",
         "fillcolor": "#FF0000",
         "line": {
          "color": "#CC0000",
          "width": 1
         },
         "marker": {
          "size": 1
         },
         "mode": "markers+lines",
         "showlegend": false,
         "type": "scatter",
         "x": [
          -3377.3919188066266,
          2748.363180995471,
          2748.363180995471,
          -3377.3919188066266,
          -3377.3919188066266
         ],
         "y": [
          1.5420352248933558,
          1.5420352248933558,
          2.594395102333215,
          2.594395102333215,
          1.5420352248933558
         ]
        },
        {
         "fill": "toself",
         "fillcolor": "#FF0000",
         "line": {
          "color": "#CC0000",
          "width": 1
         },
         "marker": {
          "size": 1
         },
         "mode": "markers+lines",
         "showlegend": false,
         "type": "scatter",
         "x": [
          -3382.3824900109244,
          2621.4392787683464,
          2621.4392787683464,
          -3382.3824900109244,
          -3382.3824900109244
         ],
         "y": [
          1.4896753473335262,
          1.4896753473335262,
          2.542035224773385,
          2.542035224773385,
          1.4896753473335262
         ]
        },
        {
         "fill": "toself",
         "fillcolor": "#FF0000",
         "line": {
          "color": "#CC0000",
          "width": 1
         },
         "marker": {
          "size": 1
         },
         "mode": "markers+lines",
         "showlegend": false,
         "type": "scatter",
         "x": [
          -3382.3824900109244,
          2499.0131214894704,
          2499.0131214894704,
          -3382.3824900109244,
          -3382.3824900109244
         ],
         "y": [
          1.437315469773696,
          1.437315469773696,
          2.4896753472135553,
          2.4896753472135553,
          1.437315469773696
         ]
        },
        {
         "fill": "toself",
         "fillcolor": "#FF0000",
         "line": {
          "color": "#CC0000",
          "width": 1
         },
         "marker": {
          "size": 1
         },
         "mode": "markers+lines",
         "showlegend": false,
         "type": "scatter",
         "x": [
          -3378.050996194737,
          2381.420270746207,
          2381.420270746207,
          -3378.050996194737,
          -3378.050996194737
         ],
         "y": [
          1.3849555922138659,
          1.3849555922138659,
          2.4373154696537256,
          2.4373154696537256,
          1.3849555922138659
         ]
        },
        {
         "fill": "toself",
         "fillcolor": "#FF0000",
         "line": {
          "color": "#CC0000",
          "width": 1
         },
         "marker": {
          "size": 1
         },
         "mode": "markers+lines",
         "showlegend": false,
         "type": "scatter",
         "x": [
          -3364.4093096815363,
          2268.9830403686633,
          2268.9830403686633,
          -3364.4093096815363,
          -3364.4093096815363
         ],
         "y": [
          1.3325957146540361,
          1.3325957146540361,
          2.3849555920938954,
          2.3849555920938954,
          1.3325957146540361
         ]
        },
        {
         "fill": "toself",
         "fillcolor": "#FF0000",
         "line": {
          "color": "#CC0000",
          "width": 1
         },
         "marker": {
          "size": 1
         },
         "mode": "markers+lines",
         "showlegend": false,
         "type": "scatter",
         "x": [
          -3341.4948213858333,
          2162.0096129898884,
          2162.0096129898884,
          -3341.4948213858333,
          -3341.4948213858333
         ],
         "y": [
          1.280235837094206,
          1.280235837094206,
          2.3325957145340652,
          2.3325957145340652,
          1.280235837094206
         ]
        },
        {
         "fill": "toself",
         "fillcolor": "#FF0000",
         "line": {
          "color": "#CC0000",
          "width": 1
         },
         "marker": {
          "size": 1
         },
         "mode": "markers+lines",
         "showlegend": false,
         "type": "scatter",
         "x": [
          -3309.3703383272796,
          2060.793195338696,
          2060.793195338696,
          -3309.3703383272796,
          -3309.3703383272796
         ],
         "y": [
          1.227875959534376,
          1.227875959534376,
          2.2802358369742355,
          2.2802358369742355,
          1.227875959534376
         ]
        },
        {
         "fill": "toself",
         "fillcolor": "#FF0000",
         "line": {
          "color": "#CC0000",
          "width": 1
         },
         "marker": {
          "size": 1
         },
         "mode": "markers+lines",
         "showlegend": false,
         "type": "scatter",
         "x": [
          -3268.1239114809937,
          1965.6112145804013,
          1965.6112145804013,
          -3268.1239114809937,
          -3268.1239114809937
         ],
         "y": [
          1.1755160819745458,
          1.1755160819745458,
          2.2278759594144057,
          2.2278759594144057,
          1.1755160819745458
         ]
        },
        {
         "fill": "toself",
         "fillcolor": "#FF0000",
         "line": {
          "color": "#CC0000",
          "width": 1
         },
         "marker": {
          "size": 1
         },
         "mode": "markers+lines",
         "showlegend": false,
         "type": "scatter",
         "x": [
          -3217.8685944359568,
          1876.7245579082446,
          1876.7245579082446,
          -3217.8685944359568,
          -3217.8685944359568
         ],
         "y": [
          1.1231562044147159,
          1.1231562044147159,
          2.175516081854576,
          2.175516081854576,
          1.1231562044147159
         ]
        },
        {
         "fill": "toself",
         "fillcolor": "#FF0000",
         "line": {
          "color": "#CC0000",
          "width": 1
         },
         "marker": {
          "size": 1
         },
         "mode": "markers+lines",
         "showlegend": false,
         "type": "scatter",
         "x": [
          -3158.7421335229856,
          1794.3768574697278,
          1794.3768574697278,
          -3158.7421335229856,
          -3158.7421335229856
         ],
         "y": [
          1.070796326854886,
          1.070796326854886,
          2.1231562042947463,
          2.1231562042947463,
          1.070796326854886
         ]
        },
        {
         "fill": "toself",
         "fillcolor": "#FF0000",
         "line": {
          "color": "#CC0000",
          "width": 1
         },
         "marker": {
          "size": 1
         },
         "mode": "markers+lines",
         "showlegend": false,
         "type": "scatter",
         "x": [
          -3090.9065902616117,
          1718.7938225878347,
          1718.7938225878347,
          -3090.9065902616117,
          -3090.9065902616117
         ],
         "y": [
          1.0184364492950562,
          1.0184364492950562,
          2.070796326734916,
          2.070796326734916,
          1.0184364492950562
         ]
        },
        {
         "fill": "toself",
         "fillcolor": "#FF0000",
         "line": {
          "color": "#CC0000",
          "width": 1
         },
         "marker": {
          "size": 1
         },
         "mode": "markers+lines",
         "showlegend": false,
         "type": "scatter",
         "x": [
          -3014.5478971607245,
          1650.1826211074642,
          1650.1826211074642,
          -3014.5478971607245,
          -3014.5478971607245
         ],
         "y": [
          0.9660765717352262,
          0.9660765717352262,
          2.018436449175086,
          2.018436449175086,
          0.9660765717352262
         ]
        },
        {
         "fill": "toself",
         "fillcolor": "#FF0000",
         "line": {
          "color": "#CC0000",
          "width": 1
         },
         "marker": {
          "size": 1
         },
         "mode": "markers+lines",
         "showlegend": false,
         "type": "scatter",
         "x": [
          -2929.8753480904847,
          1588.7313115627671,
          1588.7313115627671,
          -2929.8753480904847,
          -2929.8753480904847
         ],
         "y": [
          0.9137166941753962,
          0.9137166941753962,
          1.966076571615256,
          1.966076571615256,
          0.9137166941753962
         ]
        },
        {
         "fill": "toself",
         "fillcolor": "#FF0000",
         "line": {
          "color": "#CC0000",
          "width": 1
         },
         "marker": {
          "size": 1
         },
         "mode": "markers+lines",
         "showlegend": false,
         "type": "scatter",
         "x": [
          -2837.12102462238,
          1534.6083277217797,
          1534.6083277217797,
          -2837.12102462238,
          -2837.12102462238
         ],
         "y": [
          0.8613568166155663,
          0.8613568166155663,
          1.913716694055426,
          1.913716694055426,
          0.8613568166155663
         ]
        },
        {
         "fill": "toself",
         "fillcolor": "#FF0000",
         "line": {
          "color": "#CC0000",
          "width": 1
         },
         "marker": {
          "size": 1
         },
         "mode": "markers+lines",
         "showlegend": false,
         "type": "scatter",
         "x": [
          -2736.5391599097593,
          1487.962016921165,
          1487.962016921165,
          -2736.5391599097593,
          -2736.5391599097593
         ],
         "y": [
          0.8089969390557363,
          0.8089969390557363,
          1.861356816495596,
          1.861356816495596,
          0.8089969390557363
         ]
        },
        {
         "fill": "toself",
         "fillcolor": "#FF0000",
         "line": {
          "color": "#CC0000",
          "width": 1
         },
         "marker": {
          "size": 1
         },
         "mode": "markers+lines",
         "showlegend": false,
         "type": "scatter",
         "x": [
          -2628.405441852442,
          1448.920233456484,
          1448.920233456484,
          -2628.405441852442,
          -2628.405441852442
         ],
         "y": [
          0.7566370614959064,
          0.7566370614959064,
          1.808996938935766,
          1.808996938935766,
          0.7566370614959064
         ]
        },
        {
         "fill": "toself",
         "fillcolor": "#FF0000",
         "line": {
          "color": "#CC0000",
          "width": 1
         },
         "marker": {
          "size": 1
         },
         "mode": "markers+lines",
         "showlegend": false,
         "type": "scatter",
         "x": [
          -2513.0162574553406,
          1417.5899881424514,
          1417.5899881424514,
          -2513.0162574553406,
          -2513.0162574553406
         ],
         "y": [
          0.7042771839360764,
          0.7042771839360764,
          1.7566370613759361,
          1.7566370613759361,
          0.7042771839360764
         ]
        },
        {
         "fill": "toself",
         "fillcolor": "#FF0000",
         "line": {
          "color": "#CC0000",
          "width": 1
         },
         "marker": {
          "size": 1
         },
         "mode": "markers+lines",
         "showlegend": false,
         "type": "scatter",
         "x": [
          -2390.687880452282,
          1394.057155003734,
          1394.057155003734,
          -2390.687880452282,
          -2390.687880452282
         ],
         "y": [
          0.6519173063762465,
          0.6519173063762465,
          1.7042771838161062,
          1.7042771838161062,
          0.6519173063762465
         ]
        },
        {
         "fill": "toself",
         "fillcolor": "#FF0000",
         "line": {
          "color": "#CC0000",
          "width": 1
         },
         "marker": {
          "size": 1
         },
         "mode": "markers+lines",
         "showlegend": false,
         "type": "scatter",
         "x": [
          -2261.755604421692,
          1378.3862359002183,
          1378.3862359002183,
          -2261.755604421692,
          -2261.755604421692
         ],
         "y": [
          0.5995574288164165,
          0.5995574288164165,
          1.6519173062562762,
          1.6519173062562762,
          0.5995574288164165
         ]
        },
        {
         "fill": "toself",
         "fillcolor": "#FF0000",
         "line": {
          "color": "#CC0000",
          "width": 1
         },
         "marker": {
          "size": 1
         },
         "mode": "markers+lines",
         "showlegend": false,
         "type": "scatter",
         "x": [
          -2126.572823770198,
          1370.7802847079456,
          1370.7802847079456,
          -2126.572823770198,
          -2126.572823770198
         ],
         "y": [
          0.5471975512565868,
          0.5471975512565868,
          1.5995574286964462,
          1.5995574286964462,
          0.5471975512565868
         ]
        },
        {
         "fill": "toself",
         "fillcolor": "#FF0000",
         "line": {
          "color": "#CC0000",
          "width": 1
         },
         "marker": {
          "size": 1
         },
         "mode": "markers+lines",
         "showlegend": false,
         "type": "scatter",
         "x": [
          -1985.5100651031248,
          1378.8661000027232,
          1378.8661000027232,
          -1985.5100651031248,
          -1985.5100651031248
         ],
         "y": [
          0.49483767369675674,
          0.49483767369675674,
          1.547197551136616,
          1.547197551136616,
          0.49483767369675674
         ]
        },
        {
         "fill": "toself",
         "fillcolor": "#FF0000",
         "line": {
          "color": "#CC0000",
          "width": 1
         },
         "marker": {
          "size": 1
         },
         "mode": "markers+lines",
         "showlegend": false,
         "type": "scatter",
         "x": [
          -1838.9539716368272,
          1394.8554669585437,
          1394.8554669585437,
          -1838.9539716368272,
          -1838.9539716368272
         ],
         "y": [
          0.4424777961369268,
          0.4424777961369268,
          1.494837673576786,
          1.494837673576786,
          0.4424777961369268
         ]
        },
        {
         "fill": "toself",
         "fillcolor": "#FF0000",
         "line": {
          "color": "#CC0000",
          "width": 1
         },
         "marker": {
          "size": 1
         },
         "mode": "markers+lines",
         "showlegend": false,
         "type": "scatter",
         "x": [
          -1687.3062434365079,
          1418.7045598319867,
          1418.7045598319867,
          -1687.3062434365079,
          -1687.3062434365079
         ],
         "y": [
          0.3901179185770969,
          0.3901179185770969,
          1.4424777960169561,
          1.4424777960169561,
          0.3901179185770969
         ]
        },
        {
         "fill": "toself",
         "fillcolor": "#FF0000",
         "line": {
          "color": "#CC0000",
          "width": 1
         },
         "marker": {
          "size": 1
         },
         "mode": "markers+lines",
         "showlegend": false,
         "type": "scatter",
         "x": [
          -1530.982536384258,
          1450.3480099172177,
          1450.3480099172177,
          -1530.982536384258,
          -1530.982536384258
         ],
         "y": [
          0.3377580410172671,
          0.3377580410172671,
          1.3901179184571262,
          1.3901179184571262,
          0.3377580410172671
         ]
        },
        {
         "fill": "toself",
         "fillcolor": "#FF0000",
         "line": {
          "color": "#CC0000",
          "width": 1
         },
         "marker": {
          "size": 1
         },
         "mode": "markers+lines",
         "showlegend": false,
         "type": "scatter",
         "x": [
          -1370.4113228951812,
          1489.6990847170623,
          1489.6990847170623,
          -1370.4113228951812,
          -1370.4113228951812
         ],
         "y": [
          0.2853981634574373,
          0.2853981634574373,
          1.337758040897296,
          1.337758040897296,
          0.2853981634574373
         ]
        },
        {
         "fill": "toself",
         "fillcolor": "#FF0000",
         "line": {
          "color": "#CC0000",
          "width": 1
         },
         "marker": {
          "size": 1
         },
         "mode": "markers+lines",
         "showlegend": false,
         "type": "scatter",
         "x": [
          -1206.032717504283,
          1536.6499256707525,
          1536.6499256707525,
          -1206.032717504283,
          -1206.032717504283
         ],
         "y": [
          0.23303828589760728,
          0.23303828589760728,
          1.285398163337466,
          1.285398163337466,
          0.23303828589760728
         ]
        },
        {
         "fill": "toself",
         "fillcolor": "#FF0000",
         "line": {
          "color": "#CC0000",
          "width": 1
         },
         "marker": {
          "size": 1
         },
         "mode": "markers+lines",
         "showlegend": false,
         "type": "scatter",
         "x": [
          -1038.297270543122,
          1591.0718437867488,
          1591.0718437867488,
          -1038.297270543122,
          -1038.297270543122
         ],
         "y": [
          0.18067840833777726,
          0.18067840833777726,
          1.2330382857776363,
          1.2330382857776363,
          0.18067840833777726
         ]
        },
        {
         "fill": "toself",
         "fillcolor": "#FF0000",
         "line": {
          "color": "#CC0000",
          "width": 1
         },
         "marker": {
          "size": 1
         },
         "mode": "markers+lines",
         "showlegend": false,
         "type": "scatter",
         "x": [
          -867.664733212672,
          1652.815672370315,
          1652.815672370315,
          -867.664733212672,
          -867.664733212672
         ],
         "y": [
          0.12831853077794758,
          0.12831853077794758,
          1.1806784082178066,
          1.1806784082178066,
          0.12831853077794758
         ]
        },
        {
         "fill": "toself",
         "fillcolor": "#FF0000",
         "line": {
          "color": "#CC0000",
          "width": 1
         },
         "marker": {
          "size": 1
         },
         "mode": "markers+lines",
         "showlegend": false,
         "type": "scatter",
         "x": [
          -694.6027974372327,
          1721.7121758790656,
          1721.7121758790656,
          -694.6027974372327,
          -694.6027974372327
         ],
         "y": [
          0.07595865321811768,
          0.07595865321811768,
          1.1283185306579766,
          1.1283185306579766,
          0.07595865321811768
         ]
        },
        {
         "fill": "toself",
         "fillcolor": "#FF0000",
         "line": {
          "color": "#CC0000",
          "width": 1
         },
         "marker": {
          "size": 1
         },
         "mode": "markers+lines",
         "showlegend": false,
         "type": "scatter",
         "x": [
          -519.5858139533773,
          1797.5725137858199,
          1797.5725137858199,
          -519.5858139533773,
          -519.5858139533773
         ],
         "y": [
          0.023598775658287663,
          0.023598775658287663,
          1.0759586530981466,
          1.0759586530981466,
          0.023598775658287663
         ]
        },
        {
         "fill": "toself",
         "fillcolor": "#FF0000",
         "line": {
          "color": "#CC0000",
          "width": 1
         },
         "marker": {
          "size": 1
         },
         "mode": "markers+lines",
         "showlegend": false,
         "type": "scatter",
         "x": [
          -343.093492147554,
          1880.1887581773622,
          1880.1887581773622,
          -343.093492147554,
          -343.093492147554
         ],
         "y": [
          -0.028761101901542185,
          -0.028761101901542185,
          1.0235987755383167,
          1.0235987755383167,
          -0.028761101901542185
         ]
        },
        {
         "fill": "toself",
         "fillcolor": "#FF0000",
         "line": {
          "color": "#CC0000",
          "width": 1
         },
         "marker": {
          "size": 1
         },
         "mode": "markers+lines",
         "showlegend": false,
         "type": "scatter",
         "x": [
          -165.60958520600025,
          1969.3344636704016,
          1969.3344636704016,
          -165.60958520600025,
          -165.60958520600025
         ],
         "y": [
          -0.08112097946137214,
          -0.08112097946137214,
          0.9712388979784867,
          0.9712388979784867,
          -0.08112097946137214
         ]
        },
        {
         "fill": "toself",
         "fillcolor": "#FF0000",
         "line": {
          "color": "#CC0000",
          "width": 1
         },
         "marker": {
          "size": 1
         },
         "mode": "markers+lines",
         "showlegend": false,
         "type": "scatter",
         "x": [
          12.379435819110313,
          2064.7652880826226,
          2064.7652880826226,
          12.379435819110313,
          12.379435819110313
         ],
         "y": [
          -0.133480857021202,
          -0.133480857021202,
          0.918879020418657,
          0.918879020418657,
          -0.133480857021202
         ]
        },
        {
         "fill": "toself",
         "fillcolor": "#FF0000",
         "line": {
          "color": "#CC0000",
          "width": 1
         },
         "marker": {
          "size": 1
         },
         "mode": "markers+lines",
         "showlegend": false,
         "type": "scatter",
         "x": [
          190.38571539301404,
          2166.2196621576263,
          2166.2196621576263,
          190.38571539301404,
          190.38571539301404
         ],
         "y": [
          -0.1858407345810319,
          -0.1858407345810319,
          0.866519142858827,
          0.866519142858827,
          -0.1858407345810319
         ]
        },
        {
         "fill": "toself",
         "fillcolor": "#FF0000",
         "line": {
          "color": "#CC0000",
          "width": 1
         },
         "marker": {
          "size": 1
         },
         "mode": "markers+lines",
         "showlegend": false,
         "type": "scatter",
         "x": [
          367.9213506764636,
          2273.4195065080803,
          2273.4195065080803,
          367.9213506764636,
          367.9213506764636
         ],
         "y": [
          -0.2382006121408618,
          -0.2382006121408618,
          0.8141592652989972,
          0.8141592652989972,
          -0.2382006121408618
         ]
        },
        {
         "fill": "toself",
         "fillcolor": "#FF0000",
         "line": {
          "color": "#CC0000",
          "width": 1
         },
         "marker": {
          "size": 1
         },
         "mode": "markers+lines",
         "showlegend": false,
         "type": "scatter",
         "x": [
          544.4997288334985,
          2386.070993811991,
          2386.070993811991,
          544.4997288334985,
          544.4997288334985
         ],
         "y": [
          -0.29056048970069165,
          -0.29056048970069165,
          0.7617993877391673,
          0.7617993877391673,
          -0.29056048970069165
         ]
        },
        {
         "fill": "toself",
         "fillcolor": "#FF0000",
         "line": {
          "color": "#CC0000",
          "width": 1
         },
         "marker": {
          "size": 1
         },
         "mode": "markers+lines",
         "showlegend": false,
         "type": "scatter",
         "x": [
          719.6368608034013,
          2503.8653541729664,
          2503.8653541729664,
          719.6368608034013,
          719.6368608034013
         ],
         "y": [
          -0.3429203672605216,
          -0.3429203672605216,
          0.7094395101793374,
          0.7094395101793374,
          -0.3429203672605216
         ]
        },
        {
         "fill": "toself",
         "fillcolor": "#FF0000",
         "line": {
          "color": "#CC0000",
          "width": 1
         },
         "marker": {
          "size": 1
         },
         "mode": "markers+lines",
         "showlegend": false,
         "type": "scatter",
         "x": [
          892.8527078810762,
          2626.479721437043,
          2626.479721437043,
          892.8527078810762,
          892.8527078810762
         ],
         "y": [
          -0.3952802448203515,
          -0.3952802448203515,
          0.6570796326195076,
          0.6570796326195076,
          -0.3952802448203515
         ]
        },
        {
         "fill": "toself",
         "fillcolor": "#FF0000",
         "line": {
          "color": "#CC0000",
          "width": 1
         },
         "marker": {
          "size": 1
         },
         "mode": "markers+lines",
         "showlegend": false,
         "type": "scatter",
         "x": [
          1063.672497469769,
          2761.905160806184,
          2761.905160806184,
          1063.672497469769,
          1063.672497469769
         ],
         "y": [
          -0.4476401223801814,
          -0.4476401223801814,
          0.6047197550596778,
          0.6047197550596778,
          -0.4476401223801814
         ]
        },
        {
         "fill": "toself",
         "fillcolor": "#FF0000",
         "line": {
          "color": "#CC0000",
          "width": 1
         },
         "marker": {
          "size": 1
         },
         "mode": "markers+lines",
         "showlegend": false,
         "type": "scatter",
         "x": [
          1223.3008817399405,
          2904.4098017372226,
          2904.4098017372226,
          1223.3008817399405,
          1223.3008817399405
         ],
         "y": [
          -0.49999999994001143,
          -0.49999999994001143,
          0.5523598774998479,
          0.5523598774998479,
          -0.49999999994001143
         ]
        },
        {
         "fill": "toself",
         "fillcolor": "#FF0000",
         "line": {
          "color": "#CC0000",
          "width": 1
         },
         "marker": {
          "size": 1
         },
         "mode": "markers+lines",
         "showlegend": false,
         "type": "scatter",
         "x": [
          1376.6610092131023,
          3061.364791957914,
          3061.364791957914,
          1376.6610092131023,
          1376.6610092131023
         ],
         "y": [
          -0.5523598774998412,
          -0.5523598774998412,
          0.4999999999400182,
          0.4999999999400182,
          -0.5523598774998412
         ]
        },
        {
         "fill": "toself",
         "fillcolor": "#FF0000",
         "line": {
          "color": "#CC0000",
          "width": 1
         },
         "marker": {
          "size": 1
         },
         "mode": "markers+lines",
         "showlegend": false,
         "type": "scatter",
         "x": [
          1515.5707873966116,
          3219.586858250712,
          3219.586858250712,
          1515.5707873966116,
          1515.5707873966116
         ],
         "y": [
          -0.604719755059671,
          -0.604719755059671,
          0.44764012238018824,
          0.44764012238018824,
          -0.604719755059671
         ]
        },
        {
         "fill": "toself",
         "fillcolor": "#FF0000",
         "line": {
          "color": "#CC0000",
          "width": 1
         },
         "marker": {
          "size": 1
         },
         "mode": "markers+lines",
         "showlegend": false,
         "type": "scatter",
         "x": [
          1652.4025447431266,
          3378.642324886551,
          3378.642324886551,
          1652.4025447431266,
          1652.4025447431266
         ],
         "y": [
          -0.657079632619501,
          -0.657079632619501,
          0.39528024482035834,
          0.39528024482035834,
          -0.657079632619501
         ]
        },
        {
         "fill": "toself",
         "fillcolor": "#FF0000",
         "line": {
          "color": "#CC0000",
          "width": 1
         },
         "marker": {
          "size": 1
         },
         "mode": "markers+lines",
         "showlegend": false,
         "type": "scatter",
         "x": [
          1786.7812349600567,
          3538.095231887192,
          3538.095231887192,
          1786.7812349600567,
          1786.7812349600567
         ],
         "y": [
          -0.7094395101793308,
          -0.7094395101793308,
          0.34292036726052844,
          0.34292036726052844,
          -0.7094395101793308
         ]
        },
        {
         "fill": "toself",
         "fillcolor": "#FF0000",
         "line": {
          "color": "#CC0000",
          "width": 1
         },
         "marker": {
          "size": 1
         },
         "mode": "markers+lines",
         "showlegend": false,
         "type": "scatter",
         "x": [
          1918.3385353980661,
          3697.508529917981,
          3697.508529917981,
          1918.3385353980661,
          1918.3385353980661
         ],
         "y": [
          -0.7617993877391607,
          -0.7617993877391607,
          0.2905604897006986,
          0.2905604897006986,
          -0.7617993877391607
         ]
        },
        {
         "fill": "toself",
         "fillcolor": "#FF0000",
         "line": {
          "color": "#CC0000",
          "width": 1
         },
         "marker": {
          "size": 1
         },
         "mode": "markers+lines",
         "showlegend": false,
         "type": "scatter",
         "x": [
          2046.7138566410904,
          3856.4452782096987,
          3856.4452782096987,
          2046.7138566410904,
          2046.7138566410904
         ],
         "y": [
          -0.8141592652989906,
          -0.8141592652989906,
          0.23820061214086868,
          0.23820061214086868,
          -0.8141592652989906
         ]
        },
        {
         "fill": "toself",
         "fillcolor": "#FF0000",
         "line": {
          "color": "#CC0000",
          "width": 1
         },
         "marker": {
          "size": 1
         },
         "mode": "markers+lines",
         "showlegend": false,
         "type": "scatter",
         "x": [
          2171.5553308568615,
          4014.4698421828366,
          4014.4698421828366,
          2171.5553308568615,
          2171.5553308568615
         ],
         "y": [
          -0.8665191428588204,
          -0.8665191428588204,
          0.18584073458103872,
          0.18584073458103872,
          -0.8665191428588204
         ]
        },
        {
         "fill": "toself",
         "fillcolor": "#FF0000",
         "line": {
          "color": "#CC0000",
          "width": 1
         },
         "marker": {
          "size": 1
         },
         "mode": "markers+lines",
         "showlegend": false,
         "type": "scatter",
         "x": [
          2292.5207762421783,
          4171.149087491695,
          4171.149087491695,
          2292.5207762421783,
          2292.5207762421783
         ],
         "y": [
          -0.9188790204186503,
          -0.9188790204186503,
          0.13348085702120888,
          0.13348085702120888,
          -0.9188790204186503
         ]
        },
        {
         "fill": "toself",
         "fillcolor": "#FF0000",
         "line": {
          "color": "#CC0000",
          "width": 1
         },
         "marker": {
          "size": 1
         },
         "mode": "markers+lines",
         "showlegend": false,
         "type": "scatter",
         "x": [
          2409.2786349194444,
          4326.0535672155265,
          4326.0535672155265,
          2409.2786349194444,
          2409.2786349194444
         ],
         "y": [
          -0.9712388979784801,
          -0.9712388979784801,
          0.08112097946137897,
          0.08112097946137897,
          -0.9712388979784801
         ]
        },
        {
         "fill": "toself",
         "fillcolor": "#FF0000",
         "line": {
          "color": "#CC0000",
          "width": 1
         },
         "marker": {
          "size": 1
         },
         "mode": "markers+lines",
         "showlegend": false,
         "type": "scatter",
         "x": [
          2521.5088817137644,
          4478.758698942683,
          4478.758698942683,
          2521.5088817137644,
          2521.5088817137644
         ],
         "y": [
          -1.0235987755383102,
          -1.0235987755383102,
          0.028761101901548958,
          0.028761101901548958,
          -1.0235987755383102
         ]
        },
        {
         "fill": "toself",
         "fillcolor": "#FF0000",
         "line": {
          "color": "#CC0000",
          "width": 1
         },
         "marker": {
          "size": 1
         },
         "mode": "markers+lines",
         "showlegend": false,
         "type": "scatter",
         "x": [
          2628.903901319705,
          4628.845928521505,
          4628.845928521505,
          2628.903901319705,
          2628.903901319705
         ],
         "y": [
          -1.07595865309814,
          -1.07595865309814,
          -0.023598775658280835,
          -0.023598775658280835,
          -1.07595865309814
         ]
        },
        {
         "fill": "toself",
         "fillcolor": "#FF0000",
         "line": {
          "color": "#CC0000",
          "width": 1
         },
         "marker": {
          "size": 1
         },
         "mode": "markers+lines",
         "showlegend": false,
         "type": "scatter",
         "x": [
          2731.1693314534614,
          4788.150823865765,
          4788.150823865765,
          2731.1693314534614,
          2731.1693314534614
         ],
         "y": [
          -1.1283185306579697,
          -1.1283185306579697,
          -0.07595865321811068,
          -0.07595865321811068,
          -1.1283185306579697
         ]
        },
        {
         "fill": "toself",
         "fillcolor": "#FF0000",
         "line": {
          "color": "#CC0000",
          "width": 1
         },
         "marker": {
          "size": 1
         },
         "mode": "markers+lines",
         "showlegend": false,
         "type": "scatter",
         "x": [
          2815.7779231018076,
          4955.34676084158,
          4955.34676084158,
          2815.7779231018076,
          2815.7779231018076
         ],
         "y": [
          -1.1806784082178,
          -1.1806784082178,
          -0.12831853077794053,
          -0.12831853077794053,
          -1.1806784082178
         ]
        },
        {
         "fill": "toself",
         "fillcolor": "#FF0000",
         "line": {
          "color": "#CC0000",
          "width": 1
         },
         "marker": {
          "size": 1
         },
         "mode": "markers+lines",
         "showlegend": false,
         "type": "scatter",
         "x": [
          2883.3877504849997,
          5120.407372043768,
          5120.407372043768,
          2883.3877504849997,
          2883.3877504849997
         ],
         "y": [
          -1.2330382857776296,
          -1.2330382857776296,
          -0.18067840833777032,
          -0.18067840833777032,
          -1.2330382857776296
         ]
        },
        {
         "fill": "toself",
         "fillcolor": "#FF0000",
         "line": {
          "color": "#CC0000",
          "width": 1
         },
         "marker": {
          "size": 1
         },
         "mode": "markers+lines",
         "showlegend": false,
         "type": "scatter",
         "x": [
          2943.3815947292596,
          5282.880237810243,
          5282.880237810243,
          2943.3815947292596,
          2943.3815947292596
         ],
         "y": [
          -1.2853981633374596,
          -1.2853981633374596,
          -0.23303828589760045,
          -0.23303828589760045,
          -1.2853981633374596
         ]
        },
        {
         "fill": "toself",
         "fillcolor": "#FF0000",
         "line": {
          "color": "#CC0000",
          "width": 1
         },
         "marker": {
          "size": 1
         },
         "mode": "markers+lines",
         "showlegend": false,
         "type": "scatter",
         "x": [
          2995.5950168776358,
          5442.320031309293,
          5442.320031309293,
          2995.5950168776358,
          2995.5950168776358
         ],
         "y": [
          -1.3377580408972898,
          -1.3377580408972898,
          -0.28539816345743024,
          -0.28539816345743024,
          -1.3377580408972898
         ]
        },
        {
         "fill": "toself",
         "fillcolor": "#FF0000",
         "line": {
          "color": "#CC0000",
          "width": 1
         },
         "marker": {
          "size": 1
         },
         "mode": "markers+lines",
         "showlegend": false,
         "type": "scatter",
         "x": [
          3039.884903569331,
          5598.28973914946,
          5598.28973914946,
          3039.884903569331,
          3039.884903569331
         ],
         "y": [
          -1.3901179184571197,
          -1.3901179184571197,
          -0.3377580410172601,
          -0.3377580410172601,
          -1.3901179184571197
         ]
        },
        {
         "fill": "toself",
         "fillcolor": "#FF0000",
         "line": {
          "color": "#CC0000",
          "width": 1
         },
         "marker": {
          "size": 1
         },
         "mode": "markers+lines",
         "showlegend": false,
         "type": "scatter",
         "x": [
          3076.1298593034744,
          5750.361859202875,
          5750.361859202875,
          3076.1298593034744,
          3076.1298593034744
         ],
         "y": [
          -1.4424777960169495,
          -1.4424777960169495,
          -0.3901179185770899,
          -0.3901179185770899,
          -1.4424777960169495
         ]
        },
        {
         "fill": "toself",
         "fillcolor": "#FF0000",
         "line": {
          "color": "#CC0000",
          "width": 1
         },
         "marker": {
          "size": 1
         },
         "mode": "markers+lines",
         "showlegend": false,
         "type": "scatter",
         "x": [
          3104.2305391757536,
          5898.119572358875,
          5898.119572358875,
          3104.2305391757536,
          3104.2305391757536
         ],
         "y": [
          -1.4948376735767794,
          -1.4948376735767794,
          -0.4424777961369197,
          -0.4424777961369197,
          -1.4948376735767794
         ]
        },
        {
         "fill": "toself",
         "fillcolor": "#FF0000",
         "line": {
          "color": "#CC0000",
          "width": 1
         },
         "marker": {
          "size": 1
         },
         "mode": "markers+lines",
         "showlegend": false,
         "type": "scatter",
         "x": [
          3124.1099211758938,
          6041.157884996214,
          6041.157884996214,
          3124.1099211758938,
          3124.1099211758938
         ],
         "y": [
          -1.5471975511366096,
          -1.5471975511366096,
          -0.49483767369674964,
          -0.49483767369674964,
          -1.5471975511366096
         ]
        },
        {
         "fill": "toself",
         "fillcolor": "#FF0000",
         "line": {
          "color": "#CC0000",
          "width": 1
         },
         "marker": {
          "size": 1
         },
         "mode": "markers+lines",
         "showlegend": false,
         "type": "scatter",
         "x": [
          3135.7135172996323,
          6179.084739042422,
          6179.084739042422,
          3135.7135172996323,
          3135.7135172996323
         ],
         "y": [
          -1.5995574286964396,
          -1.5995574286964396,
          -0.5471975512565794,
          -0.5471975512565794,
          -1.5995574286964396
         ]
        },
        {
         "fill": "toself",
         "fillcolor": "#FF0000",
         "line": {
          "color": "#CC0000",
          "width": 1
         },
         "marker": {
          "size": 1
         },
         "mode": "markers+lines",
         "showlegend": false,
         "type": "scatter",
         "x": [
          3133.9889038444053,
          6311.522086577739,
          6311.522086577739,
          3133.9889038444053,
          3133.9889038444053
         ],
         "y": [
          -1.6519173062562695,
          -1.6519173062562695,
          -0.5995574288164094,
          -0.5995574288164094,
          -1.6519173062562695
         ]
        },
        {
         "fill": "toself",
         "fillcolor": "#FF0000",
         "line": {
          "color": "#CC0000",
          "width": 1
         },
         "marker": {
          "size": 1
         },
         "mode": "markers+lines",
         "showlegend": false,
         "type": "scatter",
         "x": [
          3120.665421311045,
          6438.1069260381755,
          6438.1069260381755,
          3120.665421311045,
          3120.665421311045
         ],
         "y": [
          -1.7042771838160993,
          -1.7042771838160993,
          -0.6519173063762393,
          -0.6519173063762393,
          -1.7042771838160993
         ]
        },
        {
         "fill": "toself",
         "fillcolor": "#FF0000",
         "line": {
          "color": "#CC0000",
          "width": 1
         },
         "marker": {
          "size": 1
         },
         "mode": "markers+lines",
         "showlegend": false,
         "type": "scatter",
         "x": [
          3099.0755940359886,
          6558.492297177576,
          6558.492297177576,
          3099.0755940359886,
          3099.0755940359886
         ],
         "y": [
          -1.7566370613759292,
          -1.7566370613759292,
          -0.7042771839360691,
          -0.7042771839360691,
          -1.7566370613759292
         ]
        },
        {
         "fill": "toself",
         "fillcolor": "#FF0000",
         "line": {
          "color": "#CC0000",
          "width": 1
         },
         "marker": {
          "size": 1
         },
         "mode": "markers+lines",
         "showlegend": false,
         "type": "scatter",
         "x": [
          3069.278598235105,
          6672.348232061529,
          6672.348232061529,
          3069.278598235105,
          3069.278598235105
         ],
         "y": [
          -1.8089969389357594,
          -1.8089969389357594,
          -0.756637061495899,
          -0.756637061495899,
          -1.8089969389357594
         ]
        },
        {
         "fill": "toself",
         "fillcolor": "#FF0000",
         "line": {
          "color": "#CC0000",
          "width": 1
         },
         "marker": {
          "size": 1
         },
         "mode": "markers+lines",
         "showlegend": false,
         "type": "scatter",
         "x": [
          3031.3561054027214,
          6779.362659486551,
          6779.362659486551,
          3031.3561054027214,
          3031.3561054027214
         ],
         "y": [
          -1.8613568164955894,
          -1.8613568164955894,
          -0.8089969390557288,
          -0.8089969390557288,
          -1.8613568164955894
         ]
        },
        {
         "fill": "toself",
         "fillcolor": "#FF0000",
         "line": {
          "color": "#CC0000",
          "width": 1
         },
         "marker": {
          "size": 1
         },
         "mode": "markers+lines",
         "showlegend": false,
         "type": "scatter",
         "x": [
          2985.4120584557313,
          6879.242260345549,
          6879.242260345549,
          2985.4120584557313,
          2985.4120584557313
         ],
         "y": [
          -1.9137166940554193,
          -1.9137166940554193,
          -0.8613568166155587,
          -0.8613568166155587,
          -1.9137166940554193
         ]
        },
        {
         "fill": "toself",
         "fillcolor": "#FF0000",
         "line": {
          "color": "#CC0000",
          "width": 1
         },
         "marker": {
          "size": 1
         },
         "mode": "markers+lines",
         "showlegend": false,
         "type": "scatter",
         "x": [
          2931.5723868332843,
          6971.713271595114,
          6971.713271595114,
          2931.5723868332843,
          2931.5723868332843
         ],
         "y": [
          -1.9660765716152495,
          -1.9660765716152495,
          -0.9137166941753886,
          -0.9137166941753886,
          -1.9660765716152495
         ]
        },
        {
         "fill": "toself",
         "fillcolor": "#FF0000",
         "line": {
          "color": "#CC0000",
          "width": 1
         },
         "marker": {
          "size": 1
         },
         "mode": "markers+lines",
         "showlegend": false,
         "type": "scatter",
         "x": [
          2869.9846613329482,
          7056.522236620995,
          7056.522236620995,
          2869.9846613329482,
          2869.9846613329482
         ],
         "y": [
          -2.0184364491750793,
          -2.0184364491750793,
          -0.9660765717352185,
          -0.9660765717352185,
          -2.0184364491750793
         ]
        },
        {
         "fill": "toself",
         "fillcolor": "#FF0000",
         "line": {
          "color": "#CC0000",
          "width": 1
         },
         "marker": {
          "size": 1
         },
         "mode": "markers+lines",
         "showlegend": false,
         "type": "scatter",
         "x": [
          2800.8176896294103,
          7133.43669994505,
          7133.43669994505,
          2800.8176896294103,
          2800.8176896294103
         ],
         "y": [
          -2.0707963267349094,
          -2.0707963267349094,
          -1.0184364492950486,
          -1.0184364492950486,
          -2.0707963267349094
         ]
        },
        {
         "fill": "toself",
         "fillcolor": "#FF0000",
         "line": {
          "color": "#CC0000",
          "width": 1
         },
         "marker": {
          "size": 1
         },
         "mode": "markers+lines",
         "showlegend": false,
         "type": "scatter",
         "x": [
          2724.261053584371,
          7202.245844369572,
          7202.245844369572,
          2724.261053584371,
          2724.261053584371
         ],
         "y": [
          -2.123156204294739,
          -2.123156204294739,
          -1.0707963268548784,
          -1.0707963268548784,
          -2.123156204294739
         ]
        },
        {
         "fill": "toself",
         "fillcolor": "#FF0000",
         "line": {
          "color": "#CC0000",
          "width": 1
         },
         "marker": {
          "size": 1
         },
         "mode": "markers+lines",
         "showlegend": false,
         "type": "scatter",
         "x": [
          2640.524589615842,
          7262.761068812556,
          7262.761068812556,
          2640.524589615842,
          2640.524589615842
         ],
         "y": [
          -2.1755160818545694,
          -2.1755160818545694,
          -1.1231562044147085,
          -1.1231562044147085,
          -2.1755160818545694
         ]
        },
        {
         "fill": "toself",
         "fillcolor": "#FF0000",
         "line": {
          "color": "#CC0000",
          "width": 1
         },
         "marker": {
          "size": 1
         },
         "mode": "markers+lines",
         "showlegend": false,
         "type": "scatter",
         "x": [
          2549.8378135511157,
          7314.8165052501645,
          7314.8165052501645,
          2549.8378135511157,
          2549.8378135511157
         ],
         "y": [
          -2.227875959414399,
          -2.227875959414399,
          -1.1755160819745383,
          -1.1755160819745383,
          -2.227875959414399
         ]
        },
        {
         "fill": "toself",
         "fillcolor": "#FF0000",
         "line": {
          "color": "#CC0000",
          "width": 1
         },
         "marker": {
          "size": 1
         },
         "mode": "markers+lines",
         "showlegend": false,
         "type": "scatter",
         "x": [
          2452.44929153982,
          7358.269473349452,
          7358.269473349452,
          2452.44929153982,
          2452.44929153982
         ],
         "y": [
          -2.2802358369742293,
          -2.2802358369742293,
          -1.2278759595343685,
          -1.2278759595343685,
          -2.2802358369742293
         ]
        },
        {
         "fill": "toself",
         "fillcolor": "#FF0000",
         "line": {
          "color": "#CC0000",
          "width": 1
         },
         "marker": {
          "size": 1
         },
         "mode": "markers+lines",
         "showlegend": false,
         "type": "scatter",
         "x": [
          2348.6259587513973,
          7393.000871545239,
          7393.000871545239,
          2348.6259587513973,
          2348.6259587513973
         ],
         "y": [
          -2.332595714534059,
          -2.332595714534059,
          -1.2802358370941982,
          -1.2802358370941982,
          -2.332595714534059
         ]
        },
        {
         "fill": "toself",
         "fillcolor": "#FF0000",
         "line": {
          "color": "#CC0000",
          "width": 1
         },
         "marker": {
          "size": 1
         },
         "mode": "markers+lines",
         "showlegend": false,
         "type": "scatter",
         "x": [
          2238.6523877243476,
          7418.915503489219,
          7418.915503489219,
          2238.6523877243476,
          2238.6523877243476
         ],
         "y": [
          -2.3849555920938887,
          -2.3849555920938887,
          -1.3325957146540284,
          -1.3325957146540284,
          -2.3849555920938887
         ]
        },
        {
         "fill": "toself",
         "fillcolor": "#FF0000",
         "line": {
          "color": "#CC0000",
          "width": 1
         },
         "marker": {
          "size": 1
         },
         "mode": "markers+lines",
         "showlegend": false,
         "type": "scatter",
         "x": [
          2122.8300083726886,
          7435.942338976536,
          7435.942338976536,
          2122.8300083726886,
          2122.8300083726886
         ],
         "y": [
          -2.4373154696537185,
          -2.4373154696537185,
          -1.3849555922138586,
          -1.3849555922138586,
          -2.4373154696537185
         ]
        },
        {
         "fill": "toself",
         "fillcolor": "#FF0000",
         "line": {
          "color": "#CC0000",
          "width": 1
         },
         "marker": {
          "size": 1
         },
         "mode": "markers+lines",
         "showlegend": false,
         "type": "scatter",
         "x": [
          2001.4762817875085,
          7444.034708634641,
          7444.034708634641,
          2001.4762817875085,
          2001.4762817875085
         ],
         "y": [
          -2.489675347213548,
          -2.489675347213548,
          -1.4373154697736887,
          -1.4373154697736887,
          -2.489675347213548
         ]
        },
        {
         "fill": "toself",
         "fillcolor": "#FF0000",
         "line": {
          "color": "#CC0000",
          "width": 1
         },
         "marker": {
          "size": 1
         },
         "mode": "markers+lines",
         "showlegend": false,
         "type": "scatter",
         "x": [
          1874.923830098182,
          7444.034708634641,
          7444.034708634641,
          1874.923830098182,
          1874.923830098182
         ],
         "y": [
          -2.542035224773378,
          -2.542035224773378,
          -1.4896753473335187,
          -1.4896753473335187,
          -2.542035224773378
         ]
        },
        {
         "fill": "toself",
         "fillcolor": "#FF0000",
         "line": {
          "color": "#CC0000",
          "width": 1
         },
         "marker": {
          "size": 1
         },
         "mode": "markers+lines",
         "showlegend": false,
         "type": "scatter",
         "x": [
          1743.5195247782362,
          7443.170431840796,
          7443.170431840796,
          1743.5195247782362,
          1743.5195247782362
         ],
         "y": [
          -2.5943951023332077,
          -2.5943951023332077,
          -1.5420352248933487,
          -1.5420352248933487,
          -2.5943951023332077
         ]
        },
        {
         "fill": "toself",
         "fillcolor": "#FF0000",
         "line": {
          "color": "#CC0000",
          "width": 1
         },
         "marker": {
          "size": 1
         },
         "mode": "markers+lines",
         "showlegend": false,
         "type": "scatter",
         "x": [
          1607.623535894752,
          7433.351877517618,
          7433.351877517618,
          1607.623535894752,
          1607.623535894752
         ],
         "y": [
          -2.646754979893037,
          -2.646754979893037,
          -1.5943951024531786,
          -1.5943951024531786,
          -2.646754979893037
         ]
        },
        {
         "fill": "toself",
         "fillcolor": "#FF0000",
         "line": {
          "color": "#CC0000",
          "width": 1
         },
         "marker": {
          "size": 1
         },
         "mode": "markers+lines",
         "showlegend": false,
         "type": "scatter",
         "x": [
          1467.6083449072453,
          7414.605957640026,
          7414.605957640026,
          1467.6083449072453,
          1467.6083449072453
         ],
         "y": [
          -2.6991148574528667,
          -2.6991148574528667,
          -1.6467549800130086,
          -1.6467549800130086,
          -2.6991148574528667
         ]
        },
        {
         "fill": "toself",
         "fillcolor": "#FF0000",
         "line": {
          "color": "#CC0000",
          "width": 1
         },
         "marker": {
          "size": 1
         },
         "mode": "markers+lines",
         "showlegend": false,
         "type": "scatter",
         "x": [
          1323.8577237218751,
          7386.984053471393,
          7386.984053471393,
          1323.8577237218751,
          1323.8577237218751
         ],
         "y": [
          -2.7514747350126973,
          -2.7514747350126973,
          -1.6991148575728383,
          -1.6991148575728383,
          -2.7514747350126973
         ]
        },
        {
         "fill": "toself",
         "fillcolor": "#FF0000",
         "line": {
          "color": "#CC0000",
          "width": 1
         },
         "marker": {
          "size": 1
         },
         "mode": "markers+lines",
         "showlegend": false,
         "type": "scatter",
         "x": [
          1176.7656827993283,
          7350.561874731068,
          7350.561874731068,
          1176.7656827993283,
          1176.7656827993283
         ],
         "y": [
          -2.8038346125725266,
          -2.8038346125725266,
          -1.7514747351326683,
          -1.7514747351326683,
          -2.8038346125725266
         ]
        },
        {
         "fill": "toself",
         "fillcolor": "#FF0000",
         "line": {
          "color": "#CC0000",
          "width": 1
         },
         "marker": {
          "size": 1
         },
         "mode": "markers+lines",
         "showlegend": false,
         "type": "scatter",
         "x": [
          1026.7353911995315,
          7305.439252079306,
          7305.439252079306,
          1026.7353911995315,
          1026.7353911995315
         ],
         "y": [
          -2.8561944901323564,
          -2.8561944901323564,
          -1.8038346126924982,
          -1.8038346126924982,
          -2.8561944901323564
         ]
        },
        {
         "fill": "toself",
         "fillcolor": "#FF0000",
         "line": {
          "color": "#CC0000",
          "width": 1
         },
         "marker": {
          "size": 1
         },
         "mode": "markers+lines",
         "showlegend": false,
         "type": "scatter",
         "x": [
          874.1780715232812,
          7251.73986348836,
          7251.73986348836,
          874.1780715232812,
          874.1780715232812
         ],
         "y": [
          -2.908554367692186,
          -2.908554367692186,
          -1.856194490252328,
          -1.856194490252328,
          -2.908554367692186
         ]
        },
        {
         "fill": "toself",
         "fillcolor": "#FF0000",
         "line": {
          "color": "#CC0000",
          "width": 1
         },
         "marker": {
          "size": 1
         },
         "mode": "markers+lines",
         "showlegend": false,
         "type": "scatter",
         "x": [
          719.5118727796821,
          7189.61089524976,
          7189.61089524976,
          719.5118727796821,
          719.5118727796821
         ],
         "y": [
          -2.960914245252016,
          -2.960914245252016,
          -1.9085543678121577,
          -1.9085543678121577,
          -2.960914245252016
         ]
        },
        {
         "fill": "toself",
         "fillcolor": "#FF0000",
         "line": {
          "color": "#CC0000",
          "width": 1
         },
         "marker": {
          "size": 1
         },
         "mode": "markers+lines",
         "showlegend": false,
         "type": "scatter",
         "x": [
          563.1607242687742,
          7119.222638546913,
          7119.222638546913,
          563.1607242687742,
          563.1607242687742
         ],
         "y": [
          -3.0132741228118456,
          -3.0132741228118456,
          -1.9609142453719874,
          -1.9609142453719874,
          -3.0132741228118456
         ]
        },
        {
         "fill": "toself",
         "fillcolor": "#FF0000",
         "line": {
          "color": "#CC0000",
          "width": 1
         },
         "marker": {
          "size": 1
         },
         "mode": "markers+lines",
         "showlegend": false,
         "type": "scatter",
         "x": [
          405.55317362078904,
          7040.768022698815,
          7040.768022698815,
          405.55317362078904,
          405.55317362078904
         ],
         "y": [
          -3.0656340003716758,
          -3.0656340003716758,
          -2.013274122931817,
          -2.013274122931817,
          -3.0656340003716758
         ]
        },
        {
         "fill": "toself",
         "fillcolor": "#0000FF",
         "line": {
          "color": "#0000CC",
          "width": 1
         },
         "marker": {
          "size": 1
         },
         "mode": "markers+lines",
         "showlegend": false,
         "type": "scatter",
         "x": [
          -641.2040786243854,
          10,
          10,
          -641.2040786243854,
          -641.2040786243854
         ],
         "y": [
          -22.609490275911416,
          -22.609490275911416,
          16.47674904719307,
          16.47674904719307,
          -22.609490275911416
         ]
        },
        {
         "fill": "toself",
         "fillcolor": "#0000FF",
         "line": {
          "color": "#0000CC",
          "width": 1
         },
         "marker": {
          "size": 1
         },
         "mode": "markers+lines",
         "showlegend": false,
         "type": "scatter",
         "x": [
          -1292.4081572486762,
          -494.5212782510209,
          -494.5212782510209,
          -1292.4081572486762,
          -1292.4081572486762
         ],
         "y": [
          -22.609490275911416,
          -22.609490275911416,
          16.47674904719307,
          16.47674904719307,
          -22.609490275911416
         ]
        },
        {
         "fill": "toself",
         "fillcolor": "#0000FF",
         "line": {
          "color": "#0000CC",
          "width": 1
         },
         "marker": {
          "size": 1
         },
         "mode": "markers+lines",
         "showlegend": false,
         "type": "scatter",
         "x": [
          -1943.6122358729676,
          -998.0425565021364,
          -998.0425565021364,
          -1943.6122358729676,
          -1943.6122358729676
         ],
         "y": [
          -22.609490275911416,
          -22.609490275911416,
          16.47674904719307,
          16.47674904719307,
          -22.609490275911416
         ]
        },
        {
         "fill": "toself",
         "fillcolor": "#0000FF",
         "line": {
          "color": "#0000CC",
          "width": 1
         },
         "marker": {
          "size": 1
         },
         "mode": "markers+lines",
         "showlegend": false,
         "type": "scatter",
         "x": [
          -2594.816314497259,
          -1501.5638347532513,
          -1501.5638347532513,
          -2594.816314497259,
          -2594.816314497259
         ],
         "y": [
          -22.609490275911416,
          -22.609490275911416,
          16.47674904719307,
          16.47674904719307,
          -22.609490275911416
         ]
        },
        {
         "fill": "toself",
         "fillcolor": "#0000FF",
         "line": {
          "color": "#0000CC",
          "width": 1
         },
         "marker": {
          "size": 1
         },
         "mode": "markers+lines",
         "showlegend": false,
         "type": "scatter",
         "x": [
          -3246.0203931215497,
          -2005.0851130043661,
          -2005.0851130043661,
          -3246.0203931215497,
          -3246.0203931215497
         ],
         "y": [
          -22.609490275911416,
          -22.609490275911416,
          16.47674904719307,
          16.47674904719307,
          -22.609490275911416
         ]
        },
        {
         "fill": "toself",
         "fillcolor": "#0000FF",
         "line": {
          "color": "#0000CC",
          "width": 1
         },
         "marker": {
          "size": 1
         },
         "mode": "markers+lines",
         "showlegend": false,
         "type": "scatter",
         "x": [
          -3897.2244717458407,
          -2508.6063912554814,
          -2508.6063912554814,
          -3897.2244717458407,
          -3897.2244717458407
         ],
         "y": [
          -22.609490275911416,
          -22.609490275911416,
          16.47674904719307,
          16.47674904719307,
          -22.609490275911416
         ]
        },
        {
         "fill": "toself",
         "fillcolor": "#0000FF",
         "line": {
          "color": "#0000CC",
          "width": 1
         },
         "marker": {
          "size": 1
         },
         "mode": "markers+lines",
         "showlegend": false,
         "type": "scatter",
         "x": [
          -4548.428550370131,
          -3012.1276695065962,
          -3012.1276695065962,
          -4548.428550370131,
          -4548.428550370131
         ],
         "y": [
          -22.609490275911416,
          -22.609490275911416,
          16.47674904719307,
          16.47674904719307,
          -22.609490275911416
         ]
        },
        {
         "fill": "toself",
         "fillcolor": "#0000FF",
         "line": {
          "color": "#0000CC",
          "width": 1
         },
         "marker": {
          "size": 1
         },
         "mode": "markers+lines",
         "showlegend": false,
         "type": "scatter",
         "x": [
          -5199.632628994421,
          -3515.6489477577115,
          -3515.6489477577115,
          -5199.632628994421,
          -5199.632628994421
         ],
         "y": [
          -22.609490275911416,
          -22.609490275911416,
          16.47674904719307,
          16.47674904719307,
          -22.609490275911416
         ]
        },
        {
         "fill": "toself",
         "fillcolor": "#0000FF",
         "line": {
          "color": "#0000CC",
          "width": 1
         },
         "marker": {
          "size": 1
         },
         "mode": "markers+lines",
         "showlegend": false,
         "type": "scatter",
         "x": [
          -5850.836707618711,
          -4019.1702260088277,
          -4019.1702260088277,
          -5850.836707618711,
          -5850.836707618711
         ],
         "y": [
          -22.609490275911416,
          -22.609490275911416,
          16.47674904719307,
          16.47674904719307,
          -22.609490275911416
         ]
        },
        {
         "fill": "toself",
         "fillcolor": "#0000FF",
         "line": {
          "color": "#0000CC",
          "width": 1
         },
         "marker": {
          "size": 1
         },
         "mode": "markers+lines",
         "showlegend": false,
         "type": "scatter",
         "x": [
          -6502.040786243001,
          -4522.691504259943,
          -4522.691504259943,
          -6502.040786243001,
          -6502.040786243001
         ],
         "y": [
          -22.609490275911416,
          -22.609490275911416,
          16.47674904719307,
          16.47674904719307,
          -22.609490275911416
         ]
        },
        {
         "fill": "toself",
         "fillcolor": "#0000FF",
         "line": {
          "color": "#0000CC",
          "width": 1
         },
         "marker": {
          "size": 1
         },
         "mode": "markers+lines",
         "showlegend": false,
         "type": "scatter",
         "x": [
          -7153.244864867291,
          -5026.212782511059,
          -5026.212782511059,
          -7153.244864867291,
          -7153.244864867291
         ],
         "y": [
          -22.609490275911416,
          -22.609490275911416,
          16.47674904719307,
          16.47674904719307,
          -22.609490275911416
         ]
        },
        {
         "fill": "toself",
         "fillcolor": "#0000FF",
         "line": {
          "color": "#0000CC",
          "width": 1
         },
         "marker": {
          "size": 1
         },
         "mode": "markers+lines",
         "showlegend": false,
         "type": "scatter",
         "x": [
          -7804.44894349158,
          -5529.734060762175,
          -5529.734060762175,
          -7804.44894349158,
          -7804.44894349158
         ],
         "y": [
          -22.609490275911416,
          -22.609490275911416,
          16.47674904719307,
          16.47674904719307,
          -22.609490275911416
         ]
        },
        {
         "fill": "toself",
         "fillcolor": "#0000FF",
         "line": {
          "color": "#0000CC",
          "width": 1
         },
         "marker": {
          "size": 1
         },
         "mode": "markers+lines",
         "showlegend": false,
         "type": "scatter",
         "x": [
          -8455.65302211587,
          -6033.255339013292,
          -6033.255339013292,
          -8455.65302211587,
          -8455.65302211587
         ],
         "y": [
          -22.609490275911416,
          -22.609490275911416,
          16.47674904719307,
          16.47674904719307,
          -22.609490275911416
         ]
        },
        {
         "fill": "toself",
         "fillcolor": "#0000FF",
         "line": {
          "color": "#0000CC",
          "width": 1
         },
         "marker": {
          "size": 1
         },
         "mode": "markers+lines",
         "showlegend": false,
         "type": "scatter",
         "x": [
          -9106.85710074016,
          -6536.776617264407,
          -6536.776617264407,
          -9106.85710074016,
          -9106.85710074016
         ],
         "y": [
          -22.609490275911416,
          -22.609490275911416,
          16.47674904719307,
          16.47674904719307,
          -22.609490275911416
         ]
        },
        {
         "fill": "toself",
         "fillcolor": "#0000FF",
         "line": {
          "color": "#0000CC",
          "width": 1
         },
         "marker": {
          "size": 1
         },
         "mode": "markers+lines",
         "showlegend": false,
         "type": "scatter",
         "x": [
          -9758.061179364451,
          -7040.297895515523,
          -7040.297895515523,
          -9758.061179364451,
          -9758.061179364451
         ],
         "y": [
          -22.609490275911416,
          -22.609490275911416,
          16.47674904719307,
          16.47674904719307,
          -22.609490275911416
         ]
        },
        {
         "fill": "toself",
         "fillcolor": "#0000FF",
         "line": {
          "color": "#0000CC",
          "width": 1
         },
         "marker": {
          "size": 1
         },
         "mode": "markers+lines",
         "showlegend": false,
         "type": "scatter",
         "x": [
          -10409.265257988744,
          -7543.81917376664,
          -7543.81917376664,
          -10409.265257988744,
          -10409.265257988744
         ],
         "y": [
          -22.609490275911416,
          -22.609490275911416,
          16.47674904719307,
          16.47674904719307,
          -22.609490275911416
         ]
        },
        {
         "fill": "toself",
         "fillcolor": "#0000FF",
         "line": {
          "color": "#0000CC",
          "width": 1
         },
         "marker": {
          "size": 1
         },
         "mode": "markers+lines",
         "showlegend": false,
         "type": "scatter",
         "x": [
          -11060.469336613032,
          -8047.340452017755,
          -8047.340452017755,
          -11060.469336613032,
          -11060.469336613032
         ],
         "y": [
          -22.609490275911416,
          -22.609490275911416,
          16.47674904719307,
          16.47674904719307,
          -22.609490275911416
         ]
        },
        {
         "fill": "toself",
         "fillcolor": "#0000FF",
         "line": {
          "color": "#0000CC",
          "width": 1
         },
         "marker": {
          "size": 1
         },
         "mode": "markers+lines",
         "showlegend": false,
         "type": "scatter",
         "x": [
          -7804.44894349158,
          -5529.734060762175,
          -5529.734060762175,
          -7804.44894349158,
          -7804.44894349158
         ],
         "y": [
          -22.609490275911416,
          -22.609490275911416,
          16.47674904719307,
          16.47674904719307,
          -22.609490275911416
         ]
        },
        {
         "fill": "toself",
         "fillcolor": "#0000FF",
         "line": {
          "color": "#0000CC",
          "width": 1
         },
         "marker": {
          "size": 1
         },
         "mode": "markers+lines",
         "showlegend": false,
         "type": "scatter",
         "x": [
          -8455.65302211587,
          -6033.255339013292,
          -6033.255339013292,
          -8455.65302211587,
          -8455.65302211587
         ],
         "y": [
          -22.609490275911416,
          -22.609490275911416,
          16.47674904719307,
          16.47674904719307,
          -22.609490275911416
         ]
        },
        {
         "fill": "toself",
         "fillcolor": "#0000FF",
         "line": {
          "color": "#0000CC",
          "width": 1
         },
         "marker": {
          "size": 1
         },
         "mode": "markers+lines",
         "showlegend": false,
         "type": "scatter",
         "x": [
          -9106.85710074016,
          -6536.776617264407,
          -6536.776617264407,
          -9106.85710074016,
          -9106.85710074016
         ],
         "y": [
          -22.609490275911416,
          -22.609490275911416,
          16.47674904719307,
          16.47674904719307,
          -22.609490275911416
         ]
        },
        {
         "fill": "toself",
         "fillcolor": "#0000FF",
         "line": {
          "color": "#0000CC",
          "width": 1
         },
         "marker": {
          "size": 1
         },
         "mode": "markers+lines",
         "showlegend": false,
         "type": "scatter",
         "x": [
          -9758.061179364451,
          -7040.297895515523,
          -7040.297895515523,
          -9758.061179364451,
          -9758.061179364451
         ],
         "y": [
          -22.609490275911416,
          -22.609490275911416,
          16.47674904719307,
          16.47674904719307,
          -22.609490275911416
         ]
        },
        {
         "fill": "toself",
         "fillcolor": "#0000FF",
         "line": {
          "color": "#0000CC",
          "width": 1
         },
         "marker": {
          "size": 1
         },
         "mode": "markers+lines",
         "showlegend": false,
         "type": "scatter",
         "x": [
          -10409.265257988744,
          -7543.81917376664,
          -7543.81917376664,
          -10409.265257988744,
          -10409.265257988744
         ],
         "y": [
          -22.609490275911416,
          -22.609490275911416,
          16.47674904719307,
          16.47674904719307,
          -22.609490275911416
         ]
        },
        {
         "fill": "toself",
         "fillcolor": "#0000FF",
         "line": {
          "color": "#0000CC",
          "width": 1
         },
         "marker": {
          "size": 1
         },
         "mode": "markers+lines",
         "showlegend": false,
         "type": "scatter",
         "x": [
          -11060.469336613032,
          -8047.340452017755,
          -8047.340452017755,
          -11060.469336613032,
          -11060.469336613032
         ],
         "y": [
          -22.609490275911416,
          -22.609490275911416,
          16.47674904719307,
          16.47674904719307,
          -22.609490275911416
         ]
        },
        {
         "fill": "toself",
         "fillcolor": "#0000FF",
         "line": {
          "color": "#0000CC",
          "width": 1
         },
         "marker": {
          "size": 1
         },
         "mode": "markers+lines",
         "showlegend": false,
         "type": "scatter",
         "x": [
          -11711.673415237323,
          -8550.86173026887,
          -8550.86173026887,
          -11711.673415237323,
          -11711.673415237323
         ],
         "y": [
          -22.609490275911416,
          -22.609490275911416,
          16.47674904719307,
          16.47674904719307,
          -22.609490275911416
         ]
        },
        {
         "fill": "toself",
         "fillcolor": "#0000FF",
         "line": {
          "color": "#0000CC",
          "width": 1
         },
         "marker": {
          "size": 1
         },
         "mode": "markers+lines",
         "showlegend": false,
         "type": "scatter",
         "x": [
          -12362.877493861612,
          -9054.383008519986,
          -9054.383008519986,
          -12362.877493861612,
          -12362.877493861612
         ],
         "y": [
          -22.609490275911416,
          -22.609490275911416,
          16.47674904719307,
          16.47674904719307,
          -22.609490275911416
         ]
        },
        {
         "fill": "toself",
         "fillcolor": "#0000FF",
         "line": {
          "color": "#0000CC",
          "width": 1
         },
         "marker": {
          "size": 1
         },
         "mode": "markers+lines",
         "showlegend": false,
         "type": "scatter",
         "x": [
          -13014.081572485902,
          -9557.904286771103,
          -9557.904286771103,
          -13014.081572485902,
          -13014.081572485902
         ],
         "y": [
          -22.609490275911416,
          -22.609490275911416,
          16.47674904719307,
          16.47674904719307,
          -22.609490275911416
         ]
        },
        {
         "fill": "toself",
         "fillcolor": "#0000FF",
         "line": {
          "color": "#0000CC",
          "width": 1
         },
         "marker": {
          "size": 1
         },
         "mode": "markers+lines",
         "showlegend": false,
         "type": "scatter",
         "x": [
          -13665.285651110193,
          -10061.425565022219,
          -10061.425565022219,
          -13665.285651110193,
          -13665.285651110193
         ],
         "y": [
          -22.609490275911416,
          -22.609490275911416,
          16.47674904719307,
          16.47674904719307,
          -22.609490275911416
         ]
        },
        {
         "fill": "toself",
         "fillcolor": "#0000FF",
         "line": {
          "color": "#0000CC",
          "width": 1
         },
         "marker": {
          "size": 1
         },
         "mode": "markers+lines",
         "showlegend": false,
         "type": "scatter",
         "x": [
          -14316.489729734483,
          -10564.946843273334,
          -10564.946843273334,
          -14316.489729734483,
          -14316.489729734483
         ],
         "y": [
          -22.609490275911416,
          -22.609490275911416,
          16.47674904719307,
          16.47674904719307,
          -22.609490275911416
         ]
        },
        {
         "fill": "toself",
         "fillcolor": "#0000FF",
         "line": {
          "color": "#0000CC",
          "width": 1
         },
         "marker": {
          "size": 1
         },
         "mode": "markers+lines",
         "showlegend": false,
         "type": "scatter",
         "x": [
          -14967.693808358772,
          -11068.468121524449,
          -11068.468121524449,
          -14967.693808358772,
          -14967.693808358772
         ],
         "y": [
          -22.609490275911416,
          -22.609490275911416,
          16.47674904719307,
          16.47674904719307,
          -22.609490275911416
         ]
        },
        {
         "fill": "toself",
         "fillcolor": "#0000FF",
         "line": {
          "color": "#0000CC",
          "width": 1
         },
         "marker": {
          "size": 1
         },
         "mode": "markers+lines",
         "showlegend": false,
         "type": "scatter",
         "x": [
          -15618.897886983063,
          -11571.989399775566,
          -11571.989399775566,
          -15618.897886983063,
          -15618.897886983063
         ],
         "y": [
          -22.609490275911416,
          -22.609490275911416,
          16.47674904719307,
          16.47674904719307,
          -22.609490275911416
         ]
        },
        {
         "fill": "toself",
         "fillcolor": "#0000FF",
         "line": {
          "color": "#0000CC",
          "width": 1
         },
         "marker": {
          "size": 1
         },
         "mode": "markers+lines",
         "showlegend": false,
         "type": "scatter",
         "x": [
          -16270.101965607351,
          -12075.510678026681,
          -12075.510678026681,
          -16270.101965607351,
          -16270.101965607351
         ],
         "y": [
          -22.609490275911416,
          -22.609490275911416,
          16.47674904719307,
          16.47674904719307,
          -22.609490275911416
         ]
        },
        {
         "fill": "toself",
         "fillcolor": "#0000FF",
         "line": {
          "color": "#0000CC",
          "width": 1
         },
         "marker": {
          "size": 1
         },
         "mode": "markers+lines",
         "showlegend": false,
         "type": "scatter",
         "x": [
          -16921.306044231642,
          -12579.031956277799,
          -12579.031956277799,
          -16921.306044231642,
          -16921.306044231642
         ],
         "y": [
          -22.609490275911416,
          -22.609490275911416,
          16.47674904719307,
          16.47674904719307,
          -22.609490275911416
         ]
        },
        {
         "fill": "toself",
         "fillcolor": "#0000FF",
         "line": {
          "color": "#0000CC",
          "width": 1
         },
         "marker": {
          "size": 1
         },
         "mode": "markers+lines",
         "showlegend": false,
         "type": "scatter",
         "x": [
          -17572.510122855932,
          -13082.553234528914,
          -13082.553234528914,
          -17572.510122855932,
          -17572.510122855932
         ],
         "y": [
          -22.609490275911416,
          -22.609490275911416,
          16.47674904719307,
          16.47674904719307,
          -22.609490275911416
         ]
        },
        {
         "fill": "toself",
         "fillcolor": "#0000FF",
         "line": {
          "color": "#0000CC",
          "width": 1
         },
         "marker": {
          "size": 1
         },
         "mode": "markers+lines",
         "showlegend": false,
         "type": "scatter",
         "x": [
          -18223.714201480223,
          -13586.07451278003,
          -13586.07451278003,
          -18223.714201480223,
          -18223.714201480223
         ],
         "y": [
          -22.609490275911416,
          -22.609490275911416,
          16.47674904719307,
          16.47674904719307,
          -22.609490275911416
         ]
        },
        {
         "fill": "toself",
         "fillcolor": "#0000FF",
         "line": {
          "color": "#0000CC",
          "width": 1
         },
         "marker": {
          "size": 1
         },
         "mode": "markers+lines",
         "showlegend": false,
         "type": "scatter",
         "x": [
          -18874.91828010451,
          -14089.595791031146,
          -14089.595791031146,
          -18874.91828010451,
          -18874.91828010451
         ],
         "y": [
          -22.609490275911416,
          -22.609490275911416,
          16.47674904719307,
          16.47674904719307,
          -22.609490275911416
         ]
        },
        {
         "fill": "toself",
         "fillcolor": "#0000FF",
         "line": {
          "color": "#0000CC",
          "width": 1
         },
         "marker": {
          "size": 1
         },
         "mode": "markers+lines",
         "showlegend": false,
         "type": "scatter",
         "x": [
          -19526.122358728804,
          -14593.117069282262,
          -14593.117069282262,
          -19526.122358728804,
          -19526.122358728804
         ],
         "y": [
          -22.609490275911416,
          -22.609490275911416,
          16.47674904719307,
          16.47674904719307,
          -22.609490275911416
         ]
        },
        {
         "fill": "toself",
         "fillcolor": "#0000FF",
         "line": {
          "color": "#0000CC",
          "width": 1
         },
         "marker": {
          "size": 1
         },
         "mode": "markers+lines",
         "showlegend": false,
         "type": "scatter",
         "x": [
          -20177.326437353095,
          -15096.638347533379,
          -15096.638347533379,
          -20177.326437353095,
          -20177.326437353095
         ],
         "y": [
          -22.609490275911416,
          -22.609490275911416,
          16.47674904719307,
          16.47674904719307,
          -22.609490275911416
         ]
        },
        {
         "fill": "toself",
         "fillcolor": "#0000FF",
         "line": {
          "color": "#0000CC",
          "width": 1
         },
         "marker": {
          "size": 1
         },
         "mode": "markers+lines",
         "showlegend": false,
         "type": "scatter",
         "x": [
          -20828.530515977385,
          -15600.159625784498,
          -15600.159625784498,
          -20828.530515977385,
          -20828.530515977385
         ],
         "y": [
          -22.609490275911416,
          -22.609490275911416,
          16.47674904719307,
          16.47674904719307,
          -22.609490275911416
         ]
        },
        {
         "fill": "toself",
         "fillcolor": "#0000FF",
         "line": {
          "color": "#0000CC",
          "width": 1
         },
         "marker": {
          "size": 1
         },
         "mode": "markers+lines",
         "showlegend": false,
         "type": "scatter",
         "x": [
          -21479.73459460168,
          -16103.680904035615,
          -16103.680904035615,
          -21479.73459460168,
          -21479.73459460168
         ],
         "y": [
          -22.609490275911416,
          -22.609490275911416,
          16.47674904719307,
          16.47674904719307,
          -22.609490275911416
         ]
        },
        {
         "fill": "toself",
         "fillcolor": "#0000FF",
         "line": {
          "color": "#0000CC",
          "width": 1
         },
         "marker": {
          "size": 1
         },
         "mode": "markers+lines",
         "showlegend": false,
         "type": "scatter",
         "x": [
          -22130.93867322597,
          -16607.202182286732,
          -16607.202182286732,
          -22130.93867322597,
          -22130.93867322597
         ],
         "y": [
          -22.609490275911416,
          -22.609490275911416,
          16.47674904719307,
          16.47674904719307,
          -22.609490275911416
         ]
        },
        {
         "fill": "toself",
         "fillcolor": "#0000FF",
         "line": {
          "color": "#0000CC",
          "width": 1
         },
         "marker": {
          "size": 1
         },
         "mode": "markers+lines",
         "showlegend": false,
         "type": "scatter",
         "x": [
          -22782.14275185026,
          -17110.72346053785,
          -17110.72346053785,
          -22782.14275185026,
          -22782.14275185026
         ],
         "y": [
          -22.609490275911416,
          -22.609490275911416,
          16.47674904719307,
          16.47674904719307,
          -22.609490275911416
         ]
        },
        {
         "fill": "toself",
         "fillcolor": "#0000FF",
         "line": {
          "color": "#0000CC",
          "width": 1
         },
         "marker": {
          "size": 1
         },
         "mode": "markers+lines",
         "showlegend": false,
         "type": "scatter",
         "x": [
          -23433.346830474555,
          -17614.24473878897,
          -17614.24473878897,
          -23433.346830474555,
          -23433.346830474555
         ],
         "y": [
          -22.609490275911416,
          -22.609490275911416,
          16.47674904719307,
          16.47674904719307,
          -22.609490275911416
         ]
        },
        {
         "fill": "toself",
         "fillcolor": "#0000FF",
         "line": {
          "color": "#0000CC",
          "width": 1
         },
         "marker": {
          "size": 1
         },
         "mode": "markers+lines",
         "showlegend": false,
         "type": "scatter",
         "x": [
          -24084.550909098845,
          -18117.766017040085,
          -18117.766017040085,
          -24084.550909098845,
          -24084.550909098845
         ],
         "y": [
          -22.609490275911416,
          -22.609490275911416,
          16.47674904719307,
          16.47674904719307,
          -22.609490275911416
         ]
        },
        {
         "fill": "toself",
         "fillcolor": "#0000FF",
         "line": {
          "color": "#0000CC",
          "width": 1
         },
         "marker": {
          "size": 1
         },
         "mode": "markers+lines",
         "showlegend": false,
         "type": "scatter",
         "x": [
          -24735.754987723136,
          -18621.287295291204,
          -18621.287295291204,
          -24735.754987723136,
          -24735.754987723136
         ],
         "y": [
          -22.609490275911416,
          -22.609490275911416,
          16.47674904719307,
          16.47674904719307,
          -22.609490275911416
         ]
        },
        {
         "fill": "toself",
         "fillcolor": "#0000FF",
         "line": {
          "color": "#0000CC",
          "width": 1
         },
         "marker": {
          "size": 1
         },
         "mode": "markers+lines",
         "showlegend": false,
         "type": "scatter",
         "x": [
          -25386.95906634743,
          -19124.808573542323,
          -19124.808573542323,
          -25386.95906634743,
          -25386.95906634743
         ],
         "y": [
          -22.609490275911416,
          -22.609490275911416,
          16.47674904719307,
          16.47674904719307,
          -22.609490275911416
         ]
        },
        {
         "fill": "toself",
         "fillcolor": "#0000FF",
         "line": {
          "color": "#0000CC",
          "width": 1
         },
         "marker": {
          "size": 1
         },
         "mode": "markers+lines",
         "showlegend": false,
         "type": "scatter",
         "x": [
          -26038.16314497172,
          -19628.329851793438,
          -19628.329851793438,
          -26038.16314497172,
          -26038.16314497172
         ],
         "y": [
          -22.609490275911416,
          -22.609490275911416,
          16.47674904719307,
          16.47674904719307,
          -22.609490275911416
         ]
        },
        {
         "fill": "toself",
         "fillcolor": "#0000FF",
         "line": {
          "color": "#0000CC",
          "width": 1
         },
         "marker": {
          "size": 1
         },
         "mode": "markers+lines",
         "showlegend": false,
         "type": "scatter",
         "x": [
          -26689.36722359601,
          -20131.851130044557,
          -20131.851130044557,
          -26689.36722359601,
          -26689.36722359601
         ],
         "y": [
          -22.609490275911416,
          -22.609490275911416,
          16.47674904719307,
          16.47674904719307,
          -22.609490275911416
         ]
        },
        {
         "fill": "toself",
         "fillcolor": "#0000FF",
         "line": {
          "color": "#0000CC",
          "width": 1
         },
         "marker": {
          "size": 1
         },
         "mode": "markers+lines",
         "showlegend": false,
         "type": "scatter",
         "x": [
          -27340.571302220305,
          -20635.372408295676,
          -20635.372408295676,
          -27340.571302220305,
          -27340.571302220305
         ],
         "y": [
          -22.609490275911416,
          -22.609490275911416,
          16.47674904719307,
          16.47674904719307,
          -22.609490275911416
         ]
        },
        {
         "fill": "toself",
         "fillcolor": "#0000FF",
         "line": {
          "color": "#0000CC",
          "width": 1
         },
         "marker": {
          "size": 1
         },
         "mode": "markers+lines",
         "showlegend": false,
         "type": "scatter",
         "x": [
          -27991.775380844596,
          -21138.89368654679,
          -21138.89368654679,
          -27991.775380844596,
          -27991.775380844596
         ],
         "y": [
          -22.609490275911416,
          -22.609490275911416,
          16.47674904719307,
          16.47674904719307,
          -22.609490275911416
         ]
        },
        {
         "fill": "toself",
         "fillcolor": "#0000FF",
         "line": {
          "color": "#0000CC",
          "width": 1
         },
         "marker": {
          "size": 1
         },
         "mode": "markers+lines",
         "showlegend": false,
         "type": "scatter",
         "x": [
          -28642.979459468886,
          -21642.41496479791,
          -21642.41496479791,
          -28642.979459468886,
          -28642.979459468886
         ],
         "y": [
          -22.609490275911416,
          -22.609490275911416,
          16.47674904719307,
          16.47674904719307,
          -22.609490275911416
         ]
        },
        {
         "fill": "toself",
         "fillcolor": "#0000FF",
         "line": {
          "color": "#0000CC",
          "width": 1
         },
         "marker": {
          "size": 1
         },
         "mode": "markers+lines",
         "showlegend": false,
         "type": "scatter",
         "x": [
          -29294.18353809318,
          -22145.93624304903,
          -22145.93624304903,
          -29294.18353809318,
          -29294.18353809318
         ],
         "y": [
          -22.609490275911416,
          -22.609490275911416,
          16.47674904719307,
          16.47674904719307,
          -22.609490275911416
         ]
        },
        {
         "fill": "toself",
         "fillcolor": "#0000FF",
         "line": {
          "color": "#0000CC",
          "width": 1
         },
         "marker": {
          "size": 1
         },
         "mode": "markers+lines",
         "showlegend": false,
         "type": "scatter",
         "x": [
          -29945.38761671747,
          -22649.457521300144,
          -22649.457521300144,
          -29945.38761671747,
          -29945.38761671747
         ],
         "y": [
          -22.609490275911416,
          -22.609490275911416,
          16.47674904719307,
          16.47674904719307,
          -22.609490275911416
         ]
        },
        {
         "fill": "toself",
         "fillcolor": "#0000FF",
         "line": {
          "color": "#0000CC",
          "width": 1
         },
         "marker": {
          "size": 1
         },
         "mode": "markers+lines",
         "showlegend": false,
         "type": "scatter",
         "x": [
          -30596.59169534176,
          -23152.978799551263,
          -23152.978799551263,
          -30596.59169534176,
          -30596.59169534176
         ],
         "y": [
          -22.609490275911416,
          -22.609490275911416,
          16.47674904719307,
          16.47674904719307,
          -22.609490275911416
         ]
        },
        {
         "fill": "toself",
         "fillcolor": "#0000FF",
         "line": {
          "color": "#0000CC",
          "width": 1
         },
         "marker": {
          "size": 1
         },
         "mode": "markers+lines",
         "showlegend": false,
         "type": "scatter",
         "x": [
          -31247.795773966056,
          -23656.500077802382,
          -23656.500077802382,
          -31247.795773966056,
          -31247.795773966056
         ],
         "y": [
          -22.609490275911416,
          -22.609490275911416,
          16.47674904719307,
          16.47674904719307,
          -22.609490275911416
         ]
        },
        {
         "fill": "toself",
         "fillcolor": "#0000FF",
         "line": {
          "color": "#0000CC",
          "width": 1
         },
         "marker": {
          "size": 1
         },
         "mode": "markers+lines",
         "showlegend": false,
         "type": "scatter",
         "x": [
          -31898.999852590347,
          -24160.021356053498,
          -24160.021356053498,
          -31898.999852590347,
          -31898.999852590347
         ],
         "y": [
          -22.609490275911416,
          -22.609490275911416,
          16.47674904719307,
          16.47674904719307,
          -22.609490275911416
         ]
        },
        {
         "fill": "toself",
         "fillcolor": "#0000FF",
         "line": {
          "color": "#0000CC",
          "width": 1
         },
         "marker": {
          "size": 1
         },
         "mode": "markers+lines",
         "showlegend": false,
         "type": "scatter",
         "x": [
          -32550.203931214637,
          -24663.542634304617,
          -24663.542634304617,
          -32550.203931214637,
          -32550.203931214637
         ],
         "y": [
          -22.609490275911416,
          -22.609490275911416,
          16.47674904719307,
          16.47674904719307,
          -22.609490275911416
         ]
        },
        {
         "fill": "toself",
         "fillcolor": "#0000FF",
         "line": {
          "color": "#0000CC",
          "width": 1
         },
         "marker": {
          "size": 1
         },
         "mode": "markers+lines",
         "showlegend": false,
         "type": "scatter",
         "x": [
          -33201.40800983893,
          -25167.063912555735,
          -25167.063912555735,
          -33201.40800983893,
          -33201.40800983893
         ],
         "y": [
          -22.609490275911416,
          -22.609490275911416,
          16.47674904719307,
          16.47674904719307,
          -22.609490275911416
         ]
        },
        {
         "fill": "toself",
         "fillcolor": "#0000FF",
         "line": {
          "color": "#0000CC",
          "width": 1
         },
         "marker": {
          "size": 1
         },
         "mode": "markers+lines",
         "showlegend": false,
         "type": "scatter",
         "x": [
          -33852.61208846322,
          -25670.585190806854,
          -25670.585190806854,
          -33852.61208846322,
          -33852.61208846322
         ],
         "y": [
          -22.609490275911416,
          -22.609490275911416,
          16.47674904719307,
          16.47674904719307,
          -22.609490275911416
         ]
        },
        {
         "fill": "toself",
         "fillcolor": "#0000FF",
         "line": {
          "color": "#0000CC",
          "width": 1
         },
         "marker": {
          "size": 1
         },
         "mode": "markers+lines",
         "showlegend": false,
         "type": "scatter",
         "x": [
          -34503.81616708751,
          -26174.10646905797,
          -26174.10646905797,
          -34503.81616708751,
          -34503.81616708751
         ],
         "y": [
          -22.609490275911416,
          -22.609490275911416,
          16.47674904719307,
          16.47674904719307,
          -22.609490275911416
         ]
        },
        {
         "fill": "toself",
         "fillcolor": "#0000FF",
         "line": {
          "color": "#0000CC",
          "width": 1
         },
         "marker": {
          "size": 1
         },
         "mode": "markers+lines",
         "showlegend": false,
         "type": "scatter",
         "x": [
          -35155.02024571181,
          -26677.62774730909,
          -26677.62774730909,
          -35155.02024571181,
          -35155.02024571181
         ],
         "y": [
          -22.609490275911416,
          -22.609490275911416,
          16.47674904719307,
          16.47674904719307,
          -22.609490275911416
         ]
        },
        {
         "fill": "toself",
         "fillcolor": "#0000FF",
         "line": {
          "color": "#0000CC",
          "width": 1
         },
         "marker": {
          "size": 1
         },
         "mode": "markers+lines",
         "showlegend": false,
         "type": "scatter",
         "x": [
          -35806.22432433609,
          -27181.149025560208,
          -27181.149025560208,
          -35806.22432433609,
          -35806.22432433609
         ],
         "y": [
          -22.609490275911416,
          -22.609490275911416,
          16.47674904719307,
          16.47674904719307,
          -22.609490275911416
         ]
        },
        {
         "fill": "toself",
         "fillcolor": "#0000FF",
         "line": {
          "color": "#0000CC",
          "width": 1
         },
         "marker": {
          "size": 1
         },
         "mode": "markers+lines",
         "showlegend": false,
         "type": "scatter",
         "x": [
          -36457.42840296039,
          -27684.670303811323,
          -27684.670303811323,
          -36457.42840296039,
          -36457.42840296039
         ],
         "y": [
          -22.609490275911416,
          -22.609490275911416,
          16.47674904719307,
          16.47674904719307,
          -22.609490275911416
         ]
        },
        {
         "fill": "toself",
         "fillcolor": "#0000FF",
         "line": {
          "color": "#0000CC",
          "width": 1
         },
         "marker": {
          "size": 1
         },
         "mode": "markers+lines",
         "showlegend": false,
         "type": "scatter",
         "x": [
          -37108.63248158468,
          -28188.19158206244,
          -28188.19158206244,
          -37108.63248158468,
          -37108.63248158468
         ],
         "y": [
          -22.609490275911416,
          -22.609490275911416,
          16.47674904719307,
          16.47674904719307,
          -22.609490275911416
         ]
        },
        {
         "fill": "toself",
         "fillcolor": "#0000FF",
         "line": {
          "color": "#0000CC",
          "width": 1
         },
         "marker": {
          "size": 1
         },
         "mode": "markers+lines",
         "showlegend": false,
         "type": "scatter",
         "x": [
          -37759.83656020897,
          -28691.71286031356,
          -28691.71286031356,
          -37759.83656020897,
          -37759.83656020897
         ],
         "y": [
          -22.609490275911416,
          -22.609490275911416,
          16.47674904719307,
          16.47674904719307,
          -22.609490275911416
         ]
        },
        {
         "fill": "toself",
         "fillcolor": "#0000FF",
         "line": {
          "color": "#0000CC",
          "width": 1
         },
         "marker": {
          "size": 1
         },
         "mode": "markers+lines",
         "showlegend": false,
         "type": "scatter",
         "x": [
          -38411.04063883327,
          -29195.234138564676,
          -29195.234138564676,
          -38411.04063883327,
          -38411.04063883327
         ],
         "y": [
          -22.609490275911416,
          -22.609490275911416,
          16.47674904719307,
          16.47674904719307,
          -22.609490275911416
         ]
        },
        {
         "fill": "toself",
         "fillcolor": "#0000FF",
         "line": {
          "color": "#0000CC",
          "width": 1
         },
         "marker": {
          "size": 1
         },
         "mode": "markers+lines",
         "showlegend": false,
         "type": "scatter",
         "x": [
          -39062.244717457565,
          -29698.755416815788,
          -29698.755416815788,
          -39062.244717457565,
          -39062.244717457565
         ],
         "y": [
          -22.609490275911416,
          -22.609490275911416,
          16.47674904719307,
          16.47674904719307,
          -22.609490275911416
         ]
        },
        {
         "fill": "toself",
         "fillcolor": "#0000FF",
         "line": {
          "color": "#0000CC",
          "width": 1
         },
         "marker": {
          "size": 1
         },
         "mode": "markers+lines",
         "showlegend": false,
         "type": "scatter",
         "x": [
          -39713.44879608185,
          -30202.276695066907,
          -30202.276695066907,
          -39713.44879608185,
          -39713.44879608185
         ],
         "y": [
          -22.609490275911416,
          -22.609490275911416,
          16.47674904719307,
          16.47674904719307,
          -22.609490275911416
         ]
        },
        {
         "fill": "toself",
         "fillcolor": "#0000FF",
         "line": {
          "color": "#0000CC",
          "width": 1
         },
         "marker": {
          "size": 1
         },
         "mode": "markers+lines",
         "showlegend": false,
         "type": "scatter",
         "x": [
          -40364.652874706146,
          -30705.797973318025,
          -30705.797973318025,
          -40364.652874706146,
          -40364.652874706146
         ],
         "y": [
          -22.609490275911416,
          -22.609490275911416,
          16.47674904719307,
          16.47674904719307,
          -22.609490275911416
         ]
        },
        {
         "fill": "toself",
         "fillcolor": "#0000FF",
         "line": {
          "color": "#0000CC",
          "width": 1
         },
         "marker": {
          "size": 1
         },
         "mode": "markers+lines",
         "showlegend": false,
         "type": "scatter",
         "x": [
          -41015.85695333044,
          -31209.31925156914,
          -31209.31925156914,
          -41015.85695333044,
          -41015.85695333044
         ],
         "y": [
          -22.609490275911416,
          -22.609490275911416,
          16.47674904719307,
          16.47674904719307,
          -22.609490275911416
         ]
        },
        {
         "fill": "toself",
         "fillcolor": "#0000FF",
         "line": {
          "color": "#0000CC",
          "width": 1
         },
         "marker": {
          "size": 1
         },
         "mode": "markers+lines",
         "showlegend": false,
         "type": "scatter",
         "x": [
          -41667.06103195473,
          -31712.84052982026,
          -31712.84052982026,
          -41667.06103195473,
          -41667.06103195473
         ],
         "y": [
          -22.609490275911416,
          -22.609490275911416,
          16.47674904719307,
          16.47674904719307,
          -22.609490275911416
         ]
        },
        {
         "fill": "toself",
         "fillcolor": "#0000FF",
         "line": {
          "color": "#0000CC",
          "width": 1
         },
         "marker": {
          "size": 1
         },
         "mode": "markers+lines",
         "showlegend": false,
         "type": "scatter",
         "x": [
          -42318.26511057902,
          -32216.36180807138,
          -32216.36180807138,
          -42318.26511057902,
          -42318.26511057902
         ],
         "y": [
          -22.609490275911416,
          -22.609490275911416,
          16.47674904719307,
          16.47674904719307,
          -22.609490275911416
         ]
        },
        {
         "fill": "toself",
         "fillcolor": "#0000FF",
         "line": {
          "color": "#0000CC",
          "width": 1
         },
         "marker": {
          "size": 1
         },
         "mode": "markers+lines",
         "showlegend": false,
         "type": "scatter",
         "x": [
          -42969.469189203315,
          -32719.883086322494,
          -32719.883086322494,
          -42969.469189203315,
          -42969.469189203315
         ],
         "y": [
          -22.609490275911416,
          -22.609490275911416,
          16.47674904719307,
          16.47674904719307,
          -22.609490275911416
         ]
        },
        {
         "fill": "toself",
         "fillcolor": "#0000FF",
         "line": {
          "color": "#0000CC",
          "width": 1
         },
         "marker": {
          "size": 1
         },
         "mode": "markers+lines",
         "showlegend": false,
         "type": "scatter",
         "x": [
          -43620.6732678276,
          -33223.40436457361,
          -33223.40436457361,
          -43620.6732678276,
          -43620.6732678276
         ],
         "y": [
          -22.609490275911416,
          -22.609490275911416,
          16.47674904719307,
          16.47674904719307,
          -22.609490275911416
         ]
        },
        {
         "fill": "toself",
         "fillcolor": "#0000FF",
         "line": {
          "color": "#0000CC",
          "width": 1
         },
         "marker": {
          "size": 1
         },
         "mode": "markers+lines",
         "showlegend": false,
         "type": "scatter",
         "x": [
          -44271.877346451896,
          -33726.92564282473,
          -33726.92564282473,
          -44271.877346451896,
          -44271.877346451896
         ],
         "y": [
          -22.609490275911416,
          -22.609490275911416,
          16.47674904719307,
          16.47674904719307,
          -22.609490275911416
         ]
        },
        {
         "fill": "toself",
         "fillcolor": "#0000FF",
         "line": {
          "color": "#0000CC",
          "width": 1
         },
         "marker": {
          "size": 1
         },
         "mode": "markers+lines",
         "showlegend": false,
         "type": "scatter",
         "x": [
          -44923.08142507619,
          -34230.44692107585,
          -34230.44692107585,
          -44923.08142507619,
          -44923.08142507619
         ],
         "y": [
          -22.609490275911416,
          -22.609490275911416,
          16.47674904719307,
          16.47674904719307,
          -22.609490275911416
         ]
        },
        {
         "fill": "toself",
         "fillcolor": "#0000FF",
         "line": {
          "color": "#0000CC",
          "width": 1
         },
         "marker": {
          "size": 1
         },
         "mode": "markers+lines",
         "showlegend": false,
         "type": "scatter",
         "x": [
          -45574.28550370048,
          -34733.96819932696,
          -34733.96819932696,
          -45574.28550370048,
          -45574.28550370048
         ],
         "y": [
          -22.609490275911416,
          -22.609490275911416,
          16.47674904719307,
          16.47674904719307,
          -22.609490275911416
         ]
        },
        {
         "fill": "toself",
         "fillcolor": "#0000FF",
         "line": {
          "color": "#0000CC",
          "width": 1
         },
         "marker": {
          "size": 1
         },
         "mode": "markers+lines",
         "showlegend": false,
         "type": "scatter",
         "x": [
          -46225.48958232477,
          -35237.489477578085,
          -35237.489477578085,
          -46225.48958232477,
          -46225.48958232477
         ],
         "y": [
          -22.609490275911416,
          -22.609490275911416,
          16.47674904719307,
          16.47674904719307,
          -22.609490275911416
         ]
        },
        {
         "fill": "toself",
         "fillcolor": "#0000FF",
         "line": {
          "color": "#0000CC",
          "width": 1
         },
         "marker": {
          "size": 1
         },
         "mode": "markers+lines",
         "showlegend": false,
         "type": "scatter",
         "x": [
          -46876.693660949066,
          -35741.0107558292,
          -35741.0107558292,
          -46876.693660949066,
          -46876.693660949066
         ],
         "y": [
          -22.609490275911416,
          -22.609490275911416,
          16.47674904719307,
          16.47674904719307,
          -22.609490275911416
         ]
        },
        {
         "fill": "toself",
         "fillcolor": "#0000FF",
         "line": {
          "color": "#0000CC",
          "width": 1
         },
         "marker": {
          "size": 1
         },
         "mode": "markers+lines",
         "showlegend": false,
         "type": "scatter",
         "x": [
          -47527.89773957335,
          -36244.532034080315,
          -36244.532034080315,
          -47527.89773957335,
          -47527.89773957335
         ],
         "y": [
          -22.609490275911416,
          -22.609490275911416,
          16.47674904719307,
          16.47674904719307,
          -22.609490275911416
         ]
        },
        {
         "fill": "toself",
         "fillcolor": "#0000FF",
         "line": {
          "color": "#0000CC",
          "width": 1
         },
         "marker": {
          "size": 1
         },
         "mode": "markers+lines",
         "showlegend": false,
         "type": "scatter",
         "x": [
          -48179.10181819765,
          -36748.05331233144,
          -36748.05331233144,
          -48179.10181819765,
          -48179.10181819765
         ],
         "y": [
          -22.609490275911416,
          -22.609490275911416,
          16.47674904719307,
          16.47674904719307,
          -22.609490275911416
         ]
        },
        {
         "fill": "toself",
         "fillcolor": "#0000FF",
         "line": {
          "color": "#0000CC",
          "width": 1
         },
         "marker": {
          "size": 1
         },
         "mode": "markers+lines",
         "showlegend": false,
         "type": "scatter",
         "x": [
          -48830.30589682194,
          -37251.57459058255,
          -37251.57459058255,
          -48830.30589682194,
          -48830.30589682194
         ],
         "y": [
          -22.609490275911416,
          -22.609490275911416,
          16.47674904719307,
          16.47674904719307,
          -22.609490275911416
         ]
        },
        {
         "fill": "toself",
         "fillcolor": "#0000FF",
         "line": {
          "color": "#0000CC",
          "width": 1
         },
         "marker": {
          "size": 1
         },
         "mode": "markers+lines",
         "showlegend": false,
         "type": "scatter",
         "x": [
          -49481.50997544623,
          -37755.09586883367,
          -37755.09586883367,
          -49481.50997544623,
          -49481.50997544623
         ],
         "y": [
          -22.609490275911416,
          -22.609490275911416,
          16.47674904719307,
          16.47674904719307,
          -22.609490275911416
         ]
        },
        {
         "fill": "toself",
         "fillcolor": "#0000FF",
         "line": {
          "color": "#0000CC",
          "width": 1
         },
         "marker": {
          "size": 1
         },
         "mode": "markers+lines",
         "showlegend": false,
         "type": "scatter",
         "x": [
          -50132.71405407052,
          -38258.61714708479,
          -38258.61714708479,
          -50132.71405407052,
          -50132.71405407052
         ],
         "y": [
          -22.609490275911416,
          -22.609490275911416,
          16.47674904719307,
          16.47674904719307,
          -22.609490275911416
         ]
        },
        {
         "fill": "toself",
         "fillcolor": "#0000FF",
         "line": {
          "color": "#0000CC",
          "width": 1
         },
         "marker": {
          "size": 1
         },
         "mode": "markers+lines",
         "showlegend": false,
         "type": "scatter",
         "x": [
          -50783.91813269482,
          -38762.13842533591,
          -38762.13842533591,
          -50783.91813269482,
          -50783.91813269482
         ],
         "y": [
          -22.609490275911416,
          -22.609490275911416,
          16.47674904719307,
          16.47674904719307,
          -22.609490275911416
         ]
        },
        {
         "fill": "toself",
         "fillcolor": "#0000FF",
         "line": {
          "color": "#0000CC",
          "width": 1
         },
         "marker": {
          "size": 1
         },
         "mode": "markers+lines",
         "showlegend": false,
         "type": "scatter",
         "x": [
          -51435.1222113191,
          -39265.65970358702,
          -39265.65970358702,
          -51435.1222113191,
          -51435.1222113191
         ],
         "y": [
          -22.609490275911416,
          -22.609490275911416,
          16.47674904719307,
          16.47674904719307,
          -22.609490275911416
         ]
        },
        {
         "fill": "toself",
         "fillcolor": "#0000FF",
         "line": {
          "color": "#0000CC",
          "width": 1
         },
         "marker": {
          "size": 1
         },
         "mode": "markers+lines",
         "showlegend": false,
         "type": "scatter",
         "x": [
          -52086.3262899434,
          -39769.180981838144,
          -39769.180981838144,
          -52086.3262899434,
          -52086.3262899434
         ],
         "y": [
          -22.609490275911416,
          -22.609490275911416,
          16.47674904719307,
          16.47674904719307,
          -22.609490275911416
         ]
        },
        {
         "fill": "toself",
         "fillcolor": "#0000FF",
         "line": {
          "color": "#0000CC",
          "width": 1
         },
         "marker": {
          "size": 1
         },
         "mode": "markers+lines",
         "showlegend": false,
         "type": "scatter",
         "x": [
          -52737.530368567684,
          -40272.70226008926,
          -40272.70226008926,
          -52737.530368567684,
          -52737.530368567684
         ],
         "y": [
          -22.609490275911416,
          -22.609490275911416,
          16.47674904719307,
          16.47674904719307,
          -22.609490275911416
         ]
        },
        {
         "fill": "toself",
         "fillcolor": "#0000FF",
         "line": {
          "color": "#0000CC",
          "width": 1
         },
         "marker": {
          "size": 1
         },
         "mode": "markers+lines",
         "showlegend": false,
         "type": "scatter",
         "x": [
          -53388.73444719198,
          -40776.22353834038,
          -40776.22353834038,
          -53388.73444719198,
          -53388.73444719198
         ],
         "y": [
          -22.609490275911416,
          -22.609490275911416,
          16.47674904719307,
          16.47674904719307,
          -22.609490275911416
         ]
        },
        {
         "fill": "toself",
         "fillcolor": "#0000FF",
         "line": {
          "color": "#0000CC",
          "width": 1
         },
         "marker": {
          "size": 1
         },
         "mode": "markers+lines",
         "showlegend": false,
         "type": "scatter",
         "x": [
          -54039.93852581627,
          -41279.7448165915,
          -41279.7448165915,
          -54039.93852581627,
          -54039.93852581627
         ],
         "y": [
          -22.609490275911416,
          -22.609490275911416,
          16.47674904719307,
          16.47674904719307,
          -22.609490275911416
         ]
        },
        {
         "fill": "toself",
         "fillcolor": "#0000FF",
         "line": {
          "color": "#0000CC",
          "width": 1
         },
         "marker": {
          "size": 1
         },
         "mode": "markers+lines",
         "showlegend": false,
         "type": "scatter",
         "x": [
          -54691.14260444056,
          -41783.26609484261,
          -41783.26609484261,
          -54691.14260444056,
          -54691.14260444056
         ],
         "y": [
          -22.609490275911416,
          -22.609490275911416,
          16.47674904719307,
          16.47674904719307,
          -22.609490275911416
         ]
        },
        {
         "fill": "toself",
         "fillcolor": "#0000FF",
         "line": {
          "color": "#0000CC",
          "width": 1
         },
         "marker": {
          "size": 1
         },
         "mode": "markers+lines",
         "showlegend": false,
         "type": "scatter",
         "x": [
          -55342.346683064854,
          -42286.787373093735,
          -42286.787373093735,
          -55342.346683064854,
          -55342.346683064854
         ],
         "y": [
          -22.609490275911416,
          -22.609490275911416,
          16.47674904719307,
          16.47674904719307,
          -22.609490275911416
         ]
        },
        {
         "fill": "toself",
         "fillcolor": "#0000FF",
         "line": {
          "color": "#0000CC",
          "width": 1
         },
         "marker": {
          "size": 1
         },
         "mode": "markers+lines",
         "showlegend": false,
         "type": "scatter",
         "x": [
          -55993.55076168915,
          -42790.30865134485,
          -42790.30865134485,
          -55993.55076168915,
          -55993.55076168915
         ],
         "y": [
          -22.609490275911416,
          -22.609490275911416,
          16.47674904719307,
          16.47674904719307,
          -22.609490275911416
         ]
        },
        {
         "fill": "toself",
         "fillcolor": "#0000FF",
         "line": {
          "color": "#0000CC",
          "width": 1
         },
         "marker": {
          "size": 1
         },
         "mode": "markers+lines",
         "showlegend": false,
         "type": "scatter",
         "x": [
          -56644.754840313435,
          -43293.829929595966,
          -43293.829929595966,
          -56644.754840313435,
          -56644.754840313435
         ],
         "y": [
          -22.609490275911416,
          -22.609490275911416,
          16.47674904719307,
          16.47674904719307,
          -22.609490275911416
         ]
        },
        {
         "fill": "toself",
         "fillcolor": "#0000FF",
         "line": {
          "color": "#0000CC",
          "width": 1
         },
         "marker": {
          "size": 1
         },
         "mode": "markers+lines",
         "showlegend": false,
         "type": "scatter",
         "x": [
          -57295.95891893773,
          -43797.35120784709,
          -43797.35120784709,
          -57295.95891893773,
          -57295.95891893773
         ],
         "y": [
          -22.609490275911416,
          -22.609490275911416,
          16.47674904719307,
          16.47674904719307,
          -22.609490275911416
         ]
        },
        {
         "fill": "toself",
         "fillcolor": "#0000FF",
         "line": {
          "color": "#0000CC",
          "width": 1
         },
         "marker": {
          "size": 1
         },
         "mode": "markers+lines",
         "showlegend": false,
         "type": "scatter",
         "x": [
          -57947.16299756202,
          -44300.872486098204,
          -44300.872486098204,
          -57947.16299756202,
          -57947.16299756202
         ],
         "y": [
          -22.609490275911416,
          -22.609490275911416,
          16.47674904719307,
          16.47674904719307,
          -22.609490275911416
         ]
        },
        {
         "fill": "toself",
         "fillcolor": "#0000FF",
         "line": {
          "color": "#0000CC",
          "width": 1
         },
         "marker": {
          "size": 1
         },
         "mode": "markers+lines",
         "showlegend": false,
         "type": "scatter",
         "x": [
          -58598.36707618631,
          -44804.39376434932,
          -44804.39376434932,
          -58598.36707618631,
          -58598.36707618631
         ],
         "y": [
          -22.609490275911416,
          -22.609490275911416,
          16.47674904719307,
          16.47674904719307,
          -22.609490275911416
         ]
        },
        {
         "fill": "toself",
         "fillcolor": "#0000FF",
         "line": {
          "color": "#0000CC",
          "width": 1
         },
         "marker": {
          "size": 1
         },
         "mode": "markers+lines",
         "showlegend": false,
         "type": "scatter",
         "x": [
          -59249.571154810605,
          -45307.91504260044,
          -45307.91504260044,
          -59249.571154810605,
          -59249.571154810605
         ],
         "y": [
          -22.609490275911416,
          -22.609490275911416,
          16.47674904719307,
          16.47674904719307,
          -22.609490275911416
         ]
        },
        {
         "fill": "toself",
         "fillcolor": "#0000FF",
         "line": {
          "color": "#0000CC",
          "width": 1
         },
         "marker": {
          "size": 1
         },
         "mode": "markers+lines",
         "showlegend": false,
         "type": "scatter",
         "x": [
          -59900.7752334349,
          -45811.43632085156,
          -45811.43632085156,
          -59900.7752334349,
          -59900.7752334349
         ],
         "y": [
          -22.609490275911416,
          -22.609490275911416,
          16.47674904719307,
          16.47674904719307,
          -22.609490275911416
         ]
        },
        {
         "fill": "toself",
         "fillcolor": "#0000FF",
         "line": {
          "color": "#0000CC",
          "width": 1
         },
         "marker": {
          "size": 1
         },
         "mode": "markers+lines",
         "showlegend": false,
         "type": "scatter",
         "x": [
          -60551.979312059186,
          -46314.95759910267,
          -46314.95759910267,
          -60551.979312059186,
          -60551.979312059186
         ],
         "y": [
          -22.609490275911416,
          -22.609490275911416,
          16.47674904719307,
          16.47674904719307,
          -22.609490275911416
         ]
        },
        {
         "fill": "toself",
         "fillcolor": "#0000FF",
         "line": {
          "color": "#0000CC",
          "width": 1
         },
         "marker": {
          "size": 1
         },
         "mode": "markers+lines",
         "showlegend": false,
         "type": "scatter",
         "x": [
          -61203.18339068348,
          -46818.478877353795,
          -46818.478877353795,
          -61203.18339068348,
          -61203.18339068348
         ],
         "y": [
          -22.609490275911416,
          -22.609490275911416,
          16.47674904719307,
          16.47674904719307,
          -22.609490275911416
         ]
        },
        {
         "fill": "toself",
         "fillcolor": "#0000FF",
         "line": {
          "color": "#0000CC",
          "width": 1
         },
         "marker": {
          "size": 1
         },
         "mode": "markers+lines",
         "showlegend": false,
         "type": "scatter",
         "x": [
          -61854.387469307774,
          -47322.00015560491,
          -47322.00015560491,
          -61854.387469307774,
          -61854.387469307774
         ],
         "y": [
          -22.609490275911416,
          -22.609490275911416,
          16.47674904719307,
          16.47674904719307,
          -22.609490275911416
         ]
        },
        {
         "fill": "toself",
         "fillcolor": "#0000FF",
         "line": {
          "color": "#0000CC",
          "width": 1
         },
         "marker": {
          "size": 1
         },
         "mode": "markers+lines",
         "showlegend": false,
         "type": "scatter",
         "x": [
          -62505.59154793206,
          -47825.521433856025,
          -47825.521433856025,
          -62505.59154793206,
          -62505.59154793206
         ],
         "y": [
          -22.609490275911416,
          -22.609490275911416,
          16.47674904719307,
          16.47674904719307,
          -22.609490275911416
         ]
        },
        {
         "fill": "toself",
         "fillcolor": "#0000FF",
         "line": {
          "color": "#0000CC",
          "width": 1
         },
         "marker": {
          "size": 1
         },
         "mode": "markers+lines",
         "showlegend": false,
         "type": "scatter",
         "x": [
          -63156.795626556355,
          -48329.04271210715,
          -48329.04271210715,
          -63156.795626556355,
          -63156.795626556355
         ],
         "y": [
          -22.609490275911416,
          -22.609490275911416,
          16.47674904719307,
          16.47674904719307,
          -22.609490275911416
         ]
        },
        {
         "fill": "toself",
         "fillcolor": "#0000FF",
         "line": {
          "color": "#0000CC",
          "width": 1
         },
         "marker": {
          "size": 1
         },
         "mode": "markers+lines",
         "showlegend": false,
         "type": "scatter",
         "x": [
          -63807.99970518065,
          -48832.56399035826,
          -48832.56399035826,
          -63807.99970518065,
          -63807.99970518065
         ],
         "y": [
          -22.609490275911416,
          -22.609490275911416,
          16.47674904719307,
          16.47674904719307,
          -22.609490275911416
         ]
        },
        {
         "fill": "toself",
         "fillcolor": "#0000FF",
         "line": {
          "color": "#0000CC",
          "width": 1
         },
         "marker": {
          "size": 1
         },
         "mode": "markers+lines",
         "showlegend": false,
         "type": "scatter",
         "x": [
          -64459.20378380494,
          -49336.08526860938,
          -49336.08526860938,
          -64459.20378380494,
          -64459.20378380494
         ],
         "y": [
          -22.609490275911416,
          -22.609490275911416,
          16.47674904719307,
          16.47674904719307,
          -22.609490275911416
         ]
        },
        {
         "fill": "toself",
         "fillcolor": "#0000FF",
         "line": {
          "color": "#0000CC",
          "width": 1
         },
         "marker": {
          "size": 1
         },
         "mode": "markers+lines",
         "showlegend": false,
         "type": "scatter",
         "x": [
          -65110.40786242923,
          -49839.6065468605,
          -49839.6065468605,
          -65110.40786242923,
          -65110.40786242923
         ],
         "y": [
          -22.609490275911416,
          -22.609490275911416,
          16.47674904719307,
          16.47674904719307,
          -22.609490275911416
         ]
        },
        {
         "fill": "toself",
         "fillcolor": "#0000FF",
         "line": {
          "color": "#0000CC",
          "width": 1
         },
         "marker": {
          "size": 1
         },
         "mode": "markers+lines",
         "showlegend": false,
         "type": "scatter",
         "x": [
          -65761.61194105352,
          -50343.12782511162,
          -50343.12782511162,
          -65761.61194105352,
          -65761.61194105352
         ],
         "y": [
          -22.609490275911416,
          -22.609490275911416,
          16.47674904719307,
          16.47674904719307,
          -22.609490275911416
         ]
        },
        {
         "fill": "toself",
         "fillcolor": "#0000FF",
         "line": {
          "color": "#0000CC",
          "width": 1
         },
         "marker": {
          "size": 1
         },
         "mode": "markers+lines",
         "showlegend": false,
         "type": "scatter",
         "x": [
          -66412.81601967782,
          -50846.64910336273,
          -50846.64910336273,
          -66412.81601967782,
          -66412.81601967782
         ],
         "y": [
          -22.609490275911416,
          -22.609490275911416,
          16.47674904719307,
          16.47674904719307,
          -22.609490275911416
         ]
        },
        {
         "fill": "toself",
         "fillcolor": "#0000FF",
         "line": {
          "color": "#0000CC",
          "width": 1
         },
         "marker": {
          "size": 1
         },
         "mode": "markers+lines",
         "showlegend": false,
         "type": "scatter",
         "x": [
          -67064.0200983021,
          -51350.170381613854,
          -51350.170381613854,
          -67064.0200983021,
          -67064.0200983021
         ],
         "y": [
          -22.609490275911416,
          -22.609490275911416,
          16.47674904719307,
          16.47674904719307,
          -22.609490275911416
         ]
        },
        {
         "fill": "toself",
         "fillcolor": "#0000FF",
         "line": {
          "color": "#0000CC",
          "width": 1
         },
         "marker": {
          "size": 1
         },
         "mode": "markers+lines",
         "showlegend": false,
         "type": "scatter",
         "x": [
          -67715.2241769264,
          -51853.69165986497,
          -51853.69165986497,
          -67715.2241769264,
          -67715.2241769264
         ],
         "y": [
          -22.609490275911416,
          -22.609490275911416,
          16.47674904719307,
          16.47674904719307,
          -22.609490275911416
         ]
        },
        {
         "fill": "toself",
         "fillcolor": "#0000FF",
         "line": {
          "color": "#0000CC",
          "width": 1
         },
         "marker": {
          "size": 1
         },
         "mode": "markers+lines",
         "showlegend": false,
         "type": "scatter",
         "x": [
          -68366.4282555507,
          -52357.21293811609,
          -52357.21293811609,
          -68366.4282555507,
          -68366.4282555507
         ],
         "y": [
          -22.609490275911416,
          -22.609490275911416,
          16.47674904719307,
          16.47674904719307,
          -22.609490275911416
         ]
        },
        {
         "fill": "toself",
         "fillcolor": "#0000FF",
         "line": {
          "color": "#0000CC",
          "width": 1
         },
         "marker": {
          "size": 1
         },
         "mode": "markers+lines",
         "showlegend": false,
         "type": "scatter",
         "x": [
          -69017.63233417498,
          -52860.73421636721,
          -52860.73421636721,
          -69017.63233417498,
          -69017.63233417498
         ],
         "y": [
          -22.609490275911416,
          -22.609490275911416,
          16.47674904719307,
          16.47674904719307,
          -22.609490275911416
         ]
        },
        {
         "fill": "toself",
         "fillcolor": "#0000FF",
         "line": {
          "color": "#0000CC",
          "width": 1
         },
         "marker": {
          "size": 1
         },
         "mode": "markers+lines",
         "showlegend": false,
         "type": "scatter",
         "x": [
          -69668.83641279927,
          -53364.25549461832,
          -53364.25549461832,
          -69668.83641279927,
          -69668.83641279927
         ],
         "y": [
          -22.609490275911416,
          -22.609490275911416,
          16.47674904719307,
          16.47674904719307,
          -22.609490275911416
         ]
        },
        {
         "fill": "toself",
         "fillcolor": "#0000FF",
         "line": {
          "color": "#0000CC",
          "width": 1
         },
         "marker": {
          "size": 1
         },
         "mode": "markers+lines",
         "showlegend": false,
         "type": "scatter",
         "x": [
          -70320.04049142357,
          -53867.776772869445,
          -53867.776772869445,
          -70320.04049142357,
          -70320.04049142357
         ],
         "y": [
          -22.609490275911416,
          -22.609490275911416,
          16.47674904719307,
          16.47674904719307,
          -22.609490275911416
         ]
        },
        {
         "fill": "toself",
         "fillcolor": "#0000FF",
         "line": {
          "color": "#0000CC",
          "width": 1
         },
         "marker": {
          "size": 1
         },
         "mode": "markers+lines",
         "showlegend": false,
         "type": "scatter",
         "x": [
          -70971.24457004786,
          -54371.29805112056,
          -54371.29805112056,
          -70971.24457004786,
          -70971.24457004786
         ],
         "y": [
          -22.609490275911416,
          -22.609490275911416,
          16.47674904719307,
          16.47674904719307,
          -22.609490275911416
         ]
        },
        {
         "fill": "toself",
         "fillcolor": "#0000FF",
         "line": {
          "color": "#0000CC",
          "width": 1
         },
         "marker": {
          "size": 1
         },
         "mode": "markers+lines",
         "showlegend": false,
         "type": "scatter",
         "x": [
          -71622.44864867214,
          -54874.819329371676,
          -54874.819329371676,
          -71622.44864867214,
          -71622.44864867214
         ],
         "y": [
          -22.609490275911416,
          -22.609490275911416,
          16.47674904719307,
          16.47674904719307,
          -22.609490275911416
         ]
        },
        {
         "fill": "toself",
         "fillcolor": "#0000FF",
         "line": {
          "color": "#0000CC",
          "width": 1
         },
         "marker": {
          "size": 1
         },
         "mode": "markers+lines",
         "showlegend": false,
         "type": "scatter",
         "x": [
          -72273.65272729644,
          -55378.3406076228,
          -55378.3406076228,
          -72273.65272729644,
          -72273.65272729644
         ],
         "y": [
          -22.609490275911416,
          -22.609490275911416,
          16.47674904719307,
          16.47674904719307,
          -22.609490275911416
         ]
        },
        {
         "fill": "toself",
         "fillcolor": "#0000FF",
         "line": {
          "color": "#0000CC",
          "width": 1
         },
         "marker": {
          "size": 1
         },
         "mode": "markers+lines",
         "showlegend": false,
         "type": "scatter",
         "x": [
          -72924.85680592073,
          -55881.861885873914,
          -55881.861885873914,
          -72924.85680592073,
          -72924.85680592073
         ],
         "y": [
          -22.609490275911416,
          -22.609490275911416,
          16.47674904719307,
          16.47674904719307,
          -22.609490275911416
         ]
        },
        {
         "fill": "toself",
         "fillcolor": "#0000FF",
         "line": {
          "color": "#0000CC",
          "width": 1
         },
         "marker": {
          "size": 1
         },
         "mode": "markers+lines",
         "showlegend": false,
         "type": "scatter",
         "x": [
          -73576.06088454502,
          -56385.38316412503,
          -56385.38316412503,
          -73576.06088454502,
          -73576.06088454502
         ],
         "y": [
          -22.609490275911416,
          -22.609490275911416,
          16.47674904719307,
          16.47674904719307,
          -22.609490275911416
         ]
        },
        {
         "fill": "toself",
         "fillcolor": "#0000FF",
         "line": {
          "color": "#0000CC",
          "width": 1
         },
         "marker": {
          "size": 1
         },
         "mode": "markers+lines",
         "showlegend": false,
         "type": "scatter",
         "x": [
          -74227.2649631693,
          -56888.90444237615,
          -56888.90444237615,
          -74227.2649631693,
          -74227.2649631693
         ],
         "y": [
          -22.609490275911416,
          -22.609490275911416,
          16.47674904719307,
          16.47674904719307,
          -22.609490275911416
         ]
        },
        {
         "fill": "toself",
         "fillcolor": "#0000FF",
         "line": {
          "color": "#0000CC",
          "width": 1
         },
         "marker": {
          "size": 1
         },
         "mode": "markers+lines",
         "showlegend": false,
         "type": "scatter",
         "x": [
          -74878.46904179359,
          -57392.42572062726,
          -57392.42572062726,
          -74878.46904179359,
          -74878.46904179359
         ],
         "y": [
          -22.609490275911416,
          -22.609490275911416,
          16.47674904719307,
          16.47674904719307,
          -22.609490275911416
         ]
        },
        {
         "fill": "toself",
         "fillcolor": "#0000FF",
         "line": {
          "color": "#0000CC",
          "width": 1
         },
         "marker": {
          "size": 1
         },
         "mode": "markers+lines",
         "showlegend": false,
         "type": "scatter",
         "x": [
          -75529.67312041788,
          -57895.94699887837,
          -57895.94699887837,
          -75529.67312041788,
          -75529.67312041788
         ],
         "y": [
          -22.609490275911416,
          -22.609490275911416,
          16.47674904719307,
          16.47674904719307,
          -22.609490275911416
         ]
        },
        {
         "fill": "toself",
         "fillcolor": "#0000FF",
         "line": {
          "color": "#0000CC",
          "width": 1
         },
         "marker": {
          "size": 1
         },
         "mode": "markers+lines",
         "showlegend": false,
         "type": "scatter",
         "x": [
          -76180.87719904215,
          -58399.468277129476,
          -58399.468277129476,
          -76180.87719904215,
          -76180.87719904215
         ],
         "y": [
          -22.609490275911416,
          -22.609490275911416,
          16.47674904719307,
          16.47674904719307,
          -22.609490275911416
         ]
        },
        {
         "fill": "toself",
         "fillcolor": "#0000FF",
         "line": {
          "color": "#0000CC",
          "width": 1
         },
         "marker": {
          "size": 1
         },
         "mode": "markers+lines",
         "showlegend": false,
         "type": "scatter",
         "x": [
          -76832.08127766644,
          -58902.98955538059,
          -58902.98955538059,
          -76832.08127766644,
          -76832.08127766644
         ],
         "y": [
          -22.609490275911416,
          -22.609490275911416,
          16.47674904719307,
          16.47674904719307,
          -22.609490275911416
         ]
        },
        {
         "fill": "toself",
         "fillcolor": "#0000FF",
         "line": {
          "color": "#0000CC",
          "width": 1
         },
         "marker": {
          "size": 1
         },
         "mode": "markers+lines",
         "showlegend": false,
         "type": "scatter",
         "x": [
          -77483.28535629074,
          -59406.5108336317,
          -59406.5108336317,
          -77483.28535629074,
          -77483.28535629074
         ],
         "y": [
          -22.609490275911416,
          -22.609490275911416,
          16.47674904719307,
          16.47674904719307,
          -22.609490275911416
         ]
        },
        {
         "fill": "toself",
         "fillcolor": "#0000FF",
         "line": {
          "color": "#0000CC",
          "width": 1
         },
         "marker": {
          "size": 1
         },
         "mode": "markers+lines",
         "showlegend": false,
         "type": "scatter",
         "x": [
          -78134.48943491504,
          -59910.0321118828,
          -59910.0321118828,
          -78134.48943491504,
          -78134.48943491504
         ],
         "y": [
          -22.609490275911416,
          -22.609490275911416,
          16.47674904719307,
          16.47674904719307,
          -22.609490275911416
         ]
        },
        {
         "fill": "toself",
         "fillcolor": "#0000FF",
         "line": {
          "color": "#0000CC",
          "width": 1
         },
         "marker": {
          "size": 1
         },
         "mode": "markers+lines",
         "showlegend": false,
         "type": "scatter",
         "x": [
          -78785.69351353934,
          -60413.55339013389,
          -60413.55339013389,
          -78785.69351353934,
          -78785.69351353934
         ],
         "y": [
          -22.609490275911416,
          -22.609490275911416,
          16.47674904719307,
          16.47674904719307,
          -22.609490275911416
         ]
        },
        {
         "fill": "toself",
         "fillcolor": "#0000FF",
         "line": {
          "color": "#0000CC",
          "width": 1
         },
         "marker": {
          "size": 1
         },
         "mode": "markers+lines",
         "showlegend": false,
         "type": "scatter",
         "x": [
          -79436.89759216364,
          -60917.07466838499,
          -60917.07466838499,
          -79436.89759216364,
          -79436.89759216364
         ],
         "y": [
          -22.609490275911416,
          -22.609490275911416,
          16.47674904719307,
          16.47674904719307,
          -22.609490275911416
         ]
        },
        {
         "fill": "toself",
         "fillcolor": "#0000FF",
         "line": {
          "color": "#0000CC",
          "width": 1
         },
         "marker": {
          "size": 1
         },
         "mode": "markers+lines",
         "showlegend": false,
         "type": "scatter",
         "x": [
          -80088.10167078793,
          -61420.59594663609,
          -61420.59594663609,
          -80088.10167078793,
          -80088.10167078793
         ],
         "y": [
          -22.609490275911416,
          -22.609490275911416,
          16.47674904719307,
          16.47674904719307,
          -22.609490275911416
         ]
        },
        {
         "fill": "toself",
         "fillcolor": "#0000FF",
         "line": {
          "color": "#0000CC",
          "width": 1
         },
         "marker": {
          "size": 1
         },
         "mode": "markers+lines",
         "showlegend": false,
         "type": "scatter",
         "x": [
          -80739.30574941223,
          -61924.11722488719,
          -61924.11722488719,
          -80739.30574941223,
          -80739.30574941223
         ],
         "y": [
          -22.609490275911416,
          -22.609490275911416,
          16.47674904719307,
          16.47674904719307,
          -22.609490275911416
         ]
        },
        {
         "fill": "toself",
         "fillcolor": "#0000FF",
         "line": {
          "color": "#0000CC",
          "width": 1
         },
         "marker": {
          "size": 1
         },
         "mode": "markers+lines",
         "showlegend": false,
         "type": "scatter",
         "x": [
          -81390.50982803653,
          -62427.63850313828,
          -62427.63850313828,
          -81390.50982803653,
          -81390.50982803653
         ],
         "y": [
          -22.609490275911416,
          -22.609490275911416,
          16.47674904719307,
          16.47674904719307,
          -22.609490275911416
         ]
        },
        {
         "fill": "toself",
         "fillcolor": "#0000FF",
         "line": {
          "color": "#0000CC",
          "width": 1
         },
         "marker": {
          "size": 1
         },
         "mode": "markers+lines",
         "showlegend": false,
         "type": "scatter",
         "x": [
          -82041.71390666082,
          -62931.159781389375,
          -62931.159781389375,
          -82041.71390666082,
          -82041.71390666082
         ],
         "y": [
          -22.609490275911416,
          -22.609490275911416,
          16.47674904719307,
          16.47674904719307,
          -22.609490275911416
         ]
        },
        {
         "fill": "toself",
         "fillcolor": "#0000FF",
         "line": {
          "color": "#0000CC",
          "width": 1
         },
         "marker": {
          "size": 1
         },
         "mode": "markers+lines",
         "showlegend": false,
         "type": "scatter",
         "x": [
          -82692.91798528512,
          -63434.681059640476,
          -63434.681059640476,
          -82692.91798528512,
          -82692.91798528512
         ],
         "y": [
          -22.609490275911416,
          -22.609490275911416,
          16.47674904719307,
          16.47674904719307,
          -22.609490275911416
         ]
        },
        {
         "fill": "toself",
         "fillcolor": "#0000FF",
         "line": {
          "color": "#0000CC",
          "width": 1
         },
         "marker": {
          "size": 1
         },
         "mode": "markers+lines",
         "showlegend": false,
         "type": "scatter",
         "x": [
          -83344.12206390942,
          -63938.20233789157,
          -63938.20233789157,
          -83344.12206390942,
          -83344.12206390942
         ],
         "y": [
          -22.609490275911416,
          -22.609490275911416,
          16.47674904719307,
          16.47674904719307,
          -22.609490275911416
         ]
        },
        {
         "fill": "toself",
         "fillcolor": "#0000FF",
         "line": {
          "color": "#0000CC",
          "width": 1
         },
         "marker": {
          "size": 1
         },
         "mode": "markers+lines",
         "showlegend": false,
         "type": "scatter",
         "x": [
          -83995.32614253373,
          -64441.72361614267,
          -64441.72361614267,
          -83995.32614253373,
          -83995.32614253373
         ],
         "y": [
          -22.609490275911416,
          -22.609490275911416,
          16.47674904719307,
          16.47674904719307,
          -22.609490275911416
         ]
        },
        {
         "fill": "toself",
         "fillcolor": "#0000FF",
         "line": {
          "color": "#0000CC",
          "width": 1
         },
         "marker": {
          "size": 1
         },
         "mode": "markers+lines",
         "showlegend": false,
         "type": "scatter",
         "x": [
          -84646.53022115803,
          -64945.24489439376,
          -64945.24489439376,
          -84646.53022115803,
          -84646.53022115803
         ],
         "y": [
          -22.609490275911416,
          -22.609490275911416,
          16.47674904719307,
          16.47674904719307,
          -22.609490275911416
         ]
        },
        {
         "fill": "toself",
         "fillcolor": "#0000FF",
         "line": {
          "color": "#0000CC",
          "width": 1
         },
         "marker": {
          "size": 1
         },
         "mode": "markers+lines",
         "showlegend": false,
         "type": "scatter",
         "x": [
          -85297.73429978231,
          -65448.766172644864,
          -65448.766172644864,
          -85297.73429978231,
          -85297.73429978231
         ],
         "y": [
          -22.609490275911416,
          -22.609490275911416,
          16.47674904719307,
          16.47674904719307,
          -22.609490275911416
         ]
        },
        {
         "fill": "toself",
         "fillcolor": "#0000FF",
         "line": {
          "color": "#0000CC",
          "width": 1
         },
         "marker": {
          "size": 1
         },
         "mode": "markers+lines",
         "showlegend": false,
         "type": "scatter",
         "x": [
          -85948.93837840662,
          -65952.28745089596,
          -65952.28745089596,
          -85948.93837840662,
          -85948.93837840662
         ],
         "y": [
          -22.609490275911416,
          -22.609490275911416,
          16.47674904719307,
          16.47674904719307,
          -22.609490275911416
         ]
        },
        {
         "fill": "toself",
         "fillcolor": "#0000FF",
         "line": {
          "color": "#0000CC",
          "width": 1
         },
         "marker": {
          "size": 1
         },
         "mode": "markers+lines",
         "showlegend": false,
         "type": "scatter",
         "x": [
          -86600.14245703092,
          -66455.80872914706,
          -66455.80872914706,
          -86600.14245703092,
          -86600.14245703092
         ],
         "y": [
          -22.609490275911416,
          -22.609490275911416,
          16.47674904719307,
          16.47674904719307,
          -22.609490275911416
         ]
        },
        {
         "fill": "toself",
         "fillcolor": "#0000FF",
         "line": {
          "color": "#0000CC",
          "width": 1
         },
         "marker": {
          "size": 1
         },
         "mode": "markers+lines",
         "showlegend": false,
         "type": "scatter",
         "x": [
          -87251.34653565522,
          -66959.33000739815,
          -66959.33000739815,
          -87251.34653565522,
          -87251.34653565522
         ],
         "y": [
          -22.609490275911416,
          -22.609490275911416,
          16.47674904719307,
          16.47674904719307,
          -22.609490275911416
         ]
        },
        {
         "fill": "toself",
         "fillcolor": "#0000FF",
         "line": {
          "color": "#0000CC",
          "width": 1
         },
         "marker": {
          "size": 1
         },
         "mode": "markers+lines",
         "showlegend": false,
         "type": "scatter",
         "x": [
          -87902.55061427952,
          -67462.85128564925,
          -67462.85128564925,
          -87902.55061427952,
          -87902.55061427952
         ],
         "y": [
          -22.609490275911416,
          -22.609490275911416,
          16.47674904719307,
          16.47674904719307,
          -22.609490275911416
         ]
        },
        {
         "fill": "toself",
         "fillcolor": "#0000FF",
         "line": {
          "color": "#0000CC",
          "width": 1
         },
         "marker": {
          "size": 1
         },
         "mode": "markers+lines",
         "showlegend": false,
         "type": "scatter",
         "x": [
          -88553.7546929038,
          -67966.37256390034,
          -67966.37256390034,
          -88553.7546929038,
          -88553.7546929038
         ],
         "y": [
          -22.609490275911416,
          -22.609490275911416,
          16.47674904719307,
          16.47674904719307,
          -22.609490275911416
         ]
        },
        {
         "fill": "toself",
         "fillcolor": "#0000FF",
         "line": {
          "color": "#0000CC",
          "width": 1
         },
         "marker": {
          "size": 1
         },
         "mode": "markers+lines",
         "showlegend": false,
         "type": "scatter",
         "x": [
          -89204.95877152811,
          -68469.89384215145,
          -68469.89384215145,
          -89204.95877152811,
          -89204.95877152811
         ],
         "y": [
          -22.609490275911416,
          -22.609490275911416,
          16.47674904719307,
          16.47674904719307,
          -22.609490275911416
         ]
        },
        {
         "fill": "toself",
         "fillcolor": "#0000FF",
         "line": {
          "color": "#0000CC",
          "width": 1
         },
         "marker": {
          "size": 1
         },
         "mode": "markers+lines",
         "showlegend": false,
         "type": "scatter",
         "x": [
          -89856.16285015241,
          -68973.41512040254,
          -68973.41512040254,
          -89856.16285015241,
          -89856.16285015241
         ],
         "y": [
          -22.609490275911416,
          -22.609490275911416,
          16.47674904719307,
          16.47674904719307,
          -22.609490275911416
         ]
        },
        {
         "fill": "toself",
         "fillcolor": "#0000FF",
         "line": {
          "color": "#0000CC",
          "width": 1
         },
         "marker": {
          "size": 1
         },
         "mode": "markers+lines",
         "showlegend": false,
         "type": "scatter",
         "x": [
          -90507.36692877671,
          -69476.93639865363,
          -69476.93639865363,
          -90507.36692877671,
          -90507.36692877671
         ],
         "y": [
          -22.609490275911416,
          -22.609490275911416,
          16.47674904719307,
          16.47674904719307,
          -22.609490275911416
         ]
        },
        {
         "fill": "toself",
         "fillcolor": "#0000FF",
         "line": {
          "color": "#0000CC",
          "width": 1
         },
         "marker": {
          "size": 1
         },
         "mode": "markers+lines",
         "showlegend": false,
         "type": "scatter",
         "x": [
          -91158.571007401,
          -69980.45767690473,
          -69980.45767690473,
          -91158.571007401,
          -91158.571007401
         ],
         "y": [
          -22.609490275911416,
          -22.609490275911416,
          16.47674904719307,
          16.47674904719307,
          -22.609490275911416
         ]
        },
        {
         "fill": "toself",
         "fillcolor": "#0000FF",
         "line": {
          "color": "#0000CC",
          "width": 1
         },
         "marker": {
          "size": 1
         },
         "mode": "markers+lines",
         "showlegend": false,
         "type": "scatter",
         "x": [
          -91809.7750860253,
          -70483.97895515584,
          -70483.97895515584,
          -91809.7750860253,
          -91809.7750860253
         ],
         "y": [
          -22.609490275911416,
          -22.609490275911416,
          16.47674904719307,
          16.47674904719307,
          -22.609490275911416
         ]
        },
        {
         "fill": "toself",
         "fillcolor": "#0000FF",
         "line": {
          "color": "#0000CC",
          "width": 1
         },
         "marker": {
          "size": 1
         },
         "mode": "markers+lines",
         "showlegend": false,
         "type": "scatter",
         "x": [
          -92460.9791646496,
          -70987.50023340693,
          -70987.50023340693,
          -92460.9791646496,
          -92460.9791646496
         ],
         "y": [
          -22.609490275911416,
          -22.609490275911416,
          16.47674904719307,
          16.47674904719307,
          -22.609490275911416
         ]
        },
        {
         "fill": "toself",
         "fillcolor": "#0000FF",
         "line": {
          "color": "#0000CC",
          "width": 1
         },
         "marker": {
          "size": 1
         },
         "mode": "markers+lines",
         "showlegend": false,
         "type": "scatter",
         "x": [
          -93112.1832432739,
          -71491.02151165802,
          -71491.02151165802,
          -93112.1832432739,
          -93112.1832432739
         ],
         "y": [
          -22.609490275911416,
          -22.609490275911416,
          16.47674904719307,
          16.47674904719307,
          -22.609490275911416
         ]
        },
        {
         "fill": "toself",
         "fillcolor": "#0000FF",
         "line": {
          "color": "#0000CC",
          "width": 1
         },
         "marker": {
          "size": 1
         },
         "mode": "markers+lines",
         "showlegend": false,
         "type": "scatter",
         "x": [
          -93763.38732189819,
          -71994.54278990912,
          -71994.54278990912,
          -93763.38732189819,
          -93763.38732189819
         ],
         "y": [
          -22.609490275911416,
          -22.609490275911416,
          16.47674904719307,
          16.47674904719307,
          -22.609490275911416
         ]
        },
        {
         "fill": "toself",
         "fillcolor": "#0000FF",
         "line": {
          "color": "#0000CC",
          "width": 1
         },
         "marker": {
          "size": 1
         },
         "mode": "markers+lines",
         "showlegend": false,
         "type": "scatter",
         "x": [
          -94414.59140052249,
          -72498.06406816022,
          -72498.06406816022,
          -94414.59140052249,
          -94414.59140052249
         ],
         "y": [
          -22.609490275911416,
          -22.609490275911416,
          16.47674904719307,
          16.47674904719307,
          -22.609490275911416
         ]
        },
        {
         "fill": "toself",
         "fillcolor": "#0000FF",
         "line": {
          "color": "#0000CC",
          "width": 1
         },
         "marker": {
          "size": 1
         },
         "mode": "markers+lines",
         "showlegend": false,
         "type": "scatter",
         "x": [
          -95065.7954791468,
          -73001.58534641132,
          -73001.58534641132,
          -95065.7954791468,
          -95065.7954791468
         ],
         "y": [
          -22.609490275911416,
          -22.609490275911416,
          16.47674904719307,
          16.47674904719307,
          -22.609490275911416
         ]
        },
        {
         "fill": "toself",
         "fillcolor": "#0000FF",
         "line": {
          "color": "#0000CC",
          "width": 1
         },
         "marker": {
          "size": 1
         },
         "mode": "markers+lines",
         "showlegend": false,
         "type": "scatter",
         "x": [
          -95716.9995577711,
          -73505.10662466241,
          -73505.10662466241,
          -95716.9995577711,
          -95716.9995577711
         ],
         "y": [
          -22.609490275911416,
          -22.609490275911416,
          16.47674904719307,
          16.47674904719307,
          -22.609490275911416
         ]
        },
        {
         "fill": "toself",
         "fillcolor": "#0000FF",
         "line": {
          "color": "#0000CC",
          "width": 1
         },
         "marker": {
          "size": 1
         },
         "mode": "markers+lines",
         "showlegend": false,
         "type": "scatter",
         "x": [
          -96368.2036363954,
          -74008.6279029135,
          -74008.6279029135,
          -96368.2036363954,
          -96368.2036363954
         ],
         "y": [
          -22.609490275911416,
          -22.609490275911416,
          16.47674904719307,
          16.47674904719307,
          -22.609490275911416
         ]
        },
        {
         "fill": "toself",
         "fillcolor": "#0000FF",
         "line": {
          "color": "#0000CC",
          "width": 1
         },
         "marker": {
          "size": 1
         },
         "mode": "markers+lines",
         "showlegend": false,
         "type": "scatter",
         "x": [
          -97019.40771501968,
          -74512.1491811646,
          -74512.1491811646,
          -97019.40771501968,
          -97019.40771501968
         ],
         "y": [
          -22.609490275911416,
          -22.609490275911416,
          16.47674904719307,
          16.47674904719307,
          -22.609490275911416
         ]
        },
        {
         "fill": "toself",
         "fillcolor": "#0000FF",
         "line": {
          "color": "#0000CC",
          "width": 1
         },
         "marker": {
          "size": 1
         },
         "mode": "markers+lines",
         "showlegend": false,
         "type": "scatter",
         "x": [
          -97670.61179364398,
          -75015.6704594157,
          -75015.6704594157,
          -97670.61179364398,
          -97670.61179364398
         ],
         "y": [
          -22.609490275911416,
          -22.609490275911416,
          16.47674904719307,
          16.47674904719307,
          -22.609490275911416
         ]
        },
        {
         "fill": "toself",
         "fillcolor": "#0000FF",
         "line": {
          "color": "#0000CC",
          "width": 1
         },
         "marker": {
          "size": 1
         },
         "mode": "markers+lines",
         "showlegend": false,
         "type": "scatter",
         "x": [
          -98321.81587226829,
          -75519.1917376668,
          -75519.1917376668,
          -98321.81587226829,
          -98321.81587226829
         ],
         "y": [
          -22.609490275911416,
          -22.609490275911416,
          16.47674904719307,
          16.47674904719307,
          -22.609490275911416
         ]
        },
        {
         "fill": "toself",
         "fillcolor": "#0000FF",
         "line": {
          "color": "#0000CC",
          "width": 1
         },
         "marker": {
          "size": 1
         },
         "mode": "markers+lines",
         "showlegend": false,
         "type": "scatter",
         "x": [
          -98973.01995089259,
          -76022.71301591789,
          -76022.71301591789,
          -98973.01995089259,
          -98973.01995089259
         ],
         "y": [
          -22.609490275911416,
          -22.609490275911416,
          16.47674904719307,
          16.47674904719307,
          -22.609490275911416
         ]
        },
        {
         "fill": "toself",
         "fillcolor": "#0000FF",
         "line": {
          "color": "#0000CC",
          "width": 1
         },
         "marker": {
          "size": 1
         },
         "mode": "markers+lines",
         "showlegend": false,
         "type": "scatter",
         "x": [
          -99624.22402951687,
          -76526.23429416899,
          -76526.23429416899,
          -99624.22402951687,
          -99624.22402951687
         ],
         "y": [
          -22.609490275911416,
          -22.609490275911416,
          16.47674904719307,
          16.47674904719307,
          -22.609490275911416
         ]
        },
        {
         "fill": "toself",
         "fillcolor": "#0000FF",
         "line": {
          "color": "#0000CC",
          "width": 1
         },
         "marker": {
          "size": 1
         },
         "mode": "markers+lines",
         "showlegend": false,
         "type": "scatter",
         "x": [
          -100275.42810814118,
          -77029.7555724201,
          -77029.7555724201,
          -100275.42810814118,
          -100275.42810814118
         ],
         "y": [
          -22.609490275911416,
          -22.609490275911416,
          16.47674904719307,
          16.47674904719307,
          -22.609490275911416
         ]
        },
        {
         "fill": "toself",
         "fillcolor": "#0000FF",
         "line": {
          "color": "#0000CC",
          "width": 1
         },
         "marker": {
          "size": 1
         },
         "mode": "markers+lines",
         "showlegend": false,
         "type": "scatter",
         "x": [
          -100926.63218676548,
          -77533.27685067119,
          -77533.27685067119,
          -100926.63218676548,
          -100926.63218676548
         ],
         "y": [
          -22.609490275911416,
          -22.609490275911416,
          16.47674904719307,
          16.47674904719307,
          -22.609490275911416
         ]
        },
        {
         "fill": "toself",
         "fillcolor": "#0000FF",
         "line": {
          "color": "#0000CC",
          "width": 1
         },
         "marker": {
          "size": 1
         },
         "mode": "markers+lines",
         "showlegend": false,
         "type": "scatter",
         "x": [
          -101577.83626538978,
          -78036.79812892228,
          -78036.79812892228,
          -101577.83626538978,
          -101577.83626538978
         ],
         "y": [
          -22.609490275911416,
          -22.609490275911416,
          16.47674904719307,
          16.47674904719307,
          -22.609490275911416
         ]
        },
        {
         "fill": "toself",
         "fillcolor": "#0000FF",
         "line": {
          "color": "#0000CC",
          "width": 1
         },
         "marker": {
          "size": 1
         },
         "mode": "markers+lines",
         "showlegend": false,
         "type": "scatter",
         "x": [
          -102229.04034401407,
          -78540.31940717337,
          -78540.31940717337,
          -102229.04034401407,
          -102229.04034401407
         ],
         "y": [
          -22.609490275911416,
          -22.609490275911416,
          16.47674904719307,
          16.47674904719307,
          -22.609490275911416
         ]
        },
        {
         "fill": "toself",
         "fillcolor": "#0000FF",
         "line": {
          "color": "#0000CC",
          "width": 1
         },
         "marker": {
          "size": 1
         },
         "mode": "markers+lines",
         "showlegend": false,
         "type": "scatter",
         "x": [
          -102880.24442263837,
          -79043.84068542448,
          -79043.84068542448,
          -102880.24442263837,
          -102880.24442263837
         ],
         "y": [
          -22.609490275911416,
          -22.609490275911416,
          16.47674904719307,
          16.47674904719307,
          -22.609490275911416
         ]
        },
        {
         "fill": "toself",
         "fillcolor": "#0000FF",
         "line": {
          "color": "#0000CC",
          "width": 1
         },
         "marker": {
          "size": 1
         },
         "mode": "markers+lines",
         "showlegend": false,
         "type": "scatter",
         "x": [
          -103531.44850126267,
          -79547.36196367558,
          -79547.36196367558,
          -103531.44850126267,
          -103531.44850126267
         ],
         "y": [
          -22.609490275911416,
          -22.609490275911416,
          16.47674904719307,
          16.47674904719307,
          -22.609490275911416
         ]
        },
        {
         "fill": "toself",
         "fillcolor": "#0000FF",
         "line": {
          "color": "#0000CC",
          "width": 1
         },
         "marker": {
          "size": 1
         },
         "mode": "markers+lines",
         "showlegend": false,
         "type": "scatter",
         "x": [
          -104182.65257988697,
          -80050.88324192667,
          -80050.88324192667,
          -104182.65257988697,
          -104182.65257988697
         ],
         "y": [
          -22.609490275911416,
          -22.609490275911416,
          16.47674904719307,
          16.47674904719307,
          -22.609490275911416
         ]
        },
        {
         "fill": "toself",
         "fillcolor": "#0000FF",
         "line": {
          "color": "#0000CC",
          "width": 1
         },
         "marker": {
          "size": 1
         },
         "mode": "markers+lines",
         "showlegend": false,
         "type": "scatter",
         "x": [
          -104833.85665851127,
          -80554.40452017776,
          -80554.40452017776,
          -104833.85665851127,
          -104833.85665851127
         ],
         "y": [
          -22.609490275911416,
          -22.609490275911416,
          16.47674904719307,
          16.47674904719307,
          -22.609490275911416
         ]
        },
        {
         "fill": "toself",
         "fillcolor": "#0000FF",
         "line": {
          "color": "#0000CC",
          "width": 1
         },
         "marker": {
          "size": 1
         },
         "mode": "markers+lines",
         "showlegend": false,
         "type": "scatter",
         "x": [
          -105485.06073713556,
          -81057.92579842886,
          -81057.92579842886,
          -105485.06073713556,
          -105485.06073713556
         ],
         "y": [
          -22.609490275911416,
          -22.609490275911416,
          16.47674904719307,
          16.47674904719307,
          -22.609490275911416
         ]
        },
        {
         "fill": "toself",
         "fillcolor": "#0000FF",
         "line": {
          "color": "#0000CC",
          "width": 1
         },
         "marker": {
          "size": 1
         },
         "mode": "markers+lines",
         "showlegend": false,
         "type": "scatter",
         "x": [
          -106136.26481575986,
          -81561.44707667996,
          -81561.44707667996,
          -106136.26481575986,
          -106136.26481575986
         ],
         "y": [
          -22.609490275911416,
          -22.609490275911416,
          16.47674904719307,
          16.47674904719307,
          -22.609490275911416
         ]
        },
        {
         "fill": "toself",
         "fillcolor": "#0000FF",
         "line": {
          "color": "#0000CC",
          "width": 1
         },
         "marker": {
          "size": 1
         },
         "mode": "markers+lines",
         "showlegend": false,
         "type": "scatter",
         "x": [
          -106787.46889438416,
          -82064.96835493106,
          -82064.96835493106,
          -106787.46889438416,
          -106787.46889438416
         ],
         "y": [
          -22.609490275911416,
          -22.609490275911416,
          16.47674904719307,
          16.47674904719307,
          -22.609490275911416
         ]
        },
        {
         "fill": "toself",
         "fillcolor": "#0000FF",
         "line": {
          "color": "#0000CC",
          "width": 1
         },
         "marker": {
          "size": 1
         },
         "mode": "markers+lines",
         "showlegend": false,
         "type": "scatter",
         "x": [
          -107438.67297300846,
          -82568.48963318215,
          -82568.48963318215,
          -107438.67297300846,
          -107438.67297300846
         ],
         "y": [
          -22.609490275911416,
          -22.609490275911416,
          16.47674904719307,
          16.47674904719307,
          -22.609490275911416
         ]
        },
        {
         "fill": "toself",
         "fillcolor": "#0000FF",
         "line": {
          "color": "#0000CC",
          "width": 1
         },
         "marker": {
          "size": 1
         },
         "mode": "markers+lines",
         "showlegend": false,
         "type": "scatter",
         "x": [
          -108089.87705163275,
          -83072.01091143324,
          -83072.01091143324,
          -108089.87705163275,
          -108089.87705163275
         ],
         "y": [
          -22.609490275911416,
          -22.609490275911416,
          16.47674904719307,
          16.47674904719307,
          -22.609490275911416
         ]
        },
        {
         "fill": "toself",
         "fillcolor": "#0000FF",
         "line": {
          "color": "#0000CC",
          "width": 1
         },
         "marker": {
          "size": 1
         },
         "mode": "markers+lines",
         "showlegend": false,
         "type": "scatter",
         "x": [
          -108741.08113025705,
          -83575.53218968435,
          -83575.53218968435,
          -108741.08113025705,
          -108741.08113025705
         ],
         "y": [
          -22.609490275911416,
          -22.609490275911416,
          16.47674904719307,
          16.47674904719307,
          -22.609490275911416
         ]
        },
        {
         "fill": "toself",
         "fillcolor": "#0000FF",
         "line": {
          "color": "#0000CC",
          "width": 1
         },
         "marker": {
          "size": 1
         },
         "mode": "markers+lines",
         "showlegend": false,
         "type": "scatter",
         "x": [
          -109392.28520888135,
          -84079.05346793545,
          -84079.05346793545,
          -109392.28520888135,
          -109392.28520888135
         ],
         "y": [
          -22.609490275911416,
          -22.609490275911416,
          16.47674904719307,
          16.47674904719307,
          -22.609490275911416
         ]
        },
        {
         "fill": "toself",
         "fillcolor": "#0000FF",
         "line": {
          "color": "#0000CC",
          "width": 1
         },
         "marker": {
          "size": 1
         },
         "mode": "markers+lines",
         "showlegend": false,
         "type": "scatter",
         "x": [
          -110043.48928750565,
          -84582.57474618654,
          -84582.57474618654,
          -110043.48928750565,
          -110043.48928750565
         ],
         "y": [
          -22.609490275911416,
          -22.609490275911416,
          16.47674904719307,
          16.47674904719307,
          -22.609490275911416
         ]
        },
        {
         "fill": "toself",
         "fillcolor": "#0000FF",
         "line": {
          "color": "#0000CC",
          "width": 1
         },
         "marker": {
          "size": 1
         },
         "mode": "markers+lines",
         "showlegend": false,
         "type": "scatter",
         "x": [
          -110694.69336612994,
          -85086.09602443763,
          -85086.09602443763,
          -110694.69336612994,
          -110694.69336612994
         ],
         "y": [
          -22.609490275911416,
          -22.609490275911416,
          16.47674904719307,
          16.47674904719307,
          -22.609490275911416
         ]
        },
        {
         "fill": "toself",
         "fillcolor": "#0000FF",
         "line": {
          "color": "#0000CC",
          "width": 1
         },
         "marker": {
          "size": 1
         },
         "mode": "markers+lines",
         "showlegend": false,
         "type": "scatter",
         "x": [
          -111345.89744475424,
          -85589.61730268874,
          -85589.61730268874,
          -111345.89744475424,
          -111345.89744475424
         ],
         "y": [
          -22.609490275911416,
          -22.609490275911416,
          16.47674904719307,
          16.47674904719307,
          -22.609490275911416
         ]
        },
        {
         "fill": "toself",
         "fillcolor": "#0000FF",
         "line": {
          "color": "#0000CC",
          "width": 1
         },
         "marker": {
          "size": 1
         },
         "mode": "markers+lines",
         "showlegend": false,
         "type": "scatter",
         "x": [
          -111997.10152337854,
          -86093.13858093983,
          -86093.13858093983,
          -111997.10152337854,
          -111997.10152337854
         ],
         "y": [
          -22.609490275911416,
          -22.609490275911416,
          16.47674904719307,
          16.47674904719307,
          -22.609490275911416
         ]
        },
        {
         "fill": "toself",
         "fillcolor": "#0000FF",
         "line": {
          "color": "#0000CC",
          "width": 1
         },
         "marker": {
          "size": 1
         },
         "mode": "markers+lines",
         "showlegend": false,
         "type": "scatter",
         "x": [
          -112648.30560200285,
          -86596.65985919093,
          -86596.65985919093,
          -112648.30560200285,
          -112648.30560200285
         ],
         "y": [
          -22.609490275911416,
          -22.609490275911416,
          16.47674904719307,
          16.47674904719307,
          -22.609490275911416
         ]
        },
        {
         "fill": "toself",
         "fillcolor": "#0000FF",
         "line": {
          "color": "#0000CC",
          "width": 1
         },
         "marker": {
          "size": 1
         },
         "mode": "markers+lines",
         "showlegend": false,
         "type": "scatter",
         "x": [
          -113299.50968062715,
          -87100.18113744202,
          -87100.18113744202,
          -113299.50968062715,
          -113299.50968062715
         ],
         "y": [
          -22.609490275911416,
          -22.609490275911416,
          16.47674904719307,
          16.47674904719307,
          -22.609490275911416
         ]
        },
        {
         "fill": "toself",
         "fillcolor": "#0000FF",
         "line": {
          "color": "#0000CC",
          "width": 1
         },
         "marker": {
          "size": 1
         },
         "mode": "markers+lines",
         "showlegend": false,
         "type": "scatter",
         "x": [
          -113950.71375925143,
          -87603.70241569311,
          -87603.70241569311,
          -113950.71375925143,
          -113950.71375925143
         ],
         "y": [
          -22.609490275911416,
          -22.609490275911416,
          16.47674904719307,
          16.47674904719307,
          -22.609490275911416
         ]
        },
        {
         "fill": "toself",
         "fillcolor": "#0000FF",
         "line": {
          "color": "#0000CC",
          "width": 1
         },
         "marker": {
          "size": 1
         },
         "mode": "markers+lines",
         "showlegend": false,
         "type": "scatter",
         "x": [
          -114601.91783787574,
          -88107.22369394422,
          -88107.22369394422,
          -114601.91783787574,
          -114601.91783787574
         ],
         "y": [
          -22.609490275911416,
          -22.609490275911416,
          16.47674904719307,
          16.47674904719307,
          -22.609490275911416
         ]
        },
        {
         "fill": "toself",
         "fillcolor": "#0000FF",
         "line": {
          "color": "#0000CC",
          "width": 1
         },
         "marker": {
          "size": 1
         },
         "mode": "markers+lines",
         "showlegend": false,
         "type": "scatter",
         "x": [
          -115253.12191650004,
          -88610.74497219532,
          -88610.74497219532,
          -115253.12191650004,
          -115253.12191650004
         ],
         "y": [
          -22.609490275911416,
          -22.609490275911416,
          16.47674904719307,
          16.47674904719307,
          -22.609490275911416
         ]
        },
        {
         "fill": "toself",
         "fillcolor": "#0000FF",
         "line": {
          "color": "#0000CC",
          "width": 1
         },
         "marker": {
          "size": 1
         },
         "mode": "markers+lines",
         "showlegend": false,
         "type": "scatter",
         "x": [
          -115904.32599512434,
          -89114.26625044641,
          -89114.26625044641,
          -115904.32599512434,
          -115904.32599512434
         ],
         "y": [
          -22.609490275911416,
          -22.609490275911416,
          16.47674904719307,
          16.47674904719307,
          -22.609490275911416
         ]
        },
        {
         "fill": "toself",
         "fillcolor": "#0000FF",
         "line": {
          "color": "#0000CC",
          "width": 1
         },
         "marker": {
          "size": 1
         },
         "mode": "markers+lines",
         "showlegend": false,
         "type": "scatter",
         "x": [
          -116555.53007374863,
          -89617.7875286975,
          -89617.7875286975,
          -116555.53007374863,
          -116555.53007374863
         ],
         "y": [
          -22.609490275911416,
          -22.609490275911416,
          16.47674904719307,
          16.47674904719307,
          -22.609490275911416
         ]
        },
        {
         "fill": "toself",
         "fillcolor": "#0000FF",
         "line": {
          "color": "#0000CC",
          "width": 1
         },
         "marker": {
          "size": 1
         },
         "mode": "markers+lines",
         "showlegend": false,
         "type": "scatter",
         "x": [
          -117206.73415237293,
          -90121.30880694861,
          -90121.30880694861,
          -117206.73415237293,
          -117206.73415237293
         ],
         "y": [
          -22.609490275911416,
          -22.609490275911416,
          16.47674904719307,
          16.47674904719307,
          -22.609490275911416
         ]
        },
        {
         "fill": "toself",
         "fillcolor": "#0000FF",
         "line": {
          "color": "#0000CC",
          "width": 1
         },
         "marker": {
          "size": 1
         },
         "mode": "markers+lines",
         "showlegend": false,
         "type": "scatter",
         "x": [
          -117857.93823099723,
          -90624.8300851997,
          -90624.8300851997,
          -117857.93823099723,
          -117857.93823099723
         ],
         "y": [
          -22.609490275911416,
          -22.609490275911416,
          16.47674904719307,
          16.47674904719307,
          -22.609490275911416
         ]
        },
        {
         "fill": "toself",
         "fillcolor": "#0000FF",
         "line": {
          "color": "#0000CC",
          "width": 1
         },
         "marker": {
          "size": 1
         },
         "mode": "markers+lines",
         "showlegend": false,
         "type": "scatter",
         "x": [
          -118509.14230962153,
          -91128.3513634508,
          -91128.3513634508,
          -118509.14230962153,
          -118509.14230962153
         ],
         "y": [
          -22.609490275911416,
          -22.609490275911416,
          16.47674904719307,
          16.47674904719307,
          -22.609490275911416
         ]
        },
        {
         "fill": "toself",
         "fillcolor": "#0000FF",
         "line": {
          "color": "#0000CC",
          "width": 1
         },
         "marker": {
          "size": 1
         },
         "mode": "markers+lines",
         "showlegend": false,
         "type": "scatter",
         "x": [
          -119160.34638824582,
          -91631.87264170189,
          -91631.87264170189,
          -119160.34638824582,
          -119160.34638824582
         ],
         "y": [
          -22.609490275911416,
          -22.609490275911416,
          16.47674904719307,
          16.47674904719307,
          -22.609490275911416
         ]
        },
        {
         "fill": "toself",
         "fillcolor": "#0000FF",
         "line": {
          "color": "#0000CC",
          "width": 1
         },
         "marker": {
          "size": 1
         },
         "mode": "markers+lines",
         "showlegend": false,
         "type": "scatter",
         "x": [
          -119811.55046687012,
          -92135.393919953,
          -92135.393919953,
          -119811.55046687012,
          -119811.55046687012
         ],
         "y": [
          -22.609490275911416,
          -22.609490275911416,
          16.47674904719307,
          16.47674904719307,
          -22.609490275911416
         ]
        },
        {
         "fill": "toself",
         "fillcolor": "#0000FF",
         "line": {
          "color": "#0000CC",
          "width": 1
         },
         "marker": {
          "size": 1
         },
         "mode": "markers+lines",
         "showlegend": false,
         "type": "scatter",
         "x": [
          -120462.75454549442,
          -92638.9151982041,
          -92638.9151982041,
          -120462.75454549442,
          -120462.75454549442
         ],
         "y": [
          -22.609490275911416,
          -22.609490275911416,
          16.47674904719307,
          16.47674904719307,
          -22.609490275911416
         ]
        },
        {
         "fill": "toself",
         "fillcolor": "#0000FF",
         "line": {
          "color": "#0000CC",
          "width": 1
         },
         "marker": {
          "size": 1
         },
         "mode": "markers+lines",
         "showlegend": false,
         "type": "scatter",
         "x": [
          -121113.95862411872,
          -93142.43647645519,
          -93142.43647645519,
          -121113.95862411872,
          -121113.95862411872
         ],
         "y": [
          -22.609490275911416,
          -22.609490275911416,
          16.47674904719307,
          16.47674904719307,
          -22.609490275911416
         ]
        },
        {
         "fill": "toself",
         "fillcolor": "#0000FF",
         "line": {
          "color": "#0000CC",
          "width": 1
         },
         "marker": {
          "size": 1
         },
         "mode": "markers+lines",
         "showlegend": false,
         "type": "scatter",
         "x": [
          -121765.16270274302,
          -93645.95775470628,
          -93645.95775470628,
          -121765.16270274302,
          -121765.16270274302
         ],
         "y": [
          -22.609490275911416,
          -22.609490275911416,
          16.47674904719307,
          16.47674904719307,
          -22.609490275911416
         ]
        },
        {
         "fill": "toself",
         "fillcolor": "#0000FF",
         "line": {
          "color": "#0000CC",
          "width": 1
         },
         "marker": {
          "size": 1
         },
         "mode": "markers+lines",
         "showlegend": false,
         "type": "scatter",
         "x": [
          -122416.36678136731,
          -94149.47903295737,
          -94149.47903295737,
          -122416.36678136731,
          -122416.36678136731
         ],
         "y": [
          -22.609490275911416,
          -22.609490275911416,
          16.47674904719307,
          16.47674904719307,
          -22.609490275911416
         ]
        },
        {
         "fill": "toself",
         "fillcolor": "#0000FF",
         "line": {
          "color": "#0000CC",
          "width": 1
         },
         "marker": {
          "size": 1
         },
         "mode": "markers+lines",
         "showlegend": false,
         "type": "scatter",
         "x": [
          -123067.57085999161,
          -94653.00031120848,
          -94653.00031120848,
          -123067.57085999161,
          -123067.57085999161
         ],
         "y": [
          -22.609490275911416,
          -22.609490275911416,
          16.47674904719307,
          16.47674904719307,
          -22.609490275911416
         ]
        },
        {
         "fill": "toself",
         "fillcolor": "#0000FF",
         "line": {
          "color": "#0000CC",
          "width": 1
         },
         "marker": {
          "size": 1
         },
         "mode": "markers+lines",
         "showlegend": false,
         "type": "scatter",
         "x": [
          -123718.77493861591,
          -95156.52158945957,
          -95156.52158945957,
          -123718.77493861591,
          -123718.77493861591
         ],
         "y": [
          -22.609490275911416,
          -22.609490275911416,
          16.47674904719307,
          16.47674904719307,
          -22.609490275911416
         ]
        },
        {
         "fill": "toself",
         "fillcolor": "#0000FF",
         "line": {
          "color": "#0000CC",
          "width": 1
         },
         "marker": {
          "size": 1
         },
         "mode": "markers+lines",
         "showlegend": false,
         "type": "scatter",
         "x": [
          -124369.97901724021,
          -95660.04286771067,
          -95660.04286771067,
          -124369.97901724021,
          -124369.97901724021
         ],
         "y": [
          -22.609490275911416,
          -22.609490275911416,
          16.47674904719307,
          16.47674904719307,
          -22.609490275911416
         ]
        },
        {
         "fill": "toself",
         "fillcolor": "#0000FF",
         "line": {
          "color": "#0000CC",
          "width": 1
         },
         "marker": {
          "size": 1
         },
         "mode": "markers+lines",
         "showlegend": false,
         "type": "scatter",
         "x": [
          -125021.1830958645,
          -96163.56414596176,
          -96163.56414596176,
          -125021.1830958645,
          -125021.1830958645
         ],
         "y": [
          -22.609490275911416,
          -22.609490275911416,
          16.47674904719307,
          16.47674904719307,
          -22.609490275911416
         ]
        },
        {
         "fill": "toself",
         "fillcolor": "#0000FF",
         "line": {
          "color": "#0000CC",
          "width": 1
         },
         "marker": {
          "size": 1
         },
         "mode": "markers+lines",
         "showlegend": false,
         "type": "scatter",
         "x": [
          -125672.3871744888,
          -96667.08542421287,
          -96667.08542421287,
          -125672.3871744888,
          -125672.3871744888
         ],
         "y": [
          -22.609490275911416,
          -22.609490275911416,
          16.47674904719307,
          16.47674904719307,
          -22.609490275911416
         ]
        },
        {
         "fill": "toself",
         "fillcolor": "#0000FF",
         "line": {
          "color": "#0000CC",
          "width": 1
         },
         "marker": {
          "size": 1
         },
         "mode": "markers+lines",
         "showlegend": false,
         "type": "scatter",
         "x": [
          -126323.5912531131,
          -97170.60670246396,
          -97170.60670246396,
          -126323.5912531131,
          -126323.5912531131
         ],
         "y": [
          -22.609490275911416,
          -22.609490275911416,
          16.47674904719307,
          16.47674904719307,
          -22.609490275911416
         ]
        },
        {
         "fill": "toself",
         "fillcolor": "#0000FF",
         "line": {
          "color": "#0000CC",
          "width": 1
         },
         "marker": {
          "size": 1
         },
         "mode": "markers+lines",
         "showlegend": false,
         "type": "scatter",
         "x": [
          -126974.7953317374,
          -97674.12798071506,
          -97674.12798071506,
          -126974.7953317374,
          -126974.7953317374
         ],
         "y": [
          -22.609490275911416,
          -22.609490275911416,
          16.47674904719307,
          16.47674904719307,
          -22.609490275911416
         ]
        },
        {
         "fill": "toself",
         "fillcolor": "#0000FF",
         "line": {
          "color": "#0000CC",
          "width": 1
         },
         "marker": {
          "size": 1
         },
         "mode": "markers+lines",
         "showlegend": false,
         "type": "scatter",
         "x": [
          -127625.99941036169,
          -98177.64925896615,
          -98177.64925896615,
          -127625.99941036169,
          -127625.99941036169
         ],
         "y": [
          -22.609490275911416,
          -22.609490275911416,
          16.47674904719307,
          16.47674904719307,
          -22.609490275911416
         ]
        },
        {
         "fill": "toself",
         "fillcolor": "#0000FF",
         "line": {
          "color": "#0000CC",
          "width": 1
         },
         "marker": {
          "size": 1
         },
         "mode": "markers+lines",
         "showlegend": false,
         "type": "scatter",
         "x": [
          -128277.203488986,
          -98681.17053721726,
          -98681.17053721726,
          -128277.203488986,
          -128277.203488986
         ],
         "y": [
          -22.609490275911416,
          -22.609490275911416,
          16.47674904719307,
          16.47674904719307,
          -22.609490275911416
         ]
        },
        {
         "fill": "toself",
         "fillcolor": "#0000FF",
         "line": {
          "color": "#0000CC",
          "width": 1
         },
         "marker": {
          "size": 1
         },
         "mode": "markers+lines",
         "showlegend": false,
         "type": "scatter",
         "x": [
          -128928.4075676103,
          -99184.69181546835,
          -99184.69181546835,
          -128928.4075676103,
          -128928.4075676103
         ],
         "y": [
          -22.609490275911416,
          -22.609490275911416,
          16.47674904719307,
          16.47674904719307,
          -22.609490275911416
         ]
        },
        {
         "fill": "toself",
         "fillcolor": "#0000FF",
         "line": {
          "color": "#0000CC",
          "width": 1
         },
         "marker": {
          "size": 1
         },
         "mode": "markers+lines",
         "showlegend": false,
         "type": "scatter",
         "x": [
          -129579.6116462346,
          -99688.21309371945,
          -99688.21309371945,
          -129579.6116462346,
          -129579.6116462346
         ],
         "y": [
          -22.609490275911416,
          -22.609490275911416,
          16.47674904719307,
          16.47674904719307,
          -22.609490275911416
         ]
        },
        {
         "fill": "toself",
         "fillcolor": "#0000FF",
         "line": {
          "color": "#0000CC",
          "width": 1
         },
         "marker": {
          "size": 1
         },
         "mode": "markers+lines",
         "showlegend": false,
         "type": "scatter",
         "x": [
          -130230.8157248589,
          -100191.73437197054,
          -100191.73437197054,
          -130230.8157248589,
          -130230.8157248589
         ],
         "y": [
          -22.609490275911416,
          -22.609490275911416,
          16.47674904719307,
          16.47674904719307,
          -22.609490275911416
         ]
        },
        {
         "fill": "toself",
         "fillcolor": "#0000FF",
         "line": {
          "color": "#0000CC",
          "width": 1
         },
         "marker": {
          "size": 1
         },
         "mode": "markers+lines",
         "showlegend": false,
         "type": "scatter",
         "x": [
          -130882.01980348318,
          -100695.25565022163,
          -100695.25565022163,
          -130882.01980348318,
          -130882.01980348318
         ],
         "y": [
          -22.609490275911416,
          -22.609490275911416,
          16.47674904719307,
          16.47674904719307,
          -22.609490275911416
         ]
        },
        {
         "fill": "toself",
         "fillcolor": "#0000FF",
         "line": {
          "color": "#0000CC",
          "width": 1
         },
         "marker": {
          "size": 1
         },
         "mode": "markers+lines",
         "showlegend": false,
         "type": "scatter",
         "x": [
          -131533.2238821075,
          -101198.77692847274,
          -101198.77692847274,
          -131533.2238821075,
          -131533.2238821075
         ],
         "y": [
          -22.609490275911416,
          -22.609490275911416,
          16.47674904719307,
          16.47674904719307,
          -22.609490275911416
         ]
        },
        {
         "fill": "toself",
         "fillcolor": "#0000FF",
         "line": {
          "color": "#0000CC",
          "width": 1
         },
         "marker": {
          "size": 1
         },
         "mode": "markers+lines",
         "showlegend": false,
         "type": "scatter",
         "x": [
          -132184.4279607318,
          -101702.29820672383,
          -101702.29820672383,
          -132184.4279607318,
          -132184.4279607318
         ],
         "y": [
          -22.609490275911416,
          -22.609490275911416,
          16.47674904719307,
          16.47674904719307,
          -22.609490275911416
         ]
        },
        {
         "fill": "toself",
         "fillcolor": "#0000FF",
         "line": {
          "color": "#0000CC",
          "width": 1
         },
         "marker": {
          "size": 1
         },
         "mode": "markers+lines",
         "showlegend": false,
         "type": "scatter",
         "x": [
          -132835.63203935607,
          -102205.81948497493,
          -102205.81948497493,
          -132835.63203935607,
          -132835.63203935607
         ],
         "y": [
          -22.609490275911416,
          -22.609490275911416,
          16.47674904719307,
          16.47674904719307,
          -22.609490275911416
         ]
        },
        {
         "fill": "toself",
         "fillcolor": "#0000FF",
         "line": {
          "color": "#0000CC",
          "width": 1
         },
         "marker": {
          "size": 1
         },
         "mode": "markers+lines",
         "showlegend": false,
         "type": "scatter",
         "x": [
          -133486.8361179804,
          -102709.34076322602,
          -102709.34076322602,
          -133486.8361179804,
          -133486.8361179804
         ],
         "y": [
          -22.609490275911416,
          -22.609490275911416,
          16.47674904719307,
          16.47674904719307,
          -22.609490275911416
         ]
        },
        {
         "fill": "toself",
         "fillcolor": "#0000FF",
         "line": {
          "color": "#0000CC",
          "width": 1
         },
         "marker": {
          "size": 1
         },
         "mode": "markers+lines",
         "showlegend": false,
         "type": "scatter",
         "x": [
          -134138.04019660468,
          -103212.86204147713,
          -103212.86204147713,
          -134138.04019660468,
          -134138.04019660468
         ],
         "y": [
          -22.609490275911416,
          -22.609490275911416,
          16.47674904719307,
          16.47674904719307,
          -22.609490275911416
         ]
        },
        {
         "fill": "toself",
         "fillcolor": "#0000FF",
         "line": {
          "color": "#0000CC",
          "width": 1
         },
         "marker": {
          "size": 1
         },
         "mode": "markers+lines",
         "showlegend": false,
         "type": "scatter",
         "x": [
          -134789.244275229,
          -103716.38331972822,
          -103716.38331972822,
          -134789.244275229,
          -134789.244275229
         ],
         "y": [
          -22.609490275911416,
          -22.609490275911416,
          16.47674904719307,
          16.47674904719307,
          -22.609490275911416
         ]
        },
        {
         "fill": "toself",
         "fillcolor": "#0000FF",
         "line": {
          "color": "#0000CC",
          "width": 1
         },
         "marker": {
          "size": 1
         },
         "mode": "markers+lines",
         "showlegend": false,
         "type": "scatter",
         "x": [
          -135440.44835385328,
          -104219.90459797932,
          -104219.90459797932,
          -135440.44835385328,
          -135440.44835385328
         ],
         "y": [
          -22.609490275911416,
          -22.609490275911416,
          16.47674904719307,
          16.47674904719307,
          -22.609490275911416
         ]
        },
        {
         "fill": "toself",
         "fillcolor": "#0000FF",
         "line": {
          "color": "#0000CC",
          "width": 1
         },
         "marker": {
          "size": 1
         },
         "mode": "markers+lines",
         "showlegend": false,
         "type": "scatter",
         "x": [
          -136091.65243247757,
          -104723.42587623041,
          -104723.42587623041,
          -136091.65243247757,
          -136091.65243247757
         ],
         "y": [
          -22.609490275911416,
          -22.609490275911416,
          16.47674904719307,
          16.47674904719307,
          -22.609490275911416
         ]
        },
        {
         "fill": "toself",
         "fillcolor": "#0000FF",
         "line": {
          "color": "#0000CC",
          "width": 1
         },
         "marker": {
          "size": 1
         },
         "mode": "markers+lines",
         "showlegend": false,
         "type": "scatter",
         "x": [
          -136742.85651110188,
          -105226.94715448152,
          -105226.94715448152,
          -136742.85651110188,
          -136742.85651110188
         ],
         "y": [
          -22.609490275911416,
          -22.609490275911416,
          16.47674904719307,
          16.47674904719307,
          -22.609490275911416
         ]
        },
        {
         "fill": "toself",
         "fillcolor": "#0000FF",
         "line": {
          "color": "#0000CC",
          "width": 1
         },
         "marker": {
          "size": 1
         },
         "mode": "markers+lines",
         "showlegend": false,
         "type": "scatter",
         "x": [
          -137394.06058972617,
          -105730.46843273261,
          -105730.46843273261,
          -137394.06058972617,
          -137394.06058972617
         ],
         "y": [
          -22.609490275911416,
          -22.609490275911416,
          16.47674904719307,
          16.47674904719307,
          -22.609490275911416
         ]
        },
        {
         "fill": "toself",
         "fillcolor": "#0000FF",
         "line": {
          "color": "#0000CC",
          "width": 1
         },
         "marker": {
          "size": 1
         },
         "mode": "markers+lines",
         "showlegend": false,
         "type": "scatter",
         "x": [
          -138045.26466835046,
          -106233.9897109837,
          -106233.9897109837,
          -138045.26466835046,
          -138045.26466835046
         ],
         "y": [
          -22.609490275911416,
          -22.609490275911416,
          16.47674904719307,
          16.47674904719307,
          -22.609490275911416
         ]
        },
        {
         "fill": "toself",
         "fillcolor": "#0000FF",
         "line": {
          "color": "#0000CC",
          "width": 1
         },
         "marker": {
          "size": 1
         },
         "mode": "markers+lines",
         "showlegend": false,
         "type": "scatter",
         "x": [
          -138696.46874697477,
          -106737.5109892348,
          -106737.5109892348,
          -138696.46874697477,
          -138696.46874697477
         ],
         "y": [
          -22.609490275911416,
          -22.609490275911416,
          16.47674904719307,
          16.47674904719307,
          -22.609490275911416
         ]
        },
        {
         "fill": "toself",
         "fillcolor": "#0000FF",
         "line": {
          "color": "#0000CC",
          "width": 1
         },
         "marker": {
          "size": 1
         },
         "mode": "markers+lines",
         "showlegend": false,
         "type": "scatter",
         "x": [
          -139347.67282559906,
          -107241.03226748589,
          -107241.03226748589,
          -139347.67282559906,
          -139347.67282559906
         ],
         "y": [
          -22.609490275911416,
          -22.609490275911416,
          16.47674904719307,
          16.47674904719307,
          -22.609490275911416
         ]
        },
        {
         "fill": "toself",
         "fillcolor": "#0000FF",
         "line": {
          "color": "#0000CC",
          "width": 1
         },
         "marker": {
          "size": 1
         },
         "mode": "markers+lines",
         "showlegend": false,
         "type": "scatter",
         "x": [
          -139998.87690422338,
          -107744.553545737,
          -107744.553545737,
          -139998.87690422338,
          -139998.87690422338
         ],
         "y": [
          -22.609490275911416,
          -22.609490275911416,
          16.47674904719307,
          16.47674904719307,
          -22.609490275911416
         ]
        },
        {
         "fill": "toself",
         "fillcolor": "#0000FF",
         "line": {
          "color": "#0000CC",
          "width": 1
         },
         "marker": {
          "size": 1
         },
         "mode": "markers+lines",
         "showlegend": false,
         "type": "scatter",
         "x": [
          -140650.08098284766,
          -108248.07482398809,
          -108248.07482398809,
          -140650.08098284766,
          -140650.08098284766
         ],
         "y": [
          -22.609490275911416,
          -22.609490275911416,
          16.47674904719307,
          16.47674904719307,
          -22.609490275911416
         ]
        },
        {
         "fill": "toself",
         "fillcolor": "#0000FF",
         "line": {
          "color": "#0000CC",
          "width": 1
         },
         "marker": {
          "size": 1
         },
         "mode": "markers+lines",
         "showlegend": false,
         "type": "scatter",
         "x": [
          -141301.28506147195,
          -108751.59610223919,
          -108751.59610223919,
          -141301.28506147195,
          -141301.28506147195
         ],
         "y": [
          -22.609490275911416,
          -22.609490275911416,
          16.47674904719307,
          16.47674904719307,
          -22.609490275911416
         ]
        },
        {
         "fill": "toself",
         "fillcolor": "#0000FF",
         "line": {
          "color": "#0000CC",
          "width": 1
         },
         "marker": {
          "size": 1
         },
         "mode": "markers+lines",
         "showlegend": false,
         "type": "scatter",
         "x": [
          -141952.48914009627,
          -109255.11738049028,
          -109255.11738049028,
          -141952.48914009627,
          -141952.48914009627
         ],
         "y": [
          -22.609490275911416,
          -22.609490275911416,
          16.47674904719307,
          16.47674904719307,
          -22.609490275911416
         ]
        },
        {
         "fill": "toself",
         "fillcolor": "#0000FF",
         "line": {
          "color": "#0000CC",
          "width": 1
         },
         "marker": {
          "size": 1
         },
         "mode": "markers+lines",
         "showlegend": false,
         "type": "scatter",
         "x": [
          -142603.69321872055,
          -109758.63865874137,
          -109758.63865874137,
          -142603.69321872055,
          -142603.69321872055
         ],
         "y": [
          -22.609490275911416,
          -22.609490275911416,
          16.47674904719307,
          16.47674904719307,
          -22.609490275911416
         ]
        },
        {
         "fill": "toself",
         "fillcolor": "#0000FF",
         "line": {
          "color": "#0000CC",
          "width": 1
         },
         "marker": {
          "size": 1
         },
         "mode": "markers+lines",
         "showlegend": false,
         "type": "scatter",
         "x": [
          -143254.89729734487,
          -110262.15993699248,
          -110262.15993699248,
          -143254.89729734487,
          -143254.89729734487
         ],
         "y": [
          -22.609490275911416,
          -22.609490275911416,
          16.47674904719307,
          16.47674904719307,
          -22.609490275911416
         ]
        },
        {
         "fill": "toself",
         "fillcolor": "#0000FF",
         "line": {
          "color": "#0000CC",
          "width": 1
         },
         "marker": {
          "size": 1
         },
         "mode": "markers+lines",
         "showlegend": false,
         "type": "scatter",
         "x": [
          -143906.10137596916,
          -110765.68121524357,
          -110765.68121524357,
          -143906.10137596916,
          -143906.10137596916
         ],
         "y": [
          -22.609490275911416,
          -22.609490275911416,
          16.47674904719307,
          16.47674904719307,
          -22.609490275911416
         ]
        },
        {
         "fill": "toself",
         "fillcolor": "#0000FF",
         "line": {
          "color": "#0000CC",
          "width": 1
         },
         "marker": {
          "size": 1
         },
         "mode": "markers+lines",
         "showlegend": false,
         "type": "scatter",
         "x": [
          -144557.30545459344,
          -111269.20249349467,
          -111269.20249349467,
          -144557.30545459344,
          -144557.30545459344
         ],
         "y": [
          -22.609490275911416,
          -22.609490275911416,
          16.47674904719307,
          16.47674904719307,
          -22.609490275911416
         ]
        },
        {
         "fill": "toself",
         "fillcolor": "#0000FF",
         "line": {
          "color": "#0000CC",
          "width": 1
         },
         "marker": {
          "size": 1
         },
         "mode": "markers+lines",
         "showlegend": false,
         "type": "scatter",
         "x": [
          -145208.50953321776,
          -111772.72377174578,
          -111772.72377174578,
          -145208.50953321776,
          -145208.50953321776
         ],
         "y": [
          -22.609490275911416,
          -22.609490275911416,
          16.47674904719307,
          16.47674904719307,
          -22.609490275911416
         ]
        },
        {
         "fill": "toself",
         "fillcolor": "#0000FF",
         "line": {
          "color": "#0000CC",
          "width": 1
         },
         "marker": {
          "size": 1
         },
         "mode": "markers+lines",
         "showlegend": false,
         "type": "scatter",
         "x": [
          -145859.71361184205,
          -112276.24504999687,
          -112276.24504999687,
          -145859.71361184205,
          -145859.71361184205
         ],
         "y": [
          -22.609490275911416,
          -22.609490275911416,
          16.47674904719307,
          16.47674904719307,
          -22.609490275911416
         ]
        },
        {
         "fill": "toself",
         "fillcolor": "#0000FF",
         "line": {
          "color": "#0000CC",
          "width": 1
         },
         "marker": {
          "size": 1
         },
         "mode": "markers+lines",
         "showlegend": false,
         "type": "scatter",
         "x": [
          -146510.91769046633,
          -112779.76632824796,
          -112779.76632824796,
          -146510.91769046633,
          -146510.91769046633
         ],
         "y": [
          -22.609490275911416,
          -22.609490275911416,
          16.47674904719307,
          16.47674904719307,
          -22.609490275911416
         ]
        },
        {
         "fill": "toself",
         "fillcolor": "#0000FF",
         "line": {
          "color": "#0000CC",
          "width": 1
         },
         "marker": {
          "size": 1
         },
         "mode": "markers+lines",
         "showlegend": false,
         "type": "scatter",
         "x": [
          -147162.12176909065,
          -113283.28760649906,
          -113283.28760649906,
          -147162.12176909065,
          -147162.12176909065
         ],
         "y": [
          -22.609490275911416,
          -22.609490275911416,
          16.47674904719307,
          16.47674904719307,
          -22.609490275911416
         ]
        },
        {
         "fill": "toself",
         "fillcolor": "#0000FF",
         "line": {
          "color": "#0000CC",
          "width": 1
         },
         "marker": {
          "size": 1
         },
         "mode": "markers+lines",
         "showlegend": false,
         "type": "scatter",
         "x": [
          -147813.32584771494,
          -113786.80888475015,
          -113786.80888475015,
          -147813.32584771494,
          -147813.32584771494
         ],
         "y": [
          -22.609490275911416,
          -22.609490275911416,
          16.47674904719307,
          16.47674904719307,
          -22.609490275911416
         ]
        },
        {
         "fill": "toself",
         "fillcolor": "#0000FF",
         "line": {
          "color": "#0000CC",
          "width": 1
         },
         "marker": {
          "size": 1
         },
         "mode": "markers+lines",
         "showlegend": false,
         "type": "scatter",
         "x": [
          -148464.52992633925,
          -114290.33016300126,
          -114290.33016300126,
          -148464.52992633925,
          -148464.52992633925
         ],
         "y": [
          -22.609490275911416,
          -22.609490275911416,
          16.47674904719307,
          16.47674904719307,
          -22.609490275911416
         ]
        },
        {
         "fill": "toself",
         "fillcolor": "#0000FF",
         "line": {
          "color": "#0000CC",
          "width": 1
         },
         "marker": {
          "size": 1
         },
         "mode": "markers+lines",
         "showlegend": false,
         "type": "scatter",
         "x": [
          -149115.73400496354,
          -114793.85144125237,
          -114793.85144125237,
          -149115.73400496354,
          -149115.73400496354
         ],
         "y": [
          -22.609490275911416,
          -22.609490275911416,
          16.47674904719307,
          16.47674904719307,
          -22.609490275911416
         ]
        },
        {
         "fill": "toself",
         "fillcolor": "#0000FF",
         "line": {
          "color": "#0000CC",
          "width": 1
         },
         "marker": {
          "size": 1
         },
         "mode": "markers+lines",
         "showlegend": false,
         "type": "scatter",
         "x": [
          -149766.93808358785,
          -115297.37271950346,
          -115297.37271950346,
          -149766.93808358785,
          -149766.93808358785
         ],
         "y": [
          -22.609490275911416,
          -22.609490275911416,
          16.47674904719307,
          16.47674904719307,
          -22.609490275911416
         ]
        },
        {
         "fill": "toself",
         "fillcolor": "#0000FF",
         "line": {
          "color": "#0000CC",
          "width": 1
         },
         "marker": {
          "size": 1
         },
         "mode": "markers+lines",
         "showlegend": false,
         "type": "scatter",
         "x": [
          -150418.14216221214,
          -115800.89399775455,
          -115800.89399775455,
          -150418.14216221214,
          -150418.14216221214
         ],
         "y": [
          -22.609490275911416,
          -22.609490275911416,
          16.47674904719307,
          16.47674904719307,
          -22.609490275911416
         ]
        },
        {
         "fill": "toself",
         "fillcolor": "#0000FF",
         "line": {
          "color": "#0000CC",
          "width": 1
         },
         "marker": {
          "size": 1
         },
         "mode": "markers+lines",
         "showlegend": false,
         "type": "scatter",
         "x": [
          -151069.34624083646,
          -116304.41527600566,
          -116304.41527600566,
          -151069.34624083646,
          -151069.34624083646
         ],
         "y": [
          -22.609490275911416,
          -22.609490275911416,
          16.47674904719307,
          16.47674904719307,
          -22.609490275911416
         ]
        },
        {
         "fill": "toself",
         "fillcolor": "#0000FF",
         "line": {
          "color": "#0000CC",
          "width": 1
         },
         "marker": {
          "size": 1
         },
         "mode": "markers+lines",
         "showlegend": false,
         "type": "scatter",
         "x": [
          -151720.55031946074,
          -116807.93655425675,
          -116807.93655425675,
          -151720.55031946074,
          -151720.55031946074
         ],
         "y": [
          -22.609490275911416,
          -22.609490275911416,
          16.47674904719307,
          16.47674904719307,
          -22.609490275911416
         ]
        },
        {
         "fill": "toself",
         "fillcolor": "#0000FF",
         "line": {
          "color": "#0000CC",
          "width": 1
         },
         "marker": {
          "size": 1
         },
         "mode": "markers+lines",
         "showlegend": false,
         "type": "scatter",
         "x": [
          -152371.75439808503,
          -117311.45783250785,
          -117311.45783250785,
          -152371.75439808503,
          -152371.75439808503
         ],
         "y": [
          -22.609490275911416,
          -22.609490275911416,
          16.47674904719307,
          16.47674904719307,
          -22.609490275911416
         ]
        },
        {
         "fill": "toself",
         "fillcolor": "#0000FF",
         "line": {
          "color": "#0000CC",
          "width": 1
         },
         "marker": {
          "size": 1
         },
         "mode": "markers+lines",
         "showlegend": false,
         "type": "scatter",
         "x": [
          -153022.95847670932,
          -117814.97911075894,
          -117814.97911075894,
          -153022.95847670932,
          -153022.95847670932
         ],
         "y": [
          -22.609490275911416,
          -22.609490275911416,
          16.47674904719307,
          16.47674904719307,
          -22.609490275911416
         ]
        },
        {
         "fill": "toself",
         "fillcolor": "#0000FF",
         "line": {
          "color": "#0000CC",
          "width": 1
         },
         "marker": {
          "size": 1
         },
         "mode": "markers+lines",
         "showlegend": false,
         "type": "scatter",
         "x": [
          -153674.16255533358,
          -118318.50038901006,
          -118318.50038901006,
          -153674.16255533358,
          -153674.16255533358
         ],
         "y": [
          -22.609490275911416,
          -22.609490275911416,
          16.47674904719307,
          16.47674904719307,
          -22.609490275911416
         ]
        },
        {
         "fill": "toself",
         "fillcolor": "#0000FF",
         "line": {
          "color": "#0000CC",
          "width": 1
         },
         "marker": {
          "size": 1
         },
         "mode": "markers+lines",
         "showlegend": false,
         "type": "scatter",
         "x": [
          -154325.36663395786,
          -118822.0216672612,
          -118822.0216672612,
          -154325.36663395786,
          -154325.36663395786
         ],
         "y": [
          -22.609490275911416,
          -22.609490275911416,
          16.47674904719307,
          16.47674904719307,
          -22.609490275911416
         ]
        },
        {
         "fill": "toself",
         "fillcolor": "#0000FF",
         "line": {
          "color": "#0000CC",
          "width": 1
         },
         "marker": {
          "size": 1
         },
         "mode": "markers+lines",
         "showlegend": false,
         "type": "scatter",
         "x": [
          -154976.57071258212,
          -119325.54294551231,
          -119325.54294551231,
          -154976.57071258212,
          -154976.57071258212
         ],
         "y": [
          -22.609490275911416,
          -22.609490275911416,
          16.47674904719307,
          16.47674904719307,
          -22.609490275911416
         ]
        },
        {
         "fill": "toself",
         "fillcolor": "#0000FF",
         "line": {
          "color": "#0000CC",
          "width": 1
         },
         "marker": {
          "size": 1
         },
         "mode": "markers+lines",
         "showlegend": false,
         "type": "scatter",
         "x": [
          -155627.7747912064,
          -119829.06422376345,
          -119829.06422376345,
          -155627.7747912064,
          -155627.7747912064
         ],
         "y": [
          -22.609490275911416,
          -22.609490275911416,
          16.47674904719307,
          16.47674904719307,
          -22.609490275911416
         ]
        },
        {
         "fill": "toself",
         "fillcolor": "#0000FF",
         "line": {
          "color": "#0000CC",
          "width": 1
         },
         "marker": {
          "size": 1
         },
         "mode": "markers+lines",
         "showlegend": false,
         "type": "scatter",
         "x": [
          -156278.97886983067,
          -120332.58550201457,
          -120332.58550201457,
          -156278.97886983067,
          -156278.97886983067
         ],
         "y": [
          -22.609490275911416,
          -22.609490275911416,
          16.47674904719307,
          16.47674904719307,
          -22.609490275911416
         ]
        },
        {
         "fill": "toself",
         "fillcolor": "#0000FF",
         "line": {
          "color": "#0000CC",
          "width": 1
         },
         "marker": {
          "size": 1
         },
         "mode": "markers+lines",
         "showlegend": false,
         "type": "scatter",
         "x": [
          -156930.18294845492,
          -120836.10678026569,
          -120836.10678026569,
          -156930.18294845492,
          -156930.18294845492
         ],
         "y": [
          -22.609490275911416,
          -22.609490275911416,
          16.47674904719307,
          16.47674904719307,
          -22.609490275911416
         ]
        },
        {
         "fill": "toself",
         "fillcolor": "#0000FF",
         "line": {
          "color": "#0000CC",
          "width": 1
         },
         "marker": {
          "size": 1
         },
         "mode": "markers+lines",
         "showlegend": false,
         "type": "scatter",
         "x": [
          -157581.3870270792,
          -121339.62805851681,
          -121339.62805851681,
          -157581.3870270792,
          -157581.3870270792
         ],
         "y": [
          -22.609490275911416,
          -22.609490275911416,
          16.47674904719307,
          16.47674904719307,
          -22.609490275911416
         ]
        },
        {
         "fill": "toself",
         "fillcolor": "#0000FF",
         "line": {
          "color": "#0000CC",
          "width": 1
         },
         "marker": {
          "size": 1
         },
         "mode": "markers+lines",
         "showlegend": false,
         "type": "scatter",
         "x": [
          -158232.59110570347,
          -121843.14933676794,
          -121843.14933676794,
          -158232.59110570347,
          -158232.59110570347
         ],
         "y": [
          -22.609490275911416,
          -22.609490275911416,
          16.47674904719307,
          16.47674904719307,
          -22.609490275911416
         ]
        },
        {
         "fill": "toself",
         "fillcolor": "#0000FF",
         "line": {
          "color": "#0000CC",
          "width": 1
         },
         "marker": {
          "size": 1
         },
         "mode": "markers+lines",
         "showlegend": false,
         "type": "scatter",
         "x": [
          -158883.79518432776,
          -122346.67061501906,
          -122346.67061501906,
          -158883.79518432776,
          -158883.79518432776
         ],
         "y": [
          -22.609490275911416,
          -22.609490275911416,
          16.47674904719307,
          16.47674904719307,
          -22.609490275911416
         ]
        },
        {
         "fill": "toself",
         "fillcolor": "#0000FF",
         "line": {
          "color": "#0000CC",
          "width": 1
         },
         "marker": {
          "size": 1
         },
         "mode": "markers+lines",
         "showlegend": false,
         "type": "scatter",
         "x": [
          -159534.999262952,
          -122850.19189327018,
          -122850.19189327018,
          -159534.999262952,
          -159534.999262952
         ],
         "y": [
          -22.609490275911416,
          -22.609490275911416,
          16.47674904719307,
          16.47674904719307,
          -22.609490275911416
         ]
        },
        {
         "fill": "toself",
         "fillcolor": "#0000FF",
         "line": {
          "color": "#0000CC",
          "width": 1
         },
         "marker": {
          "size": 1
         },
         "mode": "markers+lines",
         "showlegend": false,
         "type": "scatter",
         "x": [
          -160186.2033415763,
          -123353.71317152132,
          -123353.71317152132,
          -160186.2033415763,
          -160186.2033415763
         ],
         "y": [
          -22.609490275911416,
          -22.609490275911416,
          16.47674904719307,
          16.47674904719307,
          -22.609490275911416
         ]
        },
        {
         "fill": "toself",
         "fillcolor": "#0000FF",
         "line": {
          "color": "#0000CC",
          "width": 1
         },
         "marker": {
          "size": 1
         },
         "mode": "markers+lines",
         "showlegend": false,
         "type": "scatter",
         "x": [
          -160837.40742020056,
          -123857.23444977243,
          -123857.23444977243,
          -160837.40742020056,
          -160837.40742020056
         ],
         "y": [
          -22.609490275911416,
          -22.609490275911416,
          16.47674904719307,
          16.47674904719307,
          -22.609490275911416
         ]
        },
        {
         "fill": "toself",
         "fillcolor": "#0000FF",
         "line": {
          "color": "#0000CC",
          "width": 1
         },
         "marker": {
          "size": 1
         },
         "mode": "markers+lines",
         "showlegend": false,
         "type": "scatter",
         "x": [
          -161488.61149882484,
          -124360.75572802356,
          -124360.75572802356,
          -161488.61149882484,
          -161488.61149882484
         ],
         "y": [
          -22.609490275911416,
          -22.609490275911416,
          16.47674904719307,
          16.47674904719307,
          -22.609490275911416
         ]
        },
        {
         "fill": "toself",
         "fillcolor": "#0000FF",
         "line": {
          "color": "#0000CC",
          "width": 1
         },
         "marker": {
          "size": 1
         },
         "mode": "markers+lines",
         "showlegend": false,
         "type": "scatter",
         "x": [
          -162139.8155774491,
          -124864.27700627469,
          -124864.27700627469,
          -162139.8155774491,
          -162139.8155774491
         ],
         "y": [
          -22.609490275911416,
          -22.609490275911416,
          16.47674904719307,
          16.47674904719307,
          -22.609490275911416
         ]
        },
        {
         "fill": "toself",
         "fillcolor": "#0000FF",
         "line": {
          "color": "#0000CC",
          "width": 1
         },
         "marker": {
          "size": 1
         },
         "mode": "markers+lines",
         "showlegend": false,
         "type": "scatter",
         "x": [
          -162791.01965607336,
          -125367.79828452581,
          -125367.79828452581,
          -162791.01965607336,
          -162791.01965607336
         ],
         "y": [
          -22.609490275911416,
          -22.609490275911416,
          16.47674904719307,
          16.47674904719307,
          -22.609490275911416
         ]
        },
        {
         "fill": "toself",
         "fillcolor": "#0000FF",
         "line": {
          "color": "#0000CC",
          "width": 1
         },
         "marker": {
          "size": 1
         },
         "mode": "markers+lines",
         "showlegend": false,
         "type": "scatter",
         "x": [
          -163442.22373469765,
          -125871.31956277693,
          -125871.31956277693,
          -163442.22373469765,
          -163442.22373469765
         ],
         "y": [
          -22.609490275911416,
          -22.609490275911416,
          16.47674904719307,
          16.47674904719307,
          -22.609490275911416
         ]
        },
        {
         "fill": "toself",
         "fillcolor": "#0000FF",
         "line": {
          "color": "#0000CC",
          "width": 1
         },
         "marker": {
          "size": 1
         },
         "mode": "markers+lines",
         "showlegend": false,
         "type": "scatter",
         "x": [
          -164093.4278133219,
          -126374.84084102805,
          -126374.84084102805,
          -164093.4278133219,
          -164093.4278133219
         ],
         "y": [
          -22.609490275911416,
          -22.609490275911416,
          16.47674904719307,
          16.47674904719307,
          -22.609490275911416
         ]
        },
        {
         "fill": "toself",
         "fillcolor": "#0000FF",
         "line": {
          "color": "#0000CC",
          "width": 1
         },
         "marker": {
          "size": 1
         },
         "mode": "markers+lines",
         "showlegend": false,
         "type": "scatter",
         "x": [
          -164744.63189194622,
          -126878.36211927918,
          -126878.36211927918,
          -164744.63189194622,
          -164744.63189194622
         ],
         "y": [
          -22.609490275911416,
          -22.609490275911416,
          16.47674904719307,
          16.47674904719307,
          -22.609490275911416
         ]
        },
        {
         "fill": "toself",
         "fillcolor": "#0000FF",
         "line": {
          "color": "#0000CC",
          "width": 1
         },
         "marker": {
          "size": 1
         },
         "mode": "markers+lines",
         "showlegend": false,
         "type": "scatter",
         "x": [
          -165395.83597057048,
          -127381.88339753027,
          -127381.88339753027,
          -165395.83597057048,
          -165395.83597057048
         ],
         "y": [
          -22.609490275911416,
          -22.609490275911416,
          16.47674904719307,
          16.47674904719307,
          -22.609490275911416
         ]
        },
        {
         "fill": "toself",
         "fillcolor": "#0000FF",
         "line": {
          "color": "#0000CC",
          "width": 1
         },
         "marker": {
          "size": 1
         },
         "mode": "markers+lines",
         "showlegend": false,
         "type": "scatter",
         "x": [
          -166047.04004919477,
          -127885.4046757814,
          -127885.4046757814,
          -166047.04004919477,
          -166047.04004919477
         ],
         "y": [
          -22.609490275911416,
          -22.609490275911416,
          16.47674904719307,
          16.47674904719307,
          -22.609490275911416
         ]
        },
        {
         "fill": "toself",
         "fillcolor": "#0000FF",
         "line": {
          "color": "#0000CC",
          "width": 1
         },
         "marker": {
          "size": 1
         },
         "mode": "markers+lines",
         "showlegend": false,
         "type": "scatter",
         "x": [
          -166698.24412781902,
          -128388.92595403253,
          -128388.92595403253,
          -166698.24412781902,
          -166698.24412781902
         ],
         "y": [
          -22.609490275911416,
          -22.609490275911416,
          16.47674904719307,
          16.47674904719307,
          -22.609490275911416
         ]
        },
        {
         "fill": "toself",
         "fillcolor": "#0000FF",
         "line": {
          "color": "#0000CC",
          "width": 1
         },
         "marker": {
          "size": 1
         },
         "mode": "markers+lines",
         "showlegend": false,
         "type": "scatter",
         "x": [
          -167349.44820644328,
          -128892.44723228365,
          -128892.44723228365,
          -167349.44820644328,
          -167349.44820644328
         ],
         "y": [
          -22.609490275911416,
          -22.609490275911416,
          16.47674904719307,
          16.47674904719307,
          -22.609490275911416
         ]
        },
        {
         "fill": "toself",
         "fillcolor": "#0000FF",
         "line": {
          "color": "#0000CC",
          "width": 1
         },
         "marker": {
          "size": 1
         },
         "mode": "markers+lines",
         "showlegend": false,
         "type": "scatter",
         "x": [
          -168000.65228506757,
          -129395.96851053477,
          -129395.96851053477,
          -168000.65228506757,
          -168000.65228506757
         ],
         "y": [
          -22.609490275911416,
          -22.609490275911416,
          16.47674904719307,
          16.47674904719307,
          -22.609490275911416
         ]
        },
        {
         "fill": "toself",
         "fillcolor": "#0000FF",
         "line": {
          "color": "#0000CC",
          "width": 1
         },
         "marker": {
          "size": 1
         },
         "mode": "markers+lines",
         "showlegend": false,
         "type": "scatter",
         "x": [
          -168651.85636369183,
          -129899.4897887859,
          -129899.4897887859,
          -168651.85636369183,
          -168651.85636369183
         ],
         "y": [
          -22.609490275911416,
          -22.609490275911416,
          16.47674904719307,
          16.47674904719307,
          -22.609490275911416
         ]
        },
        {
         "fill": "toself",
         "fillcolor": "#0000FF",
         "line": {
          "color": "#0000CC",
          "width": 1
         },
         "marker": {
          "size": 1
         },
         "mode": "markers+lines",
         "showlegend": false,
         "type": "scatter",
         "x": [
          -169303.0604423161,
          -130403.01106703702,
          -130403.01106703702,
          -169303.0604423161,
          -169303.0604423161
         ],
         "y": [
          -22.609490275911416,
          -22.609490275911416,
          16.47674904719307,
          16.47674904719307,
          -22.609490275911416
         ]
        },
        {
         "fill": "toself",
         "fillcolor": "#0000FF",
         "line": {
          "color": "#0000CC",
          "width": 1
         },
         "marker": {
          "size": 1
         },
         "mode": "markers+lines",
         "showlegend": false,
         "type": "scatter",
         "x": [
          -169954.26452094037,
          -130906.53234528814,
          -130906.53234528814,
          -169954.26452094037,
          -169954.26452094037
         ],
         "y": [
          -22.609490275911416,
          -22.609490275911416,
          16.47674904719307,
          16.47674904719307,
          -22.609490275911416
         ]
        },
        {
         "fill": "toself",
         "fillcolor": "#0000FF",
         "line": {
          "color": "#0000CC",
          "width": 1
         },
         "marker": {
          "size": 1
         },
         "mode": "markers+lines",
         "showlegend": false,
         "type": "scatter",
         "x": [
          -170605.46859956466,
          -131410.05362353928,
          -131410.05362353928,
          -170605.46859956466,
          -170605.46859956466
         ],
         "y": [
          -22.609490275911416,
          -22.609490275911416,
          16.47674904719307,
          16.47674904719307,
          -22.609490275911416
         ]
        },
        {
         "fill": "toself",
         "fillcolor": "#0000FF",
         "line": {
          "color": "#0000CC",
          "width": 1
         },
         "marker": {
          "size": 1
         },
         "mode": "markers+lines",
         "showlegend": false,
         "type": "scatter",
         "x": [
          -171256.67267818892,
          -131913.5749017904,
          -131913.5749017904,
          -171256.67267818892,
          -171256.67267818892
         ],
         "y": [
          -22.609490275911416,
          -22.609490275911416,
          16.47674904719307,
          16.47674904719307,
          -22.609490275911416
         ]
        },
        {
         "fill": "toself",
         "fillcolor": "#0000FF",
         "line": {
          "color": "#0000CC",
          "width": 1
         },
         "marker": {
          "size": 1
         },
         "mode": "markers+lines",
         "showlegend": false,
         "type": "scatter",
         "x": [
          -171907.8767568132,
          -132417.09618004152,
          -132417.09618004152,
          -171907.8767568132,
          -171907.8767568132
         ],
         "y": [
          -22.609490275911416,
          -22.609490275911416,
          16.47674904719307,
          16.47674904719307,
          -22.609490275911416
         ]
        },
        {
         "fill": "toself",
         "fillcolor": "#0000FF",
         "line": {
          "color": "#0000CC",
          "width": 1
         },
         "marker": {
          "size": 1
         },
         "mode": "markers+lines",
         "showlegend": false,
         "type": "scatter",
         "x": [
          -172559.08083543746,
          -132920.61745829263,
          -132920.61745829263,
          -172559.08083543746,
          -172559.08083543746
         ],
         "y": [
          -22.609490275911416,
          -22.609490275911416,
          16.47674904719307,
          16.47674904719307,
          -22.609490275911416
         ]
        },
        {
         "fill": "toself",
         "fillcolor": "#0000FF",
         "line": {
          "color": "#0000CC",
          "width": 1
         },
         "marker": {
          "size": 1
         },
         "mode": "markers+lines",
         "showlegend": false,
         "type": "scatter",
         "x": [
          -173210.28491406172,
          -133424.13873654377,
          -133424.13873654377,
          -173210.28491406172,
          -173210.28491406172
         ],
         "y": [
          -22.609490275911416,
          -22.609490275911416,
          16.47674904719307,
          16.47674904719307,
          -22.609490275911416
         ]
        },
        {
         "fill": "toself",
         "fillcolor": "#0000FF",
         "line": {
          "color": "#0000CC",
          "width": 1
         },
         "marker": {
          "size": 1
         },
         "mode": "markers+lines",
         "showlegend": false,
         "type": "scatter",
         "x": [
          -173861.488992686,
          -133927.6600147949,
          -133927.6600147949,
          -173861.488992686,
          -173861.488992686
         ],
         "y": [
          -22.609490275911416,
          -22.609490275911416,
          16.47674904719307,
          16.47674904719307,
          -22.609490275911416
         ]
        },
        {
         "fill": "toself",
         "fillcolor": "#0000FF",
         "line": {
          "color": "#0000CC",
          "width": 1
         },
         "marker": {
          "size": 1
         },
         "mode": "markers+lines",
         "showlegend": false,
         "type": "scatter",
         "x": [
          -174512.69307131026,
          -134431.18129304601,
          -134431.18129304601,
          -174512.69307131026,
          -174512.69307131026
         ],
         "y": [
          -22.609490275911416,
          -22.609490275911416,
          16.47674904719307,
          16.47674904719307,
          -22.609490275911416
         ]
        },
        {
         "fill": "toself",
         "fillcolor": "#0000FF",
         "line": {
          "color": "#0000CC",
          "width": 1
         },
         "marker": {
          "size": 1
         },
         "mode": "markers+lines",
         "showlegend": false,
         "type": "scatter",
         "x": [
          -175163.89714993455,
          -134934.70257129715,
          -134934.70257129715,
          -175163.89714993455,
          -175163.89714993455
         ],
         "y": [
          -22.609490275911416,
          -22.609490275911416,
          16.47674904719307,
          16.47674904719307,
          -22.609490275911416
         ]
        },
        {
         "fill": "toself",
         "fillcolor": "#0000FF",
         "line": {
          "color": "#0000CC",
          "width": 1
         },
         "marker": {
          "size": 1
         },
         "mode": "markers+lines",
         "showlegend": false,
         "type": "scatter",
         "x": [
          -175815.1012285588,
          -135438.22384954826,
          -135438.22384954826,
          -175815.1012285588,
          -175815.1012285588
         ],
         "y": [
          -22.609490275911416,
          -22.609490275911416,
          16.47674904719307,
          16.47674904719307,
          -22.609490275911416
         ]
        },
        {
         "fill": "toself",
         "fillcolor": "#0000FF",
         "line": {
          "color": "#0000CC",
          "width": 1
         },
         "marker": {
          "size": 1
         },
         "mode": "markers+lines",
         "showlegend": false,
         "type": "scatter",
         "x": [
          -176466.3053071831,
          -135941.7451277994,
          -135941.7451277994,
          -176466.3053071831,
          -176466.3053071831
         ],
         "y": [
          -22.609490275911416,
          -22.609490275911416,
          16.47674904719307,
          16.47674904719307,
          -22.609490275911416
         ]
        },
        {
         "fill": "toself",
         "fillcolor": "#0000FF",
         "line": {
          "color": "#0000CC",
          "width": 1
         },
         "marker": {
          "size": 1
         },
         "mode": "markers+lines",
         "showlegend": false,
         "type": "scatter",
         "x": [
          -177117.50938580735,
          -136445.2664060505,
          -136445.2664060505,
          -177117.50938580735,
          -177117.50938580735
         ],
         "y": [
          -22.609490275911416,
          -22.609490275911416,
          16.47674904719307,
          16.47674904719307,
          -22.609490275911416
         ]
        },
        {
         "fill": "toself",
         "fillcolor": "#0000FF",
         "line": {
          "color": "#0000CC",
          "width": 1
         },
         "marker": {
          "size": 1
         },
         "mode": "markers+lines",
         "showlegend": false,
         "type": "scatter",
         "x": [
          -177768.71346443164,
          -136948.78768430164,
          -136948.78768430164,
          -177768.71346443164,
          -177768.71346443164
         ],
         "y": [
          -22.609490275911416,
          -22.609490275911416,
          16.47674904719307,
          16.47674904719307,
          -22.609490275911416
         ]
        },
        {
         "fill": "toself",
         "fillcolor": "#0000FF",
         "line": {
          "color": "#0000CC",
          "width": 1
         },
         "marker": {
          "size": 1
         },
         "mode": "markers+lines",
         "showlegend": false,
         "type": "scatter",
         "x": [
          -178419.9175430559,
          -137452.30896255275,
          -137452.30896255275,
          -178419.9175430559,
          -178419.9175430559
         ],
         "y": [
          -22.609490275911416,
          -22.609490275911416,
          16.47674904719307,
          16.47674904719307,
          -22.609490275911416
         ]
        },
        {
         "fill": "toself",
         "fillcolor": "#0000FF",
         "line": {
          "color": "#0000CC",
          "width": 1
         },
         "marker": {
          "size": 1
         },
         "mode": "markers+lines",
         "showlegend": false,
         "type": "scatter",
         "x": [
          -179071.12162168015,
          -137955.8302408039,
          -137955.8302408039,
          -179071.12162168015,
          -179071.12162168015
         ],
         "y": [
          -22.609490275911416,
          -22.609490275911416,
          16.47674904719307,
          16.47674904719307,
          -22.609490275911416
         ]
        },
        {
         "fill": "toself",
         "fillcolor": "#0000FF",
         "line": {
          "color": "#0000CC",
          "width": 1
         },
         "marker": {
          "size": 1
         },
         "mode": "markers+lines",
         "showlegend": false,
         "type": "scatter",
         "x": [
          -179722.32570030444,
          -138459.35151905502,
          -138459.35151905502,
          -179722.32570030444,
          -179722.32570030444
         ],
         "y": [
          -22.609490275911416,
          -22.609490275911416,
          16.47674904719307,
          16.47674904719307,
          -22.609490275911416
         ]
        },
        {
         "fill": "toself",
         "fillcolor": "#0000FF",
         "line": {
          "color": "#0000CC",
          "width": 1
         },
         "marker": {
          "size": 1
         },
         "mode": "markers+lines",
         "showlegend": false,
         "type": "scatter",
         "x": [
          -180373.5297789287,
          -138962.87279730613,
          -138962.87279730613,
          -180373.5297789287,
          -180373.5297789287
         ],
         "y": [
          -22.609490275911416,
          -22.609490275911416,
          16.47674904719307,
          16.47674904719307,
          -22.609490275911416
         ]
        },
        {
         "fill": "toself",
         "fillcolor": "#0000FF",
         "line": {
          "color": "#0000CC",
          "width": 1
         },
         "marker": {
          "size": 1
         },
         "mode": "markers+lines",
         "showlegend": false,
         "type": "scatter",
         "x": [
          -181024.733857553,
          -139466.39407555727,
          -139466.39407555727,
          -181024.733857553,
          -181024.733857553
         ],
         "y": [
          -22.609490275911416,
          -22.609490275911416,
          16.47674904719307,
          16.47674904719307,
          -22.609490275911416
         ]
        },
        {
         "fill": "toself",
         "fillcolor": "#0000FF",
         "line": {
          "color": "#0000CC",
          "width": 1
         },
         "marker": {
          "size": 1
         },
         "mode": "markers+lines",
         "showlegend": false,
         "type": "scatter",
         "x": [
          -181675.93793617724,
          -139969.91535380838,
          -139969.91535380838,
          -181675.93793617724,
          -181675.93793617724
         ],
         "y": [
          -22.609490275911416,
          -22.609490275911416,
          16.47674904719307,
          16.47674904719307,
          -22.609490275911416
         ]
        },
        {
         "fill": "toself",
         "fillcolor": "#0000FF",
         "line": {
          "color": "#0000CC",
          "width": 1
         },
         "marker": {
          "size": 1
         },
         "mode": "markers+lines",
         "showlegend": false,
         "type": "scatter",
         "x": [
          -182327.14201480153,
          -140473.4366320595,
          -140473.4366320595,
          -182327.14201480153,
          -182327.14201480153
         ],
         "y": [
          -22.609490275911416,
          -22.609490275911416,
          16.47674904719307,
          16.47674904719307,
          -22.609490275911416
         ]
        },
        {
         "fill": "toself",
         "fillcolor": "#0000FF",
         "line": {
          "color": "#0000CC",
          "width": 1
         },
         "marker": {
          "size": 1
         },
         "mode": "markers+lines",
         "showlegend": false,
         "type": "scatter",
         "x": [
          -182978.3460934258,
          -140976.95791031062,
          -140976.95791031062,
          -182978.3460934258,
          -182978.3460934258
         ],
         "y": [
          -22.609490275911416,
          -22.609490275911416,
          16.47674904719307,
          16.47674904719307,
          -22.609490275911416
         ]
        },
        {
         "fill": "toself",
         "fillcolor": "#0000FF",
         "line": {
          "color": "#0000CC",
          "width": 1
         },
         "marker": {
          "size": 1
         },
         "mode": "markers+lines",
         "showlegend": false,
         "type": "scatter",
         "x": [
          -183629.55017205008,
          -141480.47918856176,
          -141480.47918856176,
          -183629.55017205008,
          -183629.55017205008
         ],
         "y": [
          -22.609490275911416,
          -22.609490275911416,
          16.47674904719307,
          16.47674904719307,
          -22.609490275911416
         ]
        },
        {
         "fill": "toself",
         "fillcolor": "#0000FF",
         "line": {
          "color": "#0000CC",
          "width": 1
         },
         "marker": {
          "size": 1
         },
         "mode": "markers+lines",
         "showlegend": false,
         "type": "scatter",
         "x": [
          -184280.75425067433,
          -141984.00046681287,
          -141984.00046681287,
          -184280.75425067433,
          -184280.75425067433
         ],
         "y": [
          -22.609490275911416,
          -22.609490275911416,
          16.47674904719307,
          16.47674904719307,
          -22.609490275911416
         ]
        },
        {
         "fill": "toself",
         "fillcolor": "#0000FF",
         "line": {
          "color": "#0000CC",
          "width": 1
         },
         "marker": {
          "size": 1
         },
         "mode": "markers+lines",
         "showlegend": false,
         "type": "scatter",
         "x": [
          -184931.9583292986,
          -142487.521745064,
          -142487.521745064,
          -184931.9583292986,
          -184931.9583292986
         ],
         "y": [
          -22.609490275911416,
          -22.609490275911416,
          16.47674904719307,
          16.47674904719307,
          -22.609490275911416
         ]
        },
        {
         "fill": "toself",
         "fillcolor": "#0000FF",
         "line": {
          "color": "#0000CC",
          "width": 1
         },
         "marker": {
          "size": 1
         },
         "mode": "markers+lines",
         "showlegend": false,
         "type": "scatter",
         "x": [
          -185583.16240792288,
          -142991.04302331514,
          -142991.04302331514,
          -185583.16240792288,
          -185583.16240792288
         ],
         "y": [
          -22.609490275911416,
          -22.609490275911416,
          16.47674904719307,
          16.47674904719307,
          -22.609490275911416
         ]
        },
        {
         "fill": "toself",
         "fillcolor": "#0000FF",
         "line": {
          "color": "#0000CC",
          "width": 1
         },
         "marker": {
          "size": 1
         },
         "mode": "markers+lines",
         "showlegend": false,
         "type": "scatter",
         "x": [
          -186234.36648654714,
          -143494.56430156625,
          -143494.56430156625,
          -186234.36648654714,
          -186234.36648654714
         ],
         "y": [
          -22.609490275911416,
          -22.609490275911416,
          16.47674904719307,
          16.47674904719307,
          -22.609490275911416
         ]
        },
        {
         "fill": "toself",
         "fillcolor": "#0000FF",
         "line": {
          "color": "#0000CC",
          "width": 1
         },
         "marker": {
          "size": 1
         },
         "mode": "markers+lines",
         "showlegend": false,
         "type": "scatter",
         "x": [
          -186885.57056517142,
          -143998.0855798174,
          -143998.0855798174,
          -186885.57056517142,
          -186885.57056517142
         ],
         "y": [
          -22.609490275911416,
          -22.609490275911416,
          16.47674904719307,
          16.47674904719307,
          -22.609490275911416
         ]
        },
        {
         "fill": "toself",
         "fillcolor": "#0000FF",
         "line": {
          "color": "#0000CC",
          "width": 1
         },
         "marker": {
          "size": 1
         },
         "mode": "markers+lines",
         "showlegend": false,
         "type": "scatter",
         "x": [
          -187536.77464379568,
          -144501.6068580685,
          -144501.6068580685,
          -187536.77464379568,
          -187536.77464379568
         ],
         "y": [
          -22.609490275911416,
          -22.609490275911416,
          16.47674904719307,
          16.47674904719307,
          -22.609490275911416
         ]
        },
        {
         "fill": "toself",
         "fillcolor": "#0000FF",
         "line": {
          "color": "#0000CC",
          "width": 1
         },
         "marker": {
          "size": 1
         },
         "mode": "markers+lines",
         "showlegend": false,
         "type": "scatter",
         "x": [
          -188187.97872241997,
          -145005.12813631963,
          -145005.12813631963,
          -188187.97872241997,
          -188187.97872241997
         ],
         "y": [
          -22.609490275911416,
          -22.609490275911416,
          16.47674904719307,
          16.47674904719307,
          -22.609490275911416
         ]
        },
        {
         "fill": "toself",
         "fillcolor": "#0000FF",
         "line": {
          "color": "#0000CC",
          "width": 1
         },
         "marker": {
          "size": 1
         },
         "mode": "markers+lines",
         "showlegend": false,
         "type": "scatter",
         "x": [
          -188839.18280104423,
          -145508.64941457074,
          -145508.64941457074,
          -188839.18280104423,
          -188839.18280104423
         ],
         "y": [
          -22.609490275911416,
          -22.609490275911416,
          16.47674904719307,
          16.47674904719307,
          -22.609490275911416
         ]
        },
        {
         "fill": "toself",
         "fillcolor": "#0000FF",
         "line": {
          "color": "#0000CC",
          "width": 1
         },
         "marker": {
          "size": 1
         },
         "mode": "markers+lines",
         "showlegend": false,
         "type": "scatter",
         "x": [
          -189490.3868796685,
          -146012.17069282188,
          -146012.17069282188,
          -189490.3868796685,
          -189490.3868796685
         ],
         "y": [
          -22.609490275911416,
          -22.609490275911416,
          16.47674904719307,
          16.47674904719307,
          -22.609490275911416
         ]
        },
        {
         "fill": "toself",
         "fillcolor": "#0000FF",
         "line": {
          "color": "#0000CC",
          "width": 1
         },
         "marker": {
          "size": 1
         },
         "mode": "markers+lines",
         "showlegend": false,
         "type": "scatter",
         "x": [
          -190141.59095829277,
          -146515.69197107299,
          -146515.69197107299,
          -190141.59095829277,
          -190141.59095829277
         ],
         "y": [
          -22.609490275911416,
          -22.609490275911416,
          16.47674904719307,
          16.47674904719307,
          -22.609490275911416
         ]
        },
        {
         "fill": "toself",
         "fillcolor": "#0000FF",
         "line": {
          "color": "#0000CC",
          "width": 1
         },
         "marker": {
          "size": 1
         },
         "mode": "markers+lines",
         "showlegend": false,
         "type": "scatter",
         "x": [
          -190792.79503691703,
          -147019.21324932412,
          -147019.21324932412,
          -190792.79503691703,
          -190792.79503691703
         ],
         "y": [
          -22.609490275911416,
          -22.609490275911416,
          16.47674904719307,
          16.47674904719307,
          -22.609490275911416
         ]
        },
        {
         "fill": "toself",
         "fillcolor": "#0000FF",
         "line": {
          "color": "#0000CC",
          "width": 1
         },
         "marker": {
          "size": 1
         },
         "mode": "markers+lines",
         "showlegend": false,
         "type": "scatter",
         "x": [
          -191443.99911554132,
          -147522.73452757526,
          -147522.73452757526,
          -191443.99911554132,
          -191443.99911554132
         ],
         "y": [
          -22.609490275911416,
          -22.609490275911416,
          16.47674904719307,
          16.47674904719307,
          -22.609490275911416
         ]
        },
        {
         "fill": "toself",
         "fillcolor": "#0000FF",
         "line": {
          "color": "#0000CC",
          "width": 1
         },
         "marker": {
          "size": 1
         },
         "mode": "markers+lines",
         "showlegend": false,
         "type": "scatter",
         "x": [
          -192095.20319416557,
          -148026.25580582637,
          -148026.25580582637,
          -192095.20319416557,
          -192095.20319416557
         ],
         "y": [
          -22.609490275911416,
          -22.609490275911416,
          16.47674904719307,
          16.47674904719307,
          -22.609490275911416
         ]
        },
        {
         "fill": "toself",
         "fillcolor": "#0000FF",
         "line": {
          "color": "#0000CC",
          "width": 1
         },
         "marker": {
          "size": 1
         },
         "mode": "markers+lines",
         "showlegend": false,
         "type": "scatter",
         "x": [
          -192746.40727278986,
          -148529.7770840775,
          -148529.7770840775,
          -192746.40727278986,
          -192746.40727278986
         ],
         "y": [
          -22.609490275911416,
          -22.609490275911416,
          16.47674904719307,
          16.47674904719307,
          -22.609490275911416
         ]
        },
        {
         "fill": "toself",
         "fillcolor": "#0000FF",
         "line": {
          "color": "#0000CC",
          "width": 1
         },
         "marker": {
          "size": 1
         },
         "mode": "markers+lines",
         "showlegend": false,
         "type": "scatter",
         "x": [
          -193397.61135141412,
          -149033.2983623286,
          -149033.2983623286,
          -193397.61135141412,
          -193397.61135141412
         ],
         "y": [
          -22.609490275911416,
          -22.609490275911416,
          16.47674904719307,
          16.47674904719307,
          -22.609490275911416
         ]
        },
        {
         "fill": "toself",
         "fillcolor": "#0000FF",
         "line": {
          "color": "#0000CC",
          "width": 1
         },
         "marker": {
          "size": 1
         },
         "mode": "markers+lines",
         "showlegend": false,
         "type": "scatter",
         "x": [
          -194048.8154300384,
          -149536.81964057975,
          -149536.81964057975,
          -194048.8154300384,
          -194048.8154300384
         ],
         "y": [
          -22.609490275911416,
          -22.609490275911416,
          16.47674904719307,
          16.47674904719307,
          -22.609490275911416
         ]
        },
        {
         "fill": "toself",
         "fillcolor": "#0000FF",
         "line": {
          "color": "#0000CC",
          "width": 1
         },
         "marker": {
          "size": 1
         },
         "mode": "markers+lines",
         "showlegend": false,
         "type": "scatter",
         "x": [
          -194700.01950866266,
          -150040.34091883086,
          -150040.34091883086,
          -194700.01950866266,
          -194700.01950866266
         ],
         "y": [
          -22.609490275911416,
          -22.609490275911416,
          16.47674904719307,
          16.47674904719307,
          -22.609490275911416
         ]
        },
        {
         "fill": "toself",
         "fillcolor": "#0000FF",
         "line": {
          "color": "#0000CC",
          "width": 1
         },
         "marker": {
          "size": 1
         },
         "mode": "markers+lines",
         "showlegend": false,
         "type": "scatter",
         "x": [
          -195351.22358728695,
          -150543.862197082,
          -150543.862197082,
          -195351.22358728695,
          -195351.22358728695
         ],
         "y": [
          -22.609490275911416,
          -22.609490275911416,
          16.47674904719307,
          16.47674904719307,
          -22.609490275911416
         ]
        }
       ],
       "layout": {
        "font": {
         "size": 32
        },
        "plot_bgcolor": "rgba(0,0,0,0)",
        "template": {
         "data": {
          "bar": [
           {
            "error_x": {
             "color": "#2a3f5f"
            },
            "error_y": {
             "color": "#2a3f5f"
            },
            "marker": {
             "line": {
              "color": "#E5ECF6",
              "width": 0.5
             },
             "pattern": {
              "fillmode": "overlay",
              "size": 10,
              "solidity": 0.2
             }
            },
            "type": "bar"
           }
          ],
          "barpolar": [
           {
            "marker": {
             "line": {
              "color": "#E5ECF6",
              "width": 0.5
             },
             "pattern": {
              "fillmode": "overlay",
              "size": 10,
              "solidity": 0.2
             }
            },
            "type": "barpolar"
           }
          ],
          "carpet": [
           {
            "aaxis": {
             "endlinecolor": "#2a3f5f",
             "gridcolor": "white",
             "linecolor": "white",
             "minorgridcolor": "white",
             "startlinecolor": "#2a3f5f"
            },
            "baxis": {
             "endlinecolor": "#2a3f5f",
             "gridcolor": "white",
             "linecolor": "white",
             "minorgridcolor": "white",
             "startlinecolor": "#2a3f5f"
            },
            "type": "carpet"
           }
          ],
          "choropleth": [
           {
            "colorbar": {
             "outlinewidth": 0,
             "ticks": ""
            },
            "type": "choropleth"
           }
          ],
          "contour": [
           {
            "colorbar": {
             "outlinewidth": 0,
             "ticks": ""
            },
            "colorscale": [
             [
              0,
              "#0d0887"
             ],
             [
              0.1111111111111111,
              "#46039f"
             ],
             [
              0.2222222222222222,
              "#7201a8"
             ],
             [
              0.3333333333333333,
              "#9c179e"
             ],
             [
              0.4444444444444444,
              "#bd3786"
             ],
             [
              0.5555555555555556,
              "#d8576b"
             ],
             [
              0.6666666666666666,
              "#ed7953"
             ],
             [
              0.7777777777777778,
              "#fb9f3a"
             ],
             [
              0.8888888888888888,
              "#fdca26"
             ],
             [
              1,
              "#f0f921"
             ]
            ],
            "type": "contour"
           }
          ],
          "contourcarpet": [
           {
            "colorbar": {
             "outlinewidth": 0,
             "ticks": ""
            },
            "type": "contourcarpet"
           }
          ],
          "heatmap": [
           {
            "colorbar": {
             "outlinewidth": 0,
             "ticks": ""
            },
            "colorscale": [
             [
              0,
              "#0d0887"
             ],
             [
              0.1111111111111111,
              "#46039f"
             ],
             [
              0.2222222222222222,
              "#7201a8"
             ],
             [
              0.3333333333333333,
              "#9c179e"
             ],
             [
              0.4444444444444444,
              "#bd3786"
             ],
             [
              0.5555555555555556,
              "#d8576b"
             ],
             [
              0.6666666666666666,
              "#ed7953"
             ],
             [
              0.7777777777777778,
              "#fb9f3a"
             ],
             [
              0.8888888888888888,
              "#fdca26"
             ],
             [
              1,
              "#f0f921"
             ]
            ],
            "type": "heatmap"
           }
          ],
          "heatmapgl": [
           {
            "colorbar": {
             "outlinewidth": 0,
             "ticks": ""
            },
            "colorscale": [
             [
              0,
              "#0d0887"
             ],
             [
              0.1111111111111111,
              "#46039f"
             ],
             [
              0.2222222222222222,
              "#7201a8"
             ],
             [
              0.3333333333333333,
              "#9c179e"
             ],
             [
              0.4444444444444444,
              "#bd3786"
             ],
             [
              0.5555555555555556,
              "#d8576b"
             ],
             [
              0.6666666666666666,
              "#ed7953"
             ],
             [
              0.7777777777777778,
              "#fb9f3a"
             ],
             [
              0.8888888888888888,
              "#fdca26"
             ],
             [
              1,
              "#f0f921"
             ]
            ],
            "type": "heatmapgl"
           }
          ],
          "histogram": [
           {
            "marker": {
             "pattern": {
              "fillmode": "overlay",
              "size": 10,
              "solidity": 0.2
             }
            },
            "type": "histogram"
           }
          ],
          "histogram2d": [
           {
            "colorbar": {
             "outlinewidth": 0,
             "ticks": ""
            },
            "colorscale": [
             [
              0,
              "#0d0887"
             ],
             [
              0.1111111111111111,
              "#46039f"
             ],
             [
              0.2222222222222222,
              "#7201a8"
             ],
             [
              0.3333333333333333,
              "#9c179e"
             ],
             [
              0.4444444444444444,
              "#bd3786"
             ],
             [
              0.5555555555555556,
              "#d8576b"
             ],
             [
              0.6666666666666666,
              "#ed7953"
             ],
             [
              0.7777777777777778,
              "#fb9f3a"
             ],
             [
              0.8888888888888888,
              "#fdca26"
             ],
             [
              1,
              "#f0f921"
             ]
            ],
            "type": "histogram2d"
           }
          ],
          "histogram2dcontour": [
           {
            "colorbar": {
             "outlinewidth": 0,
             "ticks": ""
            },
            "colorscale": [
             [
              0,
              "#0d0887"
             ],
             [
              0.1111111111111111,
              "#46039f"
             ],
             [
              0.2222222222222222,
              "#7201a8"
             ],
             [
              0.3333333333333333,
              "#9c179e"
             ],
             [
              0.4444444444444444,
              "#bd3786"
             ],
             [
              0.5555555555555556,
              "#d8576b"
             ],
             [
              0.6666666666666666,
              "#ed7953"
             ],
             [
              0.7777777777777778,
              "#fb9f3a"
             ],
             [
              0.8888888888888888,
              "#fdca26"
             ],
             [
              1,
              "#f0f921"
             ]
            ],
            "type": "histogram2dcontour"
           }
          ],
          "mesh3d": [
           {
            "colorbar": {
             "outlinewidth": 0,
             "ticks": ""
            },
            "type": "mesh3d"
           }
          ],
          "parcoords": [
           {
            "line": {
             "colorbar": {
              "outlinewidth": 0,
              "ticks": ""
             }
            },
            "type": "parcoords"
           }
          ],
          "pie": [
           {
            "automargin": true,
            "type": "pie"
           }
          ],
          "scatter": [
           {
            "fillpattern": {
             "fillmode": "overlay",
             "size": 10,
             "solidity": 0.2
            },
            "type": "scatter"
           }
          ],
          "scatter3d": [
           {
            "line": {
             "colorbar": {
              "outlinewidth": 0,
              "ticks": ""
             }
            },
            "marker": {
             "colorbar": {
              "outlinewidth": 0,
              "ticks": ""
             }
            },
            "type": "scatter3d"
           }
          ],
          "scattercarpet": [
           {
            "marker": {
             "colorbar": {
              "outlinewidth": 0,
              "ticks": ""
             }
            },
            "type": "scattercarpet"
           }
          ],
          "scattergeo": [
           {
            "marker": {
             "colorbar": {
              "outlinewidth": 0,
              "ticks": ""
             }
            },
            "type": "scattergeo"
           }
          ],
          "scattergl": [
           {
            "marker": {
             "colorbar": {
              "outlinewidth": 0,
              "ticks": ""
             }
            },
            "type": "scattergl"
           }
          ],
          "scattermapbox": [
           {
            "marker": {
             "colorbar": {
              "outlinewidth": 0,
              "ticks": ""
             }
            },
            "type": "scattermapbox"
           }
          ],
          "scatterpolar": [
           {
            "marker": {
             "colorbar": {
              "outlinewidth": 0,
              "ticks": ""
             }
            },
            "type": "scatterpolar"
           }
          ],
          "scatterpolargl": [
           {
            "marker": {
             "colorbar": {
              "outlinewidth": 0,
              "ticks": ""
             }
            },
            "type": "scatterpolargl"
           }
          ],
          "scatterternary": [
           {
            "marker": {
             "colorbar": {
              "outlinewidth": 0,
              "ticks": ""
             }
            },
            "type": "scatterternary"
           }
          ],
          "surface": [
           {
            "colorbar": {
             "outlinewidth": 0,
             "ticks": ""
            },
            "colorscale": [
             [
              0,
              "#0d0887"
             ],
             [
              0.1111111111111111,
              "#46039f"
             ],
             [
              0.2222222222222222,
              "#7201a8"
             ],
             [
              0.3333333333333333,
              "#9c179e"
             ],
             [
              0.4444444444444444,
              "#bd3786"
             ],
             [
              0.5555555555555556,
              "#d8576b"
             ],
             [
              0.6666666666666666,
              "#ed7953"
             ],
             [
              0.7777777777777778,
              "#fb9f3a"
             ],
             [
              0.8888888888888888,
              "#fdca26"
             ],
             [
              1,
              "#f0f921"
             ]
            ],
            "type": "surface"
           }
          ],
          "table": [
           {
            "cells": {
             "fill": {
              "color": "#EBF0F8"
             },
             "line": {
              "color": "white"
             }
            },
            "header": {
             "fill": {
              "color": "#C8D4E3"
             },
             "line": {
              "color": "white"
             }
            },
            "type": "table"
           }
          ]
         },
         "layout": {
          "annotationdefaults": {
           "arrowcolor": "#2a3f5f",
           "arrowhead": 0,
           "arrowwidth": 1
          },
          "autotypenumbers": "strict",
          "coloraxis": {
           "colorbar": {
            "outlinewidth": 0,
            "ticks": ""
           }
          },
          "colorscale": {
           "diverging": [
            [
             0,
             "#8e0152"
            ],
            [
             0.1,
             "#c51b7d"
            ],
            [
             0.2,
             "#de77ae"
            ],
            [
             0.3,
             "#f1b6da"
            ],
            [
             0.4,
             "#fde0ef"
            ],
            [
             0.5,
             "#f7f7f7"
            ],
            [
             0.6,
             "#e6f5d0"
            ],
            [
             0.7,
             "#b8e186"
            ],
            [
             0.8,
             "#7fbc41"
            ],
            [
             0.9,
             "#4d9221"
            ],
            [
             1,
             "#276419"
            ]
           ],
           "sequential": [
            [
             0,
             "#0d0887"
            ],
            [
             0.1111111111111111,
             "#46039f"
            ],
            [
             0.2222222222222222,
             "#7201a8"
            ],
            [
             0.3333333333333333,
             "#9c179e"
            ],
            [
             0.4444444444444444,
             "#bd3786"
            ],
            [
             0.5555555555555556,
             "#d8576b"
            ],
            [
             0.6666666666666666,
             "#ed7953"
            ],
            [
             0.7777777777777778,
             "#fb9f3a"
            ],
            [
             0.8888888888888888,
             "#fdca26"
            ],
            [
             1,
             "#f0f921"
            ]
           ],
           "sequentialminus": [
            [
             0,
             "#0d0887"
            ],
            [
             0.1111111111111111,
             "#46039f"
            ],
            [
             0.2222222222222222,
             "#7201a8"
            ],
            [
             0.3333333333333333,
             "#9c179e"
            ],
            [
             0.4444444444444444,
             "#bd3786"
            ],
            [
             0.5555555555555556,
             "#d8576b"
            ],
            [
             0.6666666666666666,
             "#ed7953"
            ],
            [
             0.7777777777777778,
             "#fb9f3a"
            ],
            [
             0.8888888888888888,
             "#fdca26"
            ],
            [
             1,
             "#f0f921"
            ]
           ]
          },
          "colorway": [
           "#636efa",
           "#EF553B",
           "#00cc96",
           "#ab63fa",
           "#FFA15A",
           "#19d3f3",
           "#FF6692",
           "#B6E880",
           "#FF97FF",
           "#FECB52"
          ],
          "font": {
           "color": "#2a3f5f"
          },
          "geo": {
           "bgcolor": "white",
           "lakecolor": "white",
           "landcolor": "#E5ECF6",
           "showlakes": true,
           "showland": true,
           "subunitcolor": "white"
          },
          "hoverlabel": {
           "align": "left"
          },
          "hovermode": "closest",
          "mapbox": {
           "style": "light"
          },
          "paper_bgcolor": "white",
          "plot_bgcolor": "#E5ECF6",
          "polar": {
           "angularaxis": {
            "gridcolor": "white",
            "linecolor": "white",
            "ticks": ""
           },
           "bgcolor": "#E5ECF6",
           "radialaxis": {
            "gridcolor": "white",
            "linecolor": "white",
            "ticks": ""
           }
          },
          "scene": {
           "xaxis": {
            "backgroundcolor": "#E5ECF6",
            "gridcolor": "white",
            "gridwidth": 2,
            "linecolor": "white",
            "showbackground": true,
            "ticks": "",
            "zerolinecolor": "white"
           },
           "yaxis": {
            "backgroundcolor": "#E5ECF6",
            "gridcolor": "white",
            "gridwidth": 2,
            "linecolor": "white",
            "showbackground": true,
            "ticks": "",
            "zerolinecolor": "white"
           },
           "zaxis": {
            "backgroundcolor": "#E5ECF6",
            "gridcolor": "white",
            "gridwidth": 2,
            "linecolor": "white",
            "showbackground": true,
            "ticks": "",
            "zerolinecolor": "white"
           }
          },
          "shapedefaults": {
           "line": {
            "color": "#2a3f5f"
           }
          },
          "ternary": {
           "aaxis": {
            "gridcolor": "white",
            "linecolor": "white",
            "ticks": ""
           },
           "baxis": {
            "gridcolor": "white",
            "linecolor": "white",
            "ticks": ""
           },
           "bgcolor": "#E5ECF6",
           "caxis": {
            "gridcolor": "white",
            "linecolor": "white",
            "ticks": ""
           }
          },
          "title": {
           "x": 0.05
          },
          "xaxis": {
           "automargin": true,
           "gridcolor": "white",
           "linecolor": "white",
           "ticks": "",
           "title": {
            "standoff": 15
           },
           "zerolinecolor": "white",
           "zerolinewidth": 2
          },
          "yaxis": {
           "automargin": true,
           "gridcolor": "white",
           "linecolor": "white",
           "ticks": "",
           "title": {
            "standoff": 15
           },
           "zerolinecolor": "white",
           "zerolinewidth": 2
          }
         }
        },
        "xaxis": {
         "gridcolor": "LightGrey",
         "gridwidth": 2,
         "linecolor": "Gray",
         "linewidth": 4,
         "range": [
          -246050.03816126735,
          58142.84928261508
         ],
         "showgrid": false,
         "showline": true
        },
        "yaxis": {
         "gridcolor": "LightGrey",
         "gridwidth": 2,
         "linecolor": "Gray",
         "linewidth": 4,
         "range": [
          -32.38105010668754,
          26.248308877969194
         ],
         "showgrid": false,
         "showline": true
        }
       }
      }
     },
     "metadata": {},
     "output_type": "display_data"
    }
   ],
   "source": [
    "from verse.plotter.plotter3D import *\n",
    "import pyvista as pv\n",
    "import warnings\n",
    "\n",
    "warnings.filterwarnings(\"ignore\")\n",
    "\n",
    "from verse.plotter.plotter2D import *\n",
    "import plotly.graph_objects as go\n",
    "\n",
    "fig = go.Figure()\n",
    "fig = reachtube_tree(traces_veri, None, fig, 1, 3)\n",
    "fig.show()\n",
    "\n",
    "# pv.set_jupyter_backend(None)\n",
    "# fig = pv.Plotter()\n",
    "# # fig = plot3dMap(M4(), ax=fig)\n",
    "# fig = plot3dReachtube(traces_veri, \"aircraft1\", 1, 2, 3, color=\"r\", ax=fig)\n",
    "# fig = plot3dReachtube(traces_veri, \"aircraft2\", 1, 2, 3, color=\"b\", ax=fig)\n",
    "# fig.set_background(\"#e0e0e0\")\n",
    "# fig.show()"
   ]
  },
  {
   "cell_type": "code",
   "execution_count": 13,
   "metadata": {},
   "outputs": [
    {
     "ename": "TypeError",
     "evalue": "'AnalysisTree' object is not iterable",
     "output_type": "error",
     "traceback": [
      "\u001b[0;31m---------------------------------------------------------------------------\u001b[0m",
      "\u001b[0;31mTypeError\u001b[0m                                 Traceback (most recent call last)",
      "\u001b[1;32m/home/gokul/Desktop/verse-research/acasxu_verse_int/integration.ipynb Cell 13\u001b[0m line \u001b[0;36m3\n\u001b[1;32m     <a href='vscode-notebook-cell:/home/gokul/Desktop/verse-research/acasxu_verse_int/integration.ipynb#X16sZmlsZQ%3D%3D?line=25'>26</a>\u001b[0m ax\u001b[39m.\u001b[39mset_box_aspect([\u001b[39m1\u001b[39m,\u001b[39m1\u001b[39m,\u001b[39m1\u001b[39m])  \u001b[39m# Set equal aspect ratio\u001b[39;00m\n\u001b[1;32m     <a href='vscode-notebook-cell:/home/gokul/Desktop/verse-research/acasxu_verse_int/integration.ipynb#X16sZmlsZQ%3D%3D?line=27'>28</a>\u001b[0m \u001b[39m# Call the function with your data\u001b[39;00m\n\u001b[1;32m     <a href='vscode-notebook-cell:/home/gokul/Desktop/verse-research/acasxu_verse_int/integration.ipynb#X16sZmlsZQ%3D%3D?line=28'>29</a>\u001b[0m \u001b[39m# You need to replace 'traces_veri' with the actual data structure that contains your trajectories.\u001b[39;00m\n\u001b[0;32m---> <a href='vscode-notebook-cell:/home/gokul/Desktop/verse-research/acasxu_verse_int/integration.ipynb#X16sZmlsZQ%3D%3D?line=29'>30</a>\u001b[0m ax \u001b[39m=\u001b[39m plot3dReachtubeMatplotlib(traces_veri, \u001b[39m\"\u001b[39;49m\u001b[39maircraft1\u001b[39;49m\u001b[39m\"\u001b[39;49m, \u001b[39m1\u001b[39;49m, \u001b[39m2\u001b[39;49m, \u001b[39m3\u001b[39;49m, ax\u001b[39m=\u001b[39;49max, color\u001b[39m=\u001b[39;49m\u001b[39m'\u001b[39;49m\u001b[39mred\u001b[39;49m\u001b[39m'\u001b[39;49m, alpha\u001b[39m=\u001b[39;49m\u001b[39m0.5\u001b[39;49m)\n\u001b[1;32m     <a href='vscode-notebook-cell:/home/gokul/Desktop/verse-research/acasxu_verse_int/integration.ipynb#X16sZmlsZQ%3D%3D?line=30'>31</a>\u001b[0m ax \u001b[39m=\u001b[39m plot3dReachtubeMatplotlib(traces_veri, \u001b[39m\"\u001b[39m\u001b[39maircraft2\u001b[39m\u001b[39m\"\u001b[39m, \u001b[39m1\u001b[39m, \u001b[39m2\u001b[39m, \u001b[39m3\u001b[39m, ax\u001b[39m=\u001b[39max, color\u001b[39m=\u001b[39m\u001b[39m'\u001b[39m\u001b[39mblue\u001b[39m\u001b[39m'\u001b[39m, alpha\u001b[39m=\u001b[39m\u001b[39m0.5\u001b[39m)\n\u001b[1;32m     <a href='vscode-notebook-cell:/home/gokul/Desktop/verse-research/acasxu_verse_int/integration.ipynb#X16sZmlsZQ%3D%3D?line=32'>33</a>\u001b[0m \u001b[39m# Set the background and show the plot\u001b[39;00m\n",
      "\u001b[1;32m/home/gokul/Desktop/verse-research/acasxu_verse_int/integration.ipynb Cell 13\u001b[0m line \u001b[0;36m9\n\u001b[1;32m      <a href='vscode-notebook-cell:/home/gokul/Desktop/verse-research/acasxu_verse_int/integration.ipynb#X16sZmlsZQ%3D%3D?line=7'>8</a>\u001b[0m \u001b[39mdef\u001b[39;00m \u001b[39mplot3dReachtubeMatplotlib\u001b[39m(traces, agent_id, x_dim, y_dim, z_dim, ax, color\u001b[39m=\u001b[39m\u001b[39m'\u001b[39m\u001b[39mred\u001b[39m\u001b[39m'\u001b[39m, alpha\u001b[39m=\u001b[39m\u001b[39m0.5\u001b[39m):\n\u001b[0;32m----> <a href='vscode-notebook-cell:/home/gokul/Desktop/verse-research/acasxu_verse_int/integration.ipynb#X16sZmlsZQ%3D%3D?line=8'>9</a>\u001b[0m     \u001b[39mfor\u001b[39;00m node \u001b[39min\u001b[39;00m traces:  \u001b[39m# Assuming 'traces' is an iterable of nodes\u001b[39;00m\n\u001b[1;32m     <a href='vscode-notebook-cell:/home/gokul/Desktop/verse-research/acasxu_verse_int/integration.ipynb#X16sZmlsZQ%3D%3D?line=9'>10</a>\u001b[0m         trace \u001b[39m=\u001b[39m node\u001b[39m.\u001b[39mtrace[agent_id]  \u001b[39m# Access the agent's trace\u001b[39;00m\n\u001b[1;32m     <a href='vscode-notebook-cell:/home/gokul/Desktop/verse-research/acasxu_verse_int/integration.ipynb#X16sZmlsZQ%3D%3D?line=10'>11</a>\u001b[0m         \u001b[39mfor\u001b[39;00m i \u001b[39min\u001b[39;00m \u001b[39mrange\u001b[39m(\u001b[39m0\u001b[39m, \u001b[39mlen\u001b[39m(trace), \u001b[39m2\u001b[39m):\n",
      "\u001b[0;31mTypeError\u001b[0m: 'AnalysisTree' object is not iterable"
     ]
    },
    {
     "data": {
      "image/png": "[encoded data removed]",
      "text/plain": [
       "<Figure size 640x480 with 1 Axes>"
      ]
     },
     "metadata": {},
     "output_type": "display_data"
    }
   ],
   "source": [
    "# import matplotlib.pyplot as plt\n",
    "# from mpl_toolkits.mplot3d.art3d import Poly3DCollection\n",
    "# import numpy as np\n",
    "# import polytope as pc\n",
    "\n",
    "# # ... (other function definitions)\n",
    "\n",
    "# def plot3dReachtubeMatplotlib(traces, agent_id, x_dim, y_dim, z_dim, ax, color='red', alpha=0.5):\n",
    "#     for node in traces:  # Assuming 'traces' is an iterable of nodes\n",
    "#         trace = node.trace[agent_id]  # Access the agent's trace\n",
    "#         for i in range(0, len(trace), 2):\n",
    "#             lb = trace[i]\n",
    "#             ub = trace[i + 1]\n",
    "#             box = np.array([[lb[x_dim], lb[y_dim], lb[z_dim]], [ub[x_dim], ub[y_dim], ub[z_dim]]]).T\n",
    "#             poly = pc.box2poly(box)\n",
    "#             vertices = pc.extreme(poly)\n",
    "#             hull = pc.qhull.ConvexHull(vertices)\n",
    "#             for simplex in hull.simplices:\n",
    "#                 simplex = np.append(simplex, simplex[0])  # Close the polytope\n",
    "#                 ax.add_collection3d(Poly3DCollection([vertices[simplex]], facecolors=color, edgecolors='k', alpha=alpha))\n",
    "#     return ax\n",
    "\n",
    "# # Usage\n",
    "# fig = plt.figure()\n",
    "# ax = fig.add_subplot(111, projection='3d')\n",
    "# ax.set_box_aspect([1,1,1])  # Set equal aspect ratio\n",
    "\n",
    "# # Call the function with your data\n",
    "# # You need to replace 'traces_veri' with the actual data structure that contains your trajectories.\n",
    "# ax = plot3dReachtubeMatplotlib(traces_veri, \"aircraft1\", 1, 2, 3, ax=ax, color='red', alpha=0.5)\n",
    "# ax = plot3dReachtubeMatplotlib(traces_veri, \"aircraft2\", 1, 2, 3, ax=ax, color='blue', alpha=0.5)\n",
    "\n",
    "# # Set the background and show the plot\n",
    "# ax.set_facecolor('#e0e0e0')\n",
    "# plt.show()\n"
   ]
  },
  {
   "cell_type": "code",
   "execution_count": null,
   "metadata": {},
   "outputs": [],
   "source": []
  }
 ],
 "metadata": {
  "kernelspec": {
   "display_name": "verse_research_env",
   "language": "python",
   "name": "python3"
  },
  "language_info": {
   "codemirror_mode": {
    "name": "ipython",
    "version": 3
   },
   "file_extension": ".py",
   "mimetype": "text/x-python",
   "name": "python",
   "nbconvert_exporter": "python",
   "pygments_lexer": "ipython3",
   "version": "3.10.12"
  }
 },
 "nbformat": 4,
 "nbformat_minor": 2
}
