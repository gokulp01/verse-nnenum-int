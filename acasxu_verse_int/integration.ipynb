{
 "cells": [
  {
   "cell_type": "code",
   "execution_count": 1,
   "metadata": {},
   "outputs": [
    {
     "name": "stderr",
     "output_type": "stream",
     "text": [
      "/home/gokul/Desktop/verse-research/verse_research_env/lib/python3.10/site-packages/tqdm/auto.py:22: TqdmWarning: IProgress not found. Please update jupyter and ipywidgets. See https://ipywidgets.readthedocs.io/en/stable/user_install.html\n",
      "  from .autonotebook import tqdm as notebook_tqdm\n"
     ]
    }
   ],
   "source": [
    "import verse"
   ]
  },
  {
   "cell_type": "code",
   "execution_count": 2,
   "metadata": {},
   "outputs": [],
   "source": [
    "from typing import Tuple, List\n",
    "\n",
    "import numpy as np\n",
    "from scipy.integrate import ode\n",
    "import torch\n",
    "\n",
    "# from tutorial_utils import drone_params\n",
    "from verse import BaseAgent\n",
    "from verse import LaneMap\n",
    "from verse.map.lane_map_3d import LaneMap_3d\n",
    "from verse.analysis.utils import wrap_to_pi\n",
    "from verse.analysis.analysis_tree import TraceType\n",
    "\n",
    "from numba import njit"
   ]
  },
  {
   "cell_type": "code",
   "execution_count": 3,
   "metadata": {},
   "outputs": [],
   "source": [
    "\n",
    "def make_random_input(seed, intruder_can_turn=True, num_inputs=100):\n",
    "    \"\"\"make a random input for the system\"\"\"\n",
    "\n",
    "    np.random.seed(seed) # deterministic random numbers\n",
    "\n",
    "    # state vector is: x, y, theta, x2, y2, theta2, time\n",
    "    init_vec = np.zeros(7)\n",
    "    init_vec[2] = np.pi / 2 # ownship moving up initially\n",
    "\n",
    "    radius = 10000 + np.random.random() * 55000 # [10000, 65000]\n",
    "    angle = np.random.random() * 2 * np.pi\n",
    "    int_x = radius * np.cos(angle)\n",
    "    int_y = radius * np.sin(angle)\n",
    "    int_heading = np.random.random() * 2 * np.pi\n",
    "\n",
    "    init_vec[3] = int_x\n",
    "    init_vec[4] = int_y\n",
    "    init_vec[5] = int_heading\n",
    "\n",
    "    # intruder commands for every control period (0 to 4)\n",
    "    if intruder_can_turn:\n",
    "        cmd_list = []\n",
    "\n",
    "        for _ in range(num_inputs):\n",
    "            cmd_list.append(np.random.randint(5))\n",
    "    else:\n",
    "        cmd_list = [0] * num_inputs\n",
    "\n",
    "    # generate random valid velocities\n",
    "    #init_velo = [np.random.randint(100, 1146),\n",
    "    #             np.random.randint(60, 1146)]\n",
    "    init_velo = [np.random.randint(100, 1200),\n",
    "                 np.random.randint(0, 1200)]\n",
    "\n",
    "    return init_vec, cmd_list, init_velo\n"
   ]
  },
  {
   "cell_type": "code",
   "execution_count": 4,
   "metadata": {},
   "outputs": [],
   "source": [
    "from dl_acas import CraftMode\n",
    "\n",
    "\n",
    "init_vec, cmd_list, init_velo = make_random_input(seed=671, intruder_can_turn=False)\n",
    "x1 = init_vec[0]\n",
    "y1 = init_vec[1]\n",
    "theta1 = init_vec[2]\n",
    "x2 = init_vec[3]\n",
    "y2 = init_vec[4]\n",
    "theta2 = init_vec[5]\n",
    "random_attr = init_vec[6]\n",
    "ego_velo = init_velo[0]\n",
    "int_velo = init_velo[1]\n",
    "ego_mode = CraftMode.Coc\n",
    "int_mode = CraftMode.Coc\n"
   ]
  },
  {
   "cell_type": "code",
   "execution_count": 5,
   "metadata": {},
   "outputs": [],
   "source": [
    "import numpy as np\n",
    "decisions_ego = np.load('commands_671.npy')\n",
    "decisions_ego = decisions_ego.tolist()\n",
    "# print(decisions)"
   ]
  },
  {
   "cell_type": "code",
   "execution_count": 6,
   "metadata": {},
   "outputs": [],
   "source": [
    "from aircraft_agent import AircraftAgent\n",
    "\n"
   ]
  },
  {
   "cell_type": "code",
   "execution_count": 7,
   "metadata": {},
   "outputs": [],
   "source": [
    "from verse.scenario import Scenario\n",
    "from verse.scenario import ScenarioConfig\n",
    "\n",
    "from tutorial_map import M4\n",
    "\n",
    "scenario = Scenario()\n",
    "# scenario.set_map(M4())"
   ]
  },
  {
   "cell_type": "code",
   "execution_count": 8,
   "metadata": {},
   "outputs": [],
   "source": [
    "ac1 = AircraftAgent(\"aircraft1\", file_name=\"dl_acas.py\", initial_mode=ego_mode, velo=ego_velo)\n",
    "\n",
    " \n",
    "ac1.set_initial(\n",
    "    [[0.0, 0.0, 1.5707963267948966, 0.0], [0.0, 0.0, 1.5707963267948966, 0.0]], ([CraftMode.Coc]),\n",
    ")\n",
    "\n",
    "decisions_int = [0]*96\n",
    "ac2 = AircraftAgent(\"aircraft2\", file_name=\"dl_acas.py\", initial_mode=int_mode, velo=int_velo)\n",
    "\n",
    "ac2.set_initial(\n",
    "    [[-38430.170388824416, 33296.38722330337, 5.772033585630306, 0.0], [-38430.170388824416, 33296.38722330337, 5.772033585630306, 0.0]], ([CraftMode.Coc]),\n",
    ")\n",
    "\n",
    "scenario.add_agent(ac1)\n",
    "scenario.add_agent(ac2)"
   ]
  },
  {
   "cell_type": "code",
   "execution_count": 9,
   "metadata": {},
   "outputs": [],
   "source": [
    "from tutorial_sensor import DefaultSensor\n",
    "\n",
    "scenario.set_sensor(DefaultSensor())"
   ]
  },
  {
   "cell_type": "code",
   "execution_count": 10,
   "metadata": {},
   "outputs": [
    {
     "name": "stderr",
     "output_type": "stream",
     "text": [
      "2023-11-09 11:53:02,959\tINFO worker.py:1625 -- Started a local Ray instance.\n"
     ]
    },
    {
     "name": "stdout",
     "output_type": "stream",
     "text": [
      "\u001b[2m\u001b[36m(simulate_one pid=506746)\u001b[0m node 0 start: 0\n",
      "\u001b[2m\u001b[36m(simulate_one pid=506746)\u001b[0m 0\n",
      "\u001b[2m\u001b[36m(simulate_one pid=506746)\u001b[0m 0\n",
      "\u001b[2m\u001b[36m(simulate_one pid=506746)\u001b[0m 2\n",
      "\u001b[2m\u001b[36m(simulate_one pid=506746)\u001b[0m 2\n",
      "\u001b[2m\u001b[36m(simulate_one pid=506746)\u001b[0m 2\n",
      "\u001b[2m\u001b[36m(simulate_one pid=506746)\u001b[0m 2\n",
      "\u001b[2m\u001b[36m(simulate_one pid=506746)\u001b[0m 2\n",
      "\u001b[2m\u001b[36m(simulate_one pid=506746)\u001b[0m 2\n",
      "\u001b[2m\u001b[36m(simulate_one pid=506746)\u001b[0m 2\n",
      "\u001b[2m\u001b[36m(simulate_one pid=506746)\u001b[0m 2\n",
      "\u001b[2m\u001b[36m(simulate_one pid=506746)\u001b[0m 2\n",
      "\u001b[2m\u001b[36m(simulate_one pid=506746)\u001b[0m 2\n",
      "\u001b[2m\u001b[36m(simulate_one pid=506746)\u001b[0m 2\n",
      "\u001b[2m\u001b[36m(simulate_one pid=506746)\u001b[0m 2\n",
      "\u001b[2m\u001b[36m(simulate_one pid=506746)\u001b[0m 2\n",
      "\u001b[2m\u001b[36m(simulate_one pid=506746)\u001b[0m 2\n",
      "\u001b[2m\u001b[36m(simulate_one pid=506746)\u001b[0m 2\n",
      "\u001b[2m\u001b[36m(simulate_one pid=506746)\u001b[0m 2\n",
      "\u001b[2m\u001b[36m(simulate_one pid=506746)\u001b[0m 2\n",
      "\u001b[2m\u001b[36m(simulate_one pid=506746)\u001b[0m 2\n",
      "\u001b[2m\u001b[36m(simulate_one pid=506746)\u001b[0m 2\n",
      "\u001b[2m\u001b[36m(simulate_one pid=506746)\u001b[0m 2\n",
      "\u001b[2m\u001b[36m(simulate_one pid=506746)\u001b[0m 2\n",
      "\u001b[2m\u001b[36m(simulate_one pid=506746)\u001b[0m 2\n",
      "\u001b[2m\u001b[36m(simulate_one pid=506746)\u001b[0m 2\n",
      "\u001b[2m\u001b[36m(simulate_one pid=506746)\u001b[0m 2\n",
      "\u001b[2m\u001b[36m(simulate_one pid=506746)\u001b[0m 2\n",
      "\u001b[2m\u001b[36m(simulate_one pid=506746)\u001b[0m 2\n",
      "\u001b[2m\u001b[36m(simulate_one pid=506746)\u001b[0m 2\n",
      "\u001b[2m\u001b[36m(simulate_one pid=506746)\u001b[0m 2\n",
      "\u001b[2m\u001b[36m(simulate_one pid=506746)\u001b[0m 2\n",
      "\u001b[2m\u001b[36m(simulate_one pid=506746)\u001b[0m 2\n",
      "\u001b[2m\u001b[36m(simulate_one pid=506746)\u001b[0m 2\n",
      "\u001b[2m\u001b[36m(simulate_one pid=506746)\u001b[0m 2\n",
      "\u001b[2m\u001b[36m(simulate_one pid=506746)\u001b[0m 2\n",
      "\u001b[2m\u001b[36m(simulate_one pid=506746)\u001b[0m 2\n",
      "\u001b[2m\u001b[36m(simulate_one pid=506746)\u001b[0m 2\n",
      "\u001b[2m\u001b[36m(simulate_one pid=506746)\u001b[0m 2\n",
      "\u001b[2m\u001b[36m(simulate_one pid=506746)\u001b[0m 2\n",
      "\u001b[2m\u001b[36m(simulate_one pid=506746)\u001b[0m 2\n",
      "\u001b[2m\u001b[36m(simulate_one pid=506746)\u001b[0m 2\n",
      "\u001b[2m\u001b[36m(simulate_one pid=506746)\u001b[0m 2\n",
      "\u001b[2m\u001b[36m(simulate_one pid=506746)\u001b[0m 2\n",
      "\u001b[2m\u001b[36m(simulate_one pid=506746)\u001b[0m 2\n",
      "\u001b[2m\u001b[36m(simulate_one pid=506746)\u001b[0m 2\n",
      "\u001b[2m\u001b[36m(simulate_one pid=506746)\u001b[0m 2\n",
      "\u001b[2m\u001b[36m(simulate_one pid=506746)\u001b[0m 2\n",
      "\u001b[2m\u001b[36m(simulate_one pid=506746)\u001b[0m 2\n",
      "\u001b[2m\u001b[36m(simulate_one pid=506746)\u001b[0m 2\n",
      "\u001b[2m\u001b[36m(simulate_one pid=506746)\u001b[0m 2\n",
      "\u001b[2m\u001b[36m(simulate_one pid=506746)\u001b[0m 2\n",
      "\u001b[2m\u001b[36m(simulate_one pid=506746)\u001b[0m 2\n",
      "\u001b[2m\u001b[36m(simulate_one pid=506746)\u001b[0m 2\n",
      "\u001b[2m\u001b[36m(simulate_one pid=506746)\u001b[0m 2\n",
      "\u001b[2m\u001b[36m(simulate_one pid=506746)\u001b[0m 2\n",
      "\u001b[2m\u001b[36m(simulate_one pid=506746)\u001b[0m 2\n",
      "\u001b[2m\u001b[36m(simulate_one pid=506746)\u001b[0m 2\n",
      "\u001b[2m\u001b[36m(simulate_one pid=506746)\u001b[0m 4\n",
      "\u001b[2m\u001b[36m(simulate_one pid=506746)\u001b[0m 4\n",
      "\u001b[2m\u001b[36m(simulate_one pid=506746)\u001b[0m 4\n",
      "\u001b[2m\u001b[36m(simulate_one pid=506746)\u001b[0m 4\n",
      "\u001b[2m\u001b[36m(simulate_one pid=506746)\u001b[0m 4\n",
      "\u001b[2m\u001b[36m(simulate_one pid=506746)\u001b[0m 4\n",
      "\u001b[2m\u001b[36m(simulate_one pid=506746)\u001b[0m 4\n",
      "\u001b[2m\u001b[36m(simulate_one pid=506746)\u001b[0m 4\n",
      "\u001b[2m\u001b[36m(simulate_one pid=506746)\u001b[0m 4\n",
      "\u001b[2m\u001b[36m(simulate_one pid=506746)\u001b[0m 4\n",
      "\u001b[2m\u001b[36m(simulate_one pid=506746)\u001b[0m 4\n",
      "\u001b[2m\u001b[36m(simulate_one pid=506746)\u001b[0m 4\n",
      "\u001b[2m\u001b[36m(simulate_one pid=506746)\u001b[0m 4\n",
      "\u001b[2m\u001b[36m(simulate_one pid=506746)\u001b[0m 4\n",
      "\u001b[2m\u001b[36m(simulate_one pid=506746)\u001b[0m 4\n",
      "\u001b[2m\u001b[36m(simulate_one pid=506746)\u001b[0m 4\n",
      "\u001b[2m\u001b[36m(simulate_one pid=506746)\u001b[0m 4\n",
      "\u001b[2m\u001b[36m(simulate_one pid=506746)\u001b[0m 4\n",
      "\u001b[2m\u001b[36m(simulate_one pid=506746)\u001b[0m 4\n",
      "\u001b[2m\u001b[36m(simulate_one pid=506746)\u001b[0m 4\n",
      "\u001b[2m\u001b[36m(simulate_one pid=506746)\u001b[0m 4\n",
      "\u001b[2m\u001b[36m(simulate_one pid=506746)\u001b[0m 4\n",
      "\u001b[2m\u001b[36m(simulate_one pid=506746)\u001b[0m 4\n",
      "\u001b[2m\u001b[36m(simulate_one pid=506746)\u001b[0m 4\n",
      "\u001b[2m\u001b[36m(simulate_one pid=506746)\u001b[0m 4\n",
      "\u001b[2m\u001b[36m(simulate_one pid=506746)\u001b[0m 4\n",
      "\u001b[2m\u001b[36m(simulate_one pid=506746)\u001b[0m 0\n",
      "\u001b[2m\u001b[36m(simulate_one pid=506746)\u001b[0m 4\n",
      "\u001b[2m\u001b[36m(simulate_one pid=506746)\u001b[0m 0\n",
      "\u001b[2m\u001b[36m(simulate_one pid=506746)\u001b[0m 2\n",
      "\u001b[2m\u001b[36m(simulate_one pid=506746)\u001b[0m 2\n",
      "\u001b[2m\u001b[36m(simulate_one pid=506746)\u001b[0m 2\n",
      "\u001b[2m\u001b[36m(simulate_one pid=506746)\u001b[0m 2\n",
      "\u001b[2m\u001b[36m(simulate_one pid=506746)\u001b[0m 2\n",
      "\u001b[2m\u001b[36m(simulate_one pid=506746)\u001b[0m 2\n",
      "\u001b[2m\u001b[36m(simulate_one pid=506746)\u001b[0m 0\n",
      "\u001b[2m\u001b[36m(simulate_one pid=506746)\u001b[0m 0\n",
      "\u001b[2m\u001b[36m(simulate_one pid=506746)\u001b[0m 0\n",
      "\u001b[2m\u001b[36m(simulate_one pid=506746)\u001b[0m 0\n",
      "\u001b[2m\u001b[36m(simulate_one pid=506746)\u001b[0m 0\n",
      "\u001b[2m\u001b[36m(simulate_one pid=506746)\u001b[0m 0\n",
      "\u001b[2m\u001b[36m(simulate_one pid=506746)\u001b[0m 0\n",
      "\u001b[2m\u001b[36m(simulate_one pid=506746)\u001b[0m 0\n",
      "\u001b[2m\u001b[36m(simulate_one pid=506746)\u001b[0m 0\n",
      "\u001b[2m\u001b[36m(simulate_one pid=506746)\u001b[0m 0\n",
      "\u001b[2m\u001b[36m(simulate_one pid=506746)\u001b[0m 0\n",
      "\u001b[2m\u001b[36m(simulate_one pid=506746)\u001b[0m 0\n",
      "\u001b[2m\u001b[36m(simulate_one pid=506746)\u001b[0m 0\n",
      "\u001b[2m\u001b[36m(simulate_one pid=506746)\u001b[0m 0\n",
      "\u001b[2m\u001b[36m(simulate_one pid=506746)\u001b[0m 0\n",
      "\u001b[2m\u001b[36m(simulate_one pid=506746)\u001b[0m 0\n",
      "\u001b[2m\u001b[36m(simulate_one pid=506746)\u001b[0m 0\n",
      "\u001b[2m\u001b[36m(simulate_one pid=506746)\u001b[0m 0\n",
      "\u001b[2m\u001b[36m(simulate_one pid=506746)\u001b[0m 0\n",
      "\u001b[2m\u001b[36m(simulate_one pid=506746)\u001b[0m 0\n",
      "\u001b[2m\u001b[36m(simulate_one pid=506746)\u001b[0m 0\n",
      "\u001b[2m\u001b[36m(simulate_one pid=506746)\u001b[0m 0\n",
      "\u001b[2m\u001b[36m(simulate_one pid=506746)\u001b[0m 0\n",
      "\u001b[2m\u001b[36m(simulate_one pid=506746)\u001b[0m 0\n",
      "\u001b[2m\u001b[36m(simulate_one pid=506746)\u001b[0m 0\n",
      "\u001b[2m\u001b[36m(simulate_one pid=506746)\u001b[0m 0\n",
      "\u001b[2m\u001b[36m(simulate_one pid=506746)\u001b[0m 0\n",
      "\u001b[2m\u001b[36m(simulate_one pid=506746)\u001b[0m 0\n",
      "\u001b[2m\u001b[36m(simulate_one pid=506746)\u001b[0m 0\n",
      "\u001b[2m\u001b[36m(simulate_one pid=506746)\u001b[0m 0\n",
      "\u001b[2m\u001b[36m(simulate_one pid=506746)\u001b[0m 0\n",
      "\u001b[2m\u001b[36m(simulate_one pid=506746)\u001b[0m 0\n",
      "\u001b[2m\u001b[36m(simulate_one pid=506746)\u001b[0m 0\n",
      "\u001b[2m\u001b[36m(simulate_one pid=506746)\u001b[0m 0\n",
      "\u001b[2m\u001b[36m(simulate_one pid=506746)\u001b[0m 0\n",
      "\u001b[2m\u001b[36m(simulate_one pid=506746)\u001b[0m 0\n",
      "\u001b[2m\u001b[36m(simulate_one pid=506746)\u001b[0m 0\n",
      "\u001b[2m\u001b[36m(simulate_one pid=506746)\u001b[0m 0\n",
      "\u001b[2m\u001b[36m(simulate_one pid=506746)\u001b[0m 0\n",
      "\u001b[2m\u001b[36m(simulate_one pid=506746)\u001b[0m 0\n",
      "\u001b[2m\u001b[36m(simulate_one pid=506746)\u001b[0m 0\n",
      "\u001b[2m\u001b[36m(simulate_one pid=506746)\u001b[0m 0\n",
      "\u001b[2m\u001b[36m(simulate_one pid=506746)\u001b[0m 0\n",
      "\u001b[2m\u001b[36m(simulate_one pid=506746)\u001b[0m 0\n",
      "\u001b[2m\u001b[36m(simulate_one pid=506746)\u001b[0m 0\n",
      "\u001b[2m\u001b[36m(simulate_one pid=506746)\u001b[0m 0\n",
      "\u001b[2m\u001b[36m(simulate_one pid=506746)\u001b[0m 0\n",
      "\u001b[2m\u001b[36m(simulate_one pid=506746)\u001b[0m 0\n",
      "\u001b[2m\u001b[36m(simulate_one pid=506746)\u001b[0m 0\n",
      "\u001b[2m\u001b[36m(simulate_one pid=506746)\u001b[0m 0\n",
      "\u001b[2m\u001b[36m(simulate_one pid=506746)\u001b[0m 0\n",
      "\u001b[2m\u001b[36m(simulate_one pid=506746)\u001b[0m 0\n",
      "\u001b[2m\u001b[36m(simulate_one pid=506746)\u001b[0m 0\n",
      "\u001b[2m\u001b[36m(simulate_one pid=506746)\u001b[0m 0\n",
      "\u001b[2m\u001b[36m(simulate_one pid=506746)\u001b[0m 0\n",
      "\u001b[2m\u001b[36m(simulate_one pid=506746)\u001b[0m 0\n",
      "\u001b[2m\u001b[36m(simulate_one pid=506746)\u001b[0m 0\n",
      "\u001b[2m\u001b[36m(simulate_one pid=506746)\u001b[0m 0\n",
      "\u001b[2m\u001b[36m(simulate_one pid=506746)\u001b[0m 0\n",
      "\u001b[2m\u001b[36m(simulate_one pid=506746)\u001b[0m 0\n",
      "\u001b[2m\u001b[36m(simulate_one pid=506746)\u001b[0m 0\n",
      "\u001b[2m\u001b[36m(simulate_one pid=506746)\u001b[0m 0\n",
      "\u001b[2m\u001b[36m(simulate_one pid=506746)\u001b[0m 0\n",
      "\u001b[2m\u001b[36m(simulate_one pid=506746)\u001b[0m 0\n",
      "\u001b[2m\u001b[36m(simulate_one pid=506746)\u001b[0m 0\n",
      "\u001b[2m\u001b[36m(simulate_one pid=506746)\u001b[0m 0\n",
      "\u001b[2m\u001b[36m(simulate_one pid=506746)\u001b[0m 0\n",
      "\u001b[2m\u001b[36m(simulate_one pid=506746)\u001b[0m 0\n",
      "\u001b[2m\u001b[36m(simulate_one pid=506746)\u001b[0m 0\n",
      "\u001b[2m\u001b[36m(simulate_one pid=506746)\u001b[0m 0\n",
      "\u001b[2m\u001b[36m(simulate_one pid=506746)\u001b[0m 0\n",
      "\u001b[2m\u001b[36m(simulate_one pid=506746)\u001b[0m 0\n",
      "\u001b[2m\u001b[36m(simulate_one pid=506746)\u001b[0m 0\n",
      "\u001b[2m\u001b[36m(simulate_one pid=506746)\u001b[0m 0\n",
      "\u001b[2m\u001b[36m(simulate_one pid=506746)\u001b[0m 0\n",
      "\u001b[2m\u001b[36m(simulate_one pid=506746)\u001b[0m 0\n",
      "\u001b[2m\u001b[36m(simulate_one pid=506746)\u001b[0m 0\n",
      "\u001b[2m\u001b[36m(simulate_one pid=506746)\u001b[0m 0\n",
      "\u001b[2m\u001b[36m(simulate_one pid=506746)\u001b[0m 0\n",
      "\u001b[2m\u001b[36m(simulate_one pid=506746)\u001b[0m 0\n",
      "\u001b[2m\u001b[36m(simulate_one pid=506746)\u001b[0m 0\n",
      "\u001b[2m\u001b[36m(simulate_one pid=506746)\u001b[0m 0\n",
      "\u001b[2m\u001b[36m(simulate_one pid=506746)\u001b[0m 0\n",
      "\u001b[2m\u001b[36m(simulate_one pid=506746)\u001b[0m 0\n",
      "\u001b[2m\u001b[36m(simulate_one pid=506746)\u001b[0m 0\n",
      "\u001b[2m\u001b[36m(simulate_one pid=506746)\u001b[0m 0\n",
      "\u001b[2m\u001b[36m(simulate_one pid=506746)\u001b[0m 0\n",
      "\u001b[2m\u001b[36m(simulate_one pid=506746)\u001b[0m 0\n",
      "\u001b[2m\u001b[36m(simulate_one pid=506746)\u001b[0m 0\n",
      "\u001b[2m\u001b[36m(simulate_one pid=506746)\u001b[0m 0\n",
      "\u001b[2m\u001b[36m(simulate_one pid=506746)\u001b[0m 0\n",
      "\u001b[2m\u001b[36m(simulate_one pid=506746)\u001b[0m 0\n",
      "\u001b[2m\u001b[36m(simulate_one pid=506746)\u001b[0m 0\n",
      "\u001b[2m\u001b[36m(simulate_one pid=506746)\u001b[0m 0\n",
      "\u001b[2m\u001b[36m(simulate_one pid=506746)\u001b[0m 0\n",
      "\u001b[2m\u001b[36m(simulate_one pid=506746)\u001b[0m 0\n",
      "\u001b[2m\u001b[36m(simulate_one pid=506746)\u001b[0m 0\n",
      "\u001b[2m\u001b[36m(simulate_one pid=506746)\u001b[0m 0\n",
      "\u001b[2m\u001b[36m(simulate_one pid=506746)\u001b[0m 0\n",
      "\u001b[2m\u001b[36m(simulate_one pid=506746)\u001b[0m 0\n"
     ]
    }
   ],
   "source": [
    "traces_simu = scenario.simulate(19.2, 0.2)\n",
    "traces_veri = scenario.verify(19.2, 0.2)"
   ]
  },
  {
   "cell_type": "code",
   "execution_count": null,
   "metadata": {},
   "outputs": [],
   "source": []
  },
  {
   "cell_type": "code",
   "execution_count": 17,
   "metadata": {},
   "outputs": [
    {
     "data": {
      "application/vnd.plotly.v1+json": {
       "config": {
        "plotlyServerURL": "https://plot.ly"
       },
       "data": [
        {
         "fill": "toself",
         "fillcolor": "#FF0000",
         "line": {
          "color": "#CC0000",
          "width": 1
         },
         "marker": {
          "size": 1
         },
         "mode": "markers+lines",
         "showlegend": false,
         "type": "scatter",
         "x": [
          0,
          9.062386313690414e-15,
          9.062386313690414e-15,
          0,
          0
         ],
         "y": [
          0,
          0,
          148,
          148,
          0
         ]
        },
        {
         "fill": "toself",
         "fillcolor": "#FF0000",
         "line": {
          "color": "#CC0000",
          "width": 1
         },
         "marker": {
          "size": 1
         },
         "mode": "markers+lines",
         "showlegend": false,
         "type": "scatter",
         "x": [
          9.062386313690414e-15,
          1.8124772627380827e-14,
          1.8124772627380827e-14,
          9.062386313690414e-15,
          9.062386313690414e-15
         ],
         "y": [
          148,
          148,
          296,
          296,
          148
         ]
        },
        {
         "fill": "toself",
         "fillcolor": "#FF0000",
         "line": {
          "color": "#CC0000",
          "width": 1
         },
         "marker": {
          "size": 1
         },
         "mode": "markers+lines",
         "showlegend": false,
         "type": "scatter",
         "x": [
          1.8124772627380827e-14,
          1.9372048209842319,
          1.9372048209842319,
          1.8124772627380827e-14,
          1.8124772627380827e-14
         ],
         "y": [
          296,
          296,
          443.98309431256104,
          443.98309431256104,
          296
         ]
        },
        {
         "fill": "toself",
         "fillcolor": "#FF0000",
         "line": {
          "color": "#CC0000",
          "width": 1
         },
         "marker": {
          "size": 1
         },
         "mode": "markers+lines",
         "showlegend": false,
         "type": "scatter",
         "x": [
          1.9372048209842319,
          7.7474916205180815,
          7.7474916205180815,
          1.9372048209842319,
          1.9372048209842319
         ],
         "y": [
          443.98309431256104,
          443.98309431256104,
          591.8647684042007,
          591.8647684042007,
          443.98309431256104
         ]
        },
        {
         "fill": "toself",
         "fillcolor": "#FF0000",
         "line": {
          "color": "#CC0000",
          "width": 1
         },
         "marker": {
          "size": 1
         },
         "mode": "markers+lines",
         "showlegend": false,
         "type": "scatter",
         "x": [
          7.7474916205180815,
          17.42687831825947,
          17.42687831825947,
          7.7474916205180815,
          7.7474916205180815
         ],
         "y": [
          591.8647684042007,
          591.8647684042007,
          739.5436715623512,
          739.5436715623512,
          591.8647684042007
         ]
        },
        {
         "fill": "toself",
         "fillcolor": "#FF0000",
         "line": {
          "color": "#CC0000",
          "width": 1
         },
         "marker": {
          "size": 1
         },
         "mode": "markers+lines",
         "showlegend": false,
         "type": "scatter",
         "x": [
          17.42687831825947,
          30.968731146061916,
          30.968731146061916,
          17.42687831825947,
          17.42687831825947
         ],
         "y": [
          739.5436715623512,
          739.5436715623512,
          886.9185920435135,
          886.9185920435135,
          739.5436715623512
         ]
        },
        {
         "fill": "toself",
         "fillcolor": "#FF0000",
         "line": {
          "color": "#CC0000",
          "width": 1
         },
         "marker": {
          "size": 1
         },
         "mode": "markers+lines",
         "showlegend": false,
         "type": "scatter",
         "x": [
          30.968731146061916,
          48.36376919442788,
          48.36376919442788,
          30.968731146061916,
          30.968731146061916
         ],
         "y": [
          886.9185920435135,
          886.9185920435135,
          1033.8885264387313,
          1033.8885264387313,
          886.9185920435135
         ]
        },
        {
         "fill": "toself",
         "fillcolor": "#FF0000",
         "line": {
          "color": "#CC0000",
          "width": 1
         },
         "marker": {
          "size": 1
         },
         "mode": "markers+lines",
         "showlegend": false,
         "type": "scatter",
         "x": [
          48.36376919442788,
          69.60007077318056,
          69.60007077318056,
          48.36376919442788,
          48.36376919442788
         ],
         "y": [
          1033.8885264387313,
          1033.8885264387313,
          1180.3527488962825,
          1180.3527488962825,
          1033.8885264387313
         ]
        },
        {
         "fill": "toself",
         "fillcolor": "#FF0000",
         "line": {
          "color": "#CC0000",
          "width": 1
         },
         "marker": {
          "size": 1
         },
         "mode": "markers+lines",
         "showlegend": false,
         "type": "scatter",
         "x": [
          69.60007077318056,
          94.6630815819948,
          94.6630815819948,
          69.60007077318056,
          69.60007077318056
         ],
         "y": [
          1180.3527488962825,
          1180.3527488962825,
          1326.2108801541458,
          1326.2108801541458,
          1180.3527488962825
         ]
        },
        {
         "fill": "toself",
         "fillcolor": "#FF0000",
         "line": {
          "color": "#CC0000",
          "width": 1
         },
         "marker": {
          "size": 1
         },
         "mode": "markers+lines",
         "showlegend": false,
         "type": "scatter",
         "x": [
          94.6630815819948,
          123.53562468518759,
          123.53562468518759,
          94.6630815819948,
          94.6630815819948
         ],
         "y": [
          1326.2108801541458,
          1326.2108801541458,
          1471.362956334933,
          1471.362956334933,
          1326.2108801541458
         ]
        },
        {
         "fill": "toself",
         "fillcolor": "#FF0000",
         "line": {
          "color": "#CC0000",
          "width": 1
         },
         "marker": {
          "size": 1
         },
         "mode": "markers+lines",
         "showlegend": false,
         "type": "scatter",
         "x": [
          123.53562468518759,
          156.19791228393171,
          156.19791228393171,
          123.53562468518759,
          123.53562468518759
         ],
         "y": [
          1471.362956334933,
          1471.362956334933,
          1615.7094974561378,
          1615.7094974561378,
          1471.362956334933
         ]
        },
        {
         "fill": "toself",
         "fillcolor": "#FF0000",
         "line": {
          "color": "#CC0000",
          "width": 1
         },
         "marker": {
          "size": 1
         },
         "mode": "markers+lines",
         "showlegend": false,
         "type": "scatter",
         "x": [
          156.19791228393171,
          192.62755927782467,
          192.62755927782467,
          156.19791228393171,
          156.19791228393171
         ],
         "y": [
          1615.7094974561378,
          1615.7094974561378,
          1759.1515756087465,
          1759.1515756087465,
          1615.7094974561378
         ]
        },
        {
         "fill": "toself",
         "fillcolor": "#FF0000",
         "line": {
          "color": "#CC0000",
          "width": 1
         },
         "marker": {
          "size": 1
         },
         "mode": "markers+lines",
         "showlegend": false,
         "type": "scatter",
         "x": [
          192.62755927782467,
          232.7995986065183,
          232.7995986065183,
          192.62755927782467,
          192.62755927782467
         ],
         "y": [
          1759.1515756087465,
          1759.1515756087465,
          1901.590882757485,
          1901.590882757485,
          1759.1515756087465
         ]
        },
        {
         "fill": "toself",
         "fillcolor": "#FF0000",
         "line": {
          "color": "#CC0000",
          "width": 1
         },
         "marker": {
          "size": 1
         },
         "mode": "markers+lines",
         "showlegend": false,
         "type": "scatter",
         "x": [
          232.7995986065183,
          276.6864983608948,
          276.6864983608948,
          232.7995986065183,
          232.7995986065183
         ],
         "y": [
          1901.590882757485,
          1901.590882757485,
          2042.9297981162356,
          2042.9297981162356,
          1901.590882757485
         ]
        },
        {
         "fill": "toself",
         "fillcolor": "#FF0000",
         "line": {
          "color": "#CC0000",
          "width": 1
         },
         "marker": {
          "size": 1
         },
         "mode": "markers+lines",
         "showlegend": false,
         "type": "scatter",
         "x": [
          276.6864983608948,
          324.25818065206215,
          324.25818065206215,
          276.6864983608948,
          276.6864983608948
         ],
         "y": [
          2042.9297981162356,
          2042.9297981162356,
          2183.0714550524476,
          2183.0714550524476,
          2042.9297981162356
         ]
        },
        {
         "fill": "toself",
         "fillcolor": "#FF0000",
         "line": {
          "color": "#CC0000",
          "width": 1
         },
         "marker": {
          "size": 1
         },
         "mode": "markers+lines",
         "showlegend": false,
         "type": "scatter",
         "x": [
          324.25818065206215,
          375.48204222523657,
          375.48204222523657,
          324.25818065206215,
          324.25818065206215
         ],
         "y": [
          2183.0714550524476,
          2183.0714550524476,
          2321.919807474689,
          2321.919807474689,
          2183.0714550524476
         ]
        },
        {
         "fill": "toself",
         "fillcolor": "#FF0000",
         "line": {
          "color": "#CC0000",
          "width": 1
         },
         "marker": {
          "size": 1
         },
         "mode": "markers+lines",
         "showlegend": false,
         "type": "scatter",
         "x": [
          375.48204222523657,
          430.3229768043847,
          430.3229768043847,
          375.48204222523657,
          375.48204222523657
         ],
         "y": [
          2321.919807474689,
          2321.919807474689,
          2459.3796956578403,
          2459.3796956578403,
          2321.919807474689
         ]
        },
        {
         "fill": "toself",
         "fillcolor": "#FF0000",
         "line": {
          "color": "#CC0000",
          "width": 1
         },
         "marker": {
          "size": 1
         },
         "mode": "markers+lines",
         "showlegend": false,
         "type": "scatter",
         "x": [
          430.3229768043847,
          488.74339915231184,
          488.74339915231184,
          430.3229768043847,
          430.3229768043847
         ],
         "y": [
          2459.3796956578403,
          2459.3796956578403,
          2595.3569114608144,
          2595.3569114608144,
          2459.3796956578403
         ]
        },
        {
         "fill": "toself",
         "fillcolor": "#FF0000",
         "line": {
          "color": "#CC0000",
          "width": 1
         },
         "marker": {
          "size": 1
         },
         "mode": "markers+lines",
         "showlegend": false,
         "type": "scatter",
         "x": [
          488.74339915231184,
          550.7032708297058,
          550.7032708297058,
          488.74339915231184,
          488.74339915231184
         ],
         "y": [
          2595.3569114608144,
          2595.3569114608144,
          2729.758262892114,
          2729.758262892114,
          2595.3569114608144
         ]
        },
        {
         "fill": "toself",
         "fillcolor": "#FF0000",
         "line": {
          "color": "#CC0000",
          "width": 1
         },
         "marker": {
          "size": 1
         },
         "mode": "markers+lines",
         "showlegend": false,
         "type": "scatter",
         "x": [
          550.7032708297058,
          616.1601276354837,
          616.1601276354837,
          550.7032708297058,
          550.7032708297058
         ],
         "y": [
          2729.758262892114,
          2729.758262892114,
          2862.491637978965,
          2862.491637978965,
          2729.758262892114
         ]
        },
        {
         "fill": "toself",
         "fillcolor": "#FF0000",
         "line": {
          "color": "#CC0000",
          "width": 1
         },
         "marker": {
          "size": 1
         },
         "mode": "markers+lines",
         "showlegend": false,
         "type": "scatter",
         "x": [
          616.1601276354837,
          685.0691087096338,
          685.0691087096338,
          616.1601276354837,
          616.1601276354837
         ],
         "y": [
          2862.491637978965,
          2862.491637978965,
          2993.466067896263,
          2993.466067896263,
          2862.491637978965
         ]
        },
        {
         "fill": "toself",
         "fillcolor": "#FF0000",
         "line": {
          "color": "#CC0000",
          "width": 1
         },
         "marker": {
          "size": 1
         },
         "mode": "markers+lines",
         "showlegend": false,
         "type": "scatter",
         "x": [
          685.0691087096338,
          757.3829872786083,
          757.3829872786083,
          685.0691087096338,
          685.0691087096338
         ],
         "y": [
          2993.466067896263,
          2993.466067896263,
          3122.591789312062,
          3122.591789312062,
          2993.466067896263
         ]
        },
        {
         "fill": "toself",
         "fillcolor": "#FF0000",
         "line": {
          "color": "#CC0000",
          "width": 1
         },
         "marker": {
          "size": 1
         },
         "mode": "markers+lines",
         "showlegend": false,
         "type": "scatter",
         "x": [
          757.3829872786083,
          833.0522030221948,
          833.0522030221948,
          757.3829872786083,
          757.3829872786083
         ],
         "y": [
          3122.591789312062,
          3122.591789312062,
          3249.780305906876,
          3249.780305906876,
          3122.591789312062
         ]
        },
        {
         "fill": "toself",
         "fillcolor": "#FF0000",
         "line": {
          "color": "#CC0000",
          "width": 1
         },
         "marker": {
          "size": 1
         },
         "mode": "markers+lines",
         "showlegend": false,
         "type": "scatter",
         "x": [
          833.0522030221948,
          912.0248960396844,
          912.0248960396844,
          833.0522030221948,
          833.0522030221948
         ],
         "y": [
          3249.780305906876,
          3249.780305906876,
          3374.94444902464,
          3374.94444902464,
          3249.780305906876
         ]
        },
        {
         "fill": "toself",
         "fillcolor": "#FF0000",
         "line": {
          "color": "#CC0000",
          "width": 1
         },
         "marker": {
          "size": 1
         },
         "mode": "markers+lines",
         "showlegend": false,
         "type": "scatter",
         "x": [
          912.0248960396844,
          994.2469423920569,
          994.2469423920569,
          912.0248960396844,
          912.0248960396844
         ],
         "y": [
          3374.94444902464,
          3374.94444902464,
          3497.99843741375,
          3497.99843741375,
          3374.94444902464
         ]
        },
        {
         "fill": "toself",
         "fillcolor": "#FF0000",
         "line": {
          "color": "#CC0000",
          "width": 1
         },
         "marker": {
          "size": 1
         },
         "mode": "markers+lines",
         "showlegend": false,
         "type": "scatter",
         "x": [
          994.2469423920569,
          1079.661991195825,
          1079.661991195825,
          994.2469423920569,
          994.2469423920569
         ],
         "y": [
          3497.99843741375,
          3497.99843741375,
          3618.8579360172466,
          3618.8579360172466,
          3497.99843741375
         ]
        },
        {
         "fill": "toself",
         "fillcolor": "#FF0000",
         "line": {
          "color": "#CC0000",
          "width": 1
         },
         "marker": {
          "size": 1
         },
         "mode": "markers+lines",
         "showlegend": false,
         "type": "scatter",
         "x": [
          1079.661991195825,
          1168.2115032431159,
          1168.2115032431159,
          1079.661991195825,
          1079.661991195825
         ],
         "y": [
          3618.8579360172466,
          3618.8579360172466,
          3737.4401137718546,
          3737.4401137718546,
          3618.8579360172466
         ]
        },
        {
         "fill": "toself",
         "fillcolor": "#FF0000",
         "line": {
          "color": "#CC0000",
          "width": 1
         },
         "marker": {
          "size": 1
         },
         "mode": "markers+lines",
         "showlegend": false,
         "type": "scatter",
         "x": [
          1168.2115032431159,
          1259.8347911215187,
          1259.8347911215187,
          1168.2115032431159,
          1168.2115032431159
         ],
         "y": [
          3737.4401137718546,
          3737.4401137718546,
          3853.663700376253,
          3853.663700376253,
          3737.4401137718546
         ]
        },
        {
         "fill": "toself",
         "fillcolor": "#FF0000",
         "line": {
          "color": "#CC0000",
          "width": 1
         },
         "marker": {
          "size": 1
         },
         "mode": "markers+lines",
         "showlegend": false,
         "type": "scatter",
         "x": [
          1259.8347911215187,
          1354.4690608062074,
          1354.4690608062074,
          1259.8347911215187,
          1259.8347911215187
         ],
         "y": [
          3853.663700376253,
          3853.663700376253,
          3967.4490419896806,
          3967.4490419896806,
          3853.663700376253
         ]
        },
        {
         "fill": "toself",
         "fillcolor": "#FF0000",
         "line": {
          "color": "#CC0000",
          "width": 1
         },
         "marker": {
          "size": 1
         },
         "mode": "markers+lines",
         "showlegend": false,
         "type": "scatter",
         "x": [
          1354.4690608062074,
          1452.049454695827,
          1452.049454695827,
          1354.4690608062074,
          1354.4690608062074
         ],
         "y": [
          3967.4490419896806,
          3967.4490419896806,
          4078.7181558227,
          4078.7181558227,
          3967.4490419896806
         ]
        },
        {
         "fill": "toself",
         "fillcolor": "#FF0000",
         "line": {
          "color": "#CC0000",
          "width": 1
         },
         "marker": {
          "size": 1
         },
         "mode": "markers+lines",
         "showlegend": false,
         "type": "scatter",
         "x": [
          1452.049454695827,
          1552.5090960626553,
          1552.5090960626553,
          1452.049454695827,
          1452.049454695827
         ],
         "y": [
          4078.7181558227,
          4078.7181558227,
          4187.394783582706,
          4187.394783582706,
          4078.7181558227
         ]
        },
        {
         "fill": "toself",
         "fillcolor": "#FF0000",
         "line": {
          "color": "#CC0000",
          "width": 1
         },
         "marker": {
          "size": 1
         },
         "mode": "markers+lines",
         "showlegend": false,
         "type": "scatter",
         "x": [
          1552.5090960626553,
          1655.7791348865703,
          1655.7791348865703,
          1552.5090960626553,
          1552.5090960626553
         ],
         "y": [
          4187.394783582706,
          4187.394783582706,
          4293.404443737551,
          4293.404443737551,
          4187.394783582706
         ]
        },
        {
         "fill": "toself",
         "fillcolor": "#FF0000",
         "line": {
          "color": "#CC0000",
          "width": 1
         },
         "marker": {
          "size": 1
         },
         "mode": "markers+lines",
         "showlegend": false,
         "type": "scatter",
         "x": [
          1655.7791348865703,
          1761.7887950414158,
          1761.7887950414158,
          1655.7791348865703,
          1655.7791348865703
         ],
         "y": [
          4293.404443737551,
          4293.404443737551,
          4396.674482561466,
          4396.674482561466,
          4293.404443737551
         ]
        },
        {
         "fill": "toself",
         "fillcolor": "#FF0000",
         "line": {
          "color": "#CC0000",
          "width": 1
         },
         "marker": {
          "size": 1
         },
         "mode": "markers+lines",
         "showlegend": false,
         "type": "scatter",
         "x": [
          1761.7887950414158,
          1870.4654228014224,
          1870.4654228014224,
          1761.7887950414158,
          1761.7887950414158
         ],
         "y": [
          4396.674482561466,
          4396.674482561466,
          4497.134123928294,
          4497.134123928294,
          4396.674482561466
         ]
        },
        {
         "fill": "toself",
         "fillcolor": "#FF0000",
         "line": {
          "color": "#CC0000",
          "width": 1
         },
         "marker": {
          "size": 1
         },
         "mode": "markers+lines",
         "showlegend": false,
         "type": "scatter",
         "x": [
          1870.4654228014224,
          1981.7345366344418,
          1981.7345366344418,
          1870.4654228014224,
          1870.4654228014224
         ],
         "y": [
          4497.134123928294,
          4497.134123928294,
          4594.7145178179135,
          4594.7145178179135,
          4497.134123928294
         ]
        },
        {
         "fill": "toself",
         "fillcolor": "#FF0000",
         "line": {
          "color": "#CC0000",
          "width": 1
         },
         "marker": {
          "size": 1
         },
         "mode": "markers+lines",
         "showlegend": false,
         "type": "scatter",
         "x": [
          1981.7345366344418,
          2095.519878247869,
          2095.519878247869,
          1981.7345366344418,
          1981.7345366344418
         ],
         "y": [
          4594.7145178179135,
          4594.7145178179135,
          4689.348787502602,
          4689.348787502602,
          4594.7145178179135
         ]
        },
        {
         "fill": "toself",
         "fillcolor": "#FF0000",
         "line": {
          "color": "#CC0000",
          "width": 1
         },
         "marker": {
          "size": 1
         },
         "mode": "markers+lines",
         "showlegend": false,
         "type": "scatter",
         "x": [
          2095.519878247869,
          2211.7434648522676,
          2211.7434648522676,
          2095.519878247869,
          2095.519878247869
         ],
         "y": [
          4689.348787502602,
          4689.348787502602,
          4780.972075381005,
          4780.972075381005,
          4689.348787502602
         ]
        },
        {
         "fill": "toself",
         "fillcolor": "#FF0000",
         "line": {
          "color": "#CC0000",
          "width": 1
         },
         "marker": {
          "size": 1
         },
         "mode": "markers+lines",
         "showlegend": false,
         "type": "scatter",
         "x": [
          2211.7434648522676,
          2330.3256426068756,
          2330.3256426068756,
          2211.7434648522676,
          2211.7434648522676
         ],
         "y": [
          4780.972075381005,
          4780.972075381005,
          4869.521587428297,
          4869.521587428297,
          4780.972075381005
         ]
        },
        {
         "fill": "toself",
         "fillcolor": "#FF0000",
         "line": {
          "color": "#CC0000",
          "width": 1
         },
         "marker": {
          "size": 1
         },
         "mode": "markers+lines",
         "showlegend": false,
         "type": "scatter",
         "x": [
          2330.3256426068756,
          2451.1851412103724,
          2451.1851412103724,
          2330.3256426068756,
          2330.3256426068756
         ],
         "y": [
          4869.521587428297,
          4869.521587428297,
          4954.936636232064,
          4954.936636232064,
          4869.521587428297
         ]
        },
        {
         "fill": "toself",
         "fillcolor": "#FF0000",
         "line": {
          "color": "#CC0000",
          "width": 1
         },
         "marker": {
          "size": 1
         },
         "mode": "markers+lines",
         "showlegend": false,
         "type": "scatter",
         "x": [
          2451.1851412103724,
          2574.239129599482,
          2574.239129599482,
          2451.1851412103724,
          2451.1851412103724
         ],
         "y": [
          4954.936636232064,
          4954.936636232064,
          5037.158682584437,
          5037.158682584437,
          4954.936636232064
         ]
        },
        {
         "fill": "toself",
         "fillcolor": "#FF0000",
         "line": {
          "color": "#CC0000",
          "width": 1
         },
         "marker": {
          "size": 1
         },
         "mode": "markers+lines",
         "showlegend": false,
         "type": "scatter",
         "x": [
          2574.239129599482,
          2699.403272717246,
          2699.403272717246,
          2574.239129599482,
          2574.239129599482
         ],
         "y": [
          5037.158682584437,
          5037.158682584437,
          5116.131375601927,
          5116.131375601927,
          5037.158682584437
         ]
        },
        {
         "fill": "toself",
         "fillcolor": "#FF0000",
         "line": {
          "color": "#CC0000",
          "width": 1
         },
         "marker": {
          "size": 1
         },
         "mode": "markers+lines",
         "showlegend": false,
         "type": "scatter",
         "x": [
          2699.403272717246,
          2826.5917893120604,
          2826.5917893120604,
          2699.403272717246,
          2699.403272717246
         ],
         "y": [
          5116.131375601927,
          5116.131375601927,
          5191.800591345514,
          5191.800591345514,
          5116.131375601927
         ]
        },
        {
         "fill": "toself",
         "fillcolor": "#FF0000",
         "line": {
          "color": "#CC0000",
          "width": 1
         },
         "marker": {
          "size": 1
         },
         "mode": "markers+lines",
         "showlegend": false,
         "type": "scatter",
         "x": [
          2826.5917893120604,
          2955.717510727859,
          2955.717510727859,
          2826.5917893120604,
          2826.5917893120604
         ],
         "y": [
          5191.800591345514,
          5191.800591345514,
          5264.114469914489,
          5264.114469914489,
          5191.800591345514
         ]
        },
        {
         "fill": "toself",
         "fillcolor": "#FF0000",
         "line": {
          "color": "#CC0000",
          "width": 1
         },
         "marker": {
          "size": 1
         },
         "mode": "markers+lines",
         "showlegend": false,
         "type": "scatter",
         "x": [
          2955.717510727859,
          3086.691940645157,
          3086.691940645157,
          2955.717510727859,
          2955.717510727859
         ],
         "y": [
          5264.114469914489,
          5264.114469914489,
          5333.0234509886395,
          5333.0234509886395,
          5264.114469914489
         ]
        },
        {
         "fill": "toself",
         "fillcolor": "#FF0000",
         "line": {
          "color": "#CC0000",
          "width": 1
         },
         "marker": {
          "size": 1
         },
         "mode": "markers+lines",
         "showlegend": false,
         "type": "scatter",
         "x": [
          3086.691940645157,
          3219.425315732008,
          3219.425315732008,
          3086.691940645157,
          3086.691940645157
         ],
         "y": [
          5333.0234509886395,
          5333.0234509886395,
          5398.480307794418,
          5398.480307794418,
          5333.0234509886395
         ]
        },
        {
         "fill": "toself",
         "fillcolor": "#FF0000",
         "line": {
          "color": "#CC0000",
          "width": 1
         },
         "marker": {
          "size": 1
         },
         "mode": "markers+lines",
         "showlegend": false,
         "type": "scatter",
         "x": [
          3219.425315732008,
          3353.8266671633073,
          3353.8266671633073,
          3219.425315732008,
          3219.425315732008
         ],
         "y": [
          5398.480307794418,
          5398.480307794418,
          5460.440179471812,
          5460.440179471812,
          5398.480307794418
         ]
        },
        {
         "fill": "toself",
         "fillcolor": "#FF0000",
         "line": {
          "color": "#CC0000",
          "width": 1
         },
         "marker": {
          "size": 1
         },
         "mode": "markers+lines",
         "showlegend": false,
         "type": "scatter",
         "x": [
          3353.8266671633073,
          3489.8038829662814,
          3489.8038829662814,
          3353.8266671633073,
          3353.8266671633073
         ],
         "y": [
          5460.440179471812,
          5460.440179471812,
          5518.86060181974,
          5518.86060181974,
          5460.440179471812
         ]
        },
        {
         "fill": "toself",
         "fillcolor": "#FF0000",
         "line": {
          "color": "#CC0000",
          "width": 1
         },
         "marker": {
          "size": 1
         },
         "mode": "markers+lines",
         "showlegend": false,
         "type": "scatter",
         "x": [
          3489.8038829662814,
          3627.2637711494326,
          3627.2637711494326,
          3489.8038829662814,
          3489.8038829662814
         ],
         "y": [
          5518.86060181974,
          5518.86060181974,
          5573.7015363988885,
          5573.7015363988885,
          5518.86060181974
         ]
        },
        {
         "fill": "toself",
         "fillcolor": "#FF0000",
         "line": {
          "color": "#CC0000",
          "width": 1
         },
         "marker": {
          "size": 1
         },
         "mode": "markers+lines",
         "showlegend": false,
         "type": "scatter",
         "x": [
          3627.2637711494326,
          3766.112123571674,
          3766.112123571674,
          3627.2637711494326,
          3627.2637711494326
         ],
         "y": [
          5573.7015363988885,
          5573.7015363988885,
          5624.925397972063,
          5624.925397972063,
          5573.7015363988885
         ]
        },
        {
         "fill": "toself",
         "fillcolor": "#FF0000",
         "line": {
          "color": "#CC0000",
          "width": 1
         },
         "marker": {
          "size": 1
         },
         "mode": "markers+lines",
         "showlegend": false,
         "type": "scatter",
         "x": [
          3766.112123571674,
          3906.2537805078864,
          3906.2537805078864,
          3766.112123571674,
          3766.112123571674
         ],
         "y": [
          5624.925397972063,
          5624.925397972063,
          5672.497080263231,
          5672.497080263231,
          5624.925397972063
         ]
        },
        {
         "fill": "toself",
         "fillcolor": "#FF0000",
         "line": {
          "color": "#CC0000",
          "width": 1
         },
         "marker": {
          "size": 1
         },
         "mode": "markers+lines",
         "showlegend": false,
         "type": "scatter",
         "x": [
          3906.2537805078864,
          4047.5926958666373,
          4047.5926958666373,
          3906.2537805078864,
          3906.2537805078864
         ],
         "y": [
          5672.497080263231,
          5672.497080263231,
          5716.383980017607,
          5716.383980017607,
          5672.497080263231
         ]
        },
        {
         "fill": "toself",
         "fillcolor": "#FF0000",
         "line": {
          "color": "#CC0000",
          "width": 1
         },
         "marker": {
          "size": 1
         },
         "mode": "markers+lines",
         "showlegend": false,
         "type": "scatter",
         "x": [
          4047.5926958666373,
          4190.032003015375,
          4190.032003015375,
          4047.5926958666373,
          4047.5926958666373
         ],
         "y": [
          5716.383980017607,
          5716.383980017607,
          5756.556019346301,
          5756.556019346301,
          5716.383980017607
         ]
        },
        {
         "fill": "toself",
         "fillcolor": "#FF0000",
         "line": {
          "color": "#CC0000",
          "width": 1
         },
         "marker": {
          "size": 1
         },
         "mode": "markers+lines",
         "showlegend": false,
         "type": "scatter",
         "x": [
          4190.032003015375,
          4333.474081167984,
          4333.474081167984,
          4190.032003015375,
          4190.032003015375
         ],
         "y": [
          5756.556019346301,
          5756.556019346301,
          5792.985666340193,
          5792.985666340193,
          5756.556019346301
         ]
        },
        {
         "fill": "toself",
         "fillcolor": "#FF0000",
         "line": {
          "color": "#CC0000",
          "width": 1
         },
         "marker": {
          "size": 1
         },
         "mode": "markers+lines",
         "showlegend": false,
         "type": "scatter",
         "x": [
          4333.474081167984,
          4477.820622289189,
          4477.820622289189,
          4333.474081167984,
          4333.474081167984
         ],
         "y": [
          5792.985666340193,
          5792.985666340193,
          5825.6479539389375,
          5825.6479539389375,
          5792.985666340193
         ]
        },
        {
         "fill": "toself",
         "fillcolor": "#FF0000",
         "line": {
          "color": "#CC0000",
          "width": 1
         },
         "marker": {
          "size": 1
         },
         "mode": "markers+lines",
         "showlegend": false,
         "type": "scatter",
         "x": [
          4477.820622289189,
          4622.9726984699755,
          4622.9726984699755,
          4477.820622289189,
          4477.820622289189
         ],
         "y": [
          5825.6479539389375,
          5825.6479539389375,
          5854.520497042131,
          5854.520497042131,
          5825.6479539389375
         ]
        },
        {
         "fill": "toself",
         "fillcolor": "#FF0000",
         "line": {
          "color": "#CC0000",
          "width": 1
         },
         "marker": {
          "size": 1
         },
         "mode": "markers+lines",
         "showlegend": false,
         "type": "scatter",
         "x": [
          4622.9726984699755,
          4768.830829727839,
          4768.830829727839,
          4622.9726984699755,
          4622.9726984699755
         ],
         "y": [
          5854.520497042131,
          5854.520497042131,
          5879.583507850945,
          5879.583507850945,
          5854.520497042131
         ]
        },
        {
         "fill": "toself",
         "fillcolor": "#FF0000",
         "line": {
          "color": "#CC0000",
          "width": 1
         },
         "marker": {
          "size": 1
         },
         "mode": "markers+lines",
         "showlegend": false,
         "type": "scatter",
         "x": [
          4768.830829727839,
          4915.29505218539,
          4915.29505218539,
          4768.830829727839,
          4768.830829727839
         ],
         "y": [
          5879.583507850945,
          5879.583507850945,
          5900.819809429699,
          5900.819809429699,
          5879.583507850945
         ]
        },
        {
         "fill": "toself",
         "fillcolor": "#FF0000",
         "line": {
          "color": "#CC0000",
          "width": 1
         },
         "marker": {
          "size": 1
         },
         "mode": "markers+lines",
         "showlegend": false,
         "type": "scatter",
         "x": [
          4915.29505218539,
          5062.46747962358,
          5062.46747962358,
          4915.29505218539,
          4915.29505218539
         ],
         "y": [
          5900.819809429699,
          5900.819809429699,
          5916.288254867783,
          5916.288254867783,
          5900.819809429699
         ]
        },
        {
         "fill": "toself",
         "fillcolor": "#FF0000",
         "line": {
          "color": "#CC0000",
          "width": 1
         },
         "marker": {
          "size": 1
         },
         "mode": "markers+lines",
         "showlegend": false,
         "type": "scatter",
         "x": [
          5062.46747962358,
          5210.247768248476,
          5210.247768248476,
          5062.46747962358,
          5062.46747962358
         ],
         "y": [
          5916.288254867783,
          5916.288254867783,
          5924.03309161642,
          5924.03309161642,
          5916.288254867783
         ]
        },
        {
         "fill": "toself",
         "fillcolor": "#FF0000",
         "line": {
          "color": "#CC0000",
          "width": 1
         },
         "marker": {
          "size": 1
         },
         "mode": "markers+lines",
         "showlegend": false,
         "type": "scatter",
         "x": [
          5210.247768248476,
          5358.230862561037,
          5358.230862561037,
          5210.247768248476,
          5210.247768248476
         ],
         "y": [
          5924.03309161642,
          5924.03309161642,
          5924.03309161642,
          5924.03309161642,
          5924.03309161642
         ]
        },
        {
         "fill": "toself",
         "fillcolor": "#FF0000",
         "line": {
          "color": "#CC0000",
          "width": 1
         },
         "marker": {
          "size": 1
         },
         "mode": "markers+lines",
         "showlegend": false,
         "type": "scatter",
         "x": [
          5358.230862561037,
          5506.011151185931,
          5506.011151185931,
          5358.230862561037,
          5358.230862561037
         ],
         "y": [
          5916.288254867783,
          5916.288254867783,
          5924.03309161642,
          5924.03309161642,
          5916.288254867783
         ]
        },
        {
         "fill": "toself",
         "fillcolor": "#FF0000",
         "line": {
          "color": "#CC0000",
          "width": 1
         },
         "marker": {
          "size": 1
         },
         "mode": "markers+lines",
         "showlegend": false,
         "type": "scatter",
         "x": [
          5506.011151185931,
          5653.183578624122,
          5653.183578624122,
          5506.011151185931,
          5506.011151185931
         ],
         "y": [
          5900.819809429699,
          5900.819809429699,
          5916.288254867783,
          5916.288254867783,
          5900.819809429699
         ]
        },
        {
         "fill": "toself",
         "fillcolor": "#FF0000",
         "line": {
          "color": "#CC0000",
          "width": 1
         },
         "marker": {
          "size": 1
         },
         "mode": "markers+lines",
         "showlegend": false,
         "type": "scatter",
         "x": [
          5653.183578624122,
          5799.344755481829,
          5799.344755481829,
          5653.183578624122,
          5653.183578624122
         ],
         "y": [
          5877.670153235915,
          5877.670153235915,
          5900.819809429699,
          5900.819809429699,
          5877.670153235915
         ]
        },
        {
         "fill": "toself",
         "fillcolor": "#FF0000",
         "line": {
          "color": "#CC0000",
          "width": 1
         },
         "marker": {
          "size": 1
         },
         "mode": "markers+lines",
         "showlegend": false,
         "type": "scatter",
         "x": [
          5799.344755481829,
          5944.094064132825,
          5944.094064132825,
          5799.344755481829,
          5799.344755481829
         ],
         "y": [
          5846.902737884946,
          5846.902737884946,
          5877.670153235915,
          5877.670153235915,
          5846.902737884946
         ]
        },
        {
         "fill": "toself",
         "fillcolor": "#FF0000",
         "line": {
          "color": "#CC0000",
          "width": 1
         },
         "marker": {
          "size": 1
         },
         "mode": "markers+lines",
         "showlegend": false,
         "type": "scatter",
         "x": [
          5944.094064132825,
          6087.034756783499,
          6087.034756783499,
          5944.094064132825,
          5944.094064132825
         ],
         "y": [
          5808.601894723653,
          5808.601894723653,
          5846.902737884946,
          5846.902737884946,
          5808.601894723653
         ]
        },
        {
         "fill": "toself",
         "fillcolor": "#FF0000",
         "line": {
          "color": "#CC0000",
          "width": 1
         },
         "marker": {
          "size": 1
         },
         "mode": "markers+lines",
         "showlegend": false,
         "type": "scatter",
         "x": [
          6087.034756783499,
          6227.77504293098,
          6227.77504293098,
          6087.034756783499,
          6087.034756783499
         ],
         "y": [
          5762.87260370088,
          5762.87260370088,
          5808.601894723653,
          5808.601894723653,
          5762.87260370088
         ]
        },
        {
         "fill": "toself",
         "fillcolor": "#FF0000",
         "line": {
          "color": "#CC0000",
          "width": 1
         },
         "marker": {
          "size": 1
         },
         "mode": "markers+lines",
         "showlegend": false,
         "type": "scatter",
         "x": [
          6227.77504293098,
          6365.929163233676,
          6365.929163233676,
          6227.77504293098,
          6227.77504293098
         ],
         "y": [
          5709.840205624719,
          5709.840205624719,
          5762.87260370088,
          5762.87260370088,
          5709.840205624719
         ]
        },
        {
         "fill": "toself",
         "fillcolor": "#FF0000",
         "line": {
          "color": "#CC0000",
          "width": 1
         },
         "marker": {
          "size": 1
         },
         "mode": "markers+lines",
         "showlegend": false,
         "type": "scatter",
         "x": [
          6365.929163233676,
          6501.118446850813,
          6501.118446850813,
          6365.929163233676,
          6365.929163233676
         ],
         "y": [
          5649.650058612058,
          5649.650058612058,
          5709.840205624719,
          5709.840205624719,
          5649.650058612058
         ]
        },
        {
         "fill": "toself",
         "fillcolor": "#FF0000",
         "line": {
          "color": "#CC0000",
          "width": 1
         },
         "marker": {
          "size": 1
         },
         "mode": "markers+lines",
         "showlegend": false,
         "type": "scatter",
         "x": [
          6501.118446850813,
          6632.972349352887,
          6632.972349352887,
          6501.118446850813,
          6501.118446850813
         ],
         "y": [
          5582.467139672094,
          5582.467139672094,
          5649.650058612058,
          5649.650058612058,
          5582.467139672094
         ]
        },
        {
         "fill": "toself",
         "fillcolor": "#FF0000",
         "line": {
          "color": "#CC0000",
          "width": 1
         },
         "marker": {
          "size": 1
         },
         "mode": "markers+lines",
         "showlegend": false,
         "type": "scatter",
         "x": [
          6632.972349352887,
          6761.129468358194,
          6761.129468358194,
          6632.972349352887,
          6632.972349352887
         ],
         "y": [
          5508.475592515813,
          5508.475592515813,
          5582.467139672094,
          5582.467139672094,
          5508.475592515813
         ]
        },
        {
         "fill": "toself",
         "fillcolor": "#FF0000",
         "line": {
          "color": "#CC0000",
          "width": 1
         },
         "marker": {
          "size": 1
         },
         "mode": "markers+lines",
         "showlegend": false,
         "type": "scatter",
         "x": [
          6761.129468358194,
          6885.2385341116305,
          6885.2385341116305,
          6761.129468358194,
          6761.129468358194
         ],
         "y": [
          5427.878222830882,
          5427.878222830882,
          5508.475592515813,
          5508.475592515813,
          5427.878222830882
         ]
        },
        {
         "fill": "toself",
         "fillcolor": "#FF0000",
         "line": {
          "color": "#CC0000",
          "width": 1
         },
         "marker": {
          "size": 1
         },
         "mode": "markers+lines",
         "showlegend": false,
         "type": "scatter",
         "x": [
          6885.2385341116305,
          7004.959372290684,
          7004.959372290684,
          6885.2385341116305,
          6885.2385341116305
         ],
         "y": [
          5340.895942405353,
          5340.895942405353,
          5427.878222830882,
          5427.878222830882,
          5340.895942405353
         ]
        },
        {
         "fill": "toself",
         "fillcolor": "#FF0000",
         "line": {
          "color": "#CC0000",
          "width": 1
         },
         "marker": {
          "size": 1
         },
         "mode": "markers+lines",
         "showlegend": false,
         "type": "scatter",
         "x": [
          7004.959372290684,
          7119.963836399596,
          7119.963836399596,
          7004.959372290684,
          7004.959372290684
         ],
         "y": [
          5247.767163623807,
          5247.767163623807,
          5340.895942405353,
          5340.895942405353,
          5247.767163623807
         ]
        },
        {
         "fill": "toself",
         "fillcolor": "#FF0000",
         "line": {
          "color": "#CC0000",
          "width": 1
         },
         "marker": {
          "size": 1
         },
         "mode": "markers+lines",
         "showlegend": false,
         "type": "scatter",
         "x": [
          7119.963836399596,
          7229.93670719611,
          7229.93670719611,
          7119.963836399596,
          7119.963836399596
         ],
         "y": [
          5148.747145995583,
          5148.747145995583,
          5247.767163623807,
          5247.767163623807,
          5148.747145995583
         ]
        },
        {
         "fill": "toself",
         "fillcolor": "#FF0000",
         "line": {
          "color": "#CC0000",
          "width": 1
         },
         "marker": {
          "size": 1
         },
         "mode": "markers+lines",
         "showlegend": false,
         "type": "scatter",
         "x": [
          7229.93670719611,
          7334.57655668549,
          7334.57655668549,
          7229.93670719611,
          7229.93670719611
         ],
         "y": [
          5044.107296506203,
          5044.107296506203,
          5148.747145995583,
          5148.747145995583,
          5044.107296506203
         ]
        },
        {
         "fill": "toself",
         "fillcolor": "#FF0000",
         "line": {
          "color": "#CC0000",
          "width": 1
         },
         "marker": {
          "size": 1
         },
         "mode": "markers+lines",
         "showlegend": false,
         "type": "scatter",
         "x": [
          7334.57655668549,
          7433.596574313714,
          7433.596574313714,
          7334.57655668549,
          7334.57655668549
         ],
         "y": [
          4934.13442570969,
          4934.13442570969,
          5044.107296506203,
          5044.107296506203,
          4934.13442570969
         ]
        },
        {
         "fill": "toself",
         "fillcolor": "#FF0000",
         "line": {
          "color": "#CC0000",
          "width": 1
         },
         "marker": {
          "size": 1
         },
         "mode": "markers+lines",
         "showlegend": false,
         "type": "scatter",
         "x": [
          7433.596574313714,
          7526.72535309526,
          7526.72535309526,
          7433.596574313714,
          7433.596574313714
         ],
         "y": [
          4819.129961600777,
          4819.129961600777,
          4934.13442570969,
          4934.13442570969,
          4819.129961600777
         ]
        },
        {
         "fill": "toself",
         "fillcolor": "#FF0000",
         "line": {
          "color": "#CC0000",
          "width": 1
         },
         "marker": {
          "size": 1
         },
         "mode": "markers+lines",
         "showlegend": false,
         "type": "scatter",
         "x": [
          7526.72535309526,
          7613.70763352079,
          7613.70763352079,
          7526.72535309526,
          7526.72535309526
         ],
         "y": [
          4699.409123421725,
          4699.409123421725,
          4819.129961600777,
          4819.129961600777,
          4699.409123421725
         ]
        },
        {
         "fill": "toself",
         "fillcolor": "#FF0000",
         "line": {
          "color": "#CC0000",
          "width": 1
         },
         "marker": {
          "size": 1
         },
         "mode": "markers+lines",
         "showlegend": false,
         "type": "scatter",
         "x": [
          7613.70763352079,
          7694.305003205722,
          7694.305003205722,
          7613.70763352079,
          7613.70763352079
         ],
         "y": [
          4575.300057668289,
          4575.300057668289,
          4699.409123421725,
          4699.409123421725,
          4575.300057668289
         ]
        },
        {
         "fill": "toself",
         "fillcolor": "#FF0000",
         "line": {
          "color": "#CC0000",
          "width": 1
         },
         "marker": {
          "size": 1
         },
         "mode": "markers+lines",
         "showlegend": false,
         "type": "scatter",
         "x": [
          7694.305003205722,
          7768.296550362003,
          7768.296550362003,
          7694.305003205722,
          7694.305003205722
         ],
         "y": [
          4447.142938662983,
          4447.142938662983,
          4575.300057668289,
          4575.300057668289,
          4447.142938662983
         ]
        },
        {
         "fill": "toself",
         "fillcolor": "#FF0000",
         "line": {
          "color": "#CC0000",
          "width": 1
         },
         "marker": {
          "size": 1
         },
         "mode": "markers+lines",
         "showlegend": false,
         "type": "scatter",
         "x": [
          7768.296550362003,
          7835.479469301967,
          7835.479469301967,
          7768.296550362003,
          7768.296550362003
         ],
         "y": [
          4315.28903616091,
          4315.28903616091,
          4447.142938662983,
          4447.142938662983,
          4315.28903616091
         ]
        },
        {
         "fill": "toself",
         "fillcolor": "#FF0000",
         "line": {
          "color": "#CC0000",
          "width": 1
         },
         "marker": {
          "size": 1
         },
         "mode": "markers+lines",
         "showlegend": false,
         "type": "scatter",
         "x": [
          7835.479469301967,
          7895.669616314627,
          7895.669616314627,
          7835.479469301967,
          7835.479469301967
         ],
         "y": [
          4180.099752543772,
          4180.099752543772,
          4315.28903616091,
          4315.28903616091,
          4180.099752543772
         ]
        },
        {
         "fill": "toself",
         "fillcolor": "#FF0000",
         "line": {
          "color": "#CC0000",
          "width": 1
         },
         "marker": {
          "size": 1
         },
         "mode": "markers+lines",
         "showlegend": false,
         "type": "scatter",
         "x": [
          7895.669616314627,
          7948.7020143907885,
          7948.7020143907885,
          7895.669616314627,
          7895.669616314627
         ],
         "y": [
          4041.945632241076,
          4041.945632241076,
          4180.099752543772,
          4180.099752543772,
          4041.945632241076
         ]
        },
        {
         "fill": "toself",
         "fillcolor": "#FF0000",
         "line": {
          "color": "#CC0000",
          "width": 1
         },
         "marker": {
          "size": 1
         },
         "mode": "markers+lines",
         "showlegend": false,
         "type": "scatter",
         "x": [
          7948.7020143907885,
          7998.105429557387,
          7998.105429557387,
          7948.7020143907885,
          7948.7020143907885
         ],
         "y": [
          3902.4346915594338,
          3902.4346915594338,
          4041.945632241076,
          4041.945632241076,
          3902.4346915594338
         ]
        },
        {
         "fill": "toself",
         "fillcolor": "#FF0000",
         "line": {
          "color": "#CC0000",
          "width": 1
         },
         "marker": {
          "size": 1
         },
         "mode": "markers+lines",
         "showlegend": false,
         "type": "scatter",
         "x": [
          7998.105429557387,
          8043.834720580159,
          8043.834720580159,
          7998.105429557387,
          7998.105429557387
         ],
         "y": [
          3761.6944054119526,
          3761.6944054119526,
          3902.4346915594338,
          3902.4346915594338,
          3761.6944054119526
         ]
        },
        {
         "fill": "toself",
         "fillcolor": "#FF0000",
         "line": {
          "color": "#CC0000",
          "width": 1
         },
         "marker": {
          "size": 1
         },
         "mode": "markers+lines",
         "showlegend": false,
         "type": "scatter",
         "x": [
          8043.834720580159,
          8085.86899159634,
          8085.86899159634,
          8043.834720580159,
          8043.834720580159
         ],
         "y": [
          3619.78908465146,
          3619.78908465146,
          3761.6944054119526,
          3761.6944054119526,
          3619.78908465146
         ]
        },
        {
         "fill": "toself",
         "fillcolor": "#FF0000",
         "line": {
          "color": "#CC0000",
          "width": 1
         },
         "marker": {
          "size": 1
         },
         "mode": "markers+lines",
         "showlegend": false,
         "type": "scatter",
         "x": [
          8085.86899159634,
          8126.041030925033,
          8126.041030925033,
          8085.86899159634,
          8085.86899159634
         ],
         "y": [
          3477.3497775027217,
          3477.3497775027217,
          3619.78908465146,
          3619.78908465146,
          3477.3497775027217
         ]
        },
        {
         "fill": "toself",
         "fillcolor": "#FF0000",
         "line": {
          "color": "#CC0000",
          "width": 1
         },
         "marker": {
          "size": 1
         },
         "mode": "markers+lines",
         "showlegend": false,
         "type": "scatter",
         "x": [
          8126.041030925033,
          8162.4706779189255,
          8162.4706779189255,
          8126.041030925033,
          8126.041030925033
         ],
         "y": [
          3333.907699350113,
          3333.907699350113,
          3477.3497775027217,
          3477.3497775027217,
          3333.907699350113
         ]
        },
        {
         "fill": "toself",
         "fillcolor": "#FF0000",
         "line": {
          "color": "#CC0000",
          "width": 1
         },
         "marker": {
          "size": 1
         },
         "mode": "markers+lines",
         "showlegend": false,
         "type": "scatter",
         "x": [
          8162.4706779189255,
          8195.13296551767,
          8195.13296551767,
          8162.4706779189255,
          8162.4706779189255
         ],
         "y": [
          3189.5611582289084,
          3189.5611582289084,
          3333.907699350113,
          3333.907699350113,
          3189.5611582289084
         ]
        },
        {
         "fill": "toself",
         "fillcolor": "#FF0000",
         "line": {
          "color": "#CC0000",
          "width": 1
         },
         "marker": {
          "size": 1
         },
         "mode": "markers+lines",
         "showlegend": false,
         "type": "scatter",
         "x": [
          8195.13296551767,
          8224.005508620863,
          8224.005508620863,
          8195.13296551767,
          8195.13296551767
         ],
         "y": [
          3044.409082048121,
          3044.409082048121,
          3189.5611582289084,
          3189.5611582289084,
          3044.409082048121
         ]
        },
        {
         "fill": "toself",
         "fillcolor": "#FF0000",
         "line": {
          "color": "#CC0000",
          "width": 1
         },
         "marker": {
          "size": 1
         },
         "mode": "markers+lines",
         "showlegend": false,
         "type": "scatter",
         "x": [
          8224.005508620863,
          8249.068519429678,
          8249.068519429678,
          8224.005508620863,
          8224.005508620863
         ],
         "y": [
          2898.550950790258,
          2898.550950790258,
          3044.409082048121,
          3044.409082048121,
          2898.550950790258
         ]
        },
        {
         "fill": "toself",
         "fillcolor": "#FF0000",
         "line": {
          "color": "#CC0000",
          "width": 1
         },
         "marker": {
          "size": 1
         },
         "mode": "markers+lines",
         "showlegend": false,
         "type": "scatter",
         "x": [
          8249.068519429678,
          8270.30482100843,
          8270.30482100843,
          8249.068519429678,
          8249.068519429678
         ],
         "y": [
          2752.0867283327066,
          2752.0867283327066,
          2898.550950790258,
          2898.550950790258,
          2752.0867283327066
         ]
        },
        {
         "fill": "toself",
         "fillcolor": "#FF0000",
         "line": {
          "color": "#CC0000",
          "width": 1
         },
         "marker": {
          "size": 1
         },
         "mode": "markers+lines",
         "showlegend": false,
         "type": "scatter",
         "x": [
          8270.30482100843,
          8289.622697456998,
          8289.622697456998,
          8270.30482100843,
          8270.30482100843
         ],
         "y": [
          2605.3528888493825,
          2605.3528888493825,
          2752.0867283327066,
          2752.0867283327066,
          2605.3528888493825
         ]
        },
        {
         "fill": "toself",
         "fillcolor": "#FF0000",
         "line": {
          "color": "#CC0000",
          "width": 1
         },
         "marker": {
          "size": 1
         },
         "mode": "markers+lines",
         "showlegend": false,
         "type": "scatter",
         "x": [
          8289.622697456998,
          8308.940573905566,
          8308.940573905566,
          8289.622697456998,
          8289.622697456998
         ],
         "y": [
          2458.6190493660583,
          2458.6190493660583,
          2605.3528888493825,
          2605.3528888493825,
          2458.6190493660583
         ]
        },
        {
         "fill": "toself",
         "fillcolor": "#FF0000",
         "line": {
          "color": "#CC0000",
          "width": 1
         },
         "marker": {
          "size": 1
         },
         "mode": "markers+lines",
         "showlegend": false,
         "type": "scatter",
         "x": [
          8308.940573905566,
          8328.258450354133,
          8328.258450354133,
          8308.940573905566,
          8308.940573905566
         ],
         "y": [
          2311.885209882734,
          2311.885209882734,
          2458.6190493660583,
          2458.6190493660583,
          2311.885209882734
         ]
        },
        {
         "fill": "toself",
         "fillcolor": "#FF0000",
         "line": {
          "color": "#CC0000",
          "width": 1
         },
         "marker": {
          "size": 1
         },
         "mode": "markers+lines",
         "showlegend": false,
         "type": "scatter",
         "x": [
          8328.258450354133,
          8347.5763268027,
          8347.5763268027,
          8328.258450354133,
          8328.258450354133
         ],
         "y": [
          2165.15137039941,
          2165.15137039941,
          2311.885209882734,
          2311.885209882734,
          2165.15137039941
         ]
        },
        {
         "fill": "toself",
         "fillcolor": "#0000FF",
         "line": {
          "color": "#0000CC",
          "width": 1
         },
         "marker": {
          "size": 1
         },
         "mode": "markers+lines",
         "showlegend": false,
         "type": "scatter",
         "x": [
          -38430.170388824416,
          -37925.17719339263,
          -37925.17719339263,
          -38430.170388824416,
          -38430.170388824416
         ],
         "y": [
          33013.15079809009,
          33013.15079809009,
          33296.38722330337,
          33296.38722330337,
          33013.15079809009
         ]
        },
        {
         "fill": "toself",
         "fillcolor": "#0000FF",
         "line": {
          "color": "#0000CC",
          "width": 1
         },
         "marker": {
          "size": 1
         },
         "mode": "markers+lines",
         "showlegend": false,
         "type": "scatter",
         "x": [
          -37925.17719339263,
          -37420.18399796084,
          -37420.18399796084,
          -37925.17719339263,
          -37925.17719339263
         ],
         "y": [
          32729.91437287682,
          32729.91437287682,
          33013.15079809009,
          33013.15079809009,
          32729.91437287682
         ]
        },
        {
         "fill": "toself",
         "fillcolor": "#0000FF",
         "line": {
          "color": "#0000CC",
          "width": 1
         },
         "marker": {
          "size": 1
         },
         "mode": "markers+lines",
         "showlegend": false,
         "type": "scatter",
         "x": [
          -37420.18399796084,
          -36915.190802529054,
          -36915.190802529054,
          -37420.18399796084,
          -37420.18399796084
         ],
         "y": [
          32446.67794766355,
          32446.67794766355,
          32729.91437287682,
          32729.91437287682,
          32446.67794766355
         ]
        },
        {
         "fill": "toself",
         "fillcolor": "#0000FF",
         "line": {
          "color": "#0000CC",
          "width": 1
         },
         "marker": {
          "size": 1
         },
         "mode": "markers+lines",
         "showlegend": false,
         "type": "scatter",
         "x": [
          -36915.190802529054,
          -36410.19760709727,
          -36410.19760709727,
          -36915.190802529054,
          -36915.190802529054
         ],
         "y": [
          32163.441522450277,
          32163.441522450277,
          32446.67794766355,
          32446.67794766355,
          32163.441522450277
         ]
        },
        {
         "fill": "toself",
         "fillcolor": "#0000FF",
         "line": {
          "color": "#0000CC",
          "width": 1
         },
         "marker": {
          "size": 1
         },
         "mode": "markers+lines",
         "showlegend": false,
         "type": "scatter",
         "x": [
          -36410.19760709727,
          -35905.20441166548,
          -35905.20441166548,
          -36410.19760709727,
          -36410.19760709727
         ],
         "y": [
          31880.205097237005,
          31880.205097237005,
          32163.441522450277,
          32163.441522450277,
          31880.205097237005
         ]
        },
        {
         "fill": "toself",
         "fillcolor": "#0000FF",
         "line": {
          "color": "#0000CC",
          "width": 1
         },
         "marker": {
          "size": 1
         },
         "mode": "markers+lines",
         "showlegend": false,
         "type": "scatter",
         "x": [
          -35905.20441166548,
          -35400.21121623369,
          -35400.21121623369,
          -35905.20441166548,
          -35905.20441166548
         ],
         "y": [
          31596.968672023733,
          31596.968672023733,
          31880.205097237005,
          31880.205097237005,
          31596.968672023733
         ]
        },
        {
         "fill": "toself",
         "fillcolor": "#0000FF",
         "line": {
          "color": "#0000CC",
          "width": 1
         },
         "marker": {
          "size": 1
         },
         "mode": "markers+lines",
         "showlegend": false,
         "type": "scatter",
         "x": [
          -35400.21121623369,
          -34895.218020801905,
          -34895.218020801905,
          -35400.21121623369,
          -35400.21121623369
         ],
         "y": [
          31313.73224681046,
          31313.73224681046,
          31596.968672023733,
          31596.968672023733,
          31313.73224681046
         ]
        },
        {
         "fill": "toself",
         "fillcolor": "#0000FF",
         "line": {
          "color": "#0000CC",
          "width": 1
         },
         "marker": {
          "size": 1
         },
         "mode": "markers+lines",
         "showlegend": false,
         "type": "scatter",
         "x": [
          -34895.218020801905,
          -34390.22482537012,
          -34390.22482537012,
          -34895.218020801905,
          -34895.218020801905
         ],
         "y": [
          31030.49582159719,
          31030.49582159719,
          31313.73224681046,
          31313.73224681046,
          31030.49582159719
         ]
        },
        {
         "fill": "toself",
         "fillcolor": "#0000FF",
         "line": {
          "color": "#0000CC",
          "width": 1
         },
         "marker": {
          "size": 1
         },
         "mode": "markers+lines",
         "showlegend": false,
         "type": "scatter",
         "x": [
          -34390.22482537012,
          -33885.23162993833,
          -33885.23162993833,
          -34390.22482537012,
          -34390.22482537012
         ],
         "y": [
          30747.259396383917,
          30747.259396383917,
          31030.49582159719,
          31030.49582159719,
          30747.259396383917
         ]
        },
        {
         "fill": "toself",
         "fillcolor": "#0000FF",
         "line": {
          "color": "#0000CC",
          "width": 1
         },
         "marker": {
          "size": 1
         },
         "mode": "markers+lines",
         "showlegend": false,
         "type": "scatter",
         "x": [
          -33885.23162993833,
          -33380.238434506544,
          -33380.238434506544,
          -33885.23162993833,
          -33885.23162993833
         ],
         "y": [
          30464.022971170645,
          30464.022971170645,
          30747.259396383917,
          30747.259396383917,
          30464.022971170645
         ]
        },
        {
         "fill": "toself",
         "fillcolor": "#0000FF",
         "line": {
          "color": "#0000CC",
          "width": 1
         },
         "marker": {
          "size": 1
         },
         "mode": "markers+lines",
         "showlegend": false,
         "type": "scatter",
         "x": [
          -33380.238434506544,
          -32875.24523907476,
          -32875.24523907476,
          -33380.238434506544,
          -33380.238434506544
         ],
         "y": [
          30180.786545957373,
          30180.786545957373,
          30464.022971170645,
          30464.022971170645,
          30180.786545957373
         ]
        },
        {
         "fill": "toself",
         "fillcolor": "#0000FF",
         "line": {
          "color": "#0000CC",
          "width": 1
         },
         "marker": {
          "size": 1
         },
         "mode": "markers+lines",
         "showlegend": false,
         "type": "scatter",
         "x": [
          -32875.24523907476,
          -32370.25204364297,
          -32370.25204364297,
          -32875.24523907476,
          -32875.24523907476
         ],
         "y": [
          29897.5501207441,
          29897.5501207441,
          30180.786545957373,
          30180.786545957373,
          29897.5501207441
         ]
        },
        {
         "fill": "toself",
         "fillcolor": "#0000FF",
         "line": {
          "color": "#0000CC",
          "width": 1
         },
         "marker": {
          "size": 1
         },
         "mode": "markers+lines",
         "showlegend": false,
         "type": "scatter",
         "x": [
          -32370.25204364297,
          -31865.258848211182,
          -31865.258848211182,
          -32370.25204364297,
          -32370.25204364297
         ],
         "y": [
          29614.31369553083,
          29614.31369553083,
          29897.5501207441,
          29897.5501207441,
          29614.31369553083
         ]
        },
        {
         "fill": "toself",
         "fillcolor": "#0000FF",
         "line": {
          "color": "#0000CC",
          "width": 1
         },
         "marker": {
          "size": 1
         },
         "mode": "markers+lines",
         "showlegend": false,
         "type": "scatter",
         "x": [
          -31865.258848211182,
          -31360.265652779395,
          -31360.265652779395,
          -31865.258848211182,
          -31865.258848211182
         ],
         "y": [
          29331.077270317557,
          29331.077270317557,
          29614.31369553083,
          29614.31369553083,
          29331.077270317557
         ]
        },
        {
         "fill": "toself",
         "fillcolor": "#0000FF",
         "line": {
          "color": "#0000CC",
          "width": 1
         },
         "marker": {
          "size": 1
         },
         "mode": "markers+lines",
         "showlegend": false,
         "type": "scatter",
         "x": [
          -31360.265652779395,
          -30855.272457347608,
          -30855.272457347608,
          -31360.265652779395,
          -31360.265652779395
         ],
         "y": [
          29047.840845104285,
          29047.840845104285,
          29331.077270317557,
          29331.077270317557,
          29047.840845104285
         ]
        },
        {
         "fill": "toself",
         "fillcolor": "#0000FF",
         "line": {
          "color": "#0000CC",
          "width": 1
         },
         "marker": {
          "size": 1
         },
         "mode": "markers+lines",
         "showlegend": false,
         "type": "scatter",
         "x": [
          -30855.272457347608,
          -30350.27926191582,
          -30350.27926191582,
          -30855.272457347608,
          -30855.272457347608
         ],
         "y": [
          28764.604419891013,
          28764.604419891013,
          29047.840845104285,
          29047.840845104285,
          28764.604419891013
         ]
        },
        {
         "fill": "toself",
         "fillcolor": "#0000FF",
         "line": {
          "color": "#0000CC",
          "width": 1
         },
         "marker": {
          "size": 1
         },
         "mode": "markers+lines",
         "showlegend": false,
         "type": "scatter",
         "x": [
          -30350.27926191582,
          -29845.286066484034,
          -29845.286066484034,
          -30350.27926191582,
          -30350.27926191582
         ],
         "y": [
          28481.36799467774,
          28481.36799467774,
          28764.604419891013,
          28764.604419891013,
          28481.36799467774
         ]
        },
        {
         "fill": "toself",
         "fillcolor": "#0000FF",
         "line": {
          "color": "#0000CC",
          "width": 1
         },
         "marker": {
          "size": 1
         },
         "mode": "markers+lines",
         "showlegend": false,
         "type": "scatter",
         "x": [
          -29845.286066484034,
          -29340.292871052246,
          -29340.292871052246,
          -29845.286066484034,
          -29845.286066484034
         ],
         "y": [
          28198.13156946447,
          28198.13156946447,
          28481.36799467774,
          28481.36799467774,
          28198.13156946447
         ]
        },
        {
         "fill": "toself",
         "fillcolor": "#0000FF",
         "line": {
          "color": "#0000CC",
          "width": 1
         },
         "marker": {
          "size": 1
         },
         "mode": "markers+lines",
         "showlegend": false,
         "type": "scatter",
         "x": [
          -29340.292871052246,
          -28835.29967562046,
          -28835.29967562046,
          -29340.292871052246,
          -29340.292871052246
         ],
         "y": [
          27914.895144251197,
          27914.895144251197,
          28198.13156946447,
          28198.13156946447,
          27914.895144251197
         ]
        },
        {
         "fill": "toself",
         "fillcolor": "#0000FF",
         "line": {
          "color": "#0000CC",
          "width": 1
         },
         "marker": {
          "size": 1
         },
         "mode": "markers+lines",
         "showlegend": false,
         "type": "scatter",
         "x": [
          -28835.29967562046,
          -28330.306480188672,
          -28330.306480188672,
          -28835.29967562046,
          -28835.29967562046
         ],
         "y": [
          27631.658719037925,
          27631.658719037925,
          27914.895144251197,
          27914.895144251197,
          27631.658719037925
         ]
        },
        {
         "fill": "toself",
         "fillcolor": "#0000FF",
         "line": {
          "color": "#0000CC",
          "width": 1
         },
         "marker": {
          "size": 1
         },
         "mode": "markers+lines",
         "showlegend": false,
         "type": "scatter",
         "x": [
          -28330.306480188672,
          -27825.313284756885,
          -27825.313284756885,
          -28330.306480188672,
          -28330.306480188672
         ],
         "y": [
          27348.422293824653,
          27348.422293824653,
          27631.658719037925,
          27631.658719037925,
          27348.422293824653
         ]
        },
        {
         "fill": "toself",
         "fillcolor": "#0000FF",
         "line": {
          "color": "#0000CC",
          "width": 1
         },
         "marker": {
          "size": 1
         },
         "mode": "markers+lines",
         "showlegend": false,
         "type": "scatter",
         "x": [
          -27825.313284756885,
          -27320.320089325098,
          -27320.320089325098,
          -27825.313284756885,
          -27825.313284756885
         ],
         "y": [
          27065.18586861138,
          27065.18586861138,
          27348.422293824653,
          27348.422293824653,
          27065.18586861138
         ]
        },
        {
         "fill": "toself",
         "fillcolor": "#0000FF",
         "line": {
          "color": "#0000CC",
          "width": 1
         },
         "marker": {
          "size": 1
         },
         "mode": "markers+lines",
         "showlegend": false,
         "type": "scatter",
         "x": [
          -27320.320089325098,
          -26815.32689389331,
          -26815.32689389331,
          -27320.320089325098,
          -27320.320089325098
         ],
         "y": [
          26781.94944339811,
          26781.94944339811,
          27065.18586861138,
          27065.18586861138,
          26781.94944339811
         ]
        },
        {
         "fill": "toself",
         "fillcolor": "#0000FF",
         "line": {
          "color": "#0000CC",
          "width": 1
         },
         "marker": {
          "size": 1
         },
         "mode": "markers+lines",
         "showlegend": false,
         "type": "scatter",
         "x": [
          -26815.32689389331,
          -26310.333698461523,
          -26310.333698461523,
          -26815.32689389331,
          -26815.32689389331
         ],
         "y": [
          26498.713018184837,
          26498.713018184837,
          26781.94944339811,
          26781.94944339811,
          26498.713018184837
         ]
        },
        {
         "fill": "toself",
         "fillcolor": "#0000FF",
         "line": {
          "color": "#0000CC",
          "width": 1
         },
         "marker": {
          "size": 1
         },
         "mode": "markers+lines",
         "showlegend": false,
         "type": "scatter",
         "x": [
          -26310.333698461523,
          -25805.340503029736,
          -25805.340503029736,
          -26310.333698461523,
          -26310.333698461523
         ],
         "y": [
          26215.476592971565,
          26215.476592971565,
          26498.713018184837,
          26498.713018184837,
          26215.476592971565
         ]
        },
        {
         "fill": "toself",
         "fillcolor": "#0000FF",
         "line": {
          "color": "#0000CC",
          "width": 1
         },
         "marker": {
          "size": 1
         },
         "mode": "markers+lines",
         "showlegend": false,
         "type": "scatter",
         "x": [
          -25805.340503029736,
          -25300.34730759795,
          -25300.34730759795,
          -25805.340503029736,
          -25805.340503029736
         ],
         "y": [
          25932.240167758293,
          25932.240167758293,
          26215.476592971565,
          26215.476592971565,
          25932.240167758293
         ]
        },
        {
         "fill": "toself",
         "fillcolor": "#0000FF",
         "line": {
          "color": "#0000CC",
          "width": 1
         },
         "marker": {
          "size": 1
         },
         "mode": "markers+lines",
         "showlegend": false,
         "type": "scatter",
         "x": [
          -25300.34730759795,
          -24795.354112166162,
          -24795.354112166162,
          -25300.34730759795,
          -25300.34730759795
         ],
         "y": [
          25649.00374254502,
          25649.00374254502,
          25932.240167758293,
          25932.240167758293,
          25649.00374254502
         ]
        },
        {
         "fill": "toself",
         "fillcolor": "#0000FF",
         "line": {
          "color": "#0000CC",
          "width": 1
         },
         "marker": {
          "size": 1
         },
         "mode": "markers+lines",
         "showlegend": false,
         "type": "scatter",
         "x": [
          -24795.354112166162,
          -24290.360916734375,
          -24290.360916734375,
          -24795.354112166162,
          -24795.354112166162
         ],
         "y": [
          25365.76731733175,
          25365.76731733175,
          25649.00374254502,
          25649.00374254502,
          25365.76731733175
         ]
        },
        {
         "fill": "toself",
         "fillcolor": "#0000FF",
         "line": {
          "color": "#0000CC",
          "width": 1
         },
         "marker": {
          "size": 1
         },
         "mode": "markers+lines",
         "showlegend": false,
         "type": "scatter",
         "x": [
          -24290.360916734375,
          -23785.367721302588,
          -23785.367721302588,
          -24290.360916734375,
          -24290.360916734375
         ],
         "y": [
          25082.530892118477,
          25082.530892118477,
          25365.76731733175,
          25365.76731733175,
          25082.530892118477
         ]
        },
        {
         "fill": "toself",
         "fillcolor": "#0000FF",
         "line": {
          "color": "#0000CC",
          "width": 1
         },
         "marker": {
          "size": 1
         },
         "mode": "markers+lines",
         "showlegend": false,
         "type": "scatter",
         "x": [
          -23785.367721302588,
          -23280.3745258708,
          -23280.3745258708,
          -23785.367721302588,
          -23785.367721302588
         ],
         "y": [
          24799.294466905205,
          24799.294466905205,
          25082.530892118477,
          25082.530892118477,
          24799.294466905205
         ]
        },
        {
         "fill": "toself",
         "fillcolor": "#0000FF",
         "line": {
          "color": "#0000CC",
          "width": 1
         },
         "marker": {
          "size": 1
         },
         "mode": "markers+lines",
         "showlegend": false,
         "type": "scatter",
         "x": [
          -23280.3745258708,
          -22775.381330439013,
          -22775.381330439013,
          -23280.3745258708,
          -23280.3745258708
         ],
         "y": [
          24516.058041691933,
          24516.058041691933,
          24799.294466905205,
          24799.294466905205,
          24516.058041691933
         ]
        },
        {
         "fill": "toself",
         "fillcolor": "#0000FF",
         "line": {
          "color": "#0000CC",
          "width": 1
         },
         "marker": {
          "size": 1
         },
         "mode": "markers+lines",
         "showlegend": false,
         "type": "scatter",
         "x": [
          -22775.381330439013,
          -22270.388135007226,
          -22270.388135007226,
          -22775.381330439013,
          -22775.381330439013
         ],
         "y": [
          24232.82161647866,
          24232.82161647866,
          24516.058041691933,
          24516.058041691933,
          24232.82161647866
         ]
        },
        {
         "fill": "toself",
         "fillcolor": "#0000FF",
         "line": {
          "color": "#0000CC",
          "width": 1
         },
         "marker": {
          "size": 1
         },
         "mode": "markers+lines",
         "showlegend": false,
         "type": "scatter",
         "x": [
          -22270.388135007226,
          -21765.39493957544,
          -21765.39493957544,
          -22270.388135007226,
          -22270.388135007226
         ],
         "y": [
          23949.58519126539,
          23949.58519126539,
          24232.82161647866,
          24232.82161647866,
          23949.58519126539
         ]
        },
        {
         "fill": "toself",
         "fillcolor": "#0000FF",
         "line": {
          "color": "#0000CC",
          "width": 1
         },
         "marker": {
          "size": 1
         },
         "mode": "markers+lines",
         "showlegend": false,
         "type": "scatter",
         "x": [
          -21765.39493957544,
          -21260.40174414365,
          -21260.40174414365,
          -21765.39493957544,
          -21765.39493957544
         ],
         "y": [
          23666.348766052117,
          23666.348766052117,
          23949.58519126539,
          23949.58519126539,
          23666.348766052117
         ]
        },
        {
         "fill": "toself",
         "fillcolor": "#0000FF",
         "line": {
          "color": "#0000CC",
          "width": 1
         },
         "marker": {
          "size": 1
         },
         "mode": "markers+lines",
         "showlegend": false,
         "type": "scatter",
         "x": [
          -21260.40174414365,
          -20755.408548711865,
          -20755.408548711865,
          -21260.40174414365,
          -21260.40174414365
         ],
         "y": [
          23383.112340838845,
          23383.112340838845,
          23666.348766052117,
          23666.348766052117,
          23383.112340838845
         ]
        },
        {
         "fill": "toself",
         "fillcolor": "#0000FF",
         "line": {
          "color": "#0000CC",
          "width": 1
         },
         "marker": {
          "size": 1
         },
         "mode": "markers+lines",
         "showlegend": false,
         "type": "scatter",
         "x": [
          -20755.408548711865,
          -20250.415353280077,
          -20250.415353280077,
          -20755.408548711865,
          -20755.408548711865
         ],
         "y": [
          23099.875915625573,
          23099.875915625573,
          23383.112340838845,
          23383.112340838845,
          23099.875915625573
         ]
        },
        {
         "fill": "toself",
         "fillcolor": "#0000FF",
         "line": {
          "color": "#0000CC",
          "width": 1
         },
         "marker": {
          "size": 1
         },
         "mode": "markers+lines",
         "showlegend": false,
         "type": "scatter",
         "x": [
          -20250.415353280077,
          -19745.42215784829,
          -19745.42215784829,
          -20250.415353280077,
          -20250.415353280077
         ],
         "y": [
          22816.6394904123,
          22816.6394904123,
          23099.875915625573,
          23099.875915625573,
          22816.6394904123
         ]
        },
        {
         "fill": "toself",
         "fillcolor": "#0000FF",
         "line": {
          "color": "#0000CC",
          "width": 1
         },
         "marker": {
          "size": 1
         },
         "mode": "markers+lines",
         "showlegend": false,
         "type": "scatter",
         "x": [
          -19745.42215784829,
          -19240.428962416503,
          -19240.428962416503,
          -19745.42215784829,
          -19745.42215784829
         ],
         "y": [
          22533.40306519903,
          22533.40306519903,
          22816.6394904123,
          22816.6394904123,
          22533.40306519903
         ]
        },
        {
         "fill": "toself",
         "fillcolor": "#0000FF",
         "line": {
          "color": "#0000CC",
          "width": 1
         },
         "marker": {
          "size": 1
         },
         "mode": "markers+lines",
         "showlegend": false,
         "type": "scatter",
         "x": [
          -19240.428962416503,
          -18735.435766984716,
          -18735.435766984716,
          -19240.428962416503,
          -19240.428962416503
         ],
         "y": [
          22250.166639985757,
          22250.166639985757,
          22533.40306519903,
          22533.40306519903,
          22250.166639985757
         ]
        },
        {
         "fill": "toself",
         "fillcolor": "#0000FF",
         "line": {
          "color": "#0000CC",
          "width": 1
         },
         "marker": {
          "size": 1
         },
         "mode": "markers+lines",
         "showlegend": false,
         "type": "scatter",
         "x": [
          -18735.435766984716,
          -18230.44257155293,
          -18230.44257155293,
          -18735.435766984716,
          -18735.435766984716
         ],
         "y": [
          21966.930214772485,
          21966.930214772485,
          22250.166639985757,
          22250.166639985757,
          21966.930214772485
         ]
        },
        {
         "fill": "toself",
         "fillcolor": "#0000FF",
         "line": {
          "color": "#0000CC",
          "width": 1
         },
         "marker": {
          "size": 1
         },
         "mode": "markers+lines",
         "showlegend": false,
         "type": "scatter",
         "x": [
          -18230.44257155293,
          -17725.44937612114,
          -17725.44937612114,
          -18230.44257155293,
          -18230.44257155293
         ],
         "y": [
          21683.693789559213,
          21683.693789559213,
          21966.930214772485,
          21966.930214772485,
          21683.693789559213
         ]
        },
        {
         "fill": "toself",
         "fillcolor": "#0000FF",
         "line": {
          "color": "#0000CC",
          "width": 1
         },
         "marker": {
          "size": 1
         },
         "mode": "markers+lines",
         "showlegend": false,
         "type": "scatter",
         "x": [
          -17725.44937612114,
          -17220.456180689354,
          -17220.456180689354,
          -17725.44937612114,
          -17725.44937612114
         ],
         "y": [
          21400.45736434594,
          21400.45736434594,
          21683.693789559213,
          21683.693789559213,
          21400.45736434594
         ]
        },
        {
         "fill": "toself",
         "fillcolor": "#0000FF",
         "line": {
          "color": "#0000CC",
          "width": 1
         },
         "marker": {
          "size": 1
         },
         "mode": "markers+lines",
         "showlegend": false,
         "type": "scatter",
         "x": [
          -17220.456180689354,
          -16715.462985257567,
          -16715.462985257567,
          -17220.456180689354,
          -17220.456180689354
         ],
         "y": [
          21117.22093913267,
          21117.22093913267,
          21400.45736434594,
          21400.45736434594,
          21117.22093913267
         ]
        },
        {
         "fill": "toself",
         "fillcolor": "#0000FF",
         "line": {
          "color": "#0000CC",
          "width": 1
         },
         "marker": {
          "size": 1
         },
         "mode": "markers+lines",
         "showlegend": false,
         "type": "scatter",
         "x": [
          -16715.462985257567,
          -16210.46978982578,
          -16210.46978982578,
          -16715.462985257567,
          -16715.462985257567
         ],
         "y": [
          20833.984513919397,
          20833.984513919397,
          21117.22093913267,
          21117.22093913267,
          20833.984513919397
         ]
        },
        {
         "fill": "toself",
         "fillcolor": "#0000FF",
         "line": {
          "color": "#0000CC",
          "width": 1
         },
         "marker": {
          "size": 1
         },
         "mode": "markers+lines",
         "showlegend": false,
         "type": "scatter",
         "x": [
          -16210.46978982578,
          -15705.476594393993,
          -15705.476594393993,
          -16210.46978982578,
          -16210.46978982578
         ],
         "y": [
          20550.748088706125,
          20550.748088706125,
          20833.984513919397,
          20833.984513919397,
          20550.748088706125
         ]
        },
        {
         "fill": "toself",
         "fillcolor": "#0000FF",
         "line": {
          "color": "#0000CC",
          "width": 1
         },
         "marker": {
          "size": 1
         },
         "mode": "markers+lines",
         "showlegend": false,
         "type": "scatter",
         "x": [
          -15705.476594393993,
          -15200.483398962206,
          -15200.483398962206,
          -15705.476594393993,
          -15705.476594393993
         ],
         "y": [
          20267.511663492853,
          20267.511663492853,
          20550.748088706125,
          20550.748088706125,
          20267.511663492853
         ]
        },
        {
         "fill": "toself",
         "fillcolor": "#0000FF",
         "line": {
          "color": "#0000CC",
          "width": 1
         },
         "marker": {
          "size": 1
         },
         "mode": "markers+lines",
         "showlegend": false,
         "type": "scatter",
         "x": [
          -15200.483398962206,
          -14695.490203530419,
          -14695.490203530419,
          -15200.483398962206,
          -15200.483398962206
         ],
         "y": [
          19984.27523827958,
          19984.27523827958,
          20267.511663492853,
          20267.511663492853,
          19984.27523827958
         ]
        },
        {
         "fill": "toself",
         "fillcolor": "#0000FF",
         "line": {
          "color": "#0000CC",
          "width": 1
         },
         "marker": {
          "size": 1
         },
         "mode": "markers+lines",
         "showlegend": false,
         "type": "scatter",
         "x": [
          -14695.490203530419,
          -14190.497008098631,
          -14190.497008098631,
          -14695.490203530419,
          -14695.490203530419
         ],
         "y": [
          19701.03881306631,
          19701.03881306631,
          19984.27523827958,
          19984.27523827958,
          19701.03881306631
         ]
        },
        {
         "fill": "toself",
         "fillcolor": "#0000FF",
         "line": {
          "color": "#0000CC",
          "width": 1
         },
         "marker": {
          "size": 1
         },
         "mode": "markers+lines",
         "showlegend": false,
         "type": "scatter",
         "x": [
          -14190.497008098631,
          -13685.503812666844,
          -13685.503812666844,
          -14190.497008098631,
          -14190.497008098631
         ],
         "y": [
          19417.802387853037,
          19417.802387853037,
          19701.03881306631,
          19701.03881306631,
          19417.802387853037
         ]
        },
        {
         "fill": "toself",
         "fillcolor": "#0000FF",
         "line": {
          "color": "#0000CC",
          "width": 1
         },
         "marker": {
          "size": 1
         },
         "mode": "markers+lines",
         "showlegend": false,
         "type": "scatter",
         "x": [
          -13685.503812666844,
          -13180.510617235057,
          -13180.510617235057,
          -13685.503812666844,
          -13685.503812666844
         ],
         "y": [
          19134.565962639765,
          19134.565962639765,
          19417.802387853037,
          19417.802387853037,
          19134.565962639765
         ]
        },
        {
         "fill": "toself",
         "fillcolor": "#0000FF",
         "line": {
          "color": "#0000CC",
          "width": 1
         },
         "marker": {
          "size": 1
         },
         "mode": "markers+lines",
         "showlegend": false,
         "type": "scatter",
         "x": [
          -13180.510617235057,
          -12675.51742180327,
          -12675.51742180327,
          -13180.510617235057,
          -13180.510617235057
         ],
         "y": [
          18851.329537426493,
          18851.329537426493,
          19134.565962639765,
          19134.565962639765,
          18851.329537426493
         ]
        },
        {
         "fill": "toself",
         "fillcolor": "#0000FF",
         "line": {
          "color": "#0000CC",
          "width": 1
         },
         "marker": {
          "size": 1
         },
         "mode": "markers+lines",
         "showlegend": false,
         "type": "scatter",
         "x": [
          -12675.51742180327,
          -12170.524226371483,
          -12170.524226371483,
          -12675.51742180327,
          -12675.51742180327
         ],
         "y": [
          18568.09311221322,
          18568.09311221322,
          18851.329537426493,
          18851.329537426493,
          18568.09311221322
         ]
        },
        {
         "fill": "toself",
         "fillcolor": "#0000FF",
         "line": {
          "color": "#0000CC",
          "width": 1
         },
         "marker": {
          "size": 1
         },
         "mode": "markers+lines",
         "showlegend": false,
         "type": "scatter",
         "x": [
          -12170.524226371483,
          -11665.531030939695,
          -11665.531030939695,
          -12170.524226371483,
          -12170.524226371483
         ],
         "y": [
          18284.85668699995,
          18284.85668699995,
          18568.09311221322,
          18568.09311221322,
          18284.85668699995
         ]
        },
        {
         "fill": "toself",
         "fillcolor": "#0000FF",
         "line": {
          "color": "#0000CC",
          "width": 1
         },
         "marker": {
          "size": 1
         },
         "mode": "markers+lines",
         "showlegend": false,
         "type": "scatter",
         "x": [
          -11665.531030939695,
          -11160.537835507908,
          -11160.537835507908,
          -11665.531030939695,
          -11665.531030939695
         ],
         "y": [
          18001.620261786677,
          18001.620261786677,
          18284.85668699995,
          18284.85668699995,
          18001.620261786677
         ]
        },
        {
         "fill": "toself",
         "fillcolor": "#0000FF",
         "line": {
          "color": "#0000CC",
          "width": 1
         },
         "marker": {
          "size": 1
         },
         "mode": "markers+lines",
         "showlegend": false,
         "type": "scatter",
         "x": [
          -11160.537835507908,
          -10655.544640076121,
          -10655.544640076121,
          -11160.537835507908,
          -11160.537835507908
         ],
         "y": [
          17718.383836573405,
          17718.383836573405,
          18001.620261786677,
          18001.620261786677,
          17718.383836573405
         ]
        },
        {
         "fill": "toself",
         "fillcolor": "#0000FF",
         "line": {
          "color": "#0000CC",
          "width": 1
         },
         "marker": {
          "size": 1
         },
         "mode": "markers+lines",
         "showlegend": false,
         "type": "scatter",
         "x": [
          -10655.544640076121,
          -10150.551444644334,
          -10150.551444644334,
          -10655.544640076121,
          -10655.544640076121
         ],
         "y": [
          17435.147411360133,
          17435.147411360133,
          17718.383836573405,
          17718.383836573405,
          17435.147411360133
         ]
        },
        {
         "fill": "toself",
         "fillcolor": "#0000FF",
         "line": {
          "color": "#0000CC",
          "width": 1
         },
         "marker": {
          "size": 1
         },
         "mode": "markers+lines",
         "showlegend": false,
         "type": "scatter",
         "x": [
          -10150.551444644334,
          -9645.558249212547,
          -9645.558249212547,
          -10150.551444644334,
          -10150.551444644334
         ],
         "y": [
          17151.91098614686,
          17151.91098614686,
          17435.147411360133,
          17435.147411360133,
          17151.91098614686
         ]
        },
        {
         "fill": "toself",
         "fillcolor": "#0000FF",
         "line": {
          "color": "#0000CC",
          "width": 1
         },
         "marker": {
          "size": 1
         },
         "mode": "markers+lines",
         "showlegend": false,
         "type": "scatter",
         "x": [
          -9645.558249212547,
          -9140.56505378076,
          -9140.56505378076,
          -9645.558249212547,
          -9645.558249212547
         ],
         "y": [
          16868.67456093359,
          16868.67456093359,
          17151.91098614686,
          17151.91098614686,
          16868.67456093359
         ]
        },
        {
         "fill": "toself",
         "fillcolor": "#0000FF",
         "line": {
          "color": "#0000CC",
          "width": 1
         },
         "marker": {
          "size": 1
         },
         "mode": "markers+lines",
         "showlegend": false,
         "type": "scatter",
         "x": [
          -9140.56505378076,
          -8635.571858348972,
          -8635.571858348972,
          -9140.56505378076,
          -9140.56505378076
         ],
         "y": [
          16585.438135720316,
          16585.438135720316,
          16868.67456093359,
          16868.67456093359,
          16585.438135720316
         ]
        },
        {
         "fill": "toself",
         "fillcolor": "#0000FF",
         "line": {
          "color": "#0000CC",
          "width": 1
         },
         "marker": {
          "size": 1
         },
         "mode": "markers+lines",
         "showlegend": false,
         "type": "scatter",
         "x": [
          -8635.571858348972,
          -8130.578662917186,
          -8130.578662917186,
          -8635.571858348972,
          -8635.571858348972
         ],
         "y": [
          16302.201710507044,
          16302.201710507044,
          16585.438135720316,
          16585.438135720316,
          16302.201710507044
         ]
        },
        {
         "fill": "toself",
         "fillcolor": "#0000FF",
         "line": {
          "color": "#0000CC",
          "width": 1
         },
         "marker": {
          "size": 1
         },
         "mode": "markers+lines",
         "showlegend": false,
         "type": "scatter",
         "x": [
          -8130.578662917186,
          -7625.5854674854,
          -7625.5854674854,
          -8130.578662917186,
          -8130.578662917186
         ],
         "y": [
          16018.965285293772,
          16018.965285293772,
          16302.201710507044,
          16302.201710507044,
          16018.965285293772
         ]
        },
        {
         "fill": "toself",
         "fillcolor": "#0000FF",
         "line": {
          "color": "#0000CC",
          "width": 1
         },
         "marker": {
          "size": 1
         },
         "mode": "markers+lines",
         "showlegend": false,
         "type": "scatter",
         "x": [
          -7625.5854674854,
          -7120.592272053614,
          -7120.592272053614,
          -7625.5854674854,
          -7625.5854674854
         ],
         "y": [
          15735.7288600805,
          15735.7288600805,
          16018.965285293772,
          16018.965285293772,
          15735.7288600805
         ]
        },
        {
         "fill": "toself",
         "fillcolor": "#0000FF",
         "line": {
          "color": "#0000CC",
          "width": 1
         },
         "marker": {
          "size": 1
         },
         "mode": "markers+lines",
         "showlegend": false,
         "type": "scatter",
         "x": [
          -7120.592272053614,
          -6615.599076621827,
          -6615.599076621827,
          -7120.592272053614,
          -7120.592272053614
         ],
         "y": [
          15452.492434867228,
          15452.492434867228,
          15735.7288600805,
          15735.7288600805,
          15452.492434867228
         ]
        },
        {
         "fill": "toself",
         "fillcolor": "#0000FF",
         "line": {
          "color": "#0000CC",
          "width": 1
         },
         "marker": {
          "size": 1
         },
         "mode": "markers+lines",
         "showlegend": false,
         "type": "scatter",
         "x": [
          -6615.599076621827,
          -6110.605881190041,
          -6110.605881190041,
          -6615.599076621827,
          -6615.599076621827
         ],
         "y": [
          15169.256009653956,
          15169.256009653956,
          15452.492434867228,
          15452.492434867228,
          15169.256009653956
         ]
        },
        {
         "fill": "toself",
         "fillcolor": "#0000FF",
         "line": {
          "color": "#0000CC",
          "width": 1
         },
         "marker": {
          "size": 1
         },
         "mode": "markers+lines",
         "showlegend": false,
         "type": "scatter",
         "x": [
          -6110.605881190041,
          -5605.612685758255,
          -5605.612685758255,
          -6110.605881190041,
          -6110.605881190041
         ],
         "y": [
          14886.019584440684,
          14886.019584440684,
          15169.256009653956,
          15169.256009653956,
          14886.019584440684
         ]
        },
        {
         "fill": "toself",
         "fillcolor": "#0000FF",
         "line": {
          "color": "#0000CC",
          "width": 1
         },
         "marker": {
          "size": 1
         },
         "mode": "markers+lines",
         "showlegend": false,
         "type": "scatter",
         "x": [
          -5605.612685758255,
          -5100.619490326469,
          -5100.619490326469,
          -5605.612685758255,
          -5605.612685758255
         ],
         "y": [
          14602.783159227412,
          14602.783159227412,
          14886.019584440684,
          14886.019584440684,
          14602.783159227412
         ]
        },
        {
         "fill": "toself",
         "fillcolor": "#0000FF",
         "line": {
          "color": "#0000CC",
          "width": 1
         },
         "marker": {
          "size": 1
         },
         "mode": "markers+lines",
         "showlegend": false,
         "type": "scatter",
         "x": [
          -5100.619490326469,
          -4595.626294894682,
          -4595.626294894682,
          -5100.619490326469,
          -5100.619490326469
         ],
         "y": [
          14319.54673401414,
          14319.54673401414,
          14602.783159227412,
          14602.783159227412,
          14319.54673401414
         ]
        },
        {
         "fill": "toself",
         "fillcolor": "#0000FF",
         "line": {
          "color": "#0000CC",
          "width": 1
         },
         "marker": {
          "size": 1
         },
         "mode": "markers+lines",
         "showlegend": false,
         "type": "scatter",
         "x": [
          -4595.626294894682,
          -4090.633099462896,
          -4090.633099462896,
          -4595.626294894682,
          -4595.626294894682
         ],
         "y": [
          14036.310308800868,
          14036.310308800868,
          14319.54673401414,
          14319.54673401414,
          14036.310308800868
         ]
        },
        {
         "fill": "toself",
         "fillcolor": "#0000FF",
         "line": {
          "color": "#0000CC",
          "width": 1
         },
         "marker": {
          "size": 1
         },
         "mode": "markers+lines",
         "showlegend": false,
         "type": "scatter",
         "x": [
          -4090.633099462896,
          -3585.63990403111,
          -3585.63990403111,
          -4090.633099462896,
          -4090.633099462896
         ],
         "y": [
          13753.073883587596,
          13753.073883587596,
          14036.310308800868,
          14036.310308800868,
          13753.073883587596
         ]
        },
        {
         "fill": "toself",
         "fillcolor": "#0000FF",
         "line": {
          "color": "#0000CC",
          "width": 1
         },
         "marker": {
          "size": 1
         },
         "mode": "markers+lines",
         "showlegend": false,
         "type": "scatter",
         "x": [
          -3585.63990403111,
          -3080.6467085993236,
          -3080.6467085993236,
          -3585.63990403111,
          -3585.63990403111
         ],
         "y": [
          13469.837458374324,
          13469.837458374324,
          13753.073883587596,
          13753.073883587596,
          13469.837458374324
         ]
        },
        {
         "fill": "toself",
         "fillcolor": "#0000FF",
         "line": {
          "color": "#0000CC",
          "width": 1
         },
         "marker": {
          "size": 1
         },
         "mode": "markers+lines",
         "showlegend": false,
         "type": "scatter",
         "x": [
          -3080.6467085993236,
          -2575.6535131675373,
          -2575.6535131675373,
          -3080.6467085993236,
          -3080.6467085993236
         ],
         "y": [
          13186.601033161052,
          13186.601033161052,
          13469.837458374324,
          13469.837458374324,
          13186.601033161052
         ]
        },
        {
         "fill": "toself",
         "fillcolor": "#0000FF",
         "line": {
          "color": "#0000CC",
          "width": 1
         },
         "marker": {
          "size": 1
         },
         "mode": "markers+lines",
         "showlegend": false,
         "type": "scatter",
         "x": [
          -2575.6535131675373,
          -2070.660317735751,
          -2070.660317735751,
          -2575.6535131675373,
          -2575.6535131675373
         ],
         "y": [
          12903.36460794778,
          12903.36460794778,
          13186.601033161052,
          13186.601033161052,
          12903.36460794778
         ]
        },
        {
         "fill": "toself",
         "fillcolor": "#0000FF",
         "line": {
          "color": "#0000CC",
          "width": 1
         },
         "marker": {
          "size": 1
         },
         "mode": "markers+lines",
         "showlegend": false,
         "type": "scatter",
         "x": [
          -2070.660317735751,
          -1565.6671223039648,
          -1565.6671223039648,
          -2070.660317735751,
          -2070.660317735751
         ],
         "y": [
          12620.128182734508,
          12620.128182734508,
          12903.36460794778,
          12903.36460794778,
          12620.128182734508
         ]
        },
        {
         "fill": "toself",
         "fillcolor": "#0000FF",
         "line": {
          "color": "#0000CC",
          "width": 1
         },
         "marker": {
          "size": 1
         },
         "mode": "markers+lines",
         "showlegend": false,
         "type": "scatter",
         "x": [
          -1565.6671223039648,
          -1060.6739268721785,
          -1060.6739268721785,
          -1565.6671223039648,
          -1565.6671223039648
         ],
         "y": [
          12336.891757521236,
          12336.891757521236,
          12620.128182734508,
          12620.128182734508,
          12336.891757521236
         ]
        },
        {
         "fill": "toself",
         "fillcolor": "#0000FF",
         "line": {
          "color": "#0000CC",
          "width": 1
         },
         "marker": {
          "size": 1
         },
         "mode": "markers+lines",
         "showlegend": false,
         "type": "scatter",
         "x": [
          -1060.6739268721785,
          -555.6807314403922,
          -555.6807314403922,
          -1060.6739268721785,
          -1060.6739268721785
         ],
         "y": [
          12053.655332307964,
          12053.655332307964,
          12336.891757521236,
          12336.891757521236,
          12053.655332307964
         ]
        },
        {
         "fill": "toself",
         "fillcolor": "#0000FF",
         "line": {
          "color": "#0000CC",
          "width": 1
         },
         "marker": {
          "size": 1
         },
         "mode": "markers+lines",
         "showlegend": false,
         "type": "scatter",
         "x": [
          -555.6807314403922,
          -50.687536008605775,
          -50.687536008605775,
          -555.6807314403922,
          -555.6807314403922
         ],
         "y": [
          11770.418907094692,
          11770.418907094692,
          12053.655332307964,
          12053.655332307964,
          11770.418907094692
         ]
        },
        {
         "fill": "toself",
         "fillcolor": "#0000FF",
         "line": {
          "color": "#0000CC",
          "width": 1
         },
         "marker": {
          "size": 1
         },
         "mode": "markers+lines",
         "showlegend": false,
         "type": "scatter",
         "x": [
          -50.687536008605775,
          454.3056594231806,
          454.3056594231806,
          -50.687536008605775,
          -50.687536008605775
         ],
         "y": [
          11487.18248188142,
          11487.18248188142,
          11770.418907094692,
          11770.418907094692,
          11487.18248188142
         ]
        },
        {
         "fill": "toself",
         "fillcolor": "#0000FF",
         "line": {
          "color": "#0000CC",
          "width": 1
         },
         "marker": {
          "size": 1
         },
         "mode": "markers+lines",
         "showlegend": false,
         "type": "scatter",
         "x": [
          454.3056594231806,
          959.298854854967,
          959.298854854967,
          454.3056594231806,
          454.3056594231806
         ],
         "y": [
          11203.946056668148,
          11203.946056668148,
          11487.18248188142,
          11487.18248188142,
          11203.946056668148
         ]
        },
        {
         "fill": "toself",
         "fillcolor": "#0000FF",
         "line": {
          "color": "#0000CC",
          "width": 1
         },
         "marker": {
          "size": 1
         },
         "mode": "markers+lines",
         "showlegend": false,
         "type": "scatter",
         "x": [
          959.298854854967,
          1464.2920502867532,
          1464.2920502867532,
          959.298854854967,
          959.298854854967
         ],
         "y": [
          10920.709631454876,
          10920.709631454876,
          11203.946056668148,
          11203.946056668148,
          10920.709631454876
         ]
        },
        {
         "fill": "toself",
         "fillcolor": "#0000FF",
         "line": {
          "color": "#0000CC",
          "width": 1
         },
         "marker": {
          "size": 1
         },
         "mode": "markers+lines",
         "showlegend": false,
         "type": "scatter",
         "x": [
          1464.2920502867532,
          1969.2852457185395,
          1969.2852457185395,
          1464.2920502867532,
          1464.2920502867532
         ],
         "y": [
          10637.473206241604,
          10637.473206241604,
          10920.709631454876,
          10920.709631454876,
          10637.473206241604
         ]
        },
        {
         "fill": "toself",
         "fillcolor": "#0000FF",
         "line": {
          "color": "#0000CC",
          "width": 1
         },
         "marker": {
          "size": 1
         },
         "mode": "markers+lines",
         "showlegend": false,
         "type": "scatter",
         "x": [
          1969.2852457185395,
          2474.2784411503258,
          2474.2784411503258,
          1969.2852457185395,
          1969.2852457185395
         ],
         "y": [
          10354.236781028332,
          10354.236781028332,
          10637.473206241604,
          10637.473206241604,
          10354.236781028332
         ]
        },
        {
         "fill": "toself",
         "fillcolor": "#0000FF",
         "line": {
          "color": "#0000CC",
          "width": 1
         },
         "marker": {
          "size": 1
         },
         "mode": "markers+lines",
         "showlegend": false,
         "type": "scatter",
         "x": [
          2474.2784411503258,
          2979.271636582112,
          2979.271636582112,
          2474.2784411503258,
          2474.2784411503258
         ],
         "y": [
          10071.00035581506,
          10071.00035581506,
          10354.236781028332,
          10354.236781028332,
          10071.00035581506
         ]
        },
        {
         "fill": "toself",
         "fillcolor": "#0000FF",
         "line": {
          "color": "#0000CC",
          "width": 1
         },
         "marker": {
          "size": 1
         },
         "mode": "markers+lines",
         "showlegend": false,
         "type": "scatter",
         "x": [
          2979.271636582112,
          3484.2648320138983,
          3484.2648320138983,
          2979.271636582112,
          2979.271636582112
         ],
         "y": [
          9787.763930601788,
          9787.763930601788,
          10071.00035581506,
          10071.00035581506,
          9787.763930601788
         ]
        },
        {
         "fill": "toself",
         "fillcolor": "#0000FF",
         "line": {
          "color": "#0000CC",
          "width": 1
         },
         "marker": {
          "size": 1
         },
         "mode": "markers+lines",
         "showlegend": false,
         "type": "scatter",
         "x": [
          3484.2648320138983,
          3989.2580274456845,
          3989.2580274456845,
          3484.2648320138983,
          3484.2648320138983
         ],
         "y": [
          9504.527505388516,
          9504.527505388516,
          9787.763930601788,
          9787.763930601788,
          9504.527505388516
         ]
        },
        {
         "fill": "toself",
         "fillcolor": "#0000FF",
         "line": {
          "color": "#0000CC",
          "width": 1
         },
         "marker": {
          "size": 1
         },
         "mode": "markers+lines",
         "showlegend": false,
         "type": "scatter",
         "x": [
          3989.2580274456845,
          4494.251222877471,
          4494.251222877471,
          3989.2580274456845,
          3989.2580274456845
         ],
         "y": [
          9221.291080175244,
          9221.291080175244,
          9504.527505388516,
          9504.527505388516,
          9221.291080175244
         ]
        },
        {
         "fill": "toself",
         "fillcolor": "#0000FF",
         "line": {
          "color": "#0000CC",
          "width": 1
         },
         "marker": {
          "size": 1
         },
         "mode": "markers+lines",
         "showlegend": false,
         "type": "scatter",
         "x": [
          4494.251222877471,
          4999.2444183092575,
          4999.2444183092575,
          4494.251222877471,
          4494.251222877471
         ],
         "y": [
          8938.054654961972,
          8938.054654961972,
          9221.291080175244,
          9221.291080175244,
          8938.054654961972
         ]
        },
        {
         "fill": "toself",
         "fillcolor": "#0000FF",
         "line": {
          "color": "#0000CC",
          "width": 1
         },
         "marker": {
          "size": 1
         },
         "mode": "markers+lines",
         "showlegend": false,
         "type": "scatter",
         "x": [
          4999.2444183092575,
          5504.237613741044,
          5504.237613741044,
          4999.2444183092575,
          4999.2444183092575
         ],
         "y": [
          8654.8182297487,
          8654.8182297487,
          8938.054654961972,
          8938.054654961972,
          8654.8182297487
         ]
        },
        {
         "fill": "toself",
         "fillcolor": "#0000FF",
         "line": {
          "color": "#0000CC",
          "width": 1
         },
         "marker": {
          "size": 1
         },
         "mode": "markers+lines",
         "showlegend": false,
         "type": "scatter",
         "x": [
          5504.237613741044,
          6009.23080917283,
          6009.23080917283,
          5504.237613741044,
          5504.237613741044
         ],
         "y": [
          8371.581804535428,
          8371.581804535428,
          8654.8182297487,
          8654.8182297487,
          8371.581804535428
         ]
        },
        {
         "fill": "toself",
         "fillcolor": "#0000FF",
         "line": {
          "color": "#0000CC",
          "width": 1
         },
         "marker": {
          "size": 1
         },
         "mode": "markers+lines",
         "showlegend": false,
         "type": "scatter",
         "x": [
          6009.23080917283,
          6514.224004604616,
          6514.224004604616,
          6009.23080917283,
          6009.23080917283
         ],
         "y": [
          8088.345379322156,
          8088.345379322156,
          8371.581804535428,
          8371.581804535428,
          8088.345379322156
         ]
        },
        {
         "fill": "toself",
         "fillcolor": "#0000FF",
         "line": {
          "color": "#0000CC",
          "width": 1
         },
         "marker": {
          "size": 1
         },
         "mode": "markers+lines",
         "showlegend": false,
         "type": "scatter",
         "x": [
          6514.224004604616,
          7019.217200036403,
          7019.217200036403,
          6514.224004604616,
          6514.224004604616
         ],
         "y": [
          7805.108954108884,
          7805.108954108884,
          8088.345379322156,
          8088.345379322156,
          7805.108954108884
         ]
        },
        {
         "fill": "toself",
         "fillcolor": "#0000FF",
         "line": {
          "color": "#0000CC",
          "width": 1
         },
         "marker": {
          "size": 1
         },
         "mode": "markers+lines",
         "showlegend": false,
         "type": "scatter",
         "x": [
          7019.217200036403,
          7524.210395468189,
          7524.210395468189,
          7019.217200036403,
          7019.217200036403
         ],
         "y": [
          7521.872528895612,
          7521.872528895612,
          7805.108954108884,
          7805.108954108884,
          7521.872528895612
         ]
        },
        {
         "fill": "toself",
         "fillcolor": "#0000FF",
         "line": {
          "color": "#0000CC",
          "width": 1
         },
         "marker": {
          "size": 1
         },
         "mode": "markers+lines",
         "showlegend": false,
         "type": "scatter",
         "x": [
          7524.210395468189,
          8029.203590899975,
          8029.203590899975,
          7524.210395468189,
          7524.210395468189
         ],
         "y": [
          7238.63610368234,
          7238.63610368234,
          7521.872528895612,
          7521.872528895612,
          7238.63610368234
         ]
        },
        {
         "fill": "toself",
         "fillcolor": "#0000FF",
         "line": {
          "color": "#0000CC",
          "width": 1
         },
         "marker": {
          "size": 1
         },
         "mode": "markers+lines",
         "showlegend": false,
         "type": "scatter",
         "x": [
          8029.203590899975,
          8534.196786331762,
          8534.196786331762,
          8029.203590899975,
          8029.203590899975
         ],
         "y": [
          6955.399678469068,
          6955.399678469068,
          7238.63610368234,
          7238.63610368234,
          6955.399678469068
         ]
        },
        {
         "fill": "toself",
         "fillcolor": "#0000FF",
         "line": {
          "color": "#0000CC",
          "width": 1
         },
         "marker": {
          "size": 1
         },
         "mode": "markers+lines",
         "showlegend": false,
         "type": "scatter",
         "x": [
          8534.196786331762,
          9039.18998176355,
          9039.18998176355,
          8534.196786331762,
          8534.196786331762
         ],
         "y": [
          6672.163253255796,
          6672.163253255796,
          6955.399678469068,
          6955.399678469068,
          6672.163253255796
         ]
        },
        {
         "fill": "toself",
         "fillcolor": "#0000FF",
         "line": {
          "color": "#0000CC",
          "width": 1
         },
         "marker": {
          "size": 1
         },
         "mode": "markers+lines",
         "showlegend": false,
         "type": "scatter",
         "x": [
          9039.18998176355,
          9544.183177195337,
          9544.183177195337,
          9039.18998176355,
          9039.18998176355
         ],
         "y": [
          6388.926828042524,
          6388.926828042524,
          6672.163253255796,
          6672.163253255796,
          6388.926828042524
         ]
        },
        {
         "fill": "toself",
         "fillcolor": "#0000FF",
         "line": {
          "color": "#0000CC",
          "width": 1
         },
         "marker": {
          "size": 1
         },
         "mode": "markers+lines",
         "showlegend": false,
         "type": "scatter",
         "x": [
          9544.183177195337,
          10049.176372627124,
          10049.176372627124,
          9544.183177195337,
          9544.183177195337
         ],
         "y": [
          6105.690402829252,
          6105.690402829252,
          6388.926828042524,
          6388.926828042524,
          6105.690402829252
         ]
        }
       ],
       "layout": {
        "font": {
         "size": 32
        },
        "plot_bgcolor": "rgba(0,0,0,0)",
        "template": {
         "data": {
          "bar": [
           {
            "error_x": {
             "color": "#2a3f5f"
            },
            "error_y": {
             "color": "#2a3f5f"
            },
            "marker": {
             "line": {
              "color": "#E5ECF6",
              "width": 0.5
             },
             "pattern": {
              "fillmode": "overlay",
              "size": 10,
              "solidity": 0.2
             }
            },
            "type": "bar"
           }
          ],
          "barpolar": [
           {
            "marker": {
             "line": {
              "color": "#E5ECF6",
              "width": 0.5
             },
             "pattern": {
              "fillmode": "overlay",
              "size": 10,
              "solidity": 0.2
             }
            },
            "type": "barpolar"
           }
          ],
          "carpet": [
           {
            "aaxis": {
             "endlinecolor": "#2a3f5f",
             "gridcolor": "white",
             "linecolor": "white",
             "minorgridcolor": "white",
             "startlinecolor": "#2a3f5f"
            },
            "baxis": {
             "endlinecolor": "#2a3f5f",
             "gridcolor": "white",
             "linecolor": "white",
             "minorgridcolor": "white",
             "startlinecolor": "#2a3f5f"
            },
            "type": "carpet"
           }
          ],
          "choropleth": [
           {
            "colorbar": {
             "outlinewidth": 0,
             "ticks": ""
            },
            "type": "choropleth"
           }
          ],
          "contour": [
           {
            "colorbar": {
             "outlinewidth": 0,
             "ticks": ""
            },
            "colorscale": [
             [
              0,
              "#0d0887"
             ],
             [
              0.1111111111111111,
              "#46039f"
             ],
             [
              0.2222222222222222,
              "#7201a8"
             ],
             [
              0.3333333333333333,
              "#9c179e"
             ],
             [
              0.4444444444444444,
              "#bd3786"
             ],
             [
              0.5555555555555556,
              "#d8576b"
             ],
             [
              0.6666666666666666,
              "#ed7953"
             ],
             [
              0.7777777777777778,
              "#fb9f3a"
             ],
             [
              0.8888888888888888,
              "#fdca26"
             ],
             [
              1,
              "#f0f921"
             ]
            ],
            "type": "contour"
           }
          ],
          "contourcarpet": [
           {
            "colorbar": {
             "outlinewidth": 0,
             "ticks": ""
            },
            "type": "contourcarpet"
           }
          ],
          "heatmap": [
           {
            "colorbar": {
             "outlinewidth": 0,
             "ticks": ""
            },
            "colorscale": [
             [
              0,
              "#0d0887"
             ],
             [
              0.1111111111111111,
              "#46039f"
             ],
             [
              0.2222222222222222,
              "#7201a8"
             ],
             [
              0.3333333333333333,
              "#9c179e"
             ],
             [
              0.4444444444444444,
              "#bd3786"
             ],
             [
              0.5555555555555556,
              "#d8576b"
             ],
             [
              0.6666666666666666,
              "#ed7953"
             ],
             [
              0.7777777777777778,
              "#fb9f3a"
             ],
             [
              0.8888888888888888,
              "#fdca26"
             ],
             [
              1,
              "#f0f921"
             ]
            ],
            "type": "heatmap"
           }
          ],
          "heatmapgl": [
           {
            "colorbar": {
             "outlinewidth": 0,
             "ticks": ""
            },
            "colorscale": [
             [
              0,
              "#0d0887"
             ],
             [
              0.1111111111111111,
              "#46039f"
             ],
             [
              0.2222222222222222,
              "#7201a8"
             ],
             [
              0.3333333333333333,
              "#9c179e"
             ],
             [
              0.4444444444444444,
              "#bd3786"
             ],
             [
              0.5555555555555556,
              "#d8576b"
             ],
             [
              0.6666666666666666,
              "#ed7953"
             ],
             [
              0.7777777777777778,
              "#fb9f3a"
             ],
             [
              0.8888888888888888,
              "#fdca26"
             ],
             [
              1,
              "#f0f921"
             ]
            ],
            "type": "heatmapgl"
           }
          ],
          "histogram": [
           {
            "marker": {
             "pattern": {
              "fillmode": "overlay",
              "size": 10,
              "solidity": 0.2
             }
            },
            "type": "histogram"
           }
          ],
          "histogram2d": [
           {
            "colorbar": {
             "outlinewidth": 0,
             "ticks": ""
            },
            "colorscale": [
             [
              0,
              "#0d0887"
             ],
             [
              0.1111111111111111,
              "#46039f"
             ],
             [
              0.2222222222222222,
              "#7201a8"
             ],
             [
              0.3333333333333333,
              "#9c179e"
             ],
             [
              0.4444444444444444,
              "#bd3786"
             ],
             [
              0.5555555555555556,
              "#d8576b"
             ],
             [
              0.6666666666666666,
              "#ed7953"
             ],
             [
              0.7777777777777778,
              "#fb9f3a"
             ],
             [
              0.8888888888888888,
              "#fdca26"
             ],
             [
              1,
              "#f0f921"
             ]
            ],
            "type": "histogram2d"
           }
          ],
          "histogram2dcontour": [
           {
            "colorbar": {
             "outlinewidth": 0,
             "ticks": ""
            },
            "colorscale": [
             [
              0,
              "#0d0887"
             ],
             [
              0.1111111111111111,
              "#46039f"
             ],
             [
              0.2222222222222222,
              "#7201a8"
             ],
             [
              0.3333333333333333,
              "#9c179e"
             ],
             [
              0.4444444444444444,
              "#bd3786"
             ],
             [
              0.5555555555555556,
              "#d8576b"
             ],
             [
              0.6666666666666666,
              "#ed7953"
             ],
             [
              0.7777777777777778,
              "#fb9f3a"
             ],
             [
              0.8888888888888888,
              "#fdca26"
             ],
             [
              1,
              "#f0f921"
             ]
            ],
            "type": "histogram2dcontour"
           }
          ],
          "mesh3d": [
           {
            "colorbar": {
             "outlinewidth": 0,
             "ticks": ""
            },
            "type": "mesh3d"
           }
          ],
          "parcoords": [
           {
            "line": {
             "colorbar": {
              "outlinewidth": 0,
              "ticks": ""
             }
            },
            "type": "parcoords"
           }
          ],
          "pie": [
           {
            "automargin": true,
            "type": "pie"
           }
          ],
          "scatter": [
           {
            "fillpattern": {
             "fillmode": "overlay",
             "size": 10,
             "solidity": 0.2
            },
            "type": "scatter"
           }
          ],
          "scatter3d": [
           {
            "line": {
             "colorbar": {
              "outlinewidth": 0,
              "ticks": ""
             }
            },
            "marker": {
             "colorbar": {
              "outlinewidth": 0,
              "ticks": ""
             }
            },
            "type": "scatter3d"
           }
          ],
          "scattercarpet": [
           {
            "marker": {
             "colorbar": {
              "outlinewidth": 0,
              "ticks": ""
             }
            },
            "type": "scattercarpet"
           }
          ],
          "scattergeo": [
           {
            "marker": {
             "colorbar": {
              "outlinewidth": 0,
              "ticks": ""
             }
            },
            "type": "scattergeo"
           }
          ],
          "scattergl": [
           {
            "marker": {
             "colorbar": {
              "outlinewidth": 0,
              "ticks": ""
             }
            },
            "type": "scattergl"
           }
          ],
          "scattermapbox": [
           {
            "marker": {
             "colorbar": {
              "outlinewidth": 0,
              "ticks": ""
             }
            },
            "type": "scattermapbox"
           }
          ],
          "scatterpolar": [
           {
            "marker": {
             "colorbar": {
              "outlinewidth": 0,
              "ticks": ""
             }
            },
            "type": "scatterpolar"
           }
          ],
          "scatterpolargl": [
           {
            "marker": {
             "colorbar": {
              "outlinewidth": 0,
              "ticks": ""
             }
            },
            "type": "scatterpolargl"
           }
          ],
          "scatterternary": [
           {
            "marker": {
             "colorbar": {
              "outlinewidth": 0,
              "ticks": ""
             }
            },
            "type": "scatterternary"
           }
          ],
          "surface": [
           {
            "colorbar": {
             "outlinewidth": 0,
             "ticks": ""
            },
            "colorscale": [
             [
              0,
              "#0d0887"
             ],
             [
              0.1111111111111111,
              "#46039f"
             ],
             [
              0.2222222222222222,
              "#7201a8"
             ],
             [
              0.3333333333333333,
              "#9c179e"
             ],
             [
              0.4444444444444444,
              "#bd3786"
             ],
             [
              0.5555555555555556,
              "#d8576b"
             ],
             [
              0.6666666666666666,
              "#ed7953"
             ],
             [
              0.7777777777777778,
              "#fb9f3a"
             ],
             [
              0.8888888888888888,
              "#fdca26"
             ],
             [
              1,
              "#f0f921"
             ]
            ],
            "type": "surface"
           }
          ],
          "table": [
           {
            "cells": {
             "fill": {
              "color": "#EBF0F8"
             },
             "line": {
              "color": "white"
             }
            },
            "header": {
             "fill": {
              "color": "#C8D4E3"
             },
             "line": {
              "color": "white"
             }
            },
            "type": "table"
           }
          ]
         },
         "layout": {
          "annotationdefaults": {
           "arrowcolor": "#2a3f5f",
           "arrowhead": 0,
           "arrowwidth": 1
          },
          "autotypenumbers": "strict",
          "coloraxis": {
           "colorbar": {
            "outlinewidth": 0,
            "ticks": ""
           }
          },
          "colorscale": {
           "diverging": [
            [
             0,
             "#8e0152"
            ],
            [
             0.1,
             "#c51b7d"
            ],
            [
             0.2,
             "#de77ae"
            ],
            [
             0.3,
             "#f1b6da"
            ],
            [
             0.4,
             "#fde0ef"
            ],
            [
             0.5,
             "#f7f7f7"
            ],
            [
             0.6,
             "#e6f5d0"
            ],
            [
             0.7,
             "#b8e186"
            ],
            [
             0.8,
             "#7fbc41"
            ],
            [
             0.9,
             "#4d9221"
            ],
            [
             1,
             "#276419"
            ]
           ],
           "sequential": [
            [
             0,
             "#0d0887"
            ],
            [
             0.1111111111111111,
             "#46039f"
            ],
            [
             0.2222222222222222,
             "#7201a8"
            ],
            [
             0.3333333333333333,
             "#9c179e"
            ],
            [
             0.4444444444444444,
             "#bd3786"
            ],
            [
             0.5555555555555556,
             "#d8576b"
            ],
            [
             0.6666666666666666,
             "#ed7953"
            ],
            [
             0.7777777777777778,
             "#fb9f3a"
            ],
            [
             0.8888888888888888,
             "#fdca26"
            ],
            [
             1,
             "#f0f921"
            ]
           ],
           "sequentialminus": [
            [
             0,
             "#0d0887"
            ],
            [
             0.1111111111111111,
             "#46039f"
            ],
            [
             0.2222222222222222,
             "#7201a8"
            ],
            [
             0.3333333333333333,
             "#9c179e"
            ],
            [
             0.4444444444444444,
             "#bd3786"
            ],
            [
             0.5555555555555556,
             "#d8576b"
            ],
            [
             0.6666666666666666,
             "#ed7953"
            ],
            [
             0.7777777777777778,
             "#fb9f3a"
            ],
            [
             0.8888888888888888,
             "#fdca26"
            ],
            [
             1,
             "#f0f921"
            ]
           ]
          },
          "colorway": [
           "#636efa",
           "#EF553B",
           "#00cc96",
           "#ab63fa",
           "#FFA15A",
           "#19d3f3",
           "#FF6692",
           "#B6E880",
           "#FF97FF",
           "#FECB52"
          ],
          "font": {
           "color": "#2a3f5f"
          },
          "geo": {
           "bgcolor": "white",
           "lakecolor": "white",
           "landcolor": "#E5ECF6",
           "showlakes": true,
           "showland": true,
           "subunitcolor": "white"
          },
          "hoverlabel": {
           "align": "left"
          },
          "hovermode": "closest",
          "mapbox": {
           "style": "light"
          },
          "paper_bgcolor": "white",
          "plot_bgcolor": "#E5ECF6",
          "polar": {
           "angularaxis": {
            "gridcolor": "white",
            "linecolor": "white",
            "ticks": ""
           },
           "bgcolor": "#E5ECF6",
           "radialaxis": {
            "gridcolor": "white",
            "linecolor": "white",
            "ticks": ""
           }
          },
          "scene": {
           "xaxis": {
            "backgroundcolor": "#E5ECF6",
            "gridcolor": "white",
            "gridwidth": 2,
            "linecolor": "white",
            "showbackground": true,
            "ticks": "",
            "zerolinecolor": "white"
           },
           "yaxis": {
            "backgroundcolor": "#E5ECF6",
            "gridcolor": "white",
            "gridwidth": 2,
            "linecolor": "white",
            "showbackground": true,
            "ticks": "",
            "zerolinecolor": "white"
           },
           "zaxis": {
            "backgroundcolor": "#E5ECF6",
            "gridcolor": "white",
            "gridwidth": 2,
            "linecolor": "white",
            "showbackground": true,
            "ticks": "",
            "zerolinecolor": "white"
           }
          },
          "shapedefaults": {
           "line": {
            "color": "#2a3f5f"
           }
          },
          "ternary": {
           "aaxis": {
            "gridcolor": "white",
            "linecolor": "white",
            "ticks": ""
           },
           "baxis": {
            "gridcolor": "white",
            "linecolor": "white",
            "ticks": ""
           },
           "bgcolor": "#E5ECF6",
           "caxis": {
            "gridcolor": "white",
            "linecolor": "white",
            "ticks": ""
           }
          },
          "title": {
           "x": 0.05
          },
          "xaxis": {
           "automargin": true,
           "gridcolor": "white",
           "linecolor": "white",
           "ticks": "",
           "title": {
            "standoff": 15
           },
           "zerolinecolor": "white",
           "zerolinewidth": 2
          },
          "yaxis": {
           "automargin": true,
           "gridcolor": "white",
           "linecolor": "white",
           "ticks": "",
           "title": {
            "standoff": 15
           },
           "zerolinecolor": "white",
           "zerolinewidth": 2
          }
         }
        },
        "xaxis": {
         "gridcolor": "LightGrey",
         "gridwidth": 2,
         "linecolor": "Gray",
         "linewidth": 4,
         "range": [
          -50550.0070791873,
          22169.01306299001
         ],
         "showgrid": false,
         "showline": true
        },
        "yaxis": {
         "gridcolor": "LightGrey",
         "gridwidth": 2,
         "linecolor": "Gray",
         "linewidth": 4,
         "range": [
          -8324.096805825842,
          41620.48402912921
         ],
         "showgrid": false,
         "showline": true
        }
       }
      }
     },
     "metadata": {},
     "output_type": "display_data"
    },
    {
     "name": "stderr",
     "output_type": "stream",
     "text": [
      "ERROR:root:<<Cannot triangulate; no input points\n",
      "ERROR:root:<<Cannot triangulate; no input points\n",
      "ERROR:root:<<Cannot triangulate; no input points\n",
      "ERROR:root:<<Cannot triangulate; no input points\n",
      "ERROR:root:<<Cannot triangulate; no input points\n",
      "ERROR:root:<<Cannot triangulate; no input points\n",
      "ERROR:root:<<Cannot triangulate; no input points\n",
      "ERROR:root:<<Cannot triangulate; no input points\n",
      "ERROR:root:<<Cannot triangulate; no input points\n",
      "ERROR:root:<<Cannot triangulate; no input points\n",
      "ERROR:root:<<Cannot triangulate; no input points\n",
      "ERROR:root:<<Cannot triangulate; no input points\n",
      "ERROR:root:<<Cannot triangulate; no input points\n",
      "ERROR:root:<<Cannot triangulate; no input points\n",
      "ERROR:root:<<Cannot triangulate; no input points\n",
      "ERROR:root:<<Cannot triangulate; no input points\n",
      "ERROR:root:<<Cannot triangulate; no input points\n",
      "ERROR:root:<<Cannot triangulate; no input points\n",
      "ERROR:root:<<Cannot triangulate; no input points\n",
      "ERROR:root:<<Cannot triangulate; no input points\n",
      "ERROR:root:<<Cannot triangulate; no input points\n",
      "ERROR:root:<<Cannot triangulate; no input points\n",
      "ERROR:root:<<Cannot triangulate; no input points\n",
      "ERROR:root:<<Cannot triangulate; no input points\n",
      "ERROR:root:<<Cannot triangulate; no input points\n",
      "ERROR:root:<<Cannot triangulate; no input points\n",
      "ERROR:root:<<Cannot triangulate; no input points\n",
      "ERROR:root:<<Cannot triangulate; no input points\n",
      "ERROR:root:<<Cannot triangulate; no input points\n",
      "ERROR:root:<<Cannot triangulate; no input points\n",
      "ERROR:root:<<Cannot triangulate; no input points\n",
      "ERROR:root:<<Cannot triangulate; no input points\n"
     ]
    },
    {
     "name": "stdout",
     "output_type": "stream",
     "text": [
      "Warning: convex hull is not fully dimensional, returning empty polytope\n",
      "Warning: convex hull is not fully dimensional, returning empty polytope\n",
      "Warning: convex hull is not fully dimensional, returning empty polytope\n",
      "Warning: convex hull is not fully dimensional, returning empty polytope\n",
      "Warning: convex hull is not fully dimensional, returning empty polytope\n",
      "Warning: convex hull is not fully dimensional, returning empty polytope\n",
      "Warning: convex hull is not fully dimensional, returning empty polytope\n",
      "Warning: convex hull is not fully dimensional, returning empty polytope\n",
      "Warning: convex hull is not fully dimensional, returning empty polytope\n",
      "Warning: convex hull is not fully dimensional, returning empty polytope\n",
      "Warning: convex hull is not fully dimensional, returning empty polytope\n",
      "Warning: convex hull is not fully dimensional, returning empty polytope\n",
      "Warning: convex hull is not fully dimensional, returning empty polytope\n",
      "Warning: convex hull is not fully dimensional, returning empty polytope\n",
      "Warning: convex hull is not fully dimensional, returning empty polytope\n",
      "Warning: convex hull is not fully dimensional, returning empty polytope\n",
      "Warning: convex hull is not fully dimensional, returning empty polytope\n",
      "Warning: convex hull is not fully dimensional, returning empty polytope\n",
      "Warning: convex hull is not fully dimensional, returning empty polytope\n",
      "Warning: convex hull is not fully dimensional, returning empty polytope\n",
      "Warning: convex hull is not fully dimensional, returning empty polytope\n",
      "Warning: convex hull is not fully dimensional, returning empty polytope\n",
      "Warning: convex hull is not fully dimensional, returning empty polytope\n",
      "Warning: convex hull is not fully dimensional, returning empty polytope\n",
      "Warning: convex hull is not fully dimensional, returning empty polytope\n",
      "Warning: convex hull is not fully dimensional, returning empty polytope\n",
      "Warning: convex hull is not fully dimensional, returning empty polytope\n",
      "Warning: convex hull is not fully dimensional, returning empty polytope\n",
      "Warning: convex hull is not fully dimensional, returning empty polytope\n"
     ]
    },
    {
     "name": "stderr",
     "output_type": "stream",
     "text": [
      "ERROR:root:<<Cannot triangulate; no input points\n",
      "ERROR:root:<<Cannot triangulate; no input points\n",
      "ERROR:root:<<Cannot triangulate; no input points\n",
      "ERROR:root:<<Cannot triangulate; no input points\n",
      "ERROR:root:<<Cannot triangulate; no input points\n",
      "ERROR:root:<<Cannot triangulate; no input points\n",
      "ERROR:root:<<Cannot triangulate; no input points\n",
      "ERROR:root:<<Cannot triangulate; no input points\n",
      "ERROR:root:<<Cannot triangulate; no input points\n",
      "ERROR:root:<<Cannot triangulate; no input points\n",
      "ERROR:root:<<Cannot triangulate; no input points\n",
      "ERROR:root:<<Cannot triangulate; no input points\n",
      "ERROR:root:<<Cannot triangulate; no input points\n",
      "ERROR:root:<<Cannot triangulate; no input points\n",
      "ERROR:root:<<Cannot triangulate; no input points\n",
      "ERROR:root:<<Cannot triangulate; no input points\n",
      "ERROR:root:<<Cannot triangulate; no input points\n",
      "ERROR:root:<<Cannot triangulate; no input points\n",
      "ERROR:root:<<Cannot triangulate; no input points\n",
      "ERROR:root:<<Cannot triangulate; no input points\n",
      "ERROR:root:<<Cannot triangulate; no input points\n",
      "ERROR:root:<<Cannot triangulate; no input points\n",
      "ERROR:root:<<Cannot triangulate; no input points\n",
      "ERROR:root:<<Cannot triangulate; no input points\n",
      "ERROR:root:<<Cannot triangulate; no input points\n",
      "ERROR:root:<<Cannot triangulate; no input points\n"
     ]
    },
    {
     "ename": "",
     "evalue": "",
     "output_type": "error",
     "traceback": [
      "\u001b[1;31mThe Kernel crashed while executing code in the the current cell or a previous cell. Please review the code in the cell(s) to identify a possible cause of the failure. Click <a href='https://aka.ms/vscodeJupyterKernelCrash'>here</a> for more info. View Jupyter <a href='command:jupyter.viewOutput'>log</a> for further details."
     ]
    }
   ],
   "source": [
    "from verse.plotter.plotter3D import *\n",
    "import pyvista as pv\n",
    "import warnings\n",
    "\n",
    "warnings.filterwarnings(\"ignore\")\n",
    "\n",
    "from verse.plotter.plotter2D import *\n",
    "import plotly.graph_objects as go\n",
    "\n",
    "fig = go.Figure()\n",
    "fig = reachtube_tree(traces_veri, None, fig, 1, 2)\n",
    "fig.show()\n",
    "\n",
    "# pv.set_jupyter_backend(None)\n",
    "# fig = pv.Plotter()\n",
    "# # fig = plot3dMap(M4(), ax=fig)\n",
    "# fig = plot3dReachtube(traces_veri, \"aircraft1\", 1, 2, 3, color=\"r\", ax=fig)\n",
    "# fig = plot3dReachtube(traces_veri, \"aircraft2\", 1, 2, 3, color=\"b\", ax=fig)\n",
    "# fig.set_background(\"#e0e0e0\")\n",
    "# fig.show()"
   ]
  },
  {
   "cell_type": "code",
   "execution_count": 12,
   "metadata": {},
   "outputs": [],
   "source": [
    "# import matplotlib.pyplot as plt\n",
    "# from mpl_toolkits.mplot3d.art3d import Poly3DCollection\n",
    "# import numpy as np\n",
    "# import polytope as pc\n",
    "\n",
    "# # ... (other function definitions)\n",
    "\n",
    "# def plot3dReachtubeMatplotlib(traces, agent_id, x_dim, y_dim, z_dim, ax, color='red', alpha=0.5):\n",
    "#     for node in traces:  # Assuming 'traces' is an iterable of nodes\n",
    "#         trace = node.trace[agent_id]  # Access the agent's trace\n",
    "#         for i in range(0, len(trace), 2):\n",
    "#             lb = trace[i]\n",
    "#             ub = trace[i + 1]\n",
    "#             box = np.array([[lb[x_dim], lb[y_dim], lb[z_dim]], [ub[x_dim], ub[y_dim], ub[z_dim]]]).T\n",
    "#             poly = pc.box2poly(box)\n",
    "#             vertices = pc.extreme(poly)\n",
    "#             hull = pc.qhull.ConvexHull(vertices)\n",
    "#             for simplex in hull.simplices:\n",
    "#                 simplex = np.append(simplex, simplex[0])  # Close the polytope\n",
    "#                 ax.add_collection3d(Poly3DCollection([vertices[simplex]], facecolors=color, edgecolors='k', alpha=alpha))\n",
    "#     return ax\n",
    "\n",
    "# # Usage\n",
    "# fig = plt.figure()\n",
    "# ax = fig.add_subplot(111, projection='3d')\n",
    "# ax.set_box_aspect([1,1,1])  # Set equal aspect ratio\n",
    "\n",
    "# # Call the function with your data\n",
    "# # You need to replace 'traces_veri' with the actual data structure that contains your trajectories.\n",
    "# ax = plot3dReachtubeMatplotlib(traces_veri, \"aircraft1\", 1, 2, 3, ax=ax, color='red', alpha=0.5)\n",
    "# ax = plot3dReachtubeMatplotlib(traces_veri, \"aircraft2\", 1, 2, 3, ax=ax, color='blue', alpha=0.5)\n",
    "\n",
    "# # Set the background and show the plot\n",
    "# ax.set_facecolor('#e0e0e0')\n",
    "# plt.show()\n"
   ]
  },
  {
   "cell_type": "code",
   "execution_count": 13,
   "metadata": {},
   "outputs": [],
   "source": [
    "from scipy.linalg import expm\n",
    "import math\n",
    "\n",
    "\n",
    "\n",
    "def step_state(state7, v, time_elapse_mat, dt):\n",
    "    \"\"\"perform one time step with the given commands\"\"\"\n",
    "    state8_vec = state4_to_state5(state7, v)\n",
    "   \n",
    "\n",
    "    s = time_elapse_mat @ state8_vec\n",
    "    # extract observation (like theta) from state\n",
    "    new_time = state7[-1] + dt\n",
    "    theta1 = math.atan2(s[3], s[2])\n",
    "    rv = np.array([s[0], s[1], theta1, new_time])\n",
    "\n",
    "    return rv\n",
    "def state4_to_state5(state7, v):\n",
    "    \"\"\"compute x,y, vx, vy from state7\"\"\"\n",
    "\n",
    "    assert len(state7) == 4\n",
    "\n",
    "    x1 = state7[0]\n",
    "    y1 = state7[1]\n",
    "    vx1 = math.cos(state7[2]) * v\n",
    "    vy1 = math.sin(state7[2]) * v\n",
    "\n",
    "    return np.array([x1, y1, vx1, vy1])\n",
    "\n",
    "'Lru Cache.'\n",
    "def get_time_elapse_mat(command, dt):\n",
    "    '''get the matrix exponential for the given command\n",
    "\n",
    "    state: x, y, vx, vy\n",
    "    '''\n",
    "\n",
    "    y_list = [0.0, 1.5, -1.5, 3.0, -3.0]\n",
    "    y1 = y_list[command]\n",
    "    # y2 = y_list[command2]\n",
    "\n",
    "    dtheta1 = (y1 / 180 * np.pi)\n",
    "    # dtheta2 = (y2 / 180 * np.pi)\n",
    "    a_mat = np.array([\n",
    "        [0, 0, 1, 0], # x' = vx\n",
    "        [0, 0, 0, 1], # y' = vy\n",
    "        [0, 0, 0, -dtheta1], # vx' = -vy * dtheta1\n",
    "        [0, 0, dtheta1, 0], # vy' = vx * dtheta1\n",
    "        ], dtype=float)\n",
    "    return expm(a_mat * dt)\n",
    "\n",
    "\n",
    "def init_time_elapse_mats(dt):\n",
    "    \"\"\"get value of time_elapse_mats array\"\"\"\n",
    "\n",
    "    rv = []\n",
    "    rv.append([]) \n",
    "    for cmd in range(5):\n",
    "           \n",
    "\n",
    "        mat = get_time_elapse_mat(cmd, dt)\n",
    "        rv[-1].append(mat)\n",
    "\n",
    "    return rv\n",
    "\n"
   ]
  },
  {
   "cell_type": "code",
   "execution_count": 14,
   "metadata": {},
   "outputs": [
    {
     "name": "stdout",
     "output_type": "stream",
     "text": [
      "0\n",
      "0\n",
      "2\n",
      "2\n",
      "2\n",
      "2\n",
      "2\n",
      "2\n",
      "2\n",
      "2\n",
      "2\n",
      "2\n",
      "2\n",
      "2\n",
      "2\n",
      "2\n",
      "2\n",
      "2\n",
      "2\n",
      "2\n",
      "2\n",
      "2\n",
      "2\n",
      "2\n",
      "2\n",
      "2\n",
      "2\n",
      "2\n",
      "2\n",
      "2\n",
      "2\n",
      "2\n",
      "2\n",
      "2\n",
      "2\n",
      "2\n",
      "2\n",
      "2\n",
      "2\n",
      "2\n",
      "2\n",
      "2\n",
      "2\n",
      "2\n",
      "2\n",
      "2\n",
      "2\n",
      "2\n",
      "2\n",
      "2\n",
      "2\n",
      "2\n",
      "2\n",
      "2\n",
      "2\n",
      "2\n",
      "2\n",
      "4\n",
      "4\n",
      "4\n",
      "4\n",
      "4\n",
      "4\n",
      "4\n",
      "4\n",
      "4\n",
      "4\n",
      "4\n",
      "4\n",
      "4\n",
      "4\n",
      "4\n",
      "4\n",
      "4\n",
      "4\n",
      "4\n",
      "4\n",
      "4\n",
      "4\n",
      "4\n",
      "4\n",
      "4\n",
      "4\n",
      "0\n",
      "4\n",
      "0\n",
      "2\n",
      "2\n",
      "2\n",
      "2\n",
      "2\n",
      "2\n",
      "0\n",
      "0\n"
     ]
    },
    {
     "data": {
      "text/plain": [
       "[<matplotlib.lines.Line2D at 0x7fe708313160>]"
      ]
     },
     "execution_count": 14,
     "metadata": {},
     "output_type": "execute_result"
    },
    {
     "data": {
      "image/png": "[encoded data removed]",
      "text/plain": [
       "<Figure size 640x480 with 1 Axes>"
      ]
     },
     "metadata": {},
     "output_type": "display_data"
    }
   ],
   "source": [
    "import matplotlib.pyplot as plt\n",
    "\n",
    "time_bound = 19.2\n",
    "time_step = 0.2\n",
    "time_bound = float(time_bound)\n",
    "num_points = int(np.ceil(time_bound / time_step))\n",
    "\n",
    "init_vec, cmd_list, init_velo = make_random_input(seed=671, intruder_can_turn=False)\n",
    "x1 = init_vec[0]\n",
    "y1 = init_vec[1]\n",
    "theta1 = init_vec[2]\n",
    "x2 = init_vec[3]\n",
    "y2 = init_vec[4]\n",
    "theta2 = init_vec[5]\n",
    "random_attr = init_vec[6]\n",
    "ego_velo = init_velo[0]\n",
    "int_velo = init_velo[1]\n",
    "init=[x1, y1, theta1, random_attr]\n",
    "\n",
    "\n",
    "trace = np.zeros((num_points + 1, 1 + len(init)))\n",
    "trace[1:, 0] = [round(i * time_step, 10) for i in range(num_points)]\n",
    "trace[0, 1:] = init\n",
    "vec=init\n",
    "# print(vec)\n",
    "dt_acas=1.0\n",
    "time_elapse_mats = init_time_elapse_mats(dt_acas)\n",
    "\n",
    "cmds=np.load('commands_671.npy')\n",
    "cmds=cmds.tolist()\n",
    "\n",
    "x_coord=[vec[0]]\n",
    "y_coord=[vec[1]]\n",
    "\n",
    "for i in range(num_points-2):\n",
    "    # print(mode)\n",
    "    # cmd = self.action_handler(mode, init, lane_map=None)\n",
    "\n",
    "    cmd=cmds[int(vec[3])]\n",
    "    print(cmd)\n",
    "    time_elapse_mat = time_elapse_mats[0][cmd] #get_time_elapse_mat(self.command, State.dt, intruder_cmd)\n",
    "    vec = step_state(vec, ego_velo, time_elapse_mat, dt_acas)\n",
    "    x_coord.append(vec[0])\n",
    "    y_coord.append(vec[1])  \n",
    "    # print(vec[1])\n",
    "\n",
    "    init = vec.flatten()\n",
    "\n",
    "\n",
    "plt.plot(x_coord, y_coord)"
   ]
  },
  {
   "cell_type": "code",
   "execution_count": 15,
   "metadata": {},
   "outputs": [
    {
     "name": "stdout",
     "output_type": "stream",
     "text": [
      "0.0 0.0 1.5707963267948966 -38430.170388824416 33296.38722330337 5.772033585630306 0.0 148 579\n"
     ]
    }
   ],
   "source": [
    "print(x1, y1, theta1, x2, y2, theta2, random_attr, ego_velo, int_velo)"
   ]
  },
  {
   "cell_type": "code",
   "execution_count": null,
   "metadata": {},
   "outputs": [],
   "source": []
  }
 ],
 "metadata": {
  "kernelspec": {
   "display_name": "verse_research_env",
   "language": "python",
   "name": "python3"
  },
  "language_info": {
   "codemirror_mode": {
    "name": "ipython",
    "version": 3
   },
   "file_extension": ".py",
   "mimetype": "text/x-python",
   "name": "python",
   "nbconvert_exporter": "python",
   "pygments_lexer": "ipython3",
   "version": "3.10.12"
  }
 },
 "nbformat": 4,
 "nbformat_minor": 2
}
